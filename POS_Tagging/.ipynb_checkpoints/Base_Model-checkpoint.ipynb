{
 "cells": [
  {
   "cell_type": "markdown",
   "metadata": {},
   "source": [
    "# Imports"
   ]
  },
  {
   "cell_type": "code",
   "execution_count": 9,
   "metadata": {
    "ExecuteTime": {
     "end_time": "2023-08-06T05:29:34.498660Z",
     "start_time": "2023-08-06T05:29:23.166271Z"
    },
    "tags": []
   },
   "outputs": [],
   "source": [
    "import os\n",
    "\n",
    "from hmmlearn import hmm\n",
    "from sklearn import preprocessing\n",
    "import numpy as np\n",
    "import pandas as pd\n",
    "from utils.dataset import FileVocabCreator, POSFolderDataSet"
   ]
  },
  {
   "cell_type": "code",
   "execution_count": 2,
   "metadata": {
    "ExecuteTime": {
     "end_time": "2023-08-06T05:29:34.513397Z",
     "start_time": "2023-08-06T05:29:34.506656Z"
    },
    "collapsed": false,
    "jupyter": {
     "outputs_hidden": false
    }
   },
   "outputs": [],
   "source": [
    "RANDOM_STATE = 99\n",
    "VOCAB_PATH = os.path.join('data', 'vocab', 'words.json')\n",
    "\n",
    "STATES = ['A', 'Adv', 'Cj', 'Interj', 'N', 'Num', 'Other', 'Pp', 'Pron', 'Punct', 'V']"
   ]
  },
  {
   "cell_type": "code",
   "execution_count": 3,
   "metadata": {
    "ExecuteTime": {
     "end_time": "2023-08-06T05:54:48.889887Z",
     "start_time": "2023-08-06T05:54:34.458690Z"
    },
    "collapsed": false,
    "jupyter": {
     "outputs_hidden": false
    }
   },
   "outputs": [
    {
     "data": {
      "text/plain": [
       "1836995"
      ]
     },
     "execution_count": 3,
     "metadata": {},
     "output_type": "execute_result"
    }
   ],
   "source": [
    "with open(VOCAB_PATH, 'r') as f:\n",
    "    vocab = FileVocabCreator(f).make()\n",
    "len(vocab)"
   ]
  },
  {
   "cell_type": "code",
   "execution_count": 4,
   "metadata": {
    "ExecuteTime": {
     "end_time": "2023-08-06T06:03:12.889334Z",
     "start_time": "2023-08-06T06:03:12.881355Z"
    },
    "collapsed": false,
    "jupyter": {
     "outputs_hidden": false
    }
   },
   "outputs": [],
   "source": [
    "DATA_FOLDER = 'data'\n",
    "TEST_FOLDER = os.path.join(DATA_FOLDER, 'test')\n",
    "TRAIN_FOLDER = os.path.join(DATA_FOLDER, 'train')"
   ]
  },
  {
   "cell_type": "code",
   "execution_count": 6,
   "metadata": {},
   "outputs": [],
   "source": [
    "test_data = POSFolderDataSet(TEST_FOLDER, 'test')\n",
    "train_data = POSFolderDataSet(TRAIN_FOLDER, 'train')"
   ]
  },
  {
   "cell_type": "markdown",
   "metadata": {},
   "source": [
    "# Hidden Markov Models (HMM)"
   ]
  },
  {
   "cell_type": "code",
   "execution_count": 11,
   "metadata": {},
   "outputs": [],
   "source": [
    "from utils.utils import get_emissions, get_initial_prob, get_transitions\n",
    "from utils.dataset import UNK_TOKEN"
   ]
  },
  {
   "cell_type": "code",
   "execution_count": 10,
   "metadata": {
    "ExecuteTime": {
     "end_time": "2023-08-06T06:06:27.818944Z",
     "start_time": "2023-08-06T06:06:27.807817Z"
    },
    "collapsed": false,
    "jupyter": {
     "outputs_hidden": false
    }
   },
   "outputs": [],
   "source": [
    "#for computing unk word probabilities\n",
    "unk_df = pd.DataFrame({'init_words': [[UNK_TOKEN] * len(STATES)], 'mod_words': [[UNK_TOKEN] * len(STATES)], 'pos_tags': [STATES]})"
   ]
  },
  {
   "cell_type": "code",
   "execution_count": 33,
   "metadata": {
    "ExecuteTime": {
     "end_time": "2023-08-06T06:12:35.711599Z",
     "start_time": "2023-08-06T06:06:29.833032Z"
    },
    "collapsed": false,
    "jupyter": {
     "outputs_hidden": false
    }
   },
   "outputs": [
    {
     "name": "stdout",
     "output_type": "stream",
     "text": [
      "here\n",
      "here\n",
      "here\n"
     ]
    },
    {
     "data": {
      "text/plain": [
       "['A', 'Adv', 'Cj', 'Interj', 'N', 'Num', 'Other', 'Pp', 'Pron', 'Punct', 'V']"
      ]
     },
     "execution_count": 33,
     "metadata": {},
     "output_type": "execute_result"
    }
   ],
   "source": [
    "def compute_df(df):\n",
    "    emissions = get_emissions(pd.concat([df, unk_df]), 'pos_tags', 'mod_words')\n",
    "    init_probs = get_initial_prob(df, 'pos_tags')\n",
    "    transitions = get_transitions(df, 'pos_tags')\n",
    "    return emissions, init_probs, transitions"
   ]
  },
  {
   "cell_type": "code",
   "execution_count": 35,
   "metadata": {
    "ExecuteTime": {
     "end_time": "2023-08-06T06:14:23.171911Z",
     "start_time": "2023-08-06T06:14:23.161555Z"
    },
    "collapsed": false,
    "jupyter": {
     "outputs_hidden": false
    }
   },
   "outputs": [
    {
     "data": {
      "text/plain": [
       "array([ 0,  1,  2,  3,  4,  5,  6,  7,  8,  9, 10])"
      ]
     },
     "execution_count": 35,
     "metadata": {},
     "output_type": "execute_result"
    }
   ],
   "source": [
    "le = preprocessing.LabelEncoder()\n",
    "le.fit_transform(states)"
   ]
  },
  {
   "cell_type": "code",
   "execution_count": 36,
   "metadata": {
    "ExecuteTime": {
     "end_time": "2023-08-06T06:14:53.888093Z",
     "start_time": "2023-08-06T06:14:29.792607Z"
    },
    "collapsed": false,
    "jupyter": {
     "outputs_hidden": false
    }
   },
   "outputs": [],
   "source": [
    "# encode\n",
    "emissions_encoded = np.zeros((len(le.classes_), len(vocab)))\n",
    "for pos, values in emissions.items():\n",
    "    pos_idx = le.transform([pos])[0]\n",
    "    for word, prob in values.items():\n",
    "        emissions_encoded[pos_idx, vocab[word]] = prob\n",
    "\n",
    "init_probs_encoded = np.zeros(len(le.classes_))\n",
    "for pos, prob in init_probs.items():\n",
    "    pos_idx = le.transform([pos])[0]\n",
    "    init_probs_encoded[pos_idx] = prob\n",
    "\n",
    "transitions_encoded = np.zeros((len(le.classes_), len(le.classes_)))\n",
    "for pos_from, values in transitions.items():\n",
    "    pos_from_idx = le.transform([pos_from])[0]\n",
    "    for pos_to, prob in values.items():\n",
    "        pos_to_idx = le.transform([pos_to])[0]\n",
    "        transitions_encoded[pos_from_idx, pos_to_idx] = prob"
   ]
  },
  {
   "cell_type": "code",
   "execution_count": 37,
   "metadata": {
    "ExecuteTime": {
     "end_time": "2023-08-06T06:16:28.588044Z",
     "start_time": "2023-08-06T06:16:28.583061Z"
    },
    "collapsed": false,
    "jupyter": {
     "outputs_hidden": false
    }
   },
   "outputs": [
    {
     "name": "stdout",
     "output_type": "stream",
     "text": [
      "[0.11268687 0.15643344 0.0600044  0.00717793 0.32254277 0.04488455\n",
      " 0.00333297 0.00227498 0.16402136 0.05698543 0.0696553 ]\n"
     ]
    }
   ],
   "source": [
    "print(init_probs_encoded)"
   ]
  },
  {
   "cell_type": "code",
   "execution_count": 38,
   "metadata": {
    "ExecuteTime": {
     "end_time": "2023-08-06T06:16:31.542121Z",
     "start_time": "2023-08-06T06:16:31.540800Z"
    },
    "collapsed": false,
    "jupyter": {
     "outputs_hidden": false
    }
   },
   "outputs": [],
   "source": [
    "gen_model = hmm.CategoricalHMM(n_components=len(init_probs), random_state=RANDOM_STATE)\n",
    "gen_model.startprob_ = init_probs_encoded\n",
    "gen_model.emissionprob_ = emissions_encoded\n",
    "gen_model.transmat_ = transitions_encoded"
   ]
  },
  {
   "cell_type": "code",
   "execution_count": 76,
   "metadata": {
    "ExecuteTime": {
     "end_time": "2023-08-06T06:31:56.177783Z",
     "start_time": "2023-08-06T06:31:56.148137Z"
    },
    "collapsed": false,
    "jupyter": {
     "outputs_hidden": false
    }
   },
   "outputs": [],
   "source": [
    "sent = 'ეს არის სამართალი ? '.split()"
   ]
  },
  {
   "cell_type": "code",
   "execution_count": 77,
   "metadata": {
    "ExecuteTime": {
     "end_time": "2023-08-06T06:31:56.569606Z",
     "start_time": "2023-08-06T06:31:56.320729Z"
    },
    "collapsed": false,
    "jupyter": {
     "outputs_hidden": false
    }
   },
   "outputs": [
    {
     "name": "stdout",
     "output_type": "stream",
     "text": [
      "['Pron', 'V', 'N', 'Punct']\n"
     ]
    }
   ],
   "source": [
    "pred = gen_model.predict(np.array([vocab[word] for word in sent]).reshape(1, -1))\n",
    "print([le.inverse_transform([tag])[0] for tag in pred])"
   ]
  },
  {
   "cell_type": "code",
   "execution_count": 90,
   "metadata": {
    "ExecuteTime": {
     "end_time": "2023-08-06T10:29:00.389623Z",
     "start_time": "2023-08-06T06:39:47.374538Z"
    },
    "collapsed": false,
    "jupyter": {
     "outputs_hidden": false
    }
   },
   "outputs": [
    {
     "name": "stdout",
     "output_type": "stream",
     "text": [
      "              precision    recall  f1-score   support\n",
      "\n",
      "           A       0.78      0.69      0.73   2355454\n",
      "         Adv       0.88      0.74      0.80   1027093\n",
      "          Cj       0.99      0.67      0.80   1020428\n",
      "      Interj       0.97      0.62      0.76      2430\n",
      "           N       0.98      0.68      0.81   7021435\n",
      "         Num       0.99      0.72      0.84    369660\n",
      "       Other       0.90      0.20      0.32     12784\n",
      "          Pp       0.98      0.52      0.68    308022\n",
      "        Pron       0.97      0.76      0.85   1069004\n",
      "       Punct       1.00      0.62      0.77   3132654\n",
      "           V       0.29      0.99      0.45   1925774\n",
      "\n",
      "    accuracy                           0.71  18244738\n",
      "   macro avg       0.89      0.66      0.71  18244738\n",
      "weighted avg       0.88      0.71      0.75  18244738\n",
      "\n"
     ]
    }
   ],
   "source": [
    "from sklearn.metrics import classification_report\n",
    "test_data = POSDataSet(test_df)\n",
    "y_true = []\n",
    "y_pred = []\n",
    "for idx, (x, y) in enumerate(test_data):\n",
    "    pred = [le.inverse_transform([tag])[0] for tag in  gen_model.predict(np.array([vocab[word] for word in x]).reshape(1, -1))]\n",
    "    y_pred += pred\n",
    "    y_true += y\n",
    "\n",
    "print(classification_report(y_true, y_pred))"
   ]
  },
  {
   "cell_type": "code",
   "execution_count": 53,
   "metadata": {
    "ExecuteTime": {
     "end_time": "2023-08-06T06:17:34.010057Z",
     "start_time": "2023-08-06T06:17:33.757104Z"
    },
    "collapsed": false,
    "jupyter": {
     "outputs_hidden": false
    }
   },
   "outputs": [],
   "source": [
    "words, pos_tags = gen_model.sample(10)"
   ]
  },
  {
   "cell_type": "code",
   "execution_count": 54,
   "metadata": {
    "ExecuteTime": {
     "end_time": "2023-08-06T06:17:41.157818Z",
     "start_time": "2023-08-06T06:17:36.440746Z"
    },
    "collapsed": false,
    "jupyter": {
     "outputs_hidden": false
    }
   },
   "outputs": [
    {
     "ename": "KeyboardInterrupt",
     "evalue": "",
     "output_type": "error",
     "traceback": [
      "\u001b[0;31m---------------------------------------------------------------------------\u001b[0m",
      "\u001b[0;31mKeyboardInterrupt\u001b[0m                         Traceback (most recent call last)",
      "Cell \u001b[0;32mIn[54], line 1\u001b[0m\n\u001b[0;32m----> 1\u001b[0m \u001b[38;5;28mprint\u001b[39m([vocab\u001b[38;5;241m.\u001b[39mget_itos()[\u001b[38;5;28mint\u001b[39m(word)] \u001b[38;5;28;01mfor\u001b[39;00m word \u001b[38;5;129;01min\u001b[39;00m words])\n\u001b[1;32m      2\u001b[0m \u001b[38;5;28mprint\u001b[39m([le\u001b[38;5;241m.\u001b[39minverse_transform([tag])[\u001b[38;5;241m0\u001b[39m] \u001b[38;5;28;01mfor\u001b[39;00m tag \u001b[38;5;129;01min\u001b[39;00m pos_tags])\n",
      "Cell \u001b[0;32mIn[54], line 1\u001b[0m, in \u001b[0;36m<listcomp>\u001b[0;34m(.0)\u001b[0m\n\u001b[0;32m----> 1\u001b[0m \u001b[38;5;28mprint\u001b[39m([\u001b[43mvocab\u001b[49m\u001b[38;5;241;43m.\u001b[39;49m\u001b[43mget_itos\u001b[49m\u001b[43m(\u001b[49m\u001b[43m)\u001b[49m[\u001b[38;5;28mint\u001b[39m(word)] \u001b[38;5;28;01mfor\u001b[39;00m word \u001b[38;5;129;01min\u001b[39;00m words])\n\u001b[1;32m      2\u001b[0m \u001b[38;5;28mprint\u001b[39m([le\u001b[38;5;241m.\u001b[39minverse_transform([tag])[\u001b[38;5;241m0\u001b[39m] \u001b[38;5;28;01mfor\u001b[39;00m tag \u001b[38;5;129;01min\u001b[39;00m pos_tags])\n",
      "File \u001b[0;32m~/opt/anaconda3/envs/NLP/lib/python3.10/site-packages/torchtext/vocab/vocab.py:158\u001b[0m, in \u001b[0;36mVocab.get_itos\u001b[0;34m(self)\u001b[0m\n\u001b[1;32m    152\u001b[0m \u001b[38;5;129m@torch\u001b[39m\u001b[38;5;241m.\u001b[39mjit\u001b[38;5;241m.\u001b[39mexport\n\u001b[1;32m    153\u001b[0m \u001b[38;5;28;01mdef\u001b[39;00m \u001b[38;5;21mget_itos\u001b[39m(\u001b[38;5;28mself\u001b[39m) \u001b[38;5;241m-\u001b[39m\u001b[38;5;241m>\u001b[39m List[\u001b[38;5;28mstr\u001b[39m]:\n\u001b[1;32m    154\u001b[0m \u001b[38;5;250m    \u001b[39m\u001b[38;5;124mr\u001b[39m\u001b[38;5;124;03m\"\"\"\u001b[39;00m\n\u001b[1;32m    155\u001b[0m \u001b[38;5;124;03m    Returns:\u001b[39;00m\n\u001b[1;32m    156\u001b[0m \u001b[38;5;124;03m        List mapping indices to tokens.\u001b[39;00m\n\u001b[1;32m    157\u001b[0m \u001b[38;5;124;03m    \"\"\"\u001b[39;00m\n\u001b[0;32m--> 158\u001b[0m     \u001b[38;5;28;01mreturn\u001b[39;00m \u001b[38;5;28;43mself\u001b[39;49m\u001b[38;5;241;43m.\u001b[39;49m\u001b[43mvocab\u001b[49m\u001b[38;5;241;43m.\u001b[39;49m\u001b[43mget_itos\u001b[49m\u001b[43m(\u001b[49m\u001b[43m)\u001b[49m\n",
      "\u001b[0;31mKeyboardInterrupt\u001b[0m: "
     ]
    }
   ],
   "source": [
    "print([vocab.get_itos()[int(word)] for word in words])\n",
    "print([le.inverse_transform([tag])[0] for tag in pos_tags])"
   ]
  },
  {
   "cell_type": "markdown",
   "metadata": {},
   "source": [
    "# Conditional Random Fields (CRFs)"
   ]
  },
  {
   "cell_type": "code",
   "execution_count": null,
   "metadata": {
    "collapsed": false,
    "jupyter": {
     "outputs_hidden": false
    }
   },
   "outputs": [],
   "source": []
  }
 ],
 "metadata": {
  "environment": {
   "kernel": "python3",
   "name": "pytorch-gpu.2-0.m110",
   "type": "gcloud",
   "uri": "gcr.io/deeplearning-platform-release/pytorch-gpu.2-0:m110"
  },
  "kernelspec": {
   "display_name": "Python 3",
   "language": "python",
   "name": "python3"
  },
  "language_info": {
   "codemirror_mode": {
    "name": "ipython",
    "version": 3
   },
   "file_extension": ".py",
   "mimetype": "text/x-python",
   "name": "python",
   "nbconvert_exporter": "python",
   "pygments_lexer": "ipython3",
   "version": "3.10.12"
  }
 },
 "nbformat": 4,
 "nbformat_minor": 4
}
