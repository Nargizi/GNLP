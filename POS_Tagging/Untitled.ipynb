{
 "cells": [
  {
   "cell_type": "code",
   "execution_count": 1,
   "id": "fce74157-2da4-458f-adab-34154de3a859",
   "metadata": {},
   "outputs": [],
   "source": [
    "import os\n",
    "import pandas as pd"
   ]
  },
  {
   "cell_type": "code",
   "execution_count": 2,
   "id": "e70eaf80-8e47-47b2-91cc-6d9617047db3",
   "metadata": {},
   "outputs": [],
   "source": [
    "pron = ['ეს', 'ეგ', 'ის', 'ასეთი', 'ეგეთი', \n",
    "            'ისეთი', 'ამნაირი', 'მაგნაირი', 'იმნაირი',\n",
    "            'ამისთანა', 'მაგისთანა', 'იმისთანა',\n",
    "            'ამდენი', 'მაგდენი', 'იმდენი', 'თვით', 'თითოეული', 'ყოველი', \n",
    "            'ვიღაც', 'რაღაც', 'რომელიღაც', 'როგორიღაც', 'ვინმე', 'რამე', 'რომელიმე', 'როგორიმე', \n",
    "            'ზოგი', 'ზოგიერთი', 'არავინ', 'ვერავინ', 'ნურავინ', 'არაფერი', 'ვერაფერი', 'ნურაფერი', \n",
    "            'ვერა', 'ნურავინ', 'სხვები', 'სხვებიც', 'ყველამ', 'ყველას', 'სხვასაც', 'ერთის', 'ზოგს']\n",
    "\n",
    "\n",
    "pron_adj = ['ყველა', 'არცერთი', 'ზოგი', 'ზოგმა', 'სხვა']\n",
    "mixed_pron = ['მეორეს', 'ერთმა', 'მეორემ' ,'ორნი']\n"
   ]
  },
  {
   "cell_type": "code",
   "execution_count": 3,
   "id": "44c44a80-808c-4d3b-ac9f-4b024a567b4f",
   "metadata": {},
   "outputs": [],
   "source": [
    "TRAIN_PATH = os.path.join('data', 'train')\n",
    "TEST_PATH = os.path.join('data', 'test')"
   ]
  },
  {
   "cell_type": "code",
   "execution_count": 4,
   "id": "4b9ebf43-9131-4fbd-b472-224ebbde17fa",
   "metadata": {},
   "outputs": [],
   "source": [
    "df = pd.read_orc(os.path.join(TRAIN_PATH, 'train_1.orc'), dtype_backend='pyarrow')"
   ]
  },
  {
   "cell_type": "code",
   "execution_count": 5,
   "id": "64daf862-1e2d-44ba-9d72-45fde1d87f5d",
   "metadata": {},
   "outputs": [],
   "source": [
    "sent = '<CLS> მე და დისევს გახლდით იმ დროს პელევსის სახლში, კარგად გვესმოდა, მამაშენი რას გარიგებდა, პელევსის პალატს, ლაღად მორთულს ვეწვიეთ მაშინ, რომ ბრძოლად გვეხმო აქაველთა ქვეყნის ლაშქარი. <SEP>'"
   ]
  },
  {
   "cell_type": "code",
   "execution_count": 6,
   "id": "0bfa33f9-0938-49f7-a68b-a11d1eb4da01",
   "metadata": {},
   "outputs": [],
   "source": [
    "sent = sent.split()"
   ]
  },
  {
   "cell_type": "code",
   "execution_count": 7,
   "id": "6a888623-cdf1-469c-b962-50db73c64a29",
   "metadata": {},
   "outputs": [],
   "source": [
    "def get_pre_verb_adj(row):\n",
    "    # print(row)\n",
    "    words = row.mod_words\n",
    "    pos_tags = row.pos_tags\n",
    "  \n",
    "    indicies = []\n",
    "    for idx, (pos, word) in enumerate(zip(pos_tags, words)):\n",
    "        if pos == 'V' and idx != 0 and pos_tags[idx - 1] == 'A':\n",
    "            if word.endswith('-მეთქი'):\n",
    "                word = word[:-6]\n",
    "            if word.endswith('-თქო'):\n",
    "                word = word[:-4]\n",
    "            if word not in {'ვარ', 'ხარ', 'არის', 'ვართ', 'ხართ', 'არიან', \n",
    "                            'ვიყავით', 'იყავით', 'იყვნენ', 'ვიყავი', 'იყავი', 'იყო',\n",
    "                            'ვიქნებოდი', 'იქნებოდი', 'იქნებოდა', 'ვიქნებოდით', 'იქნებოდით', 'იქნებოდნენ',\n",
    "                            'ვიქნებოდე', 'იქნებოდე', 'იქნებოდა', 'ვიქნებოდეთ', 'იქნებოდეთ',\n",
    "                            'ვიქნები', 'იქნები', 'იქნება', 'ვიქნებით', 'იქნებით',\n",
    "                            'იქნება', 'ითვლება', 'იქცაო', 'იქცა', 'გადავიქეცი', 'გადაიქეცი', 'დავრჩი', \n",
    "                            'დარჩა', 'დარჩი', 'დავრჩით', 'დარჩით', \n",
    "                            'დარჩნენ'} and words[idx-1][-1] != 'ი' and words[idx-1][-1] != 'ს' and words[idx-1][:-2] != 'ია':\n",
    "                indicies.append(idx - 1)\n",
    "    \n",
    "\n",
    "    return ['Adv' if idx in set(indicies) else pos for idx, pos in enumerate(pos_tags)]\n",
    "    "
   ]
  },
  {
   "cell_type": "code",
   "execution_count": 8,
   "id": "97c0ebec-d89a-43a0-9a60-bc1280e50574",
   "metadata": {},
   "outputs": [],
   "source": [
    "def get_pronouns(row):\n",
    "    words = row.mod_words\n",
    "    pos_tags = row.pos_tags\n",
    "    indicies = []\n",
    "    for idx, (pos, word) in enumerate(zip(pos_tags, words)):\n",
    "        if word.endswith('-მეთქი'):\n",
    "            word = word[:-6]\n",
    "        if word.endswith('-თქო'):\n",
    "            word = word[:-4]\n",
    "        if word in pron:\n",
    "            indicies.append(idx)\n",
    "        if ((len(pos_tags) != idx + 1) and pos_tags[idx+1] not in ('N', 'A')) and word in pron_adj:\n",
    "            indicies.append(idx)\n",
    "        if (len(pos_tags) != idx + 1) and words[idx+1] != 'მხრივ' and (pos_tags[idx+1] not in ('N', 'A') or words[idx+1][-1] == 'ი') and word in mixed_pron:\n",
    "            indicies.append(idx)\n",
    "    # print(indicies)\n",
    "    return ['Pron' if idx in set(indicies) else pos for idx, pos in enumerate(pos_tags)]\n",
    "        "
   ]
  },
  {
   "cell_type": "code",
   "execution_count": 84,
   "id": "b5d6d231-cf8b-4ba6-8212-62f69611ca7d",
   "metadata": {},
   "outputs": [
    {
     "data": {
      "text/plain": [
       "0                          [V, Pron, Pron, A, Cj, A, Punct]\n",
       "1         [N, Adv, V, Punct, Cj, Pron, V, A, Cj, Adv, V,...\n",
       "2                         [Punct, N, Cj, N, Pron, V, Punct]\n",
       "3         [A, N, Punct, A, N, A, Cj, N, Punct, A, Punct,...\n",
       "4                                   [Adv, V, Num, V, Punct]\n",
       "                                ...                        \n",
       "669512                               [N, V, A, A, N, Punct]\n",
       "669513               [A, N, Cj, A, N, Cj, N, Adv, V, Punct]\n",
       "669514         [Adv, Punct, Pron, N, V, N, N, N, Pp, Punct]\n",
       "669515    [N, Cj, Pron, Pron, N, N, Punct, Pron, A, N, P...\n",
       "669516                               [N, N, N, N, V, Punct]\n",
       "Name: pos_tags, Length: 669517, dtype: object"
      ]
     },
     "execution_count": 84,
     "metadata": {},
     "output_type": "execute_result"
    }
   ],
   "source": [
    "df['pos_tags'] = df.apply(get_pre_verb_adj, axis=1)\n",
    "df['pos_tags'] = df.apply(get_pronouns, axis=1)\n",
    "\n",
    "df['pos_tags'] "
   ]
  },
  {
   "cell_type": "code",
   "execution_count": 9,
   "id": "25764d00-2ea1-4de5-b8de-43c78a6069d0",
   "metadata": {},
   "outputs": [],
   "source": [
    "for i in range(1, 10):\n",
    "    df = pd.read_orc(os.path.join(TRAIN_PATH, f'train_{i}.orc'), dtype_backend='pyarrow')\n",
    "    df['pos_tags'] = df.apply(get_pre_verb_adj, axis=1)\n",
    "    df['pos_tags'] = df.apply(get_pronouns, axis=1)\n",
    "    df.to_parquet(os.path.join(TRAIN_PATH, f'train_upd_{i}.parquet'))"
   ]
  },
  {
   "cell_type": "code",
   "execution_count": 10,
   "id": "31a029a6-4c89-4630-ad2c-8a550843f1e8",
   "metadata": {},
   "outputs": [],
   "source": [
    "for i in range(1, 10):\n",
    "    df = pd.read_orc(os.path.join(TEST_PATH, f'test_{i}.orc'), dtype_backend='pyarrow')\n",
    "    df['pos_tags'] = df.apply(get_pre_verb_adj, axis=1)\n",
    "    df['pos_tags'] = df.apply(get_pronouns, axis=1)\n",
    "    df.to_parquet(os.path.join(TEST_PATH, f'test_upd_{i}.parquet'))"
   ]
  },
  {
   "cell_type": "code",
   "execution_count": 97,
   "id": "80898a54-3b1b-4f8b-ad0a-15e57bfea817",
   "metadata": {},
   "outputs": [
    {
     "name": "stdout",
     "output_type": "stream",
     "text": [
      "Done\n"
     ]
    }
   ],
   "source": [
    "print('Done')"
   ]
  },
  {
   "cell_type": "code",
   "execution_count": 38,
   "id": "c13d54b7-72dc-4a77-87b9-ee590138d37e",
   "metadata": {},
   "outputs": [],
   "source": [
    "def get_adv_v(row):\n",
    "    words = row.mod_words\n",
    "    indicies = row.inc_adj\n",
    "    pairs = []\n",
    "    for idx in indicies:\n",
    "        pairs.append((words[idx], words[idx + 1]))\n",
    "    return pairs\n",
    "    "
   ]
  },
  {
   "cell_type": "code",
   "execution_count": 39,
   "id": "7f2f2f5f-aba3-4773-b455-1e58e0846a9e",
   "metadata": {},
   "outputs": [],
   "source": [
    "df['pairs'] = df.apply(get_adv_v, axis=1)"
   ]
  },
  {
   "cell_type": "code",
   "execution_count": 42,
   "id": "28ea66c4-2078-44b4-ba0f-4d8a3ba6e797",
   "metadata": {},
   "outputs": [],
   "source": [
    "# df[df['pairs'].apply(lambda l: len(l) != 0)]['pairs'].tolist()"
   ]
  }
 ],
 "metadata": {
  "environment": {
   "kernel": "python3",
   "name": "pytorch-gpu.2-0.m110",
   "type": "gcloud",
   "uri": "gcr.io/deeplearning-platform-release/pytorch-gpu.2-0:m110"
  },
  "kernelspec": {
   "display_name": "Python 3",
   "language": "python",
   "name": "python3"
  },
  "language_info": {
   "codemirror_mode": {
    "name": "ipython",
    "version": 3
   },
   "file_extension": ".py",
   "mimetype": "text/x-python",
   "name": "python",
   "nbconvert_exporter": "python",
   "pygments_lexer": "ipython3",
   "version": "3.10.12"
  }
 },
 "nbformat": 4,
 "nbformat_minor": 5
}
