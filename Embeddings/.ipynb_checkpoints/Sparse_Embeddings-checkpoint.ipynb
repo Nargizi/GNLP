{
 "cells": [
  {
   "cell_type": "markdown",
   "id": "dd2aa6cd-2828-45c8-85bd-4cebfd0c3071",
   "metadata": {},
   "source": [
    "# Import"
   ]
  },
  {
   "cell_type": "code",
   "execution_count": 53,
   "id": "0c585356-cc10-4d4e-b01c-aea39a6ebe0a",
   "metadata": {},
   "outputs": [],
   "source": [
    "from sklearn.feature_extraction.text import TfidfVectorizer\n",
    "from datasets import load_dataset\n",
    "import pandas as pd\n",
    "import pickle\n",
    "import json\n",
    "import os"
   ]
  },
  {
   "cell_type": "markdown",
   "id": "cee2b13d-cb35-410e-81a7-8f0b14ea0d7b",
   "metadata": {},
   "source": [
    "# Data"
   ]
  },
  {
   "cell_type": "code",
   "execution_count": 44,
   "id": "8514bc0b-a7ea-44e6-b355-0c838cdfdc23",
   "metadata": {},
   "outputs": [],
   "source": [
    "TRAIN_PATH = os.path.join('..', 'POS_Tagging', 'data', 'train')\n",
    "TEST_PATH = os.path.join('..', 'POS_Tagging', 'data', 'test')\n",
    "VOCAB_PATH = os.path.join('..', 'POS_Tagging', 'data', 'vocab', 'words.json')"
   ]
  },
  {
   "cell_type": "code",
   "execution_count": 5,
   "id": "017da3d9-5c14-42e8-98a1-41c2aa0ff522",
   "metadata": {},
   "outputs": [
    {
     "data": {
      "application/vnd.jupyter.widget-view+json": {
       "model_id": "b75e00000b90428ba9bde55ba4237c43",
       "version_major": 2,
       "version_minor": 0
      },
      "text/plain": [
       "Resolving data files:   0%|          | 0/18 [00:00<?, ?it/s]"
      ]
     },
     "metadata": {},
     "output_type": "display_data"
    }
   ],
   "source": [
    "dataset = load_dataset('parquet', data_files=[*[os.path.join(TRAIN_PATH, f'train_{i}.parquet') for i in range(9)],\n",
    "                                    *[os.path.join(TEST_PATH, f'test_{i}.parquet') for i in range(9)]])"
   ]
  },
  {
   "cell_type": "code",
   "execution_count": 45,
   "id": "e14bd7d5-288e-473c-bc1d-45a9fd4aeac2",
   "metadata": {},
   "outputs": [],
   "source": [
    "with open(VOCAB_PATH, 'r') as f:\n",
    "    vocab = json.load(f)"
   ]
  },
  {
   "cell_type": "code",
   "execution_count": 48,
   "id": "11a6f9fb-42ca-46c2-83d1-14c80c83bfbd",
   "metadata": {},
   "outputs": [
    {
     "data": {
      "text/plain": [
       "['თუკის',\n",
       " 'ფირჩოსანნი',\n",
       " 'დოკუმენტალისტიკიდან',\n",
       " 'გაგემახვილებინა',\n",
       " 'დააწებო',\n",
       " 'ცილისწამებით',\n",
       " 'თაყვანისვცე',\n",
       " 'ითმინოო',\n",
       " 'ანიტამ',\n",
       " 'მოსამსახურეები']"
      ]
     },
     "execution_count": 48,
     "metadata": {},
     "output_type": "execute_result"
    }
   ],
   "source": [
    "vocab[0:10]"
   ]
  },
  {
   "cell_type": "markdown",
   "id": "0575e3bc-ae71-44c2-9d1f-f5731afbe282",
   "metadata": {},
   "source": [
    "# TF-IDF"
   ]
  },
  {
   "cell_type": "code",
   "execution_count": 4,
   "id": "31ed91dd-377b-412a-b569-bc986150d19e",
   "metadata": {},
   "outputs": [],
   "source": [
    "vectorizer = TfidfVectorizer()"
   ]
  },
  {
   "cell_type": "code",
   "execution_count": 7,
   "id": "e83e2141-3867-49f9-a6d0-45c58d95dc09",
   "metadata": {},
   "outputs": [
    {
     "data": {
      "text/html": [
       "<style>#sk-container-id-1 {color: black;}#sk-container-id-1 pre{padding: 0;}#sk-container-id-1 div.sk-toggleable {background-color: white;}#sk-container-id-1 label.sk-toggleable__label {cursor: pointer;display: block;width: 100%;margin-bottom: 0;padding: 0.3em;box-sizing: border-box;text-align: center;}#sk-container-id-1 label.sk-toggleable__label-arrow:before {content: \"▸\";float: left;margin-right: 0.25em;color: #696969;}#sk-container-id-1 label.sk-toggleable__label-arrow:hover:before {color: black;}#sk-container-id-1 div.sk-estimator:hover label.sk-toggleable__label-arrow:before {color: black;}#sk-container-id-1 div.sk-toggleable__content {max-height: 0;max-width: 0;overflow: hidden;text-align: left;background-color: #f0f8ff;}#sk-container-id-1 div.sk-toggleable__content pre {margin: 0.2em;color: black;border-radius: 0.25em;background-color: #f0f8ff;}#sk-container-id-1 input.sk-toggleable__control:checked~div.sk-toggleable__content {max-height: 200px;max-width: 100%;overflow: auto;}#sk-container-id-1 input.sk-toggleable__control:checked~label.sk-toggleable__label-arrow:before {content: \"▾\";}#sk-container-id-1 div.sk-estimator input.sk-toggleable__control:checked~label.sk-toggleable__label {background-color: #d4ebff;}#sk-container-id-1 div.sk-label input.sk-toggleable__control:checked~label.sk-toggleable__label {background-color: #d4ebff;}#sk-container-id-1 input.sk-hidden--visually {border: 0;clip: rect(1px 1px 1px 1px);clip: rect(1px, 1px, 1px, 1px);height: 1px;margin: -1px;overflow: hidden;padding: 0;position: absolute;width: 1px;}#sk-container-id-1 div.sk-estimator {font-family: monospace;background-color: #f0f8ff;border: 1px dotted black;border-radius: 0.25em;box-sizing: border-box;margin-bottom: 0.5em;}#sk-container-id-1 div.sk-estimator:hover {background-color: #d4ebff;}#sk-container-id-1 div.sk-parallel-item::after {content: \"\";width: 100%;border-bottom: 1px solid gray;flex-grow: 1;}#sk-container-id-1 div.sk-label:hover label.sk-toggleable__label {background-color: #d4ebff;}#sk-container-id-1 div.sk-serial::before {content: \"\";position: absolute;border-left: 1px solid gray;box-sizing: border-box;top: 0;bottom: 0;left: 50%;z-index: 0;}#sk-container-id-1 div.sk-serial {display: flex;flex-direction: column;align-items: center;background-color: white;padding-right: 0.2em;padding-left: 0.2em;position: relative;}#sk-container-id-1 div.sk-item {position: relative;z-index: 1;}#sk-container-id-1 div.sk-parallel {display: flex;align-items: stretch;justify-content: center;background-color: white;position: relative;}#sk-container-id-1 div.sk-item::before, #sk-container-id-1 div.sk-parallel-item::before {content: \"\";position: absolute;border-left: 1px solid gray;box-sizing: border-box;top: 0;bottom: 0;left: 50%;z-index: -1;}#sk-container-id-1 div.sk-parallel-item {display: flex;flex-direction: column;z-index: 1;position: relative;background-color: white;}#sk-container-id-1 div.sk-parallel-item:first-child::after {align-self: flex-end;width: 50%;}#sk-container-id-1 div.sk-parallel-item:last-child::after {align-self: flex-start;width: 50%;}#sk-container-id-1 div.sk-parallel-item:only-child::after {width: 0;}#sk-container-id-1 div.sk-dashed-wrapped {border: 1px dashed gray;margin: 0 0.4em 0.5em 0.4em;box-sizing: border-box;padding-bottom: 0.4em;background-color: white;}#sk-container-id-1 div.sk-label label {font-family: monospace;font-weight: bold;display: inline-block;line-height: 1.2em;}#sk-container-id-1 div.sk-label-container {text-align: center;}#sk-container-id-1 div.sk-container {/* jupyter's `normalize.less` sets `[hidden] { display: none; }` but bootstrap.min.css set `[hidden] { display: none !important; }` so we also need the `!important` here to be able to override the default hidden behavior on the sphinx rendered scikit-learn.org. See: https://github.com/scikit-learn/scikit-learn/issues/21755 */display: inline-block !important;position: relative;}#sk-container-id-1 div.sk-text-repr-fallback {display: none;}</style><div id=\"sk-container-id-1\" class=\"sk-top-container\"><div class=\"sk-text-repr-fallback\"><pre>TfidfVectorizer()</pre><b>In a Jupyter environment, please rerun this cell to show the HTML representation or trust the notebook. <br />On GitHub, the HTML representation is unable to render, please try loading this page with nbviewer.org.</b></div><div class=\"sk-container\" hidden><div class=\"sk-item\"><div class=\"sk-estimator sk-toggleable\"><input class=\"sk-toggleable__control sk-hidden--visually\" id=\"sk-estimator-id-1\" type=\"checkbox\" checked><label for=\"sk-estimator-id-1\" class=\"sk-toggleable__label sk-toggleable__label-arrow\">TfidfVectorizer</label><div class=\"sk-toggleable__content\"><pre>TfidfVectorizer()</pre></div></div></div></div></div>"
      ],
      "text/plain": [
       "TfidfVectorizer()"
      ]
     },
     "execution_count": 7,
     "metadata": {},
     "output_type": "execute_result"
    }
   ],
   "source": [
    "vectorizer.fit((\" \".join(['<UNK>' if pos == 'Other' else '<NUM>' if pos == 'Num' else word for word, pos in zip(sent['mod_words'], sent['pos_tags']) if pos != 'Punct']) for sent in dataset['train']))"
   ]
  },
  {
   "cell_type": "code",
   "execution_count": 24,
   "id": "e135deb4-ede9-4b92-8ed6-cf84196024e8",
   "metadata": {},
   "outputs": [],
   "source": [
    "with open(os.path.join('models', 'tfidf.pkl'), 'wb') as f:\n",
    "    pickle.dump(vectorizer, f, protocol=pickle.DEFAULT_PROTOCOL)"
   ]
  },
  {
   "cell_type": "code",
   "execution_count": null,
   "id": "a45e5b75-3c36-4333-9b7d-2f61cba494e5",
   "metadata": {},
   "outputs": [
    {
     "data": {
      "text/plain": [
       "array(['00', '000', '001', ..., 'ჰჰჰჰჰჰჰძ', 'ჰჰჰჰჰჰჰჰჰ', 'ჰჰჰჰჰჰჰჰჰჰჰჰჰჰ'],\n",
       "      dtype=object)"
      ]
     },
     "execution_count": 41,
     "metadata": {},
     "output_type": "execute_result"
    }
   ],
   "source": [
    "feature_names = vectorizer.get_feature_names_out()\n",
    "feature_names"
   ]
  },
  {
   "cell_type": "code",
   "execution_count": 81,
   "id": "d488eca7-d92a-4bae-8904-c8689952396e",
   "metadata": {},
   "outputs": [],
   "source": [
    "df_idf = pd.DataFrame(vectorizer.idf_, index=feature_names, columns=[\"idf_weights\"])\n",
    "\n",
    "#inverse document frequency\n",
    "potential_stop_words = set(df_idf.sort_values(by=['idf_weights']).head(200).index)"
   ]
  },
  {
   "cell_type": "code",
   "execution_count": 92,
   "id": "d3a1f86a-ab26-4ae4-a50c-6ed859938018",
   "metadata": {},
   "outputs": [
    {
     "data": {
      "text/plain": [
       "{'აზრით',\n",
       " 'ალბათ',\n",
       " 'ამ',\n",
       " 'ამას',\n",
       " 'ამის',\n",
       " 'ამიტომ',\n",
       " 'ან',\n",
       " 'ანუ',\n",
       " 'არ',\n",
       " 'არა',\n",
       " 'არამედ',\n",
       " 'არაფერი',\n",
       " 'არიან',\n",
       " 'არის',\n",
       " 'არსებობს',\n",
       " 'არც',\n",
       " 'ასე',\n",
       " 'ასევე',\n",
       " 'ასეთ',\n",
       " 'ასეთი',\n",
       " 'აფხაზეთის',\n",
       " 'აქ',\n",
       " 'აქვთ',\n",
       " 'აქვს',\n",
       " 'აღარ',\n",
       " 'ახალ',\n",
       " 'ახალი',\n",
       " 'ახლა',\n",
       " 'ბევრი',\n",
       " 'ბოლო',\n",
       " 'ბოლოს',\n",
       " 'გამო',\n",
       " 'განმავლობაში',\n",
       " 'გარდა',\n",
       " 'გარეშე',\n",
       " 'გახდა',\n",
       " 'გიორგი',\n",
       " 'გუშინ',\n",
       " 'და',\n",
       " 'დავით',\n",
       " 'დაიწყო',\n",
       " 'დაკავშირებით',\n",
       " 'დიდ',\n",
       " 'დიდი',\n",
       " 'დროს',\n",
       " 'დღეს',\n",
       " 'ერთ',\n",
       " 'ერთად',\n",
       " 'ერთი',\n",
       " 'ერთხელ',\n",
       " 'ეროვნული',\n",
       " 'ეს',\n",
       " 'ვარ',\n",
       " 'ვერ',\n",
       " 'ვიდრე',\n",
       " 'ვინ',\n",
       " 'ვინც',\n",
       " 'თავად',\n",
       " 'თავი',\n",
       " 'თავის',\n",
       " 'თავისი',\n",
       " 'თავს',\n",
       " 'თბილისის',\n",
       " 'თითქმის',\n",
       " 'თუ',\n",
       " 'თუმცა',\n",
       " 'თქმა',\n",
       " 'თქმით',\n",
       " 'იგი',\n",
       " 'იმ',\n",
       " 'იმას',\n",
       " 'იმის',\n",
       " 'ის',\n",
       " 'ისე',\n",
       " 'ისევ',\n",
       " 'ისეთი',\n",
       " 'ისინი',\n",
       " 'ისიც',\n",
       " 'იქ',\n",
       " 'იქნება',\n",
       " 'იყო',\n",
       " 'იყოს',\n",
       " 'კარგად',\n",
       " 'კარგი',\n",
       " 'კი',\n",
       " 'კიდევ',\n",
       " 'მაგრამ',\n",
       " 'მათ',\n",
       " 'მათი',\n",
       " 'მაინც',\n",
       " 'მან',\n",
       " 'მარტო',\n",
       " 'მას',\n",
       " 'მაშინ',\n",
       " 'მე',\n",
       " 'მერე',\n",
       " 'მეტი',\n",
       " 'მთავარი',\n",
       " 'მთელი',\n",
       " 'მიერ',\n",
       " 'მიიღო',\n",
       " 'მიმართ',\n",
       " 'მინისტრის',\n",
       " 'მის',\n",
       " 'მისი',\n",
       " 'მიუხედავად',\n",
       " 'მიხეილ',\n",
       " 'მოხდა',\n",
       " 'მსოფლიო',\n",
       " 'მხოლოდ',\n",
       " 'პარლამენტის',\n",
       " 'პოლიტიკური',\n",
       " 'პრეზიდენტი',\n",
       " 'პრეზიდენტის',\n",
       " 'რა',\n",
       " 'რადგან',\n",
       " 'რათა',\n",
       " 'რამდენიმე',\n",
       " 'რას',\n",
       " 'რასაც',\n",
       " 'რატომ',\n",
       " 'რაღაც',\n",
       " 'რაც',\n",
       " 'როგორ',\n",
       " 'როგორც',\n",
       " 'როდესაც',\n",
       " 'რომ',\n",
       " 'რომელიც',\n",
       " 'რომელმაც',\n",
       " 'რომელსაც',\n",
       " 'რომლებიც',\n",
       " 'რომლის',\n",
       " 'როცა',\n",
       " 'სადაც',\n",
       " 'საერთაშორისო',\n",
       " 'საერთოდ',\n",
       " 'საკმაოდ',\n",
       " 'საკუთარი',\n",
       " 'სამინისტროს',\n",
       " 'სამხედრო',\n",
       " 'საქართველო',\n",
       " 'საქმე',\n",
       " 'საქმეთა',\n",
       " 'სახელმწიფო',\n",
       " 'სულ',\n",
       " 'სწორედ',\n",
       " 'სხვა',\n",
       " 'სხვადასხვა',\n",
       " 'უკვე',\n",
       " 'უნდა',\n",
       " 'უფრო',\n",
       " 'ყველა',\n",
       " 'ყველაზე',\n",
       " 'ყველაფერი',\n",
       " 'ყოველთვის',\n",
       " 'შედეგად',\n",
       " 'შეეხება',\n",
       " 'შეიძლება',\n",
       " 'შემდეგ',\n",
       " 'შემთხვევაში',\n",
       " 'შორის',\n",
       " 'ჩემი',\n",
       " 'ჩემს',\n",
       " 'ჩვენ',\n",
       " 'ჩვენი',\n",
       " 'ჩვენს',\n",
       " 'წინ',\n",
       " 'წინააღმდეგ',\n",
       " 'ხდება',\n",
       " 'ხელი',\n",
       " 'ხოლო',\n",
       " 'ხომ',\n",
       " 'ხშირად',\n",
       " 'ჯერ',\n",
       " 'ჰქონდა'}"
      ]
     },
     "execution_count": 92,
     "metadata": {},
     "output_type": "execute_result"
    }
   ],
   "source": [
    "potential_stop_words - set(['num', 'ქართველი', 'ქართული', 'ქვეყანაში', 'აშშ', 'განცხადებით', \n",
    "                           'ქვეყნის', 'ადამიანი', 'ადამიანის' ,'unk', 'განაცხადა',\n",
    "                            'საქართველოს', 'წლის', 'შესახებ', 'საქართველოში', \n",
    "                            'თბილისში', 'ქართულ', 'ხელისუფლება', 'ხელისუფლების',  \n",
    "                            'რუსეთის', 'საგარეო',  'ცნობილი', 'ცოტა', 'ძალიან', 'წელს',])"
   ]
  },
  {
   "cell_type": "code",
   "execution_count": 39,
   "id": "484efe1a-359a-46ae-b852-b51787025b13",
   "metadata": {},
   "outputs": [
    {
     "name": "stdout",
     "output_type": "stream",
     "text": [
      "[[0. 0. 0. ... 0. 0. 0.]]\n"
     ]
    }
   ],
   "source": [
    "print(vectorizer.transform(['მე შენ და ის ']).todense())"
   ]
  },
  {
   "cell_type": "code",
   "execution_count": null,
   "id": "663789f1-05c0-42f8-98db-62d7a4c2161d",
   "metadata": {},
   "outputs": [],
   "source": []
  }
 ],
 "metadata": {
  "environment": {
   "kernel": "python3",
   "name": "pytorch-gpu.2-0.m110",
   "type": "gcloud",
   "uri": "gcr.io/deeplearning-platform-release/pytorch-gpu.2-0:m110"
  },
  "kernelspec": {
   "display_name": "Python 3",
   "language": "python",
   "name": "python3"
  },
  "language_info": {
   "codemirror_mode": {
    "name": "ipython",
    "version": 3
   },
   "file_extension": ".py",
   "mimetype": "text/x-python",
   "name": "python",
   "nbconvert_exporter": "python",
   "pygments_lexer": "ipython3",
   "version": "3.10.12"
  }
 },
 "nbformat": 4,
 "nbformat_minor": 5
}
