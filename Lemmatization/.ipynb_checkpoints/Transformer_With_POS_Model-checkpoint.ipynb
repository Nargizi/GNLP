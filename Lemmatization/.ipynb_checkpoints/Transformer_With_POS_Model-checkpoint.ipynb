{
 "cells": [
  {
   "cell_type": "code",
   "execution_count": 1,
   "id": "94713b11-8e95-4fee-b065-cb79d200d160",
   "metadata": {},
   "outputs": [],
   "source": [
    "import os\n",
    "import json\n",
    "\n",
    "from transformers import AutoTokenizer, BertTokenizerFast, DataCollatorForTokenClassification\n",
    "from tokenizers import (\n",
    "    decoders,\n",
    "    models,\n",
    "    normalizers,\n",
    "    pre_tokenizers,\n",
    "    processors,\n",
    "    trainers,\n",
    "    Tokenizer,\n",
    ")\n",
    "\n",
    "from datasets import Dataset, DatasetDict\n",
    "import matplotlib.pyplot as plt\n",
    "from sklearn import preprocessing\n",
    "import pandas as pd\n",
    "from utils.dataset import LemmaDataSet\n",
    "\n"
   ]
  },
  {
   "cell_type": "code",
   "execution_count": 2,
   "id": "87091b06-39a8-40bb-b326-e35d9f4890e6",
   "metadata": {},
   "outputs": [
    {
     "data": {
      "text/plain": [
       "<torch._C.Generator at 0x7f78093b39b0>"
      ]
     },
     "execution_count": 2,
     "metadata": {},
     "output_type": "execute_result"
    }
   ],
   "source": [
    "import torch\n",
    "import random\n",
    "import numpy as np\n",
    "\n",
    "RANDOM_STATE = 42\n",
    "\n",
    "random.seed(RANDOM_STATE)\n",
    "np.random.seed(RANDOM_STATE)\n",
    "torch.manual_seed(RANDOM_STATE)"
   ]
  },
  {
   "cell_type": "markdown",
   "id": "77afc3ba-a07e-45b8-9427-ff51de89daaa",
   "metadata": {},
   "source": [
    "# Tokenizer"
   ]
  },
  {
   "cell_type": "code",
   "execution_count": 3,
   "id": "d77eacc6-30e9-4de4-8b61-d3b0e9f72263",
   "metadata": {},
   "outputs": [],
   "source": [
    "TOKENIZER_PATH = os.path.join('models', 'tokenizers')\n",
    "TOKENIZED_DATASET_PATH = os.path.join('dataset','tokenized_pos')\n",
    "NAME = 'gnlp-lemma-tokenizer'"
   ]
  },
  {
   "cell_type": "code",
   "execution_count": 4,
   "id": "3e9b2fb0-2913-4f31-8e16-8777166f2949",
   "metadata": {},
   "outputs": [],
   "source": [
    "MAX_LEN = 30\n",
    "UNK_TOKEN = '<UNK>'\n",
    "PAD_TOKEN = '<PAD>'\n",
    "CLS_TOKEN = '<START>'\n",
    "SEP_TOKEN = '<END>'\n",
    "POS_TOKEN = '<POS>'\n",
    "MASK_TOKEN = '<MASK>'\n",
    "SPECIAL_TOKENS = [UNK_TOKEN, PAD_TOKEN, CLS_TOKEN, SEP_TOKEN, MASK_TOKEN, POS_TOKEN]"
   ]
  },
  {
   "cell_type": "code",
   "execution_count": 5,
   "id": "2a9c6d7b-ac33-48e1-bc0a-69a9c7b662da",
   "metadata": {},
   "outputs": [
    {
     "data": {
      "text/plain": [
       "(['A', 'Interj', 'Other', 'Adv', 'V', 'Pron', 'Num', 'Pp', 'Cj', 'N'], 36)"
      ]
     },
     "execution_count": 5,
     "metadata": {},
     "output_type": "execute_result"
    }
   ],
   "source": [
    "train_df = pd.read_csv(os.path.join('csv','train.csv'))\n",
    "MAX_LEN = max(train_df.word.str.len().max() ,train_df.lemma.str.len().max())\n",
    "POS_TAGS = list(set(train_df.pos_tag))\n",
    "POS_TAGS, MAX_LEN"
   ]
  },
  {
   "cell_type": "code",
   "execution_count": 6,
   "id": "36c4e3d9-29e8-4d3d-a2db-c0640aa8e4f2",
   "metadata": {},
   "outputs": [
    {
     "data": {
      "text/html": [
       "<div>\n",
       "<style scoped>\n",
       "    .dataframe tbody tr th:only-of-type {\n",
       "        vertical-align: middle;\n",
       "    }\n",
       "\n",
       "    .dataframe tbody tr th {\n",
       "        vertical-align: top;\n",
       "    }\n",
       "\n",
       "    .dataframe thead th {\n",
       "        text-align: right;\n",
       "    }\n",
       "</style>\n",
       "<table border=\"1\" class=\"dataframe\">\n",
       "  <thead>\n",
       "    <tr style=\"text-align: right;\">\n",
       "      <th></th>\n",
       "      <th>Unnamed: 0</th>\n",
       "      <th>word</th>\n",
       "      <th>lemma</th>\n",
       "      <th>pos_tag</th>\n",
       "      <th>freq</th>\n",
       "      <th>word_length</th>\n",
       "      <th>lemma_length</th>\n",
       "      <th>ratio</th>\n",
       "      <th>lemma_length_category</th>\n",
       "      <th>word_length_category</th>\n",
       "      <th>ratio_category</th>\n",
       "      <th>reported_speech</th>\n",
       "      <th>freq_category</th>\n",
       "    </tr>\n",
       "  </thead>\n",
       "  <tbody>\n",
       "    <tr>\n",
       "      <th>10</th>\n",
       "      <td>478849</td>\n",
       "      <td>მხცოვანია</td>\n",
       "      <td>მხცოვანი</td>\n",
       "      <td>N</td>\n",
       "      <td>6</td>\n",
       "      <td>9</td>\n",
       "      <td>8</td>\n",
       "      <td>1.125</td>\n",
       "      <td>medium</td>\n",
       "      <td>low</td>\n",
       "      <td>greater</td>\n",
       "      <td>False</td>\n",
       "      <td>medium</td>\n",
       "    </tr>\n",
       "  </tbody>\n",
       "</table>\n",
       "</div>"
      ],
      "text/plain": [
       "    Unnamed: 0       word     lemma pos_tag  freq  word_length  lemma_length  \\\n",
       "10      478849  მხცოვანია  მხცოვანი       N     6            9             8   \n",
       "\n",
       "    ratio lemma_length_category word_length_category ratio_category  \\\n",
       "10  1.125                medium                  low        greater   \n",
       "\n",
       "    reported_speech freq_category  \n",
       "10            False        medium  "
      ]
     },
     "execution_count": 6,
     "metadata": {},
     "output_type": "execute_result"
    }
   ],
   "source": [
    "train_df[train_df.word == 'მხცოვანია']"
   ]
  },
  {
   "cell_type": "code",
   "execution_count": 7,
   "id": "baceb396-b8d1-4953-ab3e-8011be3d7e36",
   "metadata": {},
   "outputs": [],
   "source": [
    "tokenizer = Tokenizer.from_file(os.path.join(TOKENIZER_PATH, 'wordpiece_2000.json'))\n",
    "# print(help(tokenizer))\n",
    "tokenizer.add_tokens([*POS_TAGS, POS_TOKEN])\n",
    "\n",
    "pos_token_id = tokenizer.token_to_id(POS_TOKEN)\n",
    "cls_token_id = tokenizer.token_to_id(CLS_TOKEN)\n",
    "sep_token_id = tokenizer.token_to_id(SEP_TOKEN)\n",
    "\n",
    "\n",
    "tokenizer.post_processor = processors.TemplateProcessing(\n",
    "          single=f\"{CLS_TOKEN}:0 $A:0 {SEP_TOKEN}:0\",\n",
    "          pair=f\"{CLS_TOKEN}:0 $A:0 {POS_TOKEN}:0 $B:1 {SEP_TOKEN}:1\",\n",
    "          special_tokens=[(CLS_TOKEN, cls_token_id), (SEP_TOKEN, sep_token_id), (POS_TOKEN, pos_token_id)],\n",
    "          )\n",
    "\n",
    "tokenizer = BertTokenizerFast(tokenizer_object=tokenizer, unk_token=UNK_TOKEN,\n",
    "    pad_token=PAD_TOKEN, cls_token=CLS_TOKEN, sep_token=SEP_TOKEN, \n",
    "                              model_input_names=['input_ids', 'attention_mask', 'decoder_input_ids'],\n",
    "                              additional_special_tokens=[*POS_TAGS, POS_TOKEN])\n",
    "\n"
   ]
  },
  {
   "cell_type": "code",
   "execution_count": 8,
   "id": "8ae48bd1-e0f8-44da-9fcb-a7be3f5e8521",
   "metadata": {},
   "outputs": [
    {
     "data": {
      "text/plain": [
       "['A', 'Interj', 'Other', 'Adv', 'V', 'Pron', 'Num', 'Pp', 'Cj', 'N', '<POS>']"
      ]
     },
     "execution_count": 8,
     "metadata": {},
     "output_type": "execute_result"
    }
   ],
   "source": [
    "tokenizer.additional_special_tokens"
   ]
  },
  {
   "cell_type": "code",
   "execution_count": 9,
   "id": "3455208d-6561-47d3-8f21-74bb248fb3cf",
   "metadata": {},
   "outputs": [
    {
     "data": {
      "text/plain": [
       "('მონოზონისა', 'N', 'მონოზონი')"
      ]
     },
     "execution_count": 9,
     "metadata": {},
     "output_type": "execute_result"
    }
   ],
   "source": [
    "word, pos_tag, lemma = train_df.iloc[0].word, train_df.iloc[0].pos_tag, train_df.iloc[0].lemma\n",
    "word, pos_tag, lemma "
   ]
  },
  {
   "cell_type": "code",
   "execution_count": 10,
   "id": "4c51241e-b271-441a-b002-a7ecc96cf776",
   "metadata": {},
   "outputs": [
    {
     "data": {
      "text/plain": [
       "['<START>', 'მონ', '##ო', '##ზო', '##ნის', '##ა', '<POS>', 'N', '<END>']"
      ]
     },
     "execution_count": 10,
     "metadata": {},
     "output_type": "execute_result"
    }
   ],
   "source": [
    "tokenizer(word, text_pair=pos_tag, text_target=pos_tag).tokens()"
   ]
  },
  {
   "cell_type": "markdown",
   "id": "c3796052-3f63-49ca-ac64-3735ac9d6159",
   "metadata": {
    "tags": []
   },
   "source": [
    "# Dataset"
   ]
  },
  {
   "cell_type": "code",
   "execution_count": 14,
   "id": "43b65cec-8964-4a9c-8fed-9ec3b56069ab",
   "metadata": {},
   "outputs": [],
   "source": [
    "train_df = pd.read_csv(os.path.join('csv','train.csv'))\n",
    "train_df = train_df[~train_df.lemma.str.startswith('*')]\n",
    "test_df = pd.read_csv(os.path.join('csv','test.csv'))\n",
    "test_df = test_df[~test_df.lemma.str.startswith('*')]"
   ]
  },
  {
   "cell_type": "code",
   "execution_count": 15,
   "id": "a9cf82bb-2f3c-4b75-a6b3-c58d359e5dff",
   "metadata": {},
   "outputs": [],
   "source": [
    "dataset = DatasetDict({'train': Dataset.from_pandas(train_df), 'test': Dataset.from_pandas(test_df)})"
   ]
  },
  {
   "cell_type": "code",
   "execution_count": 16,
   "id": "0aaea413-9f75-4120-bf54-ecc098772500",
   "metadata": {},
   "outputs": [
    {
     "data": {
      "text/plain": [
       "DatasetDict({\n",
       "    train: Dataset({\n",
       "        features: ['Unnamed: 0', 'word', 'lemma', 'pos_tag', 'freq', 'word_length', 'lemma_length', 'ratio', 'lemma_length_category', 'word_length_category', 'ratio_category', 'reported_speech', 'freq_category', '__index_level_0__'],\n",
       "        num_rows: 921949\n",
       "    })\n",
       "    test: Dataset({\n",
       "        features: ['Unnamed: 0', 'word', 'lemma', 'pos_tag', 'freq', 'word_length', 'lemma_length', 'ratio', 'lemma_length_category', 'word_length_category', 'ratio_category', 'reported_speech', 'freq_category', '__index_level_0__'],\n",
       "        num_rows: 395215\n",
       "    })\n",
       "})"
      ]
     },
     "execution_count": 16,
     "metadata": {},
     "output_type": "execute_result"
    }
   ],
   "source": [
    "dataset"
   ]
  },
  {
   "cell_type": "code",
   "execution_count": 17,
   "id": "9f529af6-beb6-41e7-932d-6e92d1bedaf7",
   "metadata": {},
   "outputs": [
    {
     "data": {
      "text/plain": [
       "{'Unnamed: 0': 621372,\n",
       " 'word': 'უქადიდნენ',\n",
       " 'lemma': 'ქადება',\n",
       " 'pos_tag': 'V',\n",
       " 'freq': 1,\n",
       " 'word_length': 9,\n",
       " 'lemma_length': 6,\n",
       " 'ratio': 1.5,\n",
       " 'lemma_length_category': 'low',\n",
       " 'word_length_category': 'low',\n",
       " 'ratio_category': 'greater',\n",
       " 'reported_speech': False,\n",
       " 'freq_category': 'low',\n",
       " '__index_level_0__': 11}"
      ]
     },
     "execution_count": 17,
     "metadata": {},
     "output_type": "execute_result"
    }
   ],
   "source": [
    "dataset['train'][11]"
   ]
  },
  {
   "cell_type": "code",
   "execution_count": 18,
   "id": "7463ac2d-45f7-43f6-bf13-590b3174f3f0",
   "metadata": {},
   "outputs": [],
   "source": [
    "def tokenize(examples):\n",
    "    model_inputs = tokenizer(\n",
    "        examples[\"word\"], text_pair=examples['pos_tag'], text_target=examples[\"lemma\"], max_length=MAX_LEN, truncation=True\n",
    "    )\n",
    "    return model_inputs\n"
   ]
  },
  {
   "cell_type": "code",
   "execution_count": 19,
   "id": "8f7d2d3b-0c36-4518-a8d3-5ba6d6ec4ba7",
   "metadata": {},
   "outputs": [
    {
     "data": {
      "application/vnd.jupyter.widget-view+json": {
       "model_id": "8ad47059d09b47b09d57d37b9b796b52",
       "version_major": 2,
       "version_minor": 0
      },
      "text/plain": [
       "Map:   0%|          | 0/921949 [00:00<?, ? examples/s]"
      ]
     },
     "metadata": {},
     "output_type": "display_data"
    },
    {
     "data": {
      "application/vnd.jupyter.widget-view+json": {
       "model_id": "d60104006c4e448a867719a2d6514d70",
       "version_major": 2,
       "version_minor": 0
      },
      "text/plain": [
       "Map:   0%|          | 0/395215 [00:00<?, ? examples/s]"
      ]
     },
     "metadata": {},
     "output_type": "display_data"
    }
   ],
   "source": [
    "tokenized_datasets = dataset.map(\n",
    "    tokenize,\n",
    "    batched=True,\n",
    "    remove_columns=dataset['train'].column_names,\n",
    ")"
   ]
  },
  {
   "cell_type": "code",
   "execution_count": 20,
   "id": "ce750164-c756-4e8a-82da-952f5ec2b5fe",
   "metadata": {},
   "outputs": [
    {
     "data": {
      "text/plain": [
       "DatasetDict({\n",
       "    train: Dataset({\n",
       "        features: ['input_ids', 'attention_mask', 'labels'],\n",
       "        num_rows: 921949\n",
       "    })\n",
       "    test: Dataset({\n",
       "        features: ['input_ids', 'attention_mask', 'labels'],\n",
       "        num_rows: 395215\n",
       "    })\n",
       "})"
      ]
     },
     "execution_count": 20,
     "metadata": {},
     "output_type": "execute_result"
    }
   ],
   "source": [
    "tokenized_datasets"
   ]
  },
  {
   "cell_type": "code",
   "execution_count": 21,
   "id": "cc925270-6783-4208-9035-4c6ed5a9c48a",
   "metadata": {},
   "outputs": [
    {
     "data": {
      "text/plain": [
       "DatasetDict({\n",
       "    train: Dataset({\n",
       "        features: ['input_ids', 'attention_mask', 'labels'],\n",
       "        num_rows: 829754\n",
       "    })\n",
       "    test: Dataset({\n",
       "        features: ['input_ids', 'attention_mask', 'labels'],\n",
       "        num_rows: 395215\n",
       "    })\n",
       "    validation: Dataset({\n",
       "        features: ['input_ids', 'attention_mask', 'labels'],\n",
       "        num_rows: 92195\n",
       "    })\n",
       "})"
      ]
     },
     "execution_count": 21,
     "metadata": {},
     "output_type": "execute_result"
    }
   ],
   "source": [
    "train_set = tokenized_datasets['train'].train_test_split(train_size=0.9, seed=RANDOM_STATE)\n",
    "tokenized_datasets[\"validation\"] = train_set.pop(\"test\")\n",
    "tokenized_datasets['train'] = train_set['train']\n",
    "tokenized_datasets"
   ]
  },
  {
   "cell_type": "code",
   "execution_count": 22,
   "id": "5bc377f6-3480-47c6-8086-cc5ed6219a29",
   "metadata": {},
   "outputs": [
    {
     "data": {
      "application/vnd.jupyter.widget-view+json": {
       "model_id": "d02ff6dffe56477284535bd2eb81a82c",
       "version_major": 2,
       "version_minor": 0
      },
      "text/plain": [
       "Saving the dataset (0/1 shards):   0%|          | 0/829754 [00:00<?, ? examples/s]"
      ]
     },
     "metadata": {},
     "output_type": "display_data"
    },
    {
     "data": {
      "application/vnd.jupyter.widget-view+json": {
       "model_id": "65c2d776dc8a4ba9a0e9efb703876c41",
       "version_major": 2,
       "version_minor": 0
      },
      "text/plain": [
       "Saving the dataset (0/1 shards):   0%|          | 0/395215 [00:00<?, ? examples/s]"
      ]
     },
     "metadata": {},
     "output_type": "display_data"
    },
    {
     "data": {
      "application/vnd.jupyter.widget-view+json": {
       "model_id": "89730257265d4da7b941d47a783ab268",
       "version_major": 2,
       "version_minor": 0
      },
      "text/plain": [
       "Saving the dataset (0/1 shards):   0%|          | 0/92195 [00:00<?, ? examples/s]"
      ]
     },
     "metadata": {},
     "output_type": "display_data"
    }
   ],
   "source": [
    "tokenized_datasets.save_to_disk(TOKENIZED_DATASET_PATH)"
   ]
  },
  {
   "cell_type": "markdown",
   "id": "ffefeca4-4e64-45c9-9104-6ebb7a7616a9",
   "metadata": {},
   "source": [
    "# Model"
   ]
  },
  {
   "cell_type": "code",
   "execution_count": 23,
   "id": "218adb5a-fed5-423b-8593-4c7311981297",
   "metadata": {},
   "outputs": [],
   "source": [
    "from transformers import Seq2SeqTrainingArguments, Seq2SeqTrainer, DataCollatorForSeq2Seq, BartConfig, BartForConditionalGeneration\n",
    "from datasets import load_from_disk\n",
    "import numpy as np\n",
    "import evaluate\n"
   ]
  },
  {
   "cell_type": "code",
   "execution_count": 24,
   "id": "688c97ab-4267-437c-b057-0e5ed1a5a693",
   "metadata": {},
   "outputs": [],
   "source": [
    "tokenized_datasets = load_from_disk(TOKENIZED_DATASET_PATH)"
   ]
  },
  {
   "cell_type": "code",
   "execution_count": 25,
   "id": "8246df38-a30b-4a28-abdd-5540e5965902",
   "metadata": {},
   "outputs": [],
   "source": [
    "bleu = evaluate.load(\"sacrebleu\")\n",
    "chrf = evaluate.load(\"chrf\")\n",
    "\n",
    "def compute_metrics(eval_preds):\n",
    "\n",
    "    preds, labels = eval_preds\n",
    "    if isinstance(preds, tuple):\n",
    "        preds = preds[0]\n",
    "\n",
    "    decoded_preds = tokenizer.batch_decode(preds, skip_special_tokens=True)\n",
    "    \n",
    "    # Replace -100s in the labels\n",
    "    labels = np.where(labels != -100, labels, tokenizer.pad_token_id)\n",
    "    decoded_labels = tokenizer.batch_decode(labels, skip_special_tokens=True)\n",
    "    \n",
    "    chrf_res = chrf.compute(predictions=decoded_preds, references=decoded_labels)\n",
    "    \n",
    "    # For BLEU score\n",
    "    decoded_preds = [' '.join(pred.strip()) for pred in decoded_preds]\n",
    "    decoded_labels = [[' '.join(label.strip())] for label in decoded_labels]\n",
    "\n",
    "    bleu_res = bleu.compute(predictions=decoded_preds, references=decoded_labels)\n",
    "    return {'bleu': bleu_res['score'], 'chrf': chrf_res['score']}"
   ]
  },
  {
   "cell_type": "code",
   "execution_count": 26,
   "id": "382e7865-a969-45cc-a002-2265a55ac4e8",
   "metadata": {},
   "outputs": [
    {
     "data": {
      "text/plain": [
       "BartConfig {\n",
       "  \"activation_dropout\": 0.0,\n",
       "  \"activation_function\": \"gelu\",\n",
       "  \"attention_dropout\": 0.0,\n",
       "  \"bos_token_id\": 2,\n",
       "  \"classifier_dropout\": 0.0,\n",
       "  \"d_model\": 128,\n",
       "  \"decoder_attention_heads\": 1,\n",
       "  \"decoder_ffn_dim\": 128,\n",
       "  \"decoder_layerdrop\": 0.0,\n",
       "  \"decoder_layers\": 1,\n",
       "  \"decoder_start_token_id\": 2,\n",
       "  \"dropout\": 0.1,\n",
       "  \"encoder_attention_heads\": 1,\n",
       "  \"encoder_ffn_dim\": 128,\n",
       "  \"encoder_layerdrop\": 0.0,\n",
       "  \"encoder_layers\": 1,\n",
       "  \"eos_token_id\": 3,\n",
       "  \"forced_eos_token_id\": 3,\n",
       "  \"id2label\": {\n",
       "    \"0\": \"LABEL_0\",\n",
       "    \"1\": \"LABEL_1\",\n",
       "    \"2\": \"LABEL_2\"\n",
       "  },\n",
       "  \"init_std\": 0.02,\n",
       "  \"is_encoder_decoder\": true,\n",
       "  \"label2id\": {\n",
       "    \"LABEL_0\": 0,\n",
       "    \"LABEL_1\": 1,\n",
       "    \"LABEL_2\": 2\n",
       "  },\n",
       "  \"max_position_embeddings\": 1024,\n",
       "  \"model_type\": \"bart\",\n",
       "  \"num_hidden_layers\": 1,\n",
       "  \"pad_token_id\": 1,\n",
       "  \"scale_embedding\": false,\n",
       "  \"transformers_version\": \"4.31.0\",\n",
       "  \"use_cache\": true,\n",
       "  \"vocab_size\": 2011\n",
       "}"
      ]
     },
     "execution_count": 26,
     "metadata": {},
     "output_type": "execute_result"
    }
   ],
   "source": [
    "config = BartConfig(\n",
    "    vocab_size=len(tokenizer),  \n",
    "    d_model=128,       \n",
    "    encoder_layers=1, \n",
    "    decoder_layers=1,  \n",
    "    encoder_attention_heads=1,  \n",
    "    decoder_attention_heads=1,  \n",
    "    encoder_ffn_dim=128,  \n",
    "    decoder_ffn_dim=128,  \n",
    "    pad_token_id=tokenizer.pad_token_id, \n",
    "    bos_token_id=tokenizer.cls_token_id,\n",
    "    decoder_start_token_id=tokenizer.cls_token_id,\n",
    "    eos_token_id=tokenizer.sep_token_id,\n",
    "    forced_eos_token_id=tokenizer.sep_token_id\n",
    ")\n",
    "config"
   ]
  },
  {
   "cell_type": "code",
   "execution_count": 27,
   "id": "0f05098a-cb27-49e2-9c9d-699151dd725a",
   "metadata": {},
   "outputs": [
    {
     "name": "stdout",
     "output_type": "stream",
     "text": [
      "Number of parameters:  786048\n"
     ]
    }
   ],
   "source": [
    "model = BartForConditionalGeneration(config=config)\n",
    "# model = BartForConditionalGeneration.from_pretrained('models/pos_transformer/checkpoint-12630')\n",
    "print('Number of parameters: ', sum(p.numel() for p in model.parameters()))"
   ]
  },
  {
   "cell_type": "code",
   "execution_count": 28,
   "id": "59da8ddf-d879-4594-8d87-7ba1a3575669",
   "metadata": {},
   "outputs": [],
   "source": [
    "data_collator = DataCollatorForSeq2Seq(tokenizer=tokenizer, model=model)"
   ]
  },
  {
   "cell_type": "code",
   "execution_count": 29,
   "id": "44f030e5-16af-4ed3-98ba-d1da74764a0c",
   "metadata": {},
   "outputs": [
    {
     "name": "stderr",
     "output_type": "stream",
     "text": [
      "WARNING:root:XRT configuration not detected. Defaulting to preview PJRT runtime. To silence this warning and continue using PJRT, explicitly set PJRT_DEVICE to a supported device or configure XRT. To disable default device selection, set PJRT_SELECT_DEFAULT_DEVICE=0\n",
      "WARNING:root:For more information about the status of PJRT, see https://github.com/pytorch/xla/blob/master/docs/pjrt.md\n",
      "WARNING:root:Defaulting to PJRT_DEVICE=CPU\n"
     ]
    }
   ],
   "source": [
    "args = Seq2SeqTrainingArguments(\n",
    "    evaluation_strategy=\"epoch\",\n",
    "    save_strategy=\"epoch\",\n",
    "    learning_rate=1.2e-3,\n",
    "    per_device_train_batch_size=1024,\n",
    "    per_device_eval_batch_size=1024,\n",
    "    weight_decay=0.01,\n",
    "    num_train_epochs=50,\n",
    "    predict_with_generate=True,\n",
    "    output_dir='./models/pos_transformer',\n",
    "    save_safetensors=True, \n",
    "    save_total_limit=3,\n",
    "    logging_steps=3\n",
    ")"
   ]
  },
  {
   "cell_type": "code",
   "execution_count": 31,
   "id": "83824c49-2ba6-4e8b-9e32-ad898f58798c",
   "metadata": {},
   "outputs": [],
   "source": [
    "model.to('xla')\n",
    "model.model.decoder.embed_tokens = model.model.shared\n",
    "model.model.encoder.embed_tokens = model.model.shared\n"
   ]
  },
  {
   "cell_type": "code",
   "execution_count": 32,
   "id": "c09ec0b5-d73a-441a-a937-1c9782d3a3f1",
   "metadata": {},
   "outputs": [],
   "source": [
    "trainer = Seq2SeqTrainer(\n",
    "    model=model,\n",
    "    args=args,\n",
    "    train_dataset=tokenized_datasets[\"train\"],\n",
    "    eval_dataset=tokenized_datasets[\"validation\"],\n",
    "    data_collator=data_collator,\n",
    "    compute_metrics=compute_metrics,\n",
    "    tokenizer=tokenizer,\n",
    ")"
   ]
  },
  {
   "cell_type": "code",
   "execution_count": null,
   "id": "0f379826-8625-4351-bc61-5b2b8d534564",
   "metadata": {},
   "outputs": [
    {
     "name": "stderr",
     "output_type": "stream",
     "text": [
      "/opt/conda/lib/python3.10/site-packages/transformers/optimization.py:411: FutureWarning: This implementation of AdamW is deprecated and will be removed in a future version. Use the PyTorch implementation torch.optim.AdamW instead, or set `no_deprecation_warning=True` to disable this warning\n",
      "  warnings.warn(\n",
      "You're using a BertTokenizerFast tokenizer. Please note that with a fast tokenizer, using the `__call__` method is faster than using a method to encode the text followed by a call to the `pad` method to get a padded encoding.\n"
     ]
    },
    {
     "data": {
      "text/html": [
       "\n",
       "    <div>\n",
       "      \n",
       "      <progress value='726' max='40550' style='width:300px; height:20px; vertical-align: middle;'></progress>\n",
       "      [  726/40550 15:15 < 13:59:30, 0.79 it/s, Epoch 0.89/50]\n",
       "    </div>\n",
       "    <table border=\"1\" class=\"dataframe\">\n",
       "  <thead>\n",
       " <tr style=\"text-align: left;\">\n",
       "      <th>Epoch</th>\n",
       "      <th>Training Loss</th>\n",
       "      <th>Validation Loss</th>\n",
       "    </tr>\n",
       "  </thead>\n",
       "  <tbody>\n",
       "  </tbody>\n",
       "</table><p>"
      ],
      "text/plain": [
       "<IPython.core.display.HTML object>"
      ]
     },
     "metadata": {},
     "output_type": "display_data"
    }
   ],
   "source": [
    "trainer.train()"
   ]
  },
  {
   "cell_type": "markdown",
   "id": "b0788552-a085-4023-bdad-4e7bd894edb0",
   "metadata": {},
   "source": [
    "# Evaluation"
   ]
  },
  {
   "cell_type": "code",
   "execution_count": 24,
   "id": "232f2788-a45c-4457-9f70-0cfc7f1d23ba",
   "metadata": {},
   "outputs": [
    {
     "data": {
      "text/html": [
       "\n",
       "    <div>\n",
       "      \n",
       "      <progress value='247' max='401' style='width:300px; height:20px; vertical-align: middle;'></progress>\n",
       "      [247/401 29:56 < 18:44, 0.14 it/s]\n",
       "    </div>\n",
       "    "
      ],
      "text/plain": [
       "<IPython.core.display.HTML object>"
      ]
     },
     "metadata": {},
     "output_type": "display_data"
    },
    {
     "name": "stderr",
     "output_type": "stream",
     "text": [
      "\n",
      "KeyboardInterrupt\n",
      "\n"
     ]
    }
   ],
   "source": [
    "trainer.predict(tokenized_datasets[\"test\"])"
   ]
  },
  {
   "cell_type": "code",
   "execution_count": 30,
   "id": "7649c05a-c1c3-42f6-9ca9-85ec9bb799be",
   "metadata": {},
   "outputs": [
    {
     "data": {
      "text/plain": [
       "['<START> გურულებმა <POS> N <END>',\n",
       " '<START> აღსაშფოთებელია <POS> A <END>',\n",
       " '<START> ქონდრისკაციც <POS> N <END>',\n",
       " '<START> ამომასუნთქე <POS> V <END>',\n",
       " '<START> გეცინებათ <POS> V <END>',\n",
       " '<START> ლოცვებშიც <POS> N <END>',\n",
       " '<START> უბრალოისა <POS> A <END>',\n",
       " '<START> ხვანჯი <POS> N <END>',\n",
       " '<START> ყოველისფერისა <POS> A <END>',\n",
       " '<START> მოსკოვთანო <POS> N <END>',\n",
       " '<START> უცხადესს <POS> A <END>',\n",
       " '<START> ვმუსაიფობთ <POS> V <END>',\n",
       " '<START> მოხნავდი <POS> V <END>',\n",
       " '<START> ტარანტულივით <POS> N <END>',\n",
       " '<START> ასიმილირებისათვის <POS> N <END>',\n",
       " '<START> შარვლიანისთვის <POS> A <END>',\n",
       " '<START> მოსთხოვა <POS> V <END>',\n",
       " '<START> სიტის <POS> N <END>',\n",
       " '<START> ამიერკავკასიელთა <POS> N <END>',\n",
       " '<START> აგიძგერდება <POS> V <END>',\n",
       " '<START> ენებზე <POS> N <END>',\n",
       " '<START> ფოსოების <POS> N <END>',\n",
       " '<START> მოსტოვოისთვის <POS> N <END>',\n",
       " '<START> ხევსურებსა <POS> N <END>',\n",
       " '<START> დაებეზღებინათ <POS> V <END>',\n",
       " '<START> კურსორისთვის <POS> N <END>',\n",
       " '<START> ეადვილებოდა <POS> V <END>',\n",
       " '<START> მილოცვებზე <POS> N <END>',\n",
       " '<START> საკინძეზე <POS> N <END>',\n",
       " '<START> ოთხიანებიც <POS> N <END>',\n",
       " '<START> ნაყოფის <POS> N <END>',\n",
       " '<START> გინაზღაურდებათ <POS> V <END>',\n",
       " '<START> ემხვარიო <POS> N <END>',\n",
       " '<START> გაბრმავებთ <POS> V <END>',\n",
       " '<START> დედოფალო <POS> N <END>',\n",
       " '<START> ნინოზეა <POS> N <END>',\n",
       " '<START> მაზერელი <POS> A <END>',\n",
       " '<START> მოექეცით <POS> V <END>',\n",
       " '<START> დაგთანხმდებოდით <POS> V <END>',\n",
       " '<START> არსებითიც <POS> A <END>',\n",
       " '<START> მტაცებელ <POS> A <END>',\n",
       " '<START> ქვრივმაც <POS> N <END>',\n",
       " '<START> პრემიერ-მინისტრ <POS> N <END>',\n",
       " '<START> სამძივარი <POS> N <END>',\n",
       " '<START> დაეკომპლექტებინათ <POS> V <END>',\n",
       " '<START> გიმართა <POS> V <END>',\n",
       " '<START> დორად <POS> N <END>',\n",
       " '<START> სიწმინდეებისაკენ <POS> N <END>',\n",
       " '<START> სანახაობისგან <POS> N <END>',\n",
       " '<START> ფარისეველო <POS> N <END>',\n",
       " '<START> ადგილსაა <POS> N <END>',\n",
       " '<START> კანონსაო <POS> N <END>',\n",
       " '<START> გაათხოვებს <POS> V <END>',\n",
       " '<START> მიუწვდომელთან <POS> A <END>',\n",
       " '<START> არგენტინაა <POS> N <END>',\n",
       " '<START> ბურთიღა <POS> N <END>',\n",
       " '<START> მტკიცებებიდან <POS> N <END>',\n",
       " '<START> გზოვანის <POS> N <END>',\n",
       " '<START> ინვესტიციით <POS> N <END>',\n",
       " '<START> მამაცობად <POS> N <END>',\n",
       " '<START> გადაარჩენინა <POS> V <END>',\n",
       " '<START> გარდახდილი <POS> A <END>',\n",
       " '<START> ჯაგაშვილები <POS> N <END>',\n",
       " '<START> შემომწირეთ <POS> V <END>',\n",
       " '<START> ჩავსწვდებით <POS> V <END>',\n",
       " '<START> ქალოშვილს <POS> N <END>',\n",
       " '<START> ვერასდროსა <POS> Adv <END>',\n",
       " '<START> სამართალდამცავებისა <POS> A <END>',\n",
       " '<START> ლიბანს <POS> N <END>',\n",
       " '<START> უმწვერვალესი <POS> A <END>',\n",
       " '<START> შპიცრუტენი <POS> N <END>',\n",
       " '<START> კიდითკიდე <POS> Adv <END>',\n",
       " '<START> მონანულში <POS> N <END>',\n",
       " '<START> მიმოქცევამ <POS> N <END>',\n",
       " '<START> გითხარით <POS> V <END>',\n",
       " '<START> მოვბერდით <POS> V <END>',\n",
       " '<START> გელასნაირი <POS> A <END>',\n",
       " '<START> ფურცელზე <POS> N <END>',\n",
       " '<START> გაუმჟღავნებლად <POS> A <END>',\n",
       " '<START> ცოტნესა <POS> N <END>',\n",
       " '<START> არღუთინსკიმო <POS> N <END>',\n",
       " '<START> ცხვირპირში <POS> N <END>',\n",
       " '<START> გრიგოლეთშია <POS> N <END>',\n",
       " '<START> მახსოვსო <POS> V <END>',\n",
       " '<START> ზემოთკენ <POS> A <END>',\n",
       " '<START> დაჩლუნგებული <POS> A <END>',\n",
       " '<START> ცანგალამ <POS> N <END>',\n",
       " '<START> ამოატივტივეთო <POS> V <END>',\n",
       " '<START> აგვივლისო <POS> V <END>',\n",
       " '<START> ნაბიჯებმაც <POS> N <END>',\n",
       " '<START> დაყრუებულს <POS> A <END>',\n",
       " '<START> კონკისძველა <POS> N <END>',\n",
       " '<START> ღიმს <POS> N <END>',\n",
       " '<START> დაიშურო <POS> V <END>',\n",
       " '<START> ცრუმორწმუნეობით <POS> N <END>',\n",
       " '<START> მიიხედეთო <POS> V <END>',\n",
       " '<START> მილიარდთაგან <POS> N <END>',\n",
       " '<START> ბიჭიცა <POS> N <END>',\n",
       " '<START> წარმომიშვია <POS> V <END>',\n",
       " '<START> მასეთ <POS> N <END>']"
      ]
     },
     "execution_count": 30,
     "metadata": {},
     "output_type": "execute_result"
    }
   ],
   "source": [
    "tokenizer.batch_decode(tokenized_datasets[\"train\"][0:100]['input_ids'])"
   ]
  },
  {
   "cell_type": "code",
   "execution_count": 34,
   "id": "4c77ba69-8fe1-48ce-96eb-029a02ef0743",
   "metadata": {},
   "outputs": [],
   "source": [
    "from transformers import Text2TextGenerationPipeline\n",
    "recognizer = Text2TextGenerationPipeline(model=model.to('cpu'), tokenizer=tokenizer)"
   ]
  },
  {
   "cell_type": "code",
   "execution_count": 36,
   "id": "909875b3-0bf3-4a57-a80c-de238d2bc318",
   "metadata": {},
   "outputs": [
    {
     "data": {
      "text/plain": [
       "'ამოასუნთქე'"
      ]
     },
     "execution_count": 36,
     "metadata": {},
     "output_type": "execute_result"
    }
   ],
   "source": [
    "tokenizer.batch_decode(model.generate(torch.tensor(tokenizer('ამოასუნთქე', text_pair='V').input_ids).unsqueeze(0)))[0].split()[2]"
   ]
  },
  {
   "cell_type": "code",
   "execution_count": 98,
   "id": "c3b10a3d-82d2-4b93-8441-cd8606fb6236",
   "metadata": {},
   "outputs": [
    {
     "data": {
      "text/plain": [
       "['<START>', 'ყყენებაებაბა', 'A', 'V']"
      ]
     },
     "execution_count": 98,
     "metadata": {},
     "output_type": "execute_result"
    }
   ],
   "source": [
    "tokenizer.batch_decode(model(torch.tensor(tokenizer('ვიყენებთ', text_pair='N').input_ids).unsqueeze(0))[0].argmax(-1))[0].split()"
   ]
  },
  {
   "cell_type": "code",
   "execution_count": 70,
   "id": "cfc428ad-a441-45dc-b454-b6022a78abba",
   "metadata": {},
   "outputs": [],
   "source": [
    "train_df = pd.read_csv(os.path.join('csv','train.csv'))\n",
    "incomplete_df = train_df[train_df.lemma.str.startswith('*')]"
   ]
  },
  {
   "cell_type": "code",
   "execution_count": 71,
   "id": "9f521abe-6188-4698-a0c4-0e340eee8299",
   "metadata": {},
   "outputs": [
    {
     "data": {
      "text/html": [
       "<div>\n",
       "<style scoped>\n",
       "    .dataframe tbody tr th:only-of-type {\n",
       "        vertical-align: middle;\n",
       "    }\n",
       "\n",
       "    .dataframe tbody tr th {\n",
       "        vertical-align: top;\n",
       "    }\n",
       "\n",
       "    .dataframe thead th {\n",
       "        text-align: right;\n",
       "    }\n",
       "</style>\n",
       "<table border=\"1\" class=\"dataframe\">\n",
       "  <thead>\n",
       "    <tr style=\"text-align: right;\">\n",
       "      <th></th>\n",
       "      <th>Unnamed: 0</th>\n",
       "      <th>word</th>\n",
       "      <th>lemma</th>\n",
       "      <th>pos_tag</th>\n",
       "      <th>freq</th>\n",
       "      <th>word_length</th>\n",
       "      <th>lemma_length</th>\n",
       "      <th>ratio</th>\n",
       "      <th>lemma_length_category</th>\n",
       "      <th>word_length_category</th>\n",
       "      <th>ratio_category</th>\n",
       "      <th>reported_speech</th>\n",
       "      <th>freq_category</th>\n",
       "    </tr>\n",
       "  </thead>\n",
       "  <tbody>\n",
       "    <tr>\n",
       "      <th>13</th>\n",
       "      <td>932306</td>\n",
       "      <td>სდეს</td>\n",
       "      <td>*დება</td>\n",
       "      <td>V</td>\n",
       "      <td>1</td>\n",
       "      <td>4</td>\n",
       "      <td>5</td>\n",
       "      <td>0.800000</td>\n",
       "      <td>low</td>\n",
       "      <td>low</td>\n",
       "      <td>less</td>\n",
       "      <td>False</td>\n",
       "      <td>low</td>\n",
       "    </tr>\n",
       "    <tr>\n",
       "      <th>61</th>\n",
       "      <td>382597</td>\n",
       "      <td>ვაკურთხევთ</td>\n",
       "      <td>*კურთხევა</td>\n",
       "      <td>V</td>\n",
       "      <td>7</td>\n",
       "      <td>10</td>\n",
       "      <td>9</td>\n",
       "      <td>1.111111</td>\n",
       "      <td>medium</td>\n",
       "      <td>medium</td>\n",
       "      <td>greater</td>\n",
       "      <td>False</td>\n",
       "      <td>medium</td>\n",
       "    </tr>\n",
       "    <tr>\n",
       "      <th>73</th>\n",
       "      <td>103890</td>\n",
       "      <td>სწურავდა</td>\n",
       "      <td>*წურვა</td>\n",
       "      <td>V</td>\n",
       "      <td>9</td>\n",
       "      <td>8</td>\n",
       "      <td>6</td>\n",
       "      <td>1.333333</td>\n",
       "      <td>low</td>\n",
       "      <td>low</td>\n",
       "      <td>greater</td>\n",
       "      <td>False</td>\n",
       "      <td>medium</td>\n",
       "    </tr>\n",
       "    <tr>\n",
       "      <th>77</th>\n",
       "      <td>405866</td>\n",
       "      <td>გაბნევთ</td>\n",
       "      <td>*ბნევა</td>\n",
       "      <td>V</td>\n",
       "      <td>7</td>\n",
       "      <td>7</td>\n",
       "      <td>6</td>\n",
       "      <td>1.166667</td>\n",
       "      <td>low</td>\n",
       "      <td>low</td>\n",
       "      <td>greater</td>\n",
       "      <td>False</td>\n",
       "      <td>medium</td>\n",
       "    </tr>\n",
       "    <tr>\n",
       "      <th>81</th>\n",
       "      <td>1159757</td>\n",
       "      <td>მიგზავნიდაო</td>\n",
       "      <td>*გზავნა</td>\n",
       "      <td>V</td>\n",
       "      <td>1</td>\n",
       "      <td>11</td>\n",
       "      <td>7</td>\n",
       "      <td>1.571429</td>\n",
       "      <td>low</td>\n",
       "      <td>medium</td>\n",
       "      <td>greater</td>\n",
       "      <td>True</td>\n",
       "      <td>low</td>\n",
       "    </tr>\n",
       "    <tr>\n",
       "      <th>98</th>\n",
       "      <td>901995</td>\n",
       "      <td>აქებსო</td>\n",
       "      <td>*ქება</td>\n",
       "      <td>V</td>\n",
       "      <td>5</td>\n",
       "      <td>6</td>\n",
       "      <td>5</td>\n",
       "      <td>1.200000</td>\n",
       "      <td>low</td>\n",
       "      <td>low</td>\n",
       "      <td>greater</td>\n",
       "      <td>True</td>\n",
       "      <td>medium</td>\n",
       "    </tr>\n",
       "    <tr>\n",
       "      <th>99</th>\n",
       "      <td>433274</td>\n",
       "      <td>გვეპყრობიან</td>\n",
       "      <td>*პყრობა</td>\n",
       "      <td>V</td>\n",
       "      <td>28</td>\n",
       "      <td>11</td>\n",
       "      <td>7</td>\n",
       "      <td>1.571429</td>\n",
       "      <td>low</td>\n",
       "      <td>medium</td>\n",
       "      <td>greater</td>\n",
       "      <td>False</td>\n",
       "      <td>medium</td>\n",
       "    </tr>\n",
       "    <tr>\n",
       "      <th>101</th>\n",
       "      <td>471321</td>\n",
       "      <td>მახურებს</td>\n",
       "      <td>*ხურება</td>\n",
       "      <td>V</td>\n",
       "      <td>2</td>\n",
       "      <td>8</td>\n",
       "      <td>7</td>\n",
       "      <td>1.142857</td>\n",
       "      <td>low</td>\n",
       "      <td>low</td>\n",
       "      <td>greater</td>\n",
       "      <td>False</td>\n",
       "      <td>low</td>\n",
       "    </tr>\n",
       "    <tr>\n",
       "      <th>103</th>\n",
       "      <td>581105</td>\n",
       "      <td>წყვეტ-მეთქი</td>\n",
       "      <td>*წყვეტა</td>\n",
       "      <td>V</td>\n",
       "      <td>1</td>\n",
       "      <td>11</td>\n",
       "      <td>7</td>\n",
       "      <td>1.571429</td>\n",
       "      <td>low</td>\n",
       "      <td>medium</td>\n",
       "      <td>greater</td>\n",
       "      <td>True</td>\n",
       "      <td>low</td>\n",
       "    </tr>\n",
       "    <tr>\n",
       "      <th>121</th>\n",
       "      <td>203372</td>\n",
       "      <td>გვცემს</td>\n",
       "      <td>*ცემა</td>\n",
       "      <td>V</td>\n",
       "      <td>88</td>\n",
       "      <td>6</td>\n",
       "      <td>5</td>\n",
       "      <td>1.200000</td>\n",
       "      <td>low</td>\n",
       "      <td>low</td>\n",
       "      <td>greater</td>\n",
       "      <td>False</td>\n",
       "      <td>high</td>\n",
       "    </tr>\n",
       "    <tr>\n",
       "      <th>161</th>\n",
       "      <td>171318</td>\n",
       "      <td>გიმრავლებ</td>\n",
       "      <td>*მრავლება</td>\n",
       "      <td>V</td>\n",
       "      <td>2</td>\n",
       "      <td>9</td>\n",
       "      <td>9</td>\n",
       "      <td>1.000000</td>\n",
       "      <td>medium</td>\n",
       "      <td>low</td>\n",
       "      <td>equal</td>\n",
       "      <td>False</td>\n",
       "      <td>low</td>\n",
       "    </tr>\n",
       "    <tr>\n",
       "      <th>190</th>\n",
       "      <td>465984</td>\n",
       "      <td>ვშოლტავთ</td>\n",
       "      <td>*შოლტვა</td>\n",
       "      <td>V</td>\n",
       "      <td>1</td>\n",
       "      <td>8</td>\n",
       "      <td>7</td>\n",
       "      <td>1.142857</td>\n",
       "      <td>low</td>\n",
       "      <td>low</td>\n",
       "      <td>greater</td>\n",
       "      <td>False</td>\n",
       "      <td>low</td>\n",
       "    </tr>\n",
       "    <tr>\n",
       "      <th>217</th>\n",
       "      <td>1025276</td>\n",
       "      <td>გვაძინებდეს</td>\n",
       "      <td>*ძინება</td>\n",
       "      <td>V</td>\n",
       "      <td>1</td>\n",
       "      <td>11</td>\n",
       "      <td>7</td>\n",
       "      <td>1.571429</td>\n",
       "      <td>low</td>\n",
       "      <td>medium</td>\n",
       "      <td>greater</td>\n",
       "      <td>False</td>\n",
       "      <td>low</td>\n",
       "    </tr>\n",
       "    <tr>\n",
       "      <th>245</th>\n",
       "      <td>1044353</td>\n",
       "      <td>ვისრულებთ</td>\n",
       "      <td>*სრულება</td>\n",
       "      <td>V</td>\n",
       "      <td>2</td>\n",
       "      <td>9</td>\n",
       "      <td>8</td>\n",
       "      <td>1.125000</td>\n",
       "      <td>medium</td>\n",
       "      <td>low</td>\n",
       "      <td>greater</td>\n",
       "      <td>False</td>\n",
       "      <td>low</td>\n",
       "    </tr>\n",
       "    <tr>\n",
       "      <th>270</th>\n",
       "      <td>46413</td>\n",
       "      <td>უთვლიდნენ</td>\n",
       "      <td>*თვლა</td>\n",
       "      <td>V</td>\n",
       "      <td>68</td>\n",
       "      <td>9</td>\n",
       "      <td>5</td>\n",
       "      <td>1.800000</td>\n",
       "      <td>low</td>\n",
       "      <td>low</td>\n",
       "      <td>greater</td>\n",
       "      <td>False</td>\n",
       "      <td>high</td>\n",
       "    </tr>\n",
       "    <tr>\n",
       "      <th>288</th>\n",
       "      <td>359933</td>\n",
       "      <td>სტანჯონ</td>\n",
       "      <td>*ტანჯვა</td>\n",
       "      <td>V</td>\n",
       "      <td>3</td>\n",
       "      <td>7</td>\n",
       "      <td>7</td>\n",
       "      <td>1.000000</td>\n",
       "      <td>low</td>\n",
       "      <td>low</td>\n",
       "      <td>equal</td>\n",
       "      <td>False</td>\n",
       "      <td>medium</td>\n",
       "    </tr>\n",
       "    <tr>\n",
       "      <th>294</th>\n",
       "      <td>633236</td>\n",
       "      <td>ვკადრებთ</td>\n",
       "      <td>*კადრება</td>\n",
       "      <td>V</td>\n",
       "      <td>5</td>\n",
       "      <td>8</td>\n",
       "      <td>8</td>\n",
       "      <td>1.000000</td>\n",
       "      <td>medium</td>\n",
       "      <td>low</td>\n",
       "      <td>equal</td>\n",
       "      <td>False</td>\n",
       "      <td>medium</td>\n",
       "    </tr>\n",
       "    <tr>\n",
       "      <th>302</th>\n",
       "      <td>384574</td>\n",
       "      <td>ვთბებოდითო</td>\n",
       "      <td>*თბობა</td>\n",
       "      <td>V</td>\n",
       "      <td>1</td>\n",
       "      <td>10</td>\n",
       "      <td>6</td>\n",
       "      <td>1.666667</td>\n",
       "      <td>low</td>\n",
       "      <td>medium</td>\n",
       "      <td>greater</td>\n",
       "      <td>True</td>\n",
       "      <td>low</td>\n",
       "    </tr>\n",
       "    <tr>\n",
       "      <th>343</th>\n",
       "      <td>117116</td>\n",
       "      <td>იზიდავს</td>\n",
       "      <td>*ზიდვა</td>\n",
       "      <td>V</td>\n",
       "      <td>1043</td>\n",
       "      <td>7</td>\n",
       "      <td>6</td>\n",
       "      <td>1.166667</td>\n",
       "      <td>low</td>\n",
       "      <td>low</td>\n",
       "      <td>greater</td>\n",
       "      <td>False</td>\n",
       "      <td>high</td>\n",
       "    </tr>\n",
       "    <tr>\n",
       "      <th>384</th>\n",
       "      <td>34023</td>\n",
       "      <td>გვართმევენ</td>\n",
       "      <td>*რთმევა</td>\n",
       "      <td>V</td>\n",
       "      <td>212</td>\n",
       "      <td>10</td>\n",
       "      <td>7</td>\n",
       "      <td>1.428571</td>\n",
       "      <td>low</td>\n",
       "      <td>medium</td>\n",
       "      <td>greater</td>\n",
       "      <td>False</td>\n",
       "      <td>high</td>\n",
       "    </tr>\n",
       "    <tr>\n",
       "      <th>568</th>\n",
       "      <td>450696</td>\n",
       "      <td>ვიქცევდით</td>\n",
       "      <td>*ქცევა</td>\n",
       "      <td>V</td>\n",
       "      <td>11</td>\n",
       "      <td>9</td>\n",
       "      <td>6</td>\n",
       "      <td>1.500000</td>\n",
       "      <td>low</td>\n",
       "      <td>low</td>\n",
       "      <td>greater</td>\n",
       "      <td>False</td>\n",
       "      <td>medium</td>\n",
       "    </tr>\n",
       "    <tr>\n",
       "      <th>571</th>\n",
       "      <td>593501</td>\n",
       "      <td>გწყვეტ</td>\n",
       "      <td>*წყვეტა</td>\n",
       "      <td>V</td>\n",
       "      <td>1</td>\n",
       "      <td>6</td>\n",
       "      <td>7</td>\n",
       "      <td>0.857143</td>\n",
       "      <td>low</td>\n",
       "      <td>low</td>\n",
       "      <td>less</td>\n",
       "      <td>False</td>\n",
       "      <td>low</td>\n",
       "    </tr>\n",
       "    <tr>\n",
       "      <th>603</th>\n",
       "      <td>516957</td>\n",
       "      <td>იხოცდა</td>\n",
       "      <td>*ხოცვა</td>\n",
       "      <td>V</td>\n",
       "      <td>1</td>\n",
       "      <td>6</td>\n",
       "      <td>6</td>\n",
       "      <td>1.000000</td>\n",
       "      <td>low</td>\n",
       "      <td>low</td>\n",
       "      <td>equal</td>\n",
       "      <td>False</td>\n",
       "      <td>low</td>\n",
       "    </tr>\n",
       "    <tr>\n",
       "      <th>686</th>\n",
       "      <td>78329</td>\n",
       "      <td>არიდებენ</td>\n",
       "      <td>*რიდება</td>\n",
       "      <td>V</td>\n",
       "      <td>566</td>\n",
       "      <td>8</td>\n",
       "      <td>7</td>\n",
       "      <td>1.142857</td>\n",
       "      <td>low</td>\n",
       "      <td>low</td>\n",
       "      <td>greater</td>\n",
       "      <td>False</td>\n",
       "      <td>high</td>\n",
       "    </tr>\n",
       "    <tr>\n",
       "      <th>692</th>\n",
       "      <td>979432</td>\n",
       "      <td>ვგეშავთ</td>\n",
       "      <td>*გეშვა</td>\n",
       "      <td>V</td>\n",
       "      <td>1</td>\n",
       "      <td>7</td>\n",
       "      <td>6</td>\n",
       "      <td>1.166667</td>\n",
       "      <td>low</td>\n",
       "      <td>low</td>\n",
       "      <td>greater</td>\n",
       "      <td>False</td>\n",
       "      <td>low</td>\n",
       "    </tr>\n",
       "    <tr>\n",
       "      <th>719</th>\n",
       "      <td>774843</td>\n",
       "      <td>აწესებსო</td>\n",
       "      <td>*წესება</td>\n",
       "      <td>V</td>\n",
       "      <td>2</td>\n",
       "      <td>8</td>\n",
       "      <td>7</td>\n",
       "      <td>1.142857</td>\n",
       "      <td>low</td>\n",
       "      <td>low</td>\n",
       "      <td>greater</td>\n",
       "      <td>True</td>\n",
       "      <td>low</td>\n",
       "    </tr>\n",
       "    <tr>\n",
       "      <th>746</th>\n",
       "      <td>148671</td>\n",
       "      <td>ვყნოსავ</td>\n",
       "      <td>*ყნოსვა</td>\n",
       "      <td>V</td>\n",
       "      <td>19</td>\n",
       "      <td>7</td>\n",
       "      <td>7</td>\n",
       "      <td>1.000000</td>\n",
       "      <td>low</td>\n",
       "      <td>low</td>\n",
       "      <td>equal</td>\n",
       "      <td>False</td>\n",
       "      <td>medium</td>\n",
       "    </tr>\n",
       "    <tr>\n",
       "      <th>798</th>\n",
       "      <td>1199411</td>\n",
       "      <td>არკვია</td>\n",
       "      <td>*რკვევა</td>\n",
       "      <td>V</td>\n",
       "      <td>1</td>\n",
       "      <td>6</td>\n",
       "      <td>7</td>\n",
       "      <td>0.857143</td>\n",
       "      <td>low</td>\n",
       "      <td>low</td>\n",
       "      <td>less</td>\n",
       "      <td>False</td>\n",
       "      <td>low</td>\n",
       "    </tr>\n",
       "    <tr>\n",
       "      <th>827</th>\n",
       "      <td>507350</td>\n",
       "      <td>გიყიდიო</td>\n",
       "      <td>*ყიდვა</td>\n",
       "      <td>V</td>\n",
       "      <td>18</td>\n",
       "      <td>7</td>\n",
       "      <td>6</td>\n",
       "      <td>1.166667</td>\n",
       "      <td>low</td>\n",
       "      <td>low</td>\n",
       "      <td>greater</td>\n",
       "      <td>True</td>\n",
       "      <td>medium</td>\n",
       "    </tr>\n",
       "    <tr>\n",
       "      <th>829</th>\n",
       "      <td>803429</td>\n",
       "      <td>ვერიდებოდეთ</td>\n",
       "      <td>*რიდება</td>\n",
       "      <td>V</td>\n",
       "      <td>4</td>\n",
       "      <td>11</td>\n",
       "      <td>7</td>\n",
       "      <td>1.571429</td>\n",
       "      <td>low</td>\n",
       "      <td>medium</td>\n",
       "      <td>greater</td>\n",
       "      <td>False</td>\n",
       "      <td>medium</td>\n",
       "    </tr>\n",
       "  </tbody>\n",
       "</table>\n",
       "</div>"
      ],
      "text/plain": [
       "     Unnamed: 0         word      lemma pos_tag  freq  word_length  \\\n",
       "13       932306         სდეს      *დება       V     1            4   \n",
       "61       382597   ვაკურთხევთ  *კურთხევა       V     7           10   \n",
       "73       103890     სწურავდა     *წურვა       V     9            8   \n",
       "77       405866      გაბნევთ     *ბნევა       V     7            7   \n",
       "81      1159757  მიგზავნიდაო    *გზავნა       V     1           11   \n",
       "98       901995       აქებსო      *ქება       V     5            6   \n",
       "99       433274  გვეპყრობიან    *პყრობა       V    28           11   \n",
       "101      471321     მახურებს    *ხურება       V     2            8   \n",
       "103      581105  წყვეტ-მეთქი    *წყვეტა       V     1           11   \n",
       "121      203372       გვცემს      *ცემა       V    88            6   \n",
       "161      171318    გიმრავლებ  *მრავლება       V     2            9   \n",
       "190      465984     ვშოლტავთ    *შოლტვა       V     1            8   \n",
       "217     1025276  გვაძინებდეს    *ძინება       V     1           11   \n",
       "245     1044353    ვისრულებთ   *სრულება       V     2            9   \n",
       "270       46413    უთვლიდნენ      *თვლა       V    68            9   \n",
       "288      359933      სტანჯონ    *ტანჯვა       V     3            7   \n",
       "294      633236     ვკადრებთ   *კადრება       V     5            8   \n",
       "302      384574   ვთბებოდითო     *თბობა       V     1           10   \n",
       "343      117116      იზიდავს     *ზიდვა       V  1043            7   \n",
       "384       34023   გვართმევენ    *რთმევა       V   212           10   \n",
       "568      450696    ვიქცევდით     *ქცევა       V    11            9   \n",
       "571      593501       გწყვეტ    *წყვეტა       V     1            6   \n",
       "603      516957       იხოცდა     *ხოცვა       V     1            6   \n",
       "686       78329     არიდებენ    *რიდება       V   566            8   \n",
       "692      979432      ვგეშავთ     *გეშვა       V     1            7   \n",
       "719      774843     აწესებსო    *წესება       V     2            8   \n",
       "746      148671      ვყნოსავ    *ყნოსვა       V    19            7   \n",
       "798     1199411       არკვია    *რკვევა       V     1            6   \n",
       "827      507350      გიყიდიო     *ყიდვა       V    18            7   \n",
       "829      803429  ვერიდებოდეთ    *რიდება       V     4           11   \n",
       "\n",
       "     lemma_length     ratio lemma_length_category word_length_category  \\\n",
       "13              5  0.800000                   low                  low   \n",
       "61              9  1.111111                medium               medium   \n",
       "73              6  1.333333                   low                  low   \n",
       "77              6  1.166667                   low                  low   \n",
       "81              7  1.571429                   low               medium   \n",
       "98              5  1.200000                   low                  low   \n",
       "99              7  1.571429                   low               medium   \n",
       "101             7  1.142857                   low                  low   \n",
       "103             7  1.571429                   low               medium   \n",
       "121             5  1.200000                   low                  low   \n",
       "161             9  1.000000                medium                  low   \n",
       "190             7  1.142857                   low                  low   \n",
       "217             7  1.571429                   low               medium   \n",
       "245             8  1.125000                medium                  low   \n",
       "270             5  1.800000                   low                  low   \n",
       "288             7  1.000000                   low                  low   \n",
       "294             8  1.000000                medium                  low   \n",
       "302             6  1.666667                   low               medium   \n",
       "343             6  1.166667                   low                  low   \n",
       "384             7  1.428571                   low               medium   \n",
       "568             6  1.500000                   low                  low   \n",
       "571             7  0.857143                   low                  low   \n",
       "603             6  1.000000                   low                  low   \n",
       "686             7  1.142857                   low                  low   \n",
       "692             6  1.166667                   low                  low   \n",
       "719             7  1.142857                   low                  low   \n",
       "746             7  1.000000                   low                  low   \n",
       "798             7  0.857143                   low                  low   \n",
       "827             6  1.166667                   low                  low   \n",
       "829             7  1.571429                   low               medium   \n",
       "\n",
       "    ratio_category  reported_speech freq_category  \n",
       "13            less            False           low  \n",
       "61         greater            False        medium  \n",
       "73         greater            False        medium  \n",
       "77         greater            False        medium  \n",
       "81         greater             True           low  \n",
       "98         greater             True        medium  \n",
       "99         greater            False        medium  \n",
       "101        greater            False           low  \n",
       "103        greater             True           low  \n",
       "121        greater            False          high  \n",
       "161          equal            False           low  \n",
       "190        greater            False           low  \n",
       "217        greater            False           low  \n",
       "245        greater            False           low  \n",
       "270        greater            False          high  \n",
       "288          equal            False        medium  \n",
       "294          equal            False        medium  \n",
       "302        greater             True           low  \n",
       "343        greater            False          high  \n",
       "384        greater            False          high  \n",
       "568        greater            False        medium  \n",
       "571           less            False           low  \n",
       "603          equal            False           low  \n",
       "686        greater            False          high  \n",
       "692        greater            False           low  \n",
       "719        greater             True           low  \n",
       "746          equal            False        medium  \n",
       "798           less            False           low  \n",
       "827        greater             True        medium  \n",
       "829        greater            False        medium  "
      ]
     },
     "execution_count": 71,
     "metadata": {},
     "output_type": "execute_result"
    }
   ],
   "source": [
    "incomplete_df.head(30)"
   ]
  },
  {
   "cell_type": "code",
   "execution_count": 78,
   "id": "bf49e29f-e867-4aa9-8b89-082bf1746560",
   "metadata": {},
   "outputs": [
    {
     "name": "stderr",
     "output_type": "stream",
     "text": [
      "/var/tmp/ipykernel_1938381/800795970.py:1: SettingWithCopyWarning: \n",
      "A value is trying to be set on a copy of a slice from a DataFrame.\n",
      "Try using .loc[row_indexer,col_indexer] = value instead\n",
      "\n",
      "See the caveats in the documentation: https://pandas.pydata.org/pandas-docs/stable/user_guide/indexing.html#returning-a-view-versus-a-copy\n",
      "  incomplete_df['new_lemma'] = incomplete_df.apply(lambda row: tokenizer.batch_decode(model.generate(torch.tensor(tokenizer(row.word, text_pair='V').input_ids).unsqueeze(0)))[0].split()[2], axis=1)\n"
     ]
    }
   ],
   "source": [
    "# incomplete_df['new_lemma'] = incomplete_df.apply(lambda row: tokenizer.batch_decode(model.generate(torch.tensor(tokenizer(row.word, text_pair='V').input_ids).unsqueeze(0)))[0].split()[2], axis=1)"
   ]
  },
  {
   "cell_type": "code",
   "execution_count": 81,
   "id": "47393380-84a9-45e1-9f17-4abff47f4584",
   "metadata": {},
   "outputs": [
    {
     "data": {
      "text/html": [
       "<div>\n",
       "<style scoped>\n",
       "    .dataframe tbody tr th:only-of-type {\n",
       "        vertical-align: middle;\n",
       "    }\n",
       "\n",
       "    .dataframe tbody tr th {\n",
       "        vertical-align: top;\n",
       "    }\n",
       "\n",
       "    .dataframe thead th {\n",
       "        text-align: right;\n",
       "    }\n",
       "</style>\n",
       "<table border=\"1\" class=\"dataframe\">\n",
       "  <thead>\n",
       "    <tr style=\"text-align: right;\">\n",
       "      <th></th>\n",
       "      <th>Unnamed: 0</th>\n",
       "      <th>word</th>\n",
       "      <th>lemma</th>\n",
       "      <th>pos_tag</th>\n",
       "      <th>freq</th>\n",
       "      <th>word_length</th>\n",
       "      <th>lemma_length</th>\n",
       "      <th>ratio</th>\n",
       "      <th>lemma_length_category</th>\n",
       "      <th>word_length_category</th>\n",
       "      <th>ratio_category</th>\n",
       "      <th>reported_speech</th>\n",
       "      <th>freq_category</th>\n",
       "      <th>new_lemma</th>\n",
       "    </tr>\n",
       "  </thead>\n",
       "  <tbody>\n",
       "    <tr>\n",
       "      <th>61</th>\n",
       "      <td>382597</td>\n",
       "      <td>ვაკურთხევთ</td>\n",
       "      <td>*კურთხევა</td>\n",
       "      <td>V</td>\n",
       "      <td>7</td>\n",
       "      <td>10</td>\n",
       "      <td>9</td>\n",
       "      <td>1.111111</td>\n",
       "      <td>medium</td>\n",
       "      <td>medium</td>\n",
       "      <td>greater</td>\n",
       "      <td>False</td>\n",
       "      <td>medium</td>\n",
       "      <td>კურთხევა</td>\n",
       "    </tr>\n",
       "    <tr>\n",
       "      <th>77</th>\n",
       "      <td>405866</td>\n",
       "      <td>გაბნევთ</td>\n",
       "      <td>*ბნევა</td>\n",
       "      <td>V</td>\n",
       "      <td>7</td>\n",
       "      <td>7</td>\n",
       "      <td>6</td>\n",
       "      <td>1.166667</td>\n",
       "      <td>low</td>\n",
       "      <td>low</td>\n",
       "      <td>greater</td>\n",
       "      <td>False</td>\n",
       "      <td>medium</td>\n",
       "      <td>გაბნევა</td>\n",
       "    </tr>\n",
       "    <tr>\n",
       "      <th>81</th>\n",
       "      <td>1159757</td>\n",
       "      <td>მიგზავნიდაო</td>\n",
       "      <td>*გზავნა</td>\n",
       "      <td>V</td>\n",
       "      <td>1</td>\n",
       "      <td>11</td>\n",
       "      <td>7</td>\n",
       "      <td>1.571429</td>\n",
       "      <td>low</td>\n",
       "      <td>medium</td>\n",
       "      <td>greater</td>\n",
       "      <td>True</td>\n",
       "      <td>low</td>\n",
       "      <td>მიგზავნა</td>\n",
       "    </tr>\n",
       "    <tr>\n",
       "      <th>121</th>\n",
       "      <td>203372</td>\n",
       "      <td>გვცემს</td>\n",
       "      <td>*ცემა</td>\n",
       "      <td>V</td>\n",
       "      <td>88</td>\n",
       "      <td>6</td>\n",
       "      <td>5</td>\n",
       "      <td>1.200000</td>\n",
       "      <td>low</td>\n",
       "      <td>low</td>\n",
       "      <td>greater</td>\n",
       "      <td>False</td>\n",
       "      <td>high</td>\n",
       "      <td>ცემა</td>\n",
       "    </tr>\n",
       "    <tr>\n",
       "      <th>294</th>\n",
       "      <td>633236</td>\n",
       "      <td>ვკადრებთ</td>\n",
       "      <td>*კადრება</td>\n",
       "      <td>V</td>\n",
       "      <td>5</td>\n",
       "      <td>8</td>\n",
       "      <td>8</td>\n",
       "      <td>1.000000</td>\n",
       "      <td>medium</td>\n",
       "      <td>low</td>\n",
       "      <td>equal</td>\n",
       "      <td>False</td>\n",
       "      <td>medium</td>\n",
       "      <td>კადრულობა</td>\n",
       "    </tr>\n",
       "    <tr>\n",
       "      <th>...</th>\n",
       "      <td>...</td>\n",
       "      <td>...</td>\n",
       "      <td>...</td>\n",
       "      <td>...</td>\n",
       "      <td>...</td>\n",
       "      <td>...</td>\n",
       "      <td>...</td>\n",
       "      <td>...</td>\n",
       "      <td>...</td>\n",
       "      <td>...</td>\n",
       "      <td>...</td>\n",
       "      <td>...</td>\n",
       "      <td>...</td>\n",
       "      <td>...</td>\n",
       "    </tr>\n",
       "    <tr>\n",
       "      <th>956211</th>\n",
       "      <td>193018</td>\n",
       "      <td>ემსგავსები</td>\n",
       "      <td>*მსგავსება</td>\n",
       "      <td>V</td>\n",
       "      <td>36</td>\n",
       "      <td>10</td>\n",
       "      <td>10</td>\n",
       "      <td>1.000000</td>\n",
       "      <td>high</td>\n",
       "      <td>medium</td>\n",
       "      <td>equal</td>\n",
       "      <td>False</td>\n",
       "      <td>medium</td>\n",
       "      <td>მსგავსება</td>\n",
       "    </tr>\n",
       "    <tr>\n",
       "      <th>956296</th>\n",
       "      <td>354000</td>\n",
       "      <td>იყაო</td>\n",
       "      <td>*ყოფა</td>\n",
       "      <td>V</td>\n",
       "      <td>3</td>\n",
       "      <td>4</td>\n",
       "      <td>5</td>\n",
       "      <td>0.800000</td>\n",
       "      <td>low</td>\n",
       "      <td>low</td>\n",
       "      <td>less</td>\n",
       "      <td>False</td>\n",
       "      <td>medium</td>\n",
       "      <td>ყოფნა</td>\n",
       "    </tr>\n",
       "    <tr>\n",
       "      <th>956479</th>\n",
       "      <td>421640</td>\n",
       "      <td>ხტებაო</td>\n",
       "      <td>*ხტომა</td>\n",
       "      <td>V</td>\n",
       "      <td>2</td>\n",
       "      <td>6</td>\n",
       "      <td>6</td>\n",
       "      <td>1.000000</td>\n",
       "      <td>low</td>\n",
       "      <td>low</td>\n",
       "      <td>equal</td>\n",
       "      <td>True</td>\n",
       "      <td>low</td>\n",
       "      <td>ხტომა</td>\n",
       "    </tr>\n",
       "    <tr>\n",
       "      <th>956582</th>\n",
       "      <td>23608</td>\n",
       "      <td>ეწეოდა</td>\n",
       "      <td>*წევნა</td>\n",
       "      <td>V</td>\n",
       "      <td>2289</td>\n",
       "      <td>6</td>\n",
       "      <td>6</td>\n",
       "      <td>1.000000</td>\n",
       "      <td>low</td>\n",
       "      <td>low</td>\n",
       "      <td>equal</td>\n",
       "      <td>False</td>\n",
       "      <td>high</td>\n",
       "      <td>წოლა</td>\n",
       "    </tr>\n",
       "    <tr>\n",
       "      <th>956705</th>\n",
       "      <td>650541</td>\n",
       "      <td>ეწვნებოდა</td>\n",
       "      <td>*წვნა</td>\n",
       "      <td>V</td>\n",
       "      <td>2</td>\n",
       "      <td>9</td>\n",
       "      <td>5</td>\n",
       "      <td>1.800000</td>\n",
       "      <td>low</td>\n",
       "      <td>low</td>\n",
       "      <td>greater</td>\n",
       "      <td>False</td>\n",
       "      <td>low</td>\n",
       "      <td>წვნევა</td>\n",
       "    </tr>\n",
       "  </tbody>\n",
       "</table>\n",
       "<p>8857 rows × 14 columns</p>\n",
       "</div>"
      ],
      "text/plain": [
       "        Unnamed: 0         word       lemma pos_tag  freq  word_length  \\\n",
       "61          382597   ვაკურთხევთ   *კურთხევა       V     7           10   \n",
       "77          405866      გაბნევთ      *ბნევა       V     7            7   \n",
       "81         1159757  მიგზავნიდაო     *გზავნა       V     1           11   \n",
       "121         203372       გვცემს       *ცემა       V    88            6   \n",
       "294         633236     ვკადრებთ    *კადრება       V     5            8   \n",
       "...            ...          ...         ...     ...   ...          ...   \n",
       "956211      193018   ემსგავსები  *მსგავსება       V    36           10   \n",
       "956296      354000         იყაო       *ყოფა       V     3            4   \n",
       "956479      421640       ხტებაო      *ხტომა       V     2            6   \n",
       "956582       23608       ეწეოდა      *წევნა       V  2289            6   \n",
       "956705      650541    ეწვნებოდა       *წვნა       V     2            9   \n",
       "\n",
       "        lemma_length     ratio lemma_length_category word_length_category  \\\n",
       "61                 9  1.111111                medium               medium   \n",
       "77                 6  1.166667                   low                  low   \n",
       "81                 7  1.571429                   low               medium   \n",
       "121                5  1.200000                   low                  low   \n",
       "294                8  1.000000                medium                  low   \n",
       "...              ...       ...                   ...                  ...   \n",
       "956211            10  1.000000                  high               medium   \n",
       "956296             5  0.800000                   low                  low   \n",
       "956479             6  1.000000                   low                  low   \n",
       "956582             6  1.000000                   low                  low   \n",
       "956705             5  1.800000                   low                  low   \n",
       "\n",
       "       ratio_category  reported_speech freq_category  new_lemma  \n",
       "61            greater            False        medium   კურთხევა  \n",
       "77            greater            False        medium    გაბნევა  \n",
       "81            greater             True           low   მიგზავნა  \n",
       "121           greater            False          high       ცემა  \n",
       "294             equal            False        medium  კადრულობა  \n",
       "...               ...              ...           ...        ...  \n",
       "956211          equal            False        medium  მსგავსება  \n",
       "956296           less            False        medium      ყოფნა  \n",
       "956479          equal             True           low      ხტომა  \n",
       "956582          equal            False          high       წოლა  \n",
       "956705        greater            False           low     წვნევა  \n",
       "\n",
       "[8857 rows x 14 columns]"
      ]
     },
     "execution_count": 81,
     "metadata": {},
     "output_type": "execute_result"
    }
   ],
   "source": [
    "# incomplete_df[~incomplete_df.new_lemma.str.startswith('*')]"
   ]
  },
  {
   "cell_type": "code",
   "execution_count": 101,
   "id": "ff3f5dd8-2f0b-4847-a94c-059f02f38e11",
   "metadata": {},
   "outputs": [],
   "source": [
    "model.save_pretrained(os.path.join('models', 'pos_transformer', 'lemma-transformer'))"
   ]
  },
  {
   "cell_type": "code",
   "execution_count": null,
   "id": "ad7ecbd0-ad37-4336-bd64-5439f5fa839a",
   "metadata": {},
   "outputs": [],
   "source": []
  }
 ],
 "metadata": {
  "environment": {
   "kernel": "python3",
   "name": "pytorch-gpu.2-0.m110",
   "type": "gcloud",
   "uri": "gcr.io/deeplearning-platform-release/pytorch-gpu.2-0:m110"
  },
  "kernelspec": {
   "display_name": "Python 3",
   "language": "python",
   "name": "python3"
  },
  "language_info": {
   "codemirror_mode": {
    "name": "ipython",
    "version": 3
   },
   "file_extension": ".py",
   "mimetype": "text/x-python",
   "name": "python",
   "nbconvert_exporter": "python",
   "pygments_lexer": "ipython3",
   "version": "3.10.12"
  }
 },
 "nbformat": 4,
 "nbformat_minor": 5
}
