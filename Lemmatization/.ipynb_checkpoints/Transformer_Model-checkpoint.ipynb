{
 "cells": [
  {
   "cell_type": "markdown",
   "id": "b7188abb-1432-4e5a-aa49-08c7288f82c1",
   "metadata": {},
   "source": [
    "# Imports"
   ]
  },
  {
   "cell_type": "code",
   "execution_count": 1,
   "id": "9aaa2a89-01c8-4b10-b60c-4304b2382b9b",
   "metadata": {},
   "outputs": [],
   "source": [
    "import os\n",
    "import json\n",
    "\n",
    "from transformers import AutoTokenizer, BertTokenizerFast, DataCollatorForTokenClassification\n",
    "from tokenizers import (\n",
    "    decoders,\n",
    "    models,\n",
    "    normalizers,\n",
    "    pre_tokenizers,\n",
    "    processors,\n",
    "    trainers,\n",
    "    Tokenizer,\n",
    ")\n",
    "\n",
    "from datasets import Dataset\n",
    "import matplotlib.pyplot as plt\n",
    "from sklearn import preprocessing\n",
    "import pandas as pd\n",
    "from utils.dataset import LemmaDataSet\n",
    "\n"
   ]
  },
  {
   "cell_type": "code",
   "execution_count": 106,
   "id": "6115f05a-e6b0-4c80-b6ff-664f9f959f77",
   "metadata": {},
   "outputs": [
    {
     "data": {
      "text/plain": [
       "<torch._C.Generator at 0x7fe87468b7f0>"
      ]
     },
     "execution_count": 106,
     "metadata": {},
     "output_type": "execute_result"
    }
   ],
   "source": [
    "import torch\n",
    "import random\n",
    "import numpy as np\n",
    "\n",
    "RANDOM_STATE = 42\n",
    "\n",
    "random.seed(RANDOM_STATE)\n",
    "np.random.seed(RANDOM_STATE)\n",
    "torch.manual_seed(RANDOM_STATE)"
   ]
  },
  {
   "cell_type": "markdown",
   "id": "c8fc9f03-1da2-4bed-891f-f578b0b1271f",
   "metadata": {
    "jp-MarkdownHeadingCollapsed": true,
    "tags": []
   },
   "source": [
    "# Utility Functions"
   ]
  },
  {
   "cell_type": "code",
   "execution_count": 488,
   "id": "004147ee-4093-4c8d-a8ad-4db07eadc065",
   "metadata": {},
   "outputs": [],
   "source": [
    "def get_corpus(dataset: LemmaDataSet):\n",
    "    for word, lemma in dataset:\n",
    "            yield word\n",
    "            yield lemma"
   ]
  },
  {
   "cell_type": "code",
   "execution_count": 489,
   "id": "706b1ba2-a196-4074-820d-d9e283d0b4a5",
   "metadata": {},
   "outputs": [],
   "source": [
    "def evaluate(tokenizer, words, thresh: int = 10):\n",
    "    total_mean = 0\n",
    "    for word in words:\n",
    "        num_tokens = len(tokenizer.encode(word).tokens)\n",
    "        total_mean += num_tokens\n",
    "\n",
    "    return total_mean / len(words)"
   ]
  },
  {
   "cell_type": "markdown",
   "id": "6458141f-570e-470b-89ec-b6a3f3fe651d",
   "metadata": {
    "jp-MarkdownHeadingCollapsed": true,
    "tags": []
   },
   "source": [
    "# Train Tokenizer"
   ]
  },
  {
   "cell_type": "markdown",
   "id": "8891f66a-f3ba-4548-875e-8b5351063a22",
   "metadata": {},
   "source": [
    "## Constants"
   ]
  },
  {
   "cell_type": "code",
   "execution_count": 2,
   "id": "a546462a-2bc9-4443-ba23-8d6348e96767",
   "metadata": {},
   "outputs": [],
   "source": [
    "TOKENIZER_PATH = os.path.join('models', 'tokenizers')\n",
    "TOKENIZED_DATASET_PATH = os.path.join('dataset','tokenized')\n",
    "NAME = 'gnlp-lemma-tokenizer'"
   ]
  },
  {
   "cell_type": "code",
   "execution_count": 3,
   "id": "aa599712-26c6-4cab-9fc2-1b3dc1bf51bf",
   "metadata": {},
   "outputs": [],
   "source": [
    "MAX_LEN = 30\n",
    "UNK_TOKEN = '<UNK>'\n",
    "PAD_TOKEN = '<PAD>'\n",
    "CLS_TOKEN = '<START>'\n",
    "SEP_TOKEN = '<END>'\n",
    "MASK_TOKEN = '<MASK>'\n",
    "SPECIAL_TOKENS = [UNK_TOKEN, PAD_TOKEN, CLS_TOKEN, SEP_TOKEN, MASK_TOKEN]"
   ]
  },
  {
   "cell_type": "code",
   "execution_count": 470,
   "id": "bcb26e45-3428-4d99-b01b-50948ff291a1",
   "metadata": {},
   "outputs": [],
   "source": [
    "train_df = pd.read_csv(os.path.join('csv','train.csv'))\n",
    "train_df = train_df[~train_df.lemma.str.startswith('*')]"
   ]
  },
  {
   "cell_type": "code",
   "execution_count": 471,
   "id": "ea6c0699-b1f2-4f72-8325-2bc10976abaa",
   "metadata": {},
   "outputs": [],
   "source": [
    "train_set = LemmaDataSet(train_df)"
   ]
  },
  {
   "cell_type": "markdown",
   "id": "b3af599d-bb34-4697-bdde-8a85db6bd75c",
   "metadata": {},
   "source": [
    "## Wordpiece"
   ]
  },
  {
   "cell_type": "code",
   "execution_count": 490,
   "id": "d510650f-0734-4b59-9f58-436e6e158713",
   "metadata": {},
   "outputs": [
    {
     "name": "stdout",
     "output_type": "stream",
     "text": [
      "\n",
      "\n",
      "\n",
      "\n",
      "\n",
      "\n",
      "\n",
      "\n",
      "\n",
      "\n",
      "\n",
      "\n",
      "\n",
      "\n",
      "\n",
      "\n",
      "\n",
      "\n",
      "\n",
      "\n",
      "\n",
      "\n",
      "\n",
      "\n"
     ]
    }
   ],
   "source": [
    "sizes = [10, 100, 1000, 1500, 2000, 3000, 3500, 4000]\n",
    "results = [None] * len(sizes)\n",
    "tokenizers = [None] * len(sizes)\n",
    "for idx, size in enumerate(sizes):\n",
    "    trainer = trainers.WordPieceTrainer(vocab_size=size, special_tokens=SPECIAL_TOKENS)\n",
    "    tokenizers[idx] = Tokenizer(models.WordPiece(unk_token=UNK_TOKEN))\n",
    "    tokenizers[idx].normalizer = normalizers.Sequence([normalizers.NFD(), normalizers.StripAccents()])\n",
    "    tokenizers[idx].decoder = decoders.WordPiece(prefix=\"##\")\n",
    "    \n",
    "    tokenizers[idx].train_from_iterator(get_corpus(train_set), trainer=trainer)\n",
    "    \n",
    "    cls_token_id = tokenizers[idx].token_to_id(CLS_TOKEN)\n",
    "    sep_token_id = tokenizers[idx].token_to_id(SEP_TOKEN)\n",
    "    \n",
    "    tokenizers[idx].post_processor = processors.TemplateProcessing(\n",
    "    single=f\"{CLS_TOKEN}:0 $A:0 {SEP_TOKEN}:0\",\n",
    "    pair=f\"{CLS_TOKEN}:0 $A:0 {SEP_TOKEN}:0 $B:1 {SEP_TOKEN}:1\",\n",
    "    special_tokens=[(CLS_TOKEN, cls_token_id), (SEP_TOKEN, sep_token_id)],\n",
    "    )\n",
    "    \n",
    "    results[idx] = evaluate(tokenizers[idx], train_df.word.to_list())"
   ]
  },
  {
   "cell_type": "code",
   "execution_count": 491,
   "id": "5c29fc9e-848e-41d1-9a0f-5af52119e05a",
   "metadata": {},
   "outputs": [
    {
     "data": {
      "text/plain": [
       "[12.130907458004726,\n",
       " 10.07977013912917,\n",
       " 6.68375582597302,\n",
       " 6.3791305158962155,\n",
       " 6.156875271842586,\n",
       " 5.897369594196642,\n",
       " 5.802499921362244,\n",
       " 5.724633358244328]"
      ]
     },
     "execution_count": 491,
     "metadata": {},
     "output_type": "execute_result"
    }
   ],
   "source": [
    "results"
   ]
  },
  {
   "cell_type": "code",
   "execution_count": 492,
   "id": "93dbef20-5987-44dc-bb6b-f7571d316e13",
   "metadata": {},
   "outputs": [
    {
     "data": {
      "text/plain": [
       "<matplotlib.legend.Legend at 0x7f905db02020>"
      ]
     },
     "execution_count": 492,
     "metadata": {},
     "output_type": "execute_result"
    },
    {
     "data": {
      "image/png": "[encoded data removed]",
      "text/plain": [
       "<Figure size 640x480 with 1 Axes>"
      ]
     },
     "metadata": {},
     "output_type": "display_data"
    }
   ],
   "source": [
    "fig, ax = plt.subplots()\n",
    "total_means = [r for r in results]\n",
    "\n",
    "plt.title('Num. Tokens per word')\n",
    "\n",
    "ax.plot(total_means, label='Total Mean')\n",
    "for i, txt in enumerate(sizes):\n",
    "    ax.annotate(txt, (i, total_means[i]))\n",
    "ax.legend()"
   ]
  },
  {
   "cell_type": "code",
   "execution_count": 493,
   "id": "3dbc38fb-d9b1-4803-9cc6-f8323ee7b89d",
   "metadata": {},
   "outputs": [
    {
     "data": {
      "text/plain": [
       "['<START>', 'სტ', '##უმა', '##რ', '##-მ', '##ას', '##პინძ', '##ელი', '<END>']"
      ]
     },
     "execution_count": 493,
     "metadata": {},
     "output_type": "execute_result"
    }
   ],
   "source": [
    "tokenizers[4].encode('სტუმარ-მასპინძელი').tokens"
   ]
  },
  {
   "cell_type": "code",
   "execution_count": 494,
   "id": "67572fb5-372d-42bf-85d5-dd3253ace9a8",
   "metadata": {},
   "outputs": [
    {
     "data": {
      "text/plain": [
       "(['<START>', 'მაგ', '##იდ', '##ა', '<END>'],\n",
       " ['<START>', 'მაგ', '##იდ', '##ამ', '<END>'],\n",
       " ['<START>', 'მაგ', '##იდ', '##ას', '<END>'])"
      ]
     },
     "execution_count": 494,
     "metadata": {},
     "output_type": "execute_result"
    }
   ],
   "source": [
    "tokenizers[4].encode('მაგიდა').tokens, tokenizers[4].encode('მაგიდამ').tokens, tokenizers[4].encode('მაგიდას').tokens"
   ]
  },
  {
   "cell_type": "code",
   "execution_count": 495,
   "id": "8a57e8ab-64d4-403e-a369-99389b8fab3f",
   "metadata": {},
   "outputs": [
    {
     "data": {
      "text/plain": [
       "(['<START>', 'მაგ', '##იდ', '##ის', '<END>'],\n",
       " ['<START>', 'მაგ', '##იდ', '##ით', '<END>'])"
      ]
     },
     "execution_count": 495,
     "metadata": {},
     "output_type": "execute_result"
    }
   ],
   "source": [
    "tokenizers[4].encode('მაგიდის').tokens, tokenizers[4].encode('მაგიდით').tokens"
   ]
  },
  {
   "cell_type": "code",
   "execution_count": 496,
   "id": "0dd36369-85dd-4a3a-80d9-a62548b0a91d",
   "metadata": {},
   "outputs": [],
   "source": [
    "for idx, tokenizer in enumerate(tokenizers):\n",
    "    tokenizer.save(os.path.join(TOKENIZER_PATH, f'wordpiece_{sizes[idx]}.json'))    "
   ]
  },
  {
   "cell_type": "markdown",
   "id": "212cfa1e-84c6-4223-845e-ea5a809f70f2",
   "metadata": {
    "jp-MarkdownHeadingCollapsed": true,
    "tags": []
   },
   "source": [
    "# Data Preparation"
   ]
  },
  {
   "cell_type": "code",
   "execution_count": 498,
   "id": "8baf4a41-56d1-4f04-aa14-e03a70e0dda7",
   "metadata": {},
   "outputs": [],
   "source": [
    "dataset = Dataset.from_pandas(test_df)"
   ]
  },
  {
   "cell_type": "code",
   "execution_count": 499,
   "id": "75cf764c-66f3-4d1d-93aa-45fda75f7a86",
   "metadata": {},
   "outputs": [],
   "source": [
    "tokenizer = Tokenizer.from_file(os.path.join(TOKENIZER_PATH, 'wordpiece_2000.json'))\n",
    "tokenizer = BertTokenizerFast(tokenizer_object=tokenizer, unk_token=UNK_TOKEN,\n",
    "    pad_token=PAD_TOKEN,  model_input_names=['input_ids', 'attention_mask', 'decoder_input_ids'])"
   ]
  },
  {
   "cell_type": "code",
   "execution_count": 500,
   "id": "eaf00110-b7e9-4aab-8afb-75388d770a24",
   "metadata": {},
   "outputs": [
    {
     "data": {
      "text/plain": [
       "{'input_ids': [2, 477, 423, 104, 3], 'attention_mask': [1, 1, 1, 1, 1], 'labels': [2, 477, 423, 3]}"
      ]
     },
     "execution_count": 500,
     "metadata": {},
     "output_type": "execute_result"
    }
   ],
   "source": [
    "tokenizer('კიბეები', text_target='კიბე')"
   ]
  },
  {
   "cell_type": "code",
   "execution_count": 501,
   "id": "55559768-aada-4cd3-810f-71e85ea048d4",
   "metadata": {},
   "outputs": [],
   "source": [
    "def tokenize(examples):\n",
    "    model_inputs = tokenizer(\n",
    "        examples[\"word\"], text_target=examples[\"lemma\"], max_length=MAX_LEN, truncation=True\n",
    "    )\n",
    "    return model_inputs\n"
   ]
  },
  {
   "cell_type": "code",
   "execution_count": 502,
   "id": "be835bb6-8a8a-40fd-b7d0-b6ffa7b56708",
   "metadata": {},
   "outputs": [
    {
     "data": {
      "application/vnd.jupyter.widget-view+json": {
       "model_id": "e1955acc06864a2ebabdf2a99fe6dae9",
       "version_major": 2,
       "version_minor": 0
      },
      "text/plain": [
       "Map:   0%|          | 0/921949 [00:00<?, ? examples/s]"
      ]
     },
     "metadata": {},
     "output_type": "display_data"
    }
   ],
   "source": [
    "tokenized_datasets = dataset.map(\n",
    "    tokenize,\n",
    "    batched=True,\n",
    "    remove_columns=dataset.column_names,\n",
    ")"
   ]
  },
  {
   "cell_type": "code",
   "execution_count": 503,
   "id": "ccbc5d4e-e7ff-497d-a0f1-28d068df1adc",
   "metadata": {},
   "outputs": [
    {
     "data": {
      "text/plain": [
       "Dataset({\n",
       "    features: ['input_ids', 'attention_mask', 'labels'],\n",
       "    num_rows: 921949\n",
       "})"
      ]
     },
     "execution_count": 503,
     "metadata": {},
     "output_type": "execute_result"
    }
   ],
   "source": [
    "tokenized_datasets"
   ]
  },
  {
   "cell_type": "code",
   "execution_count": 504,
   "id": "e8e6246e-aa85-4850-a793-e688e32961c7",
   "metadata": {},
   "outputs": [
    {
     "data": {
      "text/plain": [
       "DatasetDict({\n",
       "    train: Dataset({\n",
       "        features: ['input_ids', 'attention_mask', 'labels'],\n",
       "        num_rows: 829754\n",
       "    })\n",
       "    validation: Dataset({\n",
       "        features: ['input_ids', 'attention_mask', 'labels'],\n",
       "        num_rows: 92195\n",
       "    })\n",
       "})"
      ]
     },
     "execution_count": 504,
     "metadata": {},
     "output_type": "execute_result"
    }
   ],
   "source": [
    "tokenized_datasets = tokenized_datasets.train_test_split(train_size=0.9, seed=20)\n",
    "tokenized_datasets[\"validation\"] = tokenized_datasets.pop(\"test\")\n",
    "tokenized_datasets"
   ]
  },
  {
   "cell_type": "code",
   "execution_count": 505,
   "id": "590e078b-fb55-426d-98ba-e046baccea78",
   "metadata": {},
   "outputs": [
    {
     "data": {
      "application/vnd.jupyter.widget-view+json": {
       "model_id": "e5f2c351c51f43ba800657ba801d5a39",
       "version_major": 2,
       "version_minor": 0
      },
      "text/plain": [
       "Saving the dataset (0/1 shards):   0%|          | 0/829754 [00:00<?, ? examples/s]"
      ]
     },
     "metadata": {},
     "output_type": "display_data"
    },
    {
     "data": {
      "application/vnd.jupyter.widget-view+json": {
       "model_id": "5191d77b7ae34ae5b4973c87672535ca",
       "version_major": 2,
       "version_minor": 0
      },
      "text/plain": [
       "Saving the dataset (0/1 shards):   0%|          | 0/92195 [00:00<?, ? examples/s]"
      ]
     },
     "metadata": {},
     "output_type": "display_data"
    }
   ],
   "source": [
    "tokenized_datasets.save_to_disk(TOKENIZED_DATASET_PATH)"
   ]
  },
  {
   "cell_type": "markdown",
   "id": "3e25a9b0-f87c-4264-b7d3-7b34eaeceda0",
   "metadata": {},
   "source": [
    "# Preparing Model"
   ]
  },
  {
   "cell_type": "code",
   "execution_count": 16,
   "id": "f5cc3fc5-55a8-4b15-a771-e1b3f5505d53",
   "metadata": {},
   "outputs": [],
   "source": [
    "from transformers import Seq2SeqTrainingArguments, Seq2SeqTrainer, DataCollatorForSeq2Seq, BartConfig, BartForConditionalGeneration\n",
    "from datasets import load_from_disk\n",
    "import numpy as np\n",
    "import evaluate\n"
   ]
  },
  {
   "cell_type": "code",
   "execution_count": 17,
   "id": "81b49604-9ff0-4da2-81cd-93e4997693bf",
   "metadata": {},
   "outputs": [],
   "source": [
    "tokenizer = Tokenizer.from_file(os.path.join(TOKENIZER_PATH, 'wordpiece_2000.json'))\n",
    "tokenizer = BertTokenizerFast(tokenizer_object=tokenizer, unk_token=UNK_TOKEN,\n",
    "    pad_token=PAD_TOKEN, cls_token=CLS_TOKEN, sep_token=SEP_TOKEN, \n",
    "                              model_input_names=['input_ids', 'attention_mask', 'decoder_input_ids'])"
   ]
  },
  {
   "cell_type": "code",
   "execution_count": 18,
   "id": "749f1025-c1dd-4712-83b8-fc9751415ad2",
   "metadata": {},
   "outputs": [],
   "source": [
    "tokenized_datasets = load_from_disk(TOKENIZED_DATASET_PATH)"
   ]
  },
  {
   "cell_type": "code",
   "execution_count": 19,
   "id": "68b45b87-6419-4c7b-a0d7-315a64a581dc",
   "metadata": {},
   "outputs": [],
   "source": [
    "metric = evaluate.load(\"sacrebleu\")"
   ]
  },
  {
   "cell_type": "code",
   "execution_count": 20,
   "id": "6ee5a675-dfd9-4851-8a8a-89a735db30bd",
   "metadata": {},
   "outputs": [],
   "source": [
    "def compute_metrics(eval_preds):\n",
    "#     print(eval_preds)\n",
    "#     preds, labels = eval_preds\n",
    "#     if isinstance(preds, tuple):\n",
    "#         preds = preds[0]\n",
    "\n",
    "#     print(preds)\n",
    "#     decoded_preds = tokenizer.batch_decode(preds, skip_special_tokens=True)\n",
    "    \n",
    "#     # Replace -100s in the labels as we can't decode them\n",
    "#     labels = np.where(labels != -100, labels, tokenizer.pad_token_id)\n",
    "#     decoded_labels = tokenizer.batch_decode(labels, skip_special_tokens=True)\n",
    "\n",
    "#     # Some simple post-processing\n",
    "#     decoded_preds = [' '.join(pred.strip()) for pred in decoded_preds]\n",
    "#     decoded_labels = [[' '.join(label.strip())] for label in decoded_labels]\n",
    "\n",
    "#     result = metric.compute(predictions=decoded_preds, references=decoded_labels)\n",
    "#     return {\"bleu\": result[\"score\"]}\n",
    "    return {'bleu': 0}"
   ]
  },
  {
   "cell_type": "code",
   "execution_count": 107,
   "id": "725e28d0-f4e7-4124-9056-a59d4c0ad0e0",
   "metadata": {},
   "outputs": [
    {
     "data": {
      "text/plain": [
       "BartConfig {\n",
       "  \"activation_dropout\": 0.0,\n",
       "  \"activation_function\": \"gelu\",\n",
       "  \"attention_dropout\": 0.0,\n",
       "  \"bos_token_id\": 2,\n",
       "  \"classifier_dropout\": 0.0,\n",
       "  \"d_model\": 64,\n",
       "  \"decoder_attention_heads\": 1,\n",
       "  \"decoder_ffn_dim\": 128,\n",
       "  \"decoder_layerdrop\": 0.0,\n",
       "  \"decoder_layers\": 1,\n",
       "  \"decoder_start_token_id\": 2,\n",
       "  \"dropout\": 0.1,\n",
       "  \"encoder_attention_heads\": 1,\n",
       "  \"encoder_ffn_dim\": 128,\n",
       "  \"encoder_layerdrop\": 0.0,\n",
       "  \"encoder_layers\": 1,\n",
       "  \"eos_token_id\": 3,\n",
       "  \"forced_eos_token_id\": 3,\n",
       "  \"id2label\": {\n",
       "    \"0\": \"LABEL_0\",\n",
       "    \"1\": \"LABEL_1\",\n",
       "    \"2\": \"LABEL_2\"\n",
       "  },\n",
       "  \"init_std\": 0.02,\n",
       "  \"is_encoder_decoder\": true,\n",
       "  \"label2id\": {\n",
       "    \"LABEL_0\": 0,\n",
       "    \"LABEL_1\": 1,\n",
       "    \"LABEL_2\": 2\n",
       "  },\n",
       "  \"max_position_embeddings\": 1024,\n",
       "  \"model_type\": \"bart\",\n",
       "  \"num_hidden_layers\": 1,\n",
       "  \"pad_token_id\": 1,\n",
       "  \"scale_embedding\": false,\n",
       "  \"transformers_version\": \"4.31.0\",\n",
       "  \"use_cache\": true,\n",
       "  \"vocab_size\": 2000\n",
       "}"
      ]
     },
     "execution_count": 107,
     "metadata": {},
     "output_type": "execute_result"
    }
   ],
   "source": [
    "config = BartConfig(\n",
    "    vocab_size=tokenizer.vocab_size,  \n",
    "    d_model=64,       \n",
    "    encoder_layers=1, \n",
    "    decoder_layers=1,  \n",
    "    encoder_attention_heads=1,  \n",
    "    decoder_attention_heads=1,  \n",
    "    encoder_ffn_dim=128,  \n",
    "    decoder_ffn_dim=128,  \n",
    "    pad_token_id=tokenizer.pad_token_id, \n",
    "    bos_token_id=tokenizer.cls_token_id,\n",
    "    decoder_start_token_id=tokenizer.cls_token_id,\n",
    "    eos_token_id=tokenizer.sep_token_id,\n",
    "    forced_eos_token_id=tokenizer.sep_token_id\n",
    ")\n",
    "config"
   ]
  },
  {
   "cell_type": "code",
   "execution_count": 113,
   "id": "e582bb40-c505-4222-816b-a76e80bd4611",
   "metadata": {},
   "outputs": [
    {
     "name": "stdout",
     "output_type": "stream",
     "text": [
      "Number of parameters:  343296\n"
     ]
    }
   ],
   "source": [
    "model = BartForConditionalGeneration(config=config)\n",
    "# model = BartForConditionalGeneration.from_pretrained('models/transformer/checkpoint-811')\n",
    "print('Number of parameters: ', sum(p.numel() for p in model.parameters()))"
   ]
  },
  {
   "cell_type": "code",
   "execution_count": 114,
   "id": "f7573a5e-640f-4e0a-9b89-8d25e7d59c96",
   "metadata": {},
   "outputs": [],
   "source": [
    "data_collator = DataCollatorForSeq2Seq(tokenizer=tokenizer, model=model)"
   ]
  },
  {
   "cell_type": "code",
   "execution_count": 115,
   "id": "99832e6f-d170-4639-80b7-13e83ab745a2",
   "metadata": {},
   "outputs": [],
   "source": [
    "args = Seq2SeqTrainingArguments(\n",
    "    evaluation_strategy=\"epoch\",\n",
    "    save_strategy=\"epoch\",\n",
    "    learning_rate=1.2e-2,\n",
    "    per_device_train_batch_size=1024,\n",
    "    per_device_eval_batch_size=1024,\n",
    "    weight_decay=0.01,\n",
    "    num_train_epochs=50,\n",
    "    # predict_with_generate=True,\n",
    "    output_dir='./models/transformer',\n",
    "    save_safetensors=True, \n",
    "    save_total_limit=3,\n",
    "    logging_steps=3\n",
    ")"
   ]
  },
  {
   "cell_type": "code",
   "execution_count": 116,
   "id": "5c9cc3c2-721d-4f33-a574-936a95df4f68",
   "metadata": {},
   "outputs": [],
   "source": [
    "trainer = Seq2SeqTrainer(\n",
    "    model=model,\n",
    "    args=args,\n",
    "    train_dataset=tokenized_datasets[\"train\"],\n",
    "    eval_dataset=tokenized_datasets[\"validation\"],\n",
    "    data_collator=data_collator,\n",
    "    compute_metrics=compute_metrics,\n",
    "    tokenizer=tokenizer,\n",
    ")"
   ]
  },
  {
   "cell_type": "code",
   "execution_count": 117,
   "id": "076e4a4a-d543-4b5c-9967-5fa88e091209",
   "metadata": {},
   "outputs": [
    {
     "name": "stderr",
     "output_type": "stream",
     "text": [
      "/opt/conda/lib/python3.10/site-packages/transformers/optimization.py:411: FutureWarning: This implementation of AdamW is deprecated and will be removed in a future version. Use the PyTorch implementation torch.optim.AdamW instead, or set `no_deprecation_warning=True` to disable this warning\n",
      "  warnings.warn(\n"
     ]
    },
    {
     "data": {
      "text/html": [
       "\n",
       "    <div>\n",
       "      \n",
       "      <progress value='52' max='150' style='width:300px; height:20px; vertical-align: middle;'></progress>\n",
       "      [ 52/150 00:47 < 01:32, 1.06 it/s, Epoch 17/50]\n",
       "    </div>\n",
       "    <table border=\"1\" class=\"dataframe\">\n",
       "  <thead>\n",
       " <tr style=\"text-align: left;\">\n",
       "      <th>Epoch</th>\n",
       "      <th>Training Loss</th>\n",
       "      <th>Validation Loss</th>\n",
       "      <th>Bleu</th>\n",
       "    </tr>\n",
       "  </thead>\n",
       "  <tbody>\n",
       "    <tr>\n",
       "      <td>1</td>\n",
       "      <td>6.893100</td>\n",
       "      <td>5.688591</td>\n",
       "      <td>0</td>\n",
       "    </tr>\n",
       "    <tr>\n",
       "      <td>2</td>\n",
       "      <td>5.413700</td>\n",
       "      <td>4.512816</td>\n",
       "      <td>0</td>\n",
       "    </tr>\n",
       "    <tr>\n",
       "      <td>3</td>\n",
       "      <td>4.298700</td>\n",
       "      <td>3.852497</td>\n",
       "      <td>0</td>\n",
       "    </tr>\n",
       "    <tr>\n",
       "      <td>4</td>\n",
       "      <td>3.734700</td>\n",
       "      <td>3.419321</td>\n",
       "      <td>0</td>\n",
       "    </tr>\n",
       "    <tr>\n",
       "      <td>5</td>\n",
       "      <td>3.383700</td>\n",
       "      <td>3.102793</td>\n",
       "      <td>0</td>\n",
       "    </tr>\n",
       "    <tr>\n",
       "      <td>6</td>\n",
       "      <td>3.089700</td>\n",
       "      <td>2.815207</td>\n",
       "      <td>0</td>\n",
       "    </tr>\n",
       "    <tr>\n",
       "      <td>7</td>\n",
       "      <td>2.807000</td>\n",
       "      <td>2.525485</td>\n",
       "      <td>0</td>\n",
       "    </tr>\n",
       "    <tr>\n",
       "      <td>8</td>\n",
       "      <td>2.534800</td>\n",
       "      <td>2.252897</td>\n",
       "      <td>0</td>\n",
       "    </tr>\n",
       "    <tr>\n",
       "      <td>9</td>\n",
       "      <td>2.279700</td>\n",
       "      <td>1.988979</td>\n",
       "      <td>0</td>\n",
       "    </tr>\n",
       "    <tr>\n",
       "      <td>10</td>\n",
       "      <td>2.010700</td>\n",
       "      <td>1.711762</td>\n",
       "      <td>0</td>\n",
       "    </tr>\n",
       "    <tr>\n",
       "      <td>11</td>\n",
       "      <td>1.750500</td>\n",
       "      <td>1.429517</td>\n",
       "      <td>0</td>\n",
       "    </tr>\n",
       "    <tr>\n",
       "      <td>12</td>\n",
       "      <td>1.492600</td>\n",
       "      <td>1.161434</td>\n",
       "      <td>0</td>\n",
       "    </tr>\n",
       "    <tr>\n",
       "      <td>13</td>\n",
       "      <td>1.241100</td>\n",
       "      <td>0.929013</td>\n",
       "      <td>0</td>\n",
       "    </tr>\n",
       "    <tr>\n",
       "      <td>14</td>\n",
       "      <td>1.011900</td>\n",
       "      <td>0.724662</td>\n",
       "      <td>0</td>\n",
       "    </tr>\n",
       "    <tr>\n",
       "      <td>15</td>\n",
       "      <td>0.817500</td>\n",
       "      <td>0.564945</td>\n",
       "      <td>0</td>\n",
       "    </tr>\n",
       "    <tr>\n",
       "      <td>16</td>\n",
       "      <td>0.657100</td>\n",
       "      <td>0.442934</td>\n",
       "      <td>0</td>\n",
       "    </tr>\n",
       "    <tr>\n",
       "      <td>17</td>\n",
       "      <td>0.533500</td>\n",
       "      <td>0.350339</td>\n",
       "      <td>0</td>\n",
       "    </tr>\n",
       "  </tbody>\n",
       "</table><p>"
      ],
      "text/plain": [
       "<IPython.core.display.HTML object>"
      ]
     },
     "metadata": {},
     "output_type": "display_data"
    },
    {
     "ename": "KeyboardInterrupt",
     "evalue": "",
     "output_type": "error",
     "traceback": [
      "\u001b[0;31m---------------------------------------------------------------------------\u001b[0m",
      "\u001b[0;31mKeyboardInterrupt\u001b[0m                         Traceback (most recent call last)",
      "Cell \u001b[0;32mIn[117], line 1\u001b[0m\n\u001b[0;32m----> 1\u001b[0m \u001b[43mtrainer\u001b[49m\u001b[38;5;241;43m.\u001b[39;49m\u001b[43mtrain\u001b[49m\u001b[43m(\u001b[49m\u001b[43m)\u001b[49m\n",
      "File \u001b[0;32m/opt/conda/lib/python3.10/site-packages/transformers/trainer.py:1539\u001b[0m, in \u001b[0;36mTrainer.train\u001b[0;34m(self, resume_from_checkpoint, trial, ignore_keys_for_eval, **kwargs)\u001b[0m\n\u001b[1;32m   1534\u001b[0m     \u001b[38;5;28mself\u001b[39m\u001b[38;5;241m.\u001b[39mmodel_wrapped \u001b[38;5;241m=\u001b[39m \u001b[38;5;28mself\u001b[39m\u001b[38;5;241m.\u001b[39mmodel\n\u001b[1;32m   1536\u001b[0m inner_training_loop \u001b[38;5;241m=\u001b[39m find_executable_batch_size(\n\u001b[1;32m   1537\u001b[0m     \u001b[38;5;28mself\u001b[39m\u001b[38;5;241m.\u001b[39m_inner_training_loop, \u001b[38;5;28mself\u001b[39m\u001b[38;5;241m.\u001b[39m_train_batch_size, args\u001b[38;5;241m.\u001b[39mauto_find_batch_size\n\u001b[1;32m   1538\u001b[0m )\n\u001b[0;32m-> 1539\u001b[0m \u001b[38;5;28;01mreturn\u001b[39;00m \u001b[43minner_training_loop\u001b[49m\u001b[43m(\u001b[49m\n\u001b[1;32m   1540\u001b[0m \u001b[43m    \u001b[49m\u001b[43margs\u001b[49m\u001b[38;5;241;43m=\u001b[39;49m\u001b[43margs\u001b[49m\u001b[43m,\u001b[49m\n\u001b[1;32m   1541\u001b[0m \u001b[43m    \u001b[49m\u001b[43mresume_from_checkpoint\u001b[49m\u001b[38;5;241;43m=\u001b[39;49m\u001b[43mresume_from_checkpoint\u001b[49m\u001b[43m,\u001b[49m\n\u001b[1;32m   1542\u001b[0m \u001b[43m    \u001b[49m\u001b[43mtrial\u001b[49m\u001b[38;5;241;43m=\u001b[39;49m\u001b[43mtrial\u001b[49m\u001b[43m,\u001b[49m\n\u001b[1;32m   1543\u001b[0m \u001b[43m    \u001b[49m\u001b[43mignore_keys_for_eval\u001b[49m\u001b[38;5;241;43m=\u001b[39;49m\u001b[43mignore_keys_for_eval\u001b[49m\u001b[43m,\u001b[49m\n\u001b[1;32m   1544\u001b[0m \u001b[43m\u001b[49m\u001b[43m)\u001b[49m\n",
      "File \u001b[0;32m/opt/conda/lib/python3.10/site-packages/transformers/trainer.py:1787\u001b[0m, in \u001b[0;36mTrainer._inner_training_loop\u001b[0;34m(self, batch_size, args, resume_from_checkpoint, trial, ignore_keys_for_eval)\u001b[0m\n\u001b[1;32m   1784\u001b[0m     rng_to_sync \u001b[38;5;241m=\u001b[39m \u001b[38;5;28;01mTrue\u001b[39;00m\n\u001b[1;32m   1786\u001b[0m step \u001b[38;5;241m=\u001b[39m \u001b[38;5;241m-\u001b[39m\u001b[38;5;241m1\u001b[39m\n\u001b[0;32m-> 1787\u001b[0m \u001b[38;5;28;01mfor\u001b[39;00m step, inputs \u001b[38;5;129;01min\u001b[39;00m \u001b[38;5;28menumerate\u001b[39m(epoch_iterator):\n\u001b[1;32m   1788\u001b[0m     total_batched_samples \u001b[38;5;241m+\u001b[39m\u001b[38;5;241m=\u001b[39m \u001b[38;5;241m1\u001b[39m\n\u001b[1;32m   1789\u001b[0m     \u001b[38;5;28;01mif\u001b[39;00m rng_to_sync:\n",
      "File \u001b[0;32m/opt/conda/lib/python3.10/site-packages/torch_xla/distributed/parallel_loader.py:30\u001b[0m, in \u001b[0;36mPerDeviceLoader.__next__\u001b[0;34m(self)\u001b[0m\n\u001b[1;32m     29\u001b[0m \u001b[38;5;28;01mdef\u001b[39;00m \u001b[38;5;21m__next__\u001b[39m(\u001b[38;5;28mself\u001b[39m):\n\u001b[0;32m---> 30\u001b[0m   \u001b[38;5;28;01mreturn\u001b[39;00m \u001b[38;5;28;43mself\u001b[39;49m\u001b[38;5;241;43m.\u001b[39;49m\u001b[43mnext\u001b[49m\u001b[43m(\u001b[49m\u001b[43m)\u001b[49m\n",
      "File \u001b[0;32m/opt/conda/lib/python3.10/site-packages/torch_xla/distributed/parallel_loader.py:46\u001b[0m, in \u001b[0;36mPerDeviceLoader.next\u001b[0;34m(self)\u001b[0m\n\u001b[1;32m     43\u001b[0m   \u001b[38;5;28;01melse\u001b[39;00m:\n\u001b[1;32m     44\u001b[0m     \u001b[38;5;28mself\u001b[39m\u001b[38;5;241m.\u001b[39m_batches_yielded \u001b[38;5;241m+\u001b[39m\u001b[38;5;241m=\u001b[39m \u001b[38;5;241m1\u001b[39m\n\u001b[0;32m---> 46\u001b[0m item \u001b[38;5;241m=\u001b[39m \u001b[38;5;28;43mself\u001b[39;49m\u001b[38;5;241;43m.\u001b[39;49m\u001b[43m_loader\u001b[49m\u001b[38;5;241;43m.\u001b[39;49m\u001b[43mnext_item\u001b[49m\u001b[43m(\u001b[49m\u001b[38;5;28;43mself\u001b[39;49m\u001b[38;5;241;43m.\u001b[39;49m\u001b[43m_device\u001b[49m\u001b[43m)\u001b[49m\n\u001b[1;32m     47\u001b[0m \u001b[38;5;28;01mif\u001b[39;00m item \u001b[38;5;129;01mis\u001b[39;00m \u001b[38;5;28;01mNone\u001b[39;00m:\n\u001b[1;32m     48\u001b[0m   xm\u001b[38;5;241m.\u001b[39mmark_step()\n",
      "File \u001b[0;32m/opt/conda/lib/python3.10/site-packages/torch_xla/distributed/parallel_loader.py:122\u001b[0m, in \u001b[0;36mParallelLoader.next_item\u001b[0;34m(self, device)\u001b[0m\n\u001b[1;32m    120\u001b[0m \u001b[38;5;28;01mdef\u001b[39;00m \u001b[38;5;21mnext_item\u001b[39m(\u001b[38;5;28mself\u001b[39m, device):\n\u001b[1;32m    121\u001b[0m   dqueue \u001b[38;5;241m=\u001b[39m \u001b[38;5;28mself\u001b[39m\u001b[38;5;241m.\u001b[39m_queues[device]\n\u001b[0;32m--> 122\u001b[0m   \u001b[38;5;28;01mreturn\u001b[39;00m \u001b[43mdqueue\u001b[49m\u001b[38;5;241;43m.\u001b[39;49m\u001b[43mqueue\u001b[49m\u001b[38;5;241;43m.\u001b[39;49m\u001b[43mget\u001b[49m\u001b[43m(\u001b[49m\u001b[43m)\u001b[49m\n",
      "File \u001b[0;32m/opt/conda/lib/python3.10/site-packages/torch_xla/utils/keyd_queue.py:80\u001b[0m, in \u001b[0;36mQueue.get\u001b[0;34m(self)\u001b[0m\n\u001b[1;32m     78\u001b[0m \u001b[38;5;28;01mwith\u001b[39;00m \u001b[38;5;28mself\u001b[39m\u001b[38;5;241m.\u001b[39m_lock:\n\u001b[1;32m     79\u001b[0m   \u001b[38;5;28;01mwhile\u001b[39;00m \u001b[38;5;129;01mnot\u001b[39;00m \u001b[38;5;28mself\u001b[39m\u001b[38;5;241m.\u001b[39m_items \u001b[38;5;129;01mand\u001b[39;00m \u001b[38;5;129;01mnot\u001b[39;00m \u001b[38;5;28mself\u001b[39m\u001b[38;5;241m.\u001b[39m_close_write:\n\u001b[0;32m---> 80\u001b[0m     \u001b[38;5;28;43mself\u001b[39;49m\u001b[38;5;241;43m.\u001b[39;49m\u001b[43m_ready_cv\u001b[49m\u001b[38;5;241;43m.\u001b[39;49m\u001b[43mwait\u001b[49m\u001b[43m(\u001b[49m\u001b[43m)\u001b[49m\n\u001b[1;32m     81\u001b[0m   item \u001b[38;5;241m=\u001b[39m \u001b[38;5;28mself\u001b[39m\u001b[38;5;241m.\u001b[39m_items\u001b[38;5;241m.\u001b[39mpopleft() \u001b[38;5;28;01mif\u001b[39;00m \u001b[38;5;28mself\u001b[39m\u001b[38;5;241m.\u001b[39m_items \u001b[38;5;28;01melse\u001b[39;00m \u001b[38;5;28;01mNone\u001b[39;00m\n\u001b[1;32m     82\u001b[0m   \u001b[38;5;28;01mif\u001b[39;00m item \u001b[38;5;129;01mis\u001b[39;00m \u001b[38;5;129;01mnot\u001b[39;00m \u001b[38;5;28;01mNone\u001b[39;00m:\n",
      "File \u001b[0;32m/opt/conda/lib/python3.10/threading.py:320\u001b[0m, in \u001b[0;36mCondition.wait\u001b[0;34m(self, timeout)\u001b[0m\n\u001b[1;32m    318\u001b[0m \u001b[38;5;28;01mtry\u001b[39;00m:    \u001b[38;5;66;03m# restore state no matter what (e.g., KeyboardInterrupt)\u001b[39;00m\n\u001b[1;32m    319\u001b[0m     \u001b[38;5;28;01mif\u001b[39;00m timeout \u001b[38;5;129;01mis\u001b[39;00m \u001b[38;5;28;01mNone\u001b[39;00m:\n\u001b[0;32m--> 320\u001b[0m         \u001b[43mwaiter\u001b[49m\u001b[38;5;241;43m.\u001b[39;49m\u001b[43macquire\u001b[49m\u001b[43m(\u001b[49m\u001b[43m)\u001b[49m\n\u001b[1;32m    321\u001b[0m         gotit \u001b[38;5;241m=\u001b[39m \u001b[38;5;28;01mTrue\u001b[39;00m\n\u001b[1;32m    322\u001b[0m     \u001b[38;5;28;01melse\u001b[39;00m:\n",
      "\u001b[0;31mKeyboardInterrupt\u001b[0m: "
     ]
    }
   ],
   "source": [
    "trainer.train()"
   ]
  },
  {
   "cell_type": "code",
   "execution_count": 40,
   "id": "3c10065a-e996-4e09-b6e5-b2ca15fb3b01",
   "metadata": {},
   "outputs": [
    {
     "data": {
      "text/plain": [
       "[2, 15, 1505, 42, 49, 3]"
      ]
     },
     "execution_count": 40,
     "metadata": {},
     "output_type": "execute_result"
    }
   ],
   "source": [
    "tokenized_datasets[\"train\"][0]['input_ids']"
   ]
  },
  {
   "cell_type": "code",
   "execution_count": 57,
   "id": "5100d222-c92e-4eea-9ad2-20298a514bfe",
   "metadata": {},
   "outputs": [
    {
     "data": {
      "text/plain": [
       "['<START>', 'შეა', '##ჩერ', '##ებდით', '<END>']"
      ]
     },
     "execution_count": 57,
     "metadata": {},
     "output_type": "execute_result"
    }
   ],
   "source": [
    "tokenizer.batch_decode(tokenized_datasets[\"train\"][4]['input_ids'])"
   ]
  },
  {
   "cell_type": "code",
   "execution_count": 101,
   "id": "402a1c36-02bf-4c96-95e1-301dc239b37d",
   "metadata": {},
   "outputs": [],
   "source": [
    "from transformers import Text2TextGenerationPipeline\n",
    "recognizer = Text2TextGenerationPipeline(model=model.to('cpu'), tokenizer=tokenizer)"
   ]
  },
  {
   "cell_type": "code",
   "execution_count": 104,
   "id": "94f9a9b6-0f98-4ac8-953f-eefeaa9241b6",
   "metadata": {},
   "outputs": [
    {
     "data": {
      "text/plain": [
       "[{'generated_text': 'სიპიული'}]"
      ]
     },
     "execution_count": 104,
     "metadata": {},
     "output_type": "execute_result"
    }
   ],
   "source": [
    "recognizer('სიხარული')"
   ]
  },
  {
   "cell_type": "code",
   "execution_count": null,
   "id": "3239114b-cb6d-4e14-8e25-0490d475246d",
   "metadata": {},
   "outputs": [],
   "source": []
  }
 ],
 "metadata": {
  "environment": {
   "kernel": "python3",
   "name": "pytorch-gpu.2-0.m110",
   "type": "gcloud",
   "uri": "gcr.io/deeplearning-platform-release/pytorch-gpu.2-0:m110"
  },
  "kernelspec": {
   "display_name": "Python 3",
   "language": "python",
   "name": "python3"
  },
  "language_info": {
   "codemirror_mode": {
    "name": "ipython",
    "version": 3
   },
   "file_extension": ".py",
   "mimetype": "text/x-python",
   "name": "python",
   "nbconvert_exporter": "python",
   "pygments_lexer": "ipython3",
   "version": "3.10.12"
  }
 },
 "nbformat": 4,
 "nbformat_minor": 5
}
