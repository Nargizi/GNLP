{
 "cells": [
  {
   "cell_type": "code",
   "execution_count": 1,
   "metadata": {
    "ExecuteTime": {
     "end_time": "2023-07-03T17:51:54.826920Z",
     "start_time": "2023-07-03T17:51:54.272575Z"
    },
    "collapsed": true,
    "jupyter": {
     "outputs_hidden": true
    }
   },
   "outputs": [],
   "source": [
    "import pandas as pd\n",
    "import numpy as np\n",
    "import seaborn as sns\n",
    "import matplotlib.pyplot as plt\n",
    "from sklearn.model_selection import train_test_split"
   ]
  },
  {
   "cell_type": "code",
   "execution_count": 2,
   "metadata": {
    "ExecuteTime": {
     "end_time": "2023-07-03T17:51:56.722480Z",
     "start_time": "2023-07-03T17:51:54.827605Z"
    },
    "collapsed": false,
    "jupyter": {
     "outputs_hidden": false
    },
    "pycharm": {
     "name": "#%%\n"
    }
   },
   "outputs": [
    {
     "data": {
      "text/html": [
       "<div>\n",
       "<style scoped>\n",
       "    .dataframe tbody tr th:only-of-type {\n",
       "        vertical-align: middle;\n",
       "    }\n",
       "\n",
       "    .dataframe tbody tr th {\n",
       "        vertical-align: top;\n",
       "    }\n",
       "\n",
       "    .dataframe thead th {\n",
       "        text-align: right;\n",
       "    }\n",
       "</style>\n",
       "<table border=\"1\" class=\"dataframe\">\n",
       "  <thead>\n",
       "    <tr style=\"text-align: right;\">\n",
       "      <th></th>\n",
       "      <th>Unnamed: 0</th>\n",
       "      <th>word</th>\n",
       "      <th>lemma</th>\n",
       "      <th>pos_tag</th>\n",
       "      <th>freq</th>\n",
       "    </tr>\n",
       "  </thead>\n",
       "  <tbody>\n",
       "    <tr>\n",
       "      <th>0</th>\n",
       "      <td>0</td>\n",
       "      <td>ამ</td>\n",
       "      <td>ეს</td>\n",
       "      <td>Pron</td>\n",
       "      <td>1041654</td>\n",
       "    </tr>\n",
       "    <tr>\n",
       "      <th>1</th>\n",
       "      <td>1</td>\n",
       "      <td>ზამთრის</td>\n",
       "      <td>ზამთარი</td>\n",
       "      <td>N</td>\n",
       "      <td>8035</td>\n",
       "    </tr>\n",
       "    <tr>\n",
       "      <th>2</th>\n",
       "      <td>2</td>\n",
       "      <td>მიწურულს</td>\n",
       "      <td>მიწურული</td>\n",
       "      <td>Dat</td>\n",
       "      <td>5976</td>\n",
       "    </tr>\n",
       "    <tr>\n",
       "      <th>3</th>\n",
       "      <td>3</td>\n",
       "      <td>თითქმის</td>\n",
       "      <td>თითქმის</td>\n",
       "      <td>Adv</td>\n",
       "      <td>62608</td>\n",
       "    </tr>\n",
       "    <tr>\n",
       "      <th>4</th>\n",
       "      <td>4</td>\n",
       "      <td>სასოწარკვეთილი</td>\n",
       "      <td>სასოწარკვეთილი</td>\n",
       "      <td>A</td>\n",
       "      <td>844</td>\n",
       "    </tr>\n",
       "    <tr>\n",
       "      <th>...</th>\n",
       "      <td>...</td>\n",
       "      <td>...</td>\n",
       "      <td>...</td>\n",
       "      <td>...</td>\n",
       "      <td>...</td>\n",
       "    </tr>\n",
       "    <tr>\n",
       "      <th>95</th>\n",
       "      <td>105</td>\n",
       "      <td>შუბლზე</td>\n",
       "      <td>შუბლი</td>\n",
       "      <td>N</td>\n",
       "      <td>1697</td>\n",
       "    </tr>\n",
       "    <tr>\n",
       "      <th>96</th>\n",
       "      <td>106</td>\n",
       "      <td>ვაკოცე</td>\n",
       "      <td>კოცნა</td>\n",
       "      <td>V</td>\n",
       "      <td>174</td>\n",
       "    </tr>\n",
       "    <tr>\n",
       "      <th>97</th>\n",
       "      <td>107</td>\n",
       "      <td>როგორც</td>\n",
       "      <td>როგორც</td>\n",
       "      <td>Cj</td>\n",
       "      <td>478016</td>\n",
       "    </tr>\n",
       "    <tr>\n",
       "      <th>98</th>\n",
       "      <td>108</td>\n",
       "      <td>ჩანს</td>\n",
       "      <td>*ჩენა</td>\n",
       "      <td>V</td>\n",
       "      <td>57172</td>\n",
       "    </tr>\n",
       "    <tr>\n",
       "      <th>99</th>\n",
       "      <td>109</td>\n",
       "      <td>მაშინ</td>\n",
       "      <td>მაშინ</td>\n",
       "      <td>Adv</td>\n",
       "      <td>154162</td>\n",
       "    </tr>\n",
       "  </tbody>\n",
       "</table>\n",
       "<p>100 rows × 5 columns</p>\n",
       "</div>"
      ],
      "text/plain": [
       "    Unnamed: 0            word           lemma pos_tag     freq\n",
       "0            0              ამ              ეს    Pron  1041654\n",
       "1            1         ზამთრის         ზამთარი       N     8035\n",
       "2            2        მიწურულს        მიწურული     Dat     5976\n",
       "3            3         თითქმის         თითქმის     Adv    62608\n",
       "4            4  სასოწარკვეთილი  სასოწარკვეთილი       A      844\n",
       "..         ...             ...             ...     ...      ...\n",
       "95         105          შუბლზე           შუბლი       N     1697\n",
       "96         106          ვაკოცე           კოცნა       V      174\n",
       "97         107          როგორც          როგორც      Cj   478016\n",
       "98         108            ჩანს           *ჩენა       V    57172\n",
       "99         109           მაშინ           მაშინ     Adv   154162\n",
       "\n",
       "[100 rows x 5 columns]"
      ]
     },
     "execution_count": 2,
     "metadata": {},
     "output_type": "execute_result"
    }
   ],
   "source": [
    "df = pd.read_csv('csv/data.csv')\n",
    "df[:100]"
   ]
  },
  {
   "cell_type": "code",
   "execution_count": 3,
   "metadata": {
    "ExecuteTime": {
     "end_time": "2023-07-03T17:51:56.760243Z",
     "start_time": "2023-07-03T17:51:56.736164Z"
    },
    "collapsed": false,
    "jupyter": {
     "outputs_hidden": false
    },
    "pycharm": {
     "name": "#%%\n"
    }
   },
   "outputs": [
    {
     "data": {
      "text/html": [
       "<div>\n",
       "<style scoped>\n",
       "    .dataframe tbody tr th:only-of-type {\n",
       "        vertical-align: middle;\n",
       "    }\n",
       "\n",
       "    .dataframe tbody tr th {\n",
       "        vertical-align: top;\n",
       "    }\n",
       "\n",
       "    .dataframe thead th {\n",
       "        text-align: right;\n",
       "    }\n",
       "</style>\n",
       "<table border=\"1\" class=\"dataframe\">\n",
       "  <thead>\n",
       "    <tr style=\"text-align: right;\">\n",
       "      <th></th>\n",
       "      <th>word</th>\n",
       "      <th>lemma</th>\n",
       "      <th>pos_tag</th>\n",
       "      <th>freq</th>\n",
       "    </tr>\n",
       "  </thead>\n",
       "  <tbody>\n",
       "    <tr>\n",
       "      <th>0</th>\n",
       "      <td>ამ</td>\n",
       "      <td>ეს</td>\n",
       "      <td>Pron</td>\n",
       "      <td>1041654</td>\n",
       "    </tr>\n",
       "    <tr>\n",
       "      <th>1</th>\n",
       "      <td>ზამთრის</td>\n",
       "      <td>ზამთარი</td>\n",
       "      <td>N</td>\n",
       "      <td>8035</td>\n",
       "    </tr>\n",
       "    <tr>\n",
       "      <th>2</th>\n",
       "      <td>მიწურულს</td>\n",
       "      <td>მიწურული</td>\n",
       "      <td>Dat</td>\n",
       "      <td>5976</td>\n",
       "    </tr>\n",
       "    <tr>\n",
       "      <th>3</th>\n",
       "      <td>თითქმის</td>\n",
       "      <td>თითქმის</td>\n",
       "      <td>Adv</td>\n",
       "      <td>62608</td>\n",
       "    </tr>\n",
       "    <tr>\n",
       "      <th>4</th>\n",
       "      <td>სასოწარკვეთილი</td>\n",
       "      <td>სასოწარკვეთილი</td>\n",
       "      <td>A</td>\n",
       "      <td>844</td>\n",
       "    </tr>\n",
       "    <tr>\n",
       "      <th>...</th>\n",
       "      <td>...</td>\n",
       "      <td>...</td>\n",
       "      <td>...</td>\n",
       "      <td>...</td>\n",
       "    </tr>\n",
       "    <tr>\n",
       "      <th>1366987</th>\n",
       "      <td>რედაქტორებამდე</td>\n",
       "      <td>რედაქტორი</td>\n",
       "      <td>N</td>\n",
       "      <td>1</td>\n",
       "    </tr>\n",
       "    <tr>\n",
       "      <th>1366988</th>\n",
       "      <td>წაეჩხუბებით</td>\n",
       "      <td>წაჩხუბი</td>\n",
       "      <td>V</td>\n",
       "      <td>1</td>\n",
       "    </tr>\n",
       "    <tr>\n",
       "      <th>1366989</th>\n",
       "      <td>აგვწონეს</td>\n",
       "      <td>აწონა</td>\n",
       "      <td>V</td>\n",
       "      <td>1</td>\n",
       "    </tr>\n",
       "    <tr>\n",
       "      <th>1366990</th>\n",
       "      <td>ტორონჯაძისა</td>\n",
       "      <td>ტორონჯაძე</td>\n",
       "      <td>N</td>\n",
       "      <td>1</td>\n",
       "    </tr>\n",
       "    <tr>\n",
       "      <th>1366991</th>\n",
       "      <td>სეპარატიზმადაა</td>\n",
       "      <td>სეპარატიზმი</td>\n",
       "      <td>N</td>\n",
       "      <td>1</td>\n",
       "    </tr>\n",
       "  </tbody>\n",
       "</table>\n",
       "<p>1366992 rows × 4 columns</p>\n",
       "</div>"
      ],
      "text/plain": [
       "                   word           lemma pos_tag     freq\n",
       "0                    ამ              ეს    Pron  1041654\n",
       "1               ზამთრის         ზამთარი       N     8035\n",
       "2              მიწურულს        მიწურული     Dat     5976\n",
       "3               თითქმის         თითქმის     Adv    62608\n",
       "4        სასოწარკვეთილი  სასოწარკვეთილი       A      844\n",
       "...                 ...             ...     ...      ...\n",
       "1366987  რედაქტორებამდე       რედაქტორი       N        1\n",
       "1366988     წაეჩხუბებით         წაჩხუბი       V        1\n",
       "1366989        აგვწონეს           აწონა       V        1\n",
       "1366990     ტორონჯაძისა       ტორონჯაძე       N        1\n",
       "1366991  სეპარატიზმადაა     სეპარატიზმი       N        1\n",
       "\n",
       "[1366992 rows x 4 columns]"
      ]
     },
     "execution_count": 3,
     "metadata": {},
     "output_type": "execute_result"
    }
   ],
   "source": [
    "df = df.drop([\"Unnamed: 0\"], axis=1)\n",
    "df"
   ]
  },
  {
   "cell_type": "code",
   "execution_count": 4,
   "metadata": {
    "ExecuteTime": {
     "end_time": "2023-07-03T17:51:56.891164Z",
     "start_time": "2023-07-03T17:51:56.743927Z"
    },
    "collapsed": false,
    "jupyter": {
     "outputs_hidden": false
    },
    "pycharm": {
     "name": "#%%\n"
    }
   },
   "outputs": [
    {
     "data": {
      "text/html": [
       "<div>\n",
       "<style scoped>\n",
       "    .dataframe tbody tr th:only-of-type {\n",
       "        vertical-align: middle;\n",
       "    }\n",
       "\n",
       "    .dataframe tbody tr th {\n",
       "        vertical-align: top;\n",
       "    }\n",
       "\n",
       "    .dataframe thead th {\n",
       "        text-align: right;\n",
       "    }\n",
       "</style>\n",
       "<table border=\"1\" class=\"dataframe\">\n",
       "  <thead>\n",
       "    <tr style=\"text-align: right;\">\n",
       "      <th></th>\n",
       "      <th>word</th>\n",
       "      <th>lemma</th>\n",
       "      <th>pos_tag</th>\n",
       "      <th>freq</th>\n",
       "    </tr>\n",
       "  </thead>\n",
       "  <tbody>\n",
       "    <tr>\n",
       "      <th>2975</th>\n",
       "      <td>თქმა</td>\n",
       "      <td>თქმა</td>\n",
       "      <td>&lt;MWE&gt;</td>\n",
       "      <td>82436</td>\n",
       "    </tr>\n",
       "  </tbody>\n",
       "</table>\n",
       "</div>"
      ],
      "text/plain": [
       "      word lemma pos_tag   freq\n",
       "2975  თქმა  თქმა   <MWE>  82436"
      ]
     },
     "execution_count": 4,
     "metadata": {},
     "output_type": "execute_result"
    }
   ],
   "source": [
    "df.query(\"word == 'თქმა'\")"
   ]
  },
  {
   "cell_type": "code",
   "execution_count": 5,
   "metadata": {
    "ExecuteTime": {
     "end_time": "2023-07-03T17:51:57.231293Z",
     "start_time": "2023-07-03T17:51:56.836713Z"
    },
    "collapsed": false,
    "jupyter": {
     "outputs_hidden": false
    }
   },
   "outputs": [
    {
     "data": {
      "text/html": [
       "<div>\n",
       "<style scoped>\n",
       "    .dataframe tbody tr th:only-of-type {\n",
       "        vertical-align: middle;\n",
       "    }\n",
       "\n",
       "    .dataframe tbody tr th {\n",
       "        vertical-align: top;\n",
       "    }\n",
       "\n",
       "    .dataframe thead th {\n",
       "        text-align: right;\n",
       "    }\n",
       "</style>\n",
       "<table border=\"1\" class=\"dataframe\">\n",
       "  <thead>\n",
       "    <tr style=\"text-align: right;\">\n",
       "      <th></th>\n",
       "      <th>word</th>\n",
       "      <th>lemma</th>\n",
       "      <th>pos_tag</th>\n",
       "      <th>freq</th>\n",
       "    </tr>\n",
       "  </thead>\n",
       "  <tbody>\n",
       "    <tr>\n",
       "      <th>6122</th>\n",
       "      <td>ვისთან</td>\n",
       "      <td>ვინ</td>\n",
       "      <td>PP</td>\n",
       "      <td>3150</td>\n",
       "    </tr>\n",
       "    <tr>\n",
       "      <th>20076</th>\n",
       "      <td>თავისთან</td>\n",
       "      <td>თავისი</td>\n",
       "      <td>PP</td>\n",
       "      <td>1383</td>\n",
       "    </tr>\n",
       "    <tr>\n",
       "      <th>86004</th>\n",
       "      <td>ვისთანმე</td>\n",
       "      <td>ვინ</td>\n",
       "      <td>PP</td>\n",
       "      <td>22</td>\n",
       "    </tr>\n",
       "    <tr>\n",
       "      <th>101275</th>\n",
       "      <td>თავისთანაც</td>\n",
       "      <td>თავისი</td>\n",
       "      <td>PP</td>\n",
       "      <td>10</td>\n",
       "    </tr>\n",
       "    <tr>\n",
       "      <th>113210</th>\n",
       "      <td>უფროსებში</td>\n",
       "      <td>უფროსი</td>\n",
       "      <td>PP</td>\n",
       "      <td>281</td>\n",
       "    </tr>\n",
       "    <tr>\n",
       "      <th>127798</th>\n",
       "      <td>მანანასთან</td>\n",
       "      <td>მანანა</td>\n",
       "      <td>PP</td>\n",
       "      <td>31</td>\n",
       "    </tr>\n",
       "    <tr>\n",
       "      <th>132171</th>\n",
       "      <td>უფროსებთან</td>\n",
       "      <td>უფროსი</td>\n",
       "      <td>PP</td>\n",
       "      <td>249</td>\n",
       "    </tr>\n",
       "    <tr>\n",
       "      <th>164777</th>\n",
       "      <td>უფროსებზე</td>\n",
       "      <td>უფროსი</td>\n",
       "      <td>PP</td>\n",
       "      <td>42</td>\n",
       "    </tr>\n",
       "    <tr>\n",
       "      <th>569069</th>\n",
       "      <td>დელისთან</td>\n",
       "      <td>დელისი</td>\n",
       "      <td>PP</td>\n",
       "      <td>52</td>\n",
       "    </tr>\n",
       "    <tr>\n",
       "      <th>613901</th>\n",
       "      <td>აღარავისთან</td>\n",
       "      <td>აღარავინ</td>\n",
       "      <td>PP</td>\n",
       "      <td>13</td>\n",
       "    </tr>\n",
       "    <tr>\n",
       "      <th>635074</th>\n",
       "      <td>ვერასთან</td>\n",
       "      <td>ვერა</td>\n",
       "      <td>PP</td>\n",
       "      <td>10</td>\n",
       "    </tr>\n",
       "    <tr>\n",
       "      <th>930929</th>\n",
       "      <td>კასებზე</td>\n",
       "      <td>კასა</td>\n",
       "      <td>PP</td>\n",
       "      <td>3</td>\n",
       "    </tr>\n",
       "    <tr>\n",
       "      <th>1030738</th>\n",
       "      <td>უფროსებშიც</td>\n",
       "      <td>უფროსი</td>\n",
       "      <td>PP</td>\n",
       "      <td>26</td>\n",
       "    </tr>\n",
       "  </tbody>\n",
       "</table>\n",
       "</div>"
      ],
      "text/plain": [
       "                word     lemma pos_tag  freq\n",
       "6122          ვისთან       ვინ      PP  3150\n",
       "20076       თავისთან    თავისი      PP  1383\n",
       "86004       ვისთანმე       ვინ      PP    22\n",
       "101275    თავისთანაც    თავისი      PP    10\n",
       "113210     უფროსებში    უფროსი      PP   281\n",
       "127798    მანანასთან    მანანა      PP    31\n",
       "132171    უფროსებთან    უფროსი      PP   249\n",
       "164777     უფროსებზე    უფროსი      PP    42\n",
       "569069      დელისთან    დელისი      PP    52\n",
       "613901   აღარავისთან  აღარავინ      PP    13\n",
       "635074      ვერასთან      ვერა      PP    10\n",
       "930929       კასებზე      კასა      PP     3\n",
       "1030738   უფროსებშიც    უფროსი      PP    26"
      ]
     },
     "execution_count": 5,
     "metadata": {},
     "output_type": "execute_result"
    }
   ],
   "source": [
    "df.query(\"pos_tag.str.startswith('PP')\")"
   ]
  },
  {
   "cell_type": "code",
   "execution_count": 6,
   "metadata": {
    "ExecuteTime": {
     "end_time": "2023-07-03T17:51:57.303291Z",
     "start_time": "2023-07-03T17:51:57.238105Z"
    },
    "collapsed": false,
    "jupyter": {
     "outputs_hidden": false
    }
   },
   "outputs": [
    {
     "data": {
      "text/html": [
       "<div>\n",
       "<style scoped>\n",
       "    .dataframe tbody tr th:only-of-type {\n",
       "        vertical-align: middle;\n",
       "    }\n",
       "\n",
       "    .dataframe tbody tr th {\n",
       "        vertical-align: top;\n",
       "    }\n",
       "\n",
       "    .dataframe thead th {\n",
       "        text-align: right;\n",
       "    }\n",
       "</style>\n",
       "<table border=\"1\" class=\"dataframe\">\n",
       "  <thead>\n",
       "    <tr style=\"text-align: right;\">\n",
       "      <th></th>\n",
       "      <th>word</th>\n",
       "      <th>lemma</th>\n",
       "      <th>pos_tag</th>\n",
       "      <th>freq</th>\n",
       "    </tr>\n",
       "  </thead>\n",
       "  <tbody>\n",
       "    <tr>\n",
       "      <th>74610</th>\n",
       "      <td>ურომლისოდაც</td>\n",
       "      <td>ურომლისოდაც</td>\n",
       "      <td>Rel:ც</td>\n",
       "      <td>454</td>\n",
       "    </tr>\n",
       "  </tbody>\n",
       "</table>\n",
       "</div>"
      ],
      "text/plain": [
       "              word        lemma pos_tag  freq\n",
       "74610  ურომლისოდაც  ურომლისოდაც   Rel:ც   454"
      ]
     },
     "execution_count": 6,
     "metadata": {},
     "output_type": "execute_result"
    }
   ],
   "source": [
    "junk = ['Foreign', 'Unknown', '>XCOMP', 'Symbol', 'Guess', '<MWE>', 'X', 'Punct']\n",
    "# SG -> a LOT. PL -> a LOT.\n",
    "df.query(\"pos_tag == 'Rel:ც'\")"
   ]
  },
  {
   "cell_type": "code",
   "execution_count": 7,
   "metadata": {
    "ExecuteTime": {
     "end_time": "2023-07-03T17:51:57.395111Z",
     "start_time": "2023-07-03T17:51:57.296225Z"
    },
    "collapsed": false,
    "jupyter": {
     "outputs_hidden": false
    }
   },
   "outputs": [
    {
     "data": {
      "text/plain": [
       "pos_tag\n",
       "<MWE>              190\n",
       "A               195869\n",
       "Abs                  2\n",
       "Adv               6167\n",
       "Advb              1113\n",
       "Att                122\n",
       "Cj                 289\n",
       "Compl                8\n",
       "Dat               3221\n",
       "Dialect             22\n",
       "Encl:Aux           115\n",
       "Encl:IndSp1         47\n",
       "Encl:IndSp2         13\n",
       "Encl:IndSp3        313\n",
       "Encl:ვე             33\n",
       "Encl:კი              5\n",
       "Encl:მე              7\n",
       "Encl:ღა             24\n",
       "Encl:ც             206\n",
       "Erg               1043\n",
       "Foc                205\n",
       "Gen               1066\n",
       "Hum               1803\n",
       "Imp                  1\n",
       "Inst               566\n",
       "Int                 14\n",
       "Interj             882\n",
       "L                  171\n",
       "LevGuess            35\n",
       "Modal                5\n",
       "N               729021\n",
       "Neg                  5\n",
       "Nom               4400\n",
       "NonStand            40\n",
       "Num               4892\n",
       "Old                225\n",
       "PP                  13\n",
       "Pl                 314\n",
       "Pot                  2\n",
       "Pp                 213\n",
       "Pron              4047\n",
       "Prop               426\n",
       "Pv                1281\n",
       "Quant               16\n",
       "Rel:ც                1\n",
       "Sg                 364\n",
       "Temp                51\n",
       "Unknown             13\n",
       "Unrecognized        45\n",
       "V               407847\n",
       "Voc                219\n",
       "Name: pos_tag, dtype: int64"
      ]
     },
     "execution_count": 7,
     "metadata": {},
     "output_type": "execute_result"
    }
   ],
   "source": [
    "df.groupby(by='pos_tag').pos_tag.count()"
   ]
  },
  {
   "cell_type": "code",
   "execution_count": 8,
   "metadata": {
    "ExecuteTime": {
     "end_time": "2023-07-03T17:51:57.398635Z",
     "start_time": "2023-07-03T17:51:57.393771Z"
    },
    "collapsed": false,
    "jupyter": {
     "outputs_hidden": false
    }
   },
   "outputs": [],
   "source": [
    "main_pos = ['N', 'V', 'Adv', 'A', 'Num', 'Pron', 'Cj', 'Interj', 'Pp']"
   ]
  },
  {
   "cell_type": "code",
   "execution_count": 9,
   "metadata": {
    "ExecuteTime": {
     "end_time": "2023-07-03T17:51:58.144434Z",
     "start_time": "2023-07-03T17:51:57.400440Z"
    },
    "collapsed": false,
    "jupyter": {
     "outputs_hidden": false
    }
   },
   "outputs": [],
   "source": [
    "def convert(tag):\n",
    "    try:\n",
    "        return {\"Nom\":\"N\", \"Dat\":\"N\", \"Gen\":\"N\", \"Erg\":\"N\", \"Voc\":\"N\", \"Inst\":\"N\", \"Foc\":\"Adv\", \"Att\": 'Adv', \"Pv\": \"V\"}[tag]\n",
    "    except KeyError:\n",
    "        if tag in main_pos:\n",
    "            return tag\n",
    "        return 'Other'\n",
    "\n",
    "df.pos_tag = df.pos_tag.agg(convert)"
   ]
  },
  {
   "cell_type": "code",
   "execution_count": 10,
   "metadata": {
    "ExecuteTime": {
     "end_time": "2023-07-03T17:51:58.489842Z",
     "start_time": "2023-07-03T17:51:58.147152Z"
    },
    "collapsed": false,
    "jupyter": {
     "outputs_hidden": false
    }
   },
   "outputs": [
    {
     "data": {
      "text/plain": [
       "<Axes: xlabel='word', ylabel='pos_tag'>"
      ]
     },
     "execution_count": 10,
     "metadata": {},
     "output_type": "execute_result"
    },
    {
     "data": {
      "image/png": "[encoded data removed]",
      "text/plain": [
       "<Figure size 1000x1500 with 1 Axes>"
      ]
     },
     "metadata": {},
     "output_type": "display_data"
    }
   ],
   "source": [
    "plt.figure(figsize=(10, 15))\n",
    "sns.barplot(data=df.groupby(by=\"pos_tag\")[\"word\"].count().reset_index().sort_values(by=\"word\", ascending=False), y=\"pos_tag\", x=\"word\")"
   ]
  },
  {
   "cell_type": "markdown",
   "metadata": {},
   "source": [
    "## სიტყვის სიგრძეები"
   ]
  },
  {
   "cell_type": "code",
   "execution_count": 11,
   "metadata": {
    "ExecuteTime": {
     "end_time": "2023-07-03T17:51:59.192437Z",
     "start_time": "2023-07-03T17:51:58.524067Z"
    },
    "collapsed": false,
    "jupyter": {
     "outputs_hidden": false
    }
   },
   "outputs": [
    {
     "data": {
      "text/html": [
       "<div>\n",
       "<style scoped>\n",
       "    .dataframe tbody tr th:only-of-type {\n",
       "        vertical-align: middle;\n",
       "    }\n",
       "\n",
       "    .dataframe tbody tr th {\n",
       "        vertical-align: top;\n",
       "    }\n",
       "\n",
       "    .dataframe thead th {\n",
       "        text-align: right;\n",
       "    }\n",
       "</style>\n",
       "<table border=\"1\" class=\"dataframe\">\n",
       "  <thead>\n",
       "    <tr style=\"text-align: right;\">\n",
       "      <th></th>\n",
       "      <th>word</th>\n",
       "      <th>ratio</th>\n",
       "      <th>word_length</th>\n",
       "      <th>lemma_length</th>\n",
       "    </tr>\n",
       "  </thead>\n",
       "  <tbody>\n",
       "    <tr>\n",
       "      <th>0</th>\n",
       "      <td>ამ</td>\n",
       "      <td>1.000000</td>\n",
       "      <td>2</td>\n",
       "      <td>2</td>\n",
       "    </tr>\n",
       "    <tr>\n",
       "      <th>1</th>\n",
       "      <td>ზამთრის</td>\n",
       "      <td>1.000000</td>\n",
       "      <td>7</td>\n",
       "      <td>7</td>\n",
       "    </tr>\n",
       "    <tr>\n",
       "      <th>2</th>\n",
       "      <td>მიწურულს</td>\n",
       "      <td>1.000000</td>\n",
       "      <td>8</td>\n",
       "      <td>8</td>\n",
       "    </tr>\n",
       "    <tr>\n",
       "      <th>3</th>\n",
       "      <td>თითქმის</td>\n",
       "      <td>1.000000</td>\n",
       "      <td>7</td>\n",
       "      <td>7</td>\n",
       "    </tr>\n",
       "    <tr>\n",
       "      <th>4</th>\n",
       "      <td>სასოწარკვეთილი</td>\n",
       "      <td>1.000000</td>\n",
       "      <td>14</td>\n",
       "      <td>14</td>\n",
       "    </tr>\n",
       "    <tr>\n",
       "      <th>...</th>\n",
       "      <td>...</td>\n",
       "      <td>...</td>\n",
       "      <td>...</td>\n",
       "      <td>...</td>\n",
       "    </tr>\n",
       "    <tr>\n",
       "      <th>1366987</th>\n",
       "      <td>რედაქტორებამდე</td>\n",
       "      <td>1.555556</td>\n",
       "      <td>14</td>\n",
       "      <td>9</td>\n",
       "    </tr>\n",
       "    <tr>\n",
       "      <th>1366988</th>\n",
       "      <td>წაეჩხუბებით</td>\n",
       "      <td>1.571429</td>\n",
       "      <td>11</td>\n",
       "      <td>7</td>\n",
       "    </tr>\n",
       "    <tr>\n",
       "      <th>1366989</th>\n",
       "      <td>აგვწონეს</td>\n",
       "      <td>1.600000</td>\n",
       "      <td>8</td>\n",
       "      <td>5</td>\n",
       "    </tr>\n",
       "    <tr>\n",
       "      <th>1366990</th>\n",
       "      <td>ტორონჯაძისა</td>\n",
       "      <td>1.222222</td>\n",
       "      <td>11</td>\n",
       "      <td>9</td>\n",
       "    </tr>\n",
       "    <tr>\n",
       "      <th>1366991</th>\n",
       "      <td>სეპარატიზმადაა</td>\n",
       "      <td>1.272727</td>\n",
       "      <td>14</td>\n",
       "      <td>11</td>\n",
       "    </tr>\n",
       "  </tbody>\n",
       "</table>\n",
       "<p>1366992 rows × 4 columns</p>\n",
       "</div>"
      ],
      "text/plain": [
       "                   word     ratio  word_length  lemma_length\n",
       "0                    ამ  1.000000            2             2\n",
       "1               ზამთრის  1.000000            7             7\n",
       "2              მიწურულს  1.000000            8             8\n",
       "3               თითქმის  1.000000            7             7\n",
       "4        სასოწარკვეთილი  1.000000           14            14\n",
       "...                 ...       ...          ...           ...\n",
       "1366987  რედაქტორებამდე  1.555556           14             9\n",
       "1366988     წაეჩხუბებით  1.571429           11             7\n",
       "1366989        აგვწონეს  1.600000            8             5\n",
       "1366990     ტორონჯაძისა  1.222222           11             9\n",
       "1366991  სეპარატიზმადაა  1.272727           14            11\n",
       "\n",
       "[1366992 rows x 4 columns]"
      ]
     },
     "execution_count": 11,
     "metadata": {},
     "output_type": "execute_result"
    }
   ],
   "source": [
    "df['word_length'] = df.word.str.len()\n",
    "df['lemma_length'] = df.lemma.str.len()\n",
    "df['ratio'] = df['word_length'] / df['lemma_length']\n",
    "df[['word', 'ratio', 'word_length', 'lemma_length']]"
   ]
  },
  {
   "cell_type": "code",
   "execution_count": 12,
   "metadata": {
    "ExecuteTime": {
     "end_time": "2023-07-03T17:51:59.705351Z",
     "start_time": "2023-07-03T17:51:59.195311Z"
    },
    "collapsed": false,
    "jupyter": {
     "outputs_hidden": false
    }
   },
   "outputs": [
    {
     "name": "stdout",
     "output_type": "stream",
     "text": [
      "max: 36, min: 1\n"
     ]
    },
    {
     "data": {
      "text/plain": [
       "<Axes: xlabel='lemma_length', ylabel='count'>"
      ]
     },
     "execution_count": 12,
     "metadata": {},
     "output_type": "execute_result"
    },
    {
     "data": {
      "image/png": "[encoded data removed]",
      "text/plain": [
       "<Figure size 1000x500 with 1 Axes>"
      ]
     },
     "metadata": {},
     "output_type": "display_data"
    }
   ],
   "source": [
    "print(f'max: {df[\"lemma_length\"].max()}, min: {df[\"lemma_length\"].min()}')\n",
    "plt.figure(figsize=(10, 5))\n",
    "sns.countplot(data=df, x='lemma_length')"
   ]
  },
  {
   "cell_type": "code",
   "execution_count": 13,
   "metadata": {
    "ExecuteTime": {
     "end_time": "2023-07-03T17:51:59.776236Z",
     "start_time": "2023-07-03T17:51:59.708124Z"
    },
    "collapsed": false,
    "jupyter": {
     "outputs_hidden": false
    }
   },
   "outputs": [
    {
     "data": {
      "text/plain": [
       "0.01     3.0\n",
       "0.02     4.0\n",
       "0.03     4.0\n",
       "0.04     4.0\n",
       "0.05     4.0\n",
       "        ... \n",
       "0.95    13.0\n",
       "0.96    13.0\n",
       "0.97    14.0\n",
       "0.98    14.0\n",
       "0.99    15.0\n",
       "Name: lemma_length, Length: 99, dtype: float64"
      ]
     },
     "execution_count": 13,
     "metadata": {},
     "output_type": "execute_result"
    }
   ],
   "source": [
    "df.lemma_length.quantile(q=[ i / 100 for i in range(1, 100)])"
   ]
  },
  {
   "cell_type": "code",
   "execution_count": 14,
   "metadata": {
    "ExecuteTime": {
     "end_time": "2023-07-03T17:51:59.830274Z",
     "start_time": "2023-07-03T17:51:59.756333Z"
    },
    "collapsed": false,
    "jupyter": {
     "outputs_hidden": false
    }
   },
   "outputs": [],
   "source": [
    "df['lemma_length_category'] = pd.qcut(df.lemma_length, [0, 0.33, 0.67, 1], labels=['low', 'medium', 'high'])"
   ]
  },
  {
   "cell_type": "code",
   "execution_count": 15,
   "metadata": {
    "ExecuteTime": {
     "end_time": "2023-07-03T17:52:00.422780Z",
     "start_time": "2023-07-03T17:51:59.831739Z"
    },
    "collapsed": false,
    "jupyter": {
     "outputs_hidden": false
    }
   },
   "outputs": [
    {
     "name": "stdout",
     "output_type": "stream",
     "text": [
      "max: 32, min: 1\n"
     ]
    },
    {
     "data": {
      "text/plain": [
       "<Axes: xlabel='word_length', ylabel='count'>"
      ]
     },
     "execution_count": 15,
     "metadata": {},
     "output_type": "execute_result"
    },
    {
     "data": {
      "image/png": "[encoded data removed]",
      "text/plain": [
       "<Figure size 1000x500 with 1 Axes>"
      ]
     },
     "metadata": {},
     "output_type": "display_data"
    }
   ],
   "source": [
    "print(f'max: {df[\"word_length\"].max()}, min: {df[\"word_length\"].min()}')\n",
    "plt.figure(figsize=(10, 5))\n",
    "sns.countplot(data=df, x='word_length')"
   ]
  },
  {
   "cell_type": "code",
   "execution_count": 16,
   "metadata": {
    "ExecuteTime": {
     "end_time": "2023-07-03T17:52:00.500300Z",
     "start_time": "2023-07-03T17:52:00.424773Z"
    },
    "collapsed": false,
    "jupyter": {
     "outputs_hidden": false
    }
   },
   "outputs": [],
   "source": [
    "df['word_length_category'] = pd.qcut(df.word_length, [0, 0.33, 0.67, 1], labels=['low', 'medium', 'high'])"
   ]
  },
  {
   "cell_type": "code",
   "execution_count": 17,
   "metadata": {
    "ExecuteTime": {
     "end_time": "2023-07-03T17:52:01.059615Z",
     "start_time": "2023-07-03T17:52:00.501153Z"
    },
    "collapsed": false,
    "jupyter": {
     "outputs_hidden": false
    }
   },
   "outputs": [
    {
     "data": {
      "text/plain": [
       "Text(0.5, 0, '')"
      ]
     },
     "execution_count": 17,
     "metadata": {},
     "output_type": "execute_result"
    },
    {
     "data": {
      "image/png": "[encoded data removed]",
      "text/plain": [
       "<Figure size 1000x500 with 1 Axes>"
      ]
     },
     "metadata": {},
     "output_type": "display_data"
    }
   ],
   "source": [
    "plt.figure(figsize=(10, 5))\n",
    "sns.countplot(data=df, x='word_length', color='red', alpha=0.7)\n",
    "sns.countplot(data=df, x='lemma_length', color='blue', alpha=0.7)\n",
    "plt.xlabel(\"\")"
   ]
  },
  {
   "cell_type": "code",
   "execution_count": 18,
   "metadata": {
    "ExecuteTime": {
     "end_time": "2023-07-03T17:52:01.699062Z",
     "start_time": "2023-07-03T17:52:01.062228Z"
    },
    "collapsed": false,
    "jupyter": {
     "outputs_hidden": false
    }
   },
   "outputs": [
    {
     "name": "stdout",
     "output_type": "stream",
     "text": [
      "max: 11.0, min: 0.2\n"
     ]
    },
    {
     "data": {
      "text/plain": [
       "<Axes: xlabel='ratio', ylabel='Count'>"
      ]
     },
     "execution_count": 18,
     "metadata": {},
     "output_type": "execute_result"
    },
    {
     "data": {
      "image/png": "[encoded data removed]",
      "text/plain": [
       "<Figure size 1000x500 with 1 Axes>"
      ]
     },
     "metadata": {},
     "output_type": "display_data"
    }
   ],
   "source": [
    "print(f'max: {df[\"ratio\"].max()}, min: {df[\"ratio\"].min()}')\n",
    "plt.figure(figsize=(10, 5))\n",
    "sns.histplot(data=df[df.ratio.between(*list(df.ratio.quantile([.01, .9])))], x='ratio', binwidth=0.2, stat='count')"
   ]
  },
  {
   "cell_type": "code",
   "execution_count": 19,
   "metadata": {
    "ExecuteTime": {
     "end_time": "2023-07-03T17:52:01.818890Z",
     "start_time": "2023-07-03T17:52:01.697603Z"
    },
    "collapsed": false,
    "jupyter": {
     "outputs_hidden": false
    }
   },
   "outputs": [
    {
     "data": {
      "text/plain": [
       "1.2"
      ]
     },
     "execution_count": 19,
     "metadata": {},
     "output_type": "execute_result"
    }
   ],
   "source": [
    "df['ratio'].quantile()"
   ]
  },
  {
   "cell_type": "code",
   "execution_count": 20,
   "metadata": {
    "ExecuteTime": {
     "end_time": "2023-07-03T17:52:02.084231Z",
     "start_time": "2023-07-03T17:52:01.728108Z"
    },
    "collapsed": false,
    "jupyter": {
     "outputs_hidden": false
    }
   },
   "outputs": [],
   "source": [
    "conditions = [\n",
    "    df['ratio'] < 1,\n",
    "    df['ratio'] == 1,\n",
    "    df['ratio'] > 1\n",
    "]\n",
    "choices = ['less', 'equal', 'greater']\n",
    "df['ratio_category'] = np.select(conditions, choices)"
   ]
  },
  {
   "cell_type": "code",
   "execution_count": 21,
   "metadata": {
    "ExecuteTime": {
     "end_time": "2023-07-03T17:52:02.967385Z",
     "start_time": "2023-07-03T17:52:02.120637Z"
    },
    "collapsed": false,
    "jupyter": {
     "outputs_hidden": false
    }
   },
   "outputs": [
    {
     "data": {
      "text/plain": [
       "<Axes: xlabel='ratio_category', ylabel='count'>"
      ]
     },
     "execution_count": 21,
     "metadata": {},
     "output_type": "execute_result"
    },
    {
     "data": {
      "image/png": "[encoded data removed]",
      "text/plain": [
       "<Figure size 640x480 with 1 Axes>"
      ]
     },
     "metadata": {},
     "output_type": "display_data"
    }
   ],
   "source": [
    "sns.countplot(df, x='ratio_category')"
   ]
  },
  {
   "cell_type": "code",
   "execution_count": 22,
   "metadata": {
    "ExecuteTime": {
     "end_time": "2023-07-03T17:52:03.137242Z",
     "start_time": "2023-07-03T17:52:02.950807Z"
    },
    "collapsed": false,
    "jupyter": {
     "outputs_hidden": false
    }
   },
   "outputs": [
    {
     "data": {
      "text/html": [
       "<div>\n",
       "<style scoped>\n",
       "    .dataframe tbody tr th:only-of-type {\n",
       "        vertical-align: middle;\n",
       "    }\n",
       "\n",
       "    .dataframe tbody tr th {\n",
       "        vertical-align: top;\n",
       "    }\n",
       "\n",
       "    .dataframe thead th {\n",
       "        text-align: right;\n",
       "    }\n",
       "</style>\n",
       "<table border=\"1\" class=\"dataframe\">\n",
       "  <thead>\n",
       "    <tr style=\"text-align: right;\">\n",
       "      <th></th>\n",
       "      <th>word</th>\n",
       "      <th>lemma</th>\n",
       "      <th>pos_tag</th>\n",
       "      <th>freq</th>\n",
       "      <th>word_length</th>\n",
       "      <th>lemma_length</th>\n",
       "      <th>ratio</th>\n",
       "      <th>lemma_length_category</th>\n",
       "      <th>word_length_category</th>\n",
       "      <th>ratio_category</th>\n",
       "    </tr>\n",
       "  </thead>\n",
       "  <tbody>\n",
       "    <tr>\n",
       "      <th>5</th>\n",
       "      <td>გახლდით</td>\n",
       "      <td>ხლება</td>\n",
       "      <td>V</td>\n",
       "      <td>1689</td>\n",
       "      <td>7</td>\n",
       "      <td>5</td>\n",
       "      <td>1.400000</td>\n",
       "      <td>low</td>\n",
       "      <td>low</td>\n",
       "      <td>greater</td>\n",
       "    </tr>\n",
       "    <tr>\n",
       "      <th>7</th>\n",
       "      <td>ხანია</td>\n",
       "      <td>ხანი</td>\n",
       "      <td>N</td>\n",
       "      <td>24507</td>\n",
       "      <td>5</td>\n",
       "      <td>4</td>\n",
       "      <td>1.250000</td>\n",
       "      <td>low</td>\n",
       "      <td>low</td>\n",
       "      <td>greater</td>\n",
       "    </tr>\n",
       "    <tr>\n",
       "      <th>10</th>\n",
       "      <td>ქალიშვილის</td>\n",
       "      <td>ქალიშვილი</td>\n",
       "      <td>N</td>\n",
       "      <td>1485</td>\n",
       "      <td>10</td>\n",
       "      <td>9</td>\n",
       "      <td>1.111111</td>\n",
       "      <td>medium</td>\n",
       "      <td>medium</td>\n",
       "      <td>greater</td>\n",
       "    </tr>\n",
       "    <tr>\n",
       "      <th>11</th>\n",
       "      <td>რახელის</td>\n",
       "      <td>რახელ</td>\n",
       "      <td>N</td>\n",
       "      <td>39</td>\n",
       "      <td>7</td>\n",
       "      <td>5</td>\n",
       "      <td>1.400000</td>\n",
       "      <td>low</td>\n",
       "      <td>low</td>\n",
       "      <td>greater</td>\n",
       "    </tr>\n",
       "    <tr>\n",
       "      <th>12</th>\n",
       "      <td>ამხანაგები</td>\n",
       "      <td>ამხანაგი</td>\n",
       "      <td>N</td>\n",
       "      <td>503</td>\n",
       "      <td>10</td>\n",
       "      <td>8</td>\n",
       "      <td>1.250000</td>\n",
       "      <td>medium</td>\n",
       "      <td>medium</td>\n",
       "      <td>greater</td>\n",
       "    </tr>\n",
       "    <tr>\n",
       "      <th>...</th>\n",
       "      <td>...</td>\n",
       "      <td>...</td>\n",
       "      <td>...</td>\n",
       "      <td>...</td>\n",
       "      <td>...</td>\n",
       "      <td>...</td>\n",
       "      <td>...</td>\n",
       "      <td>...</td>\n",
       "      <td>...</td>\n",
       "      <td>...</td>\n",
       "    </tr>\n",
       "    <tr>\n",
       "      <th>1366987</th>\n",
       "      <td>რედაქტორებამდე</td>\n",
       "      <td>რედაქტორი</td>\n",
       "      <td>N</td>\n",
       "      <td>1</td>\n",
       "      <td>14</td>\n",
       "      <td>9</td>\n",
       "      <td>1.555556</td>\n",
       "      <td>medium</td>\n",
       "      <td>high</td>\n",
       "      <td>greater</td>\n",
       "    </tr>\n",
       "    <tr>\n",
       "      <th>1366988</th>\n",
       "      <td>წაეჩხუბებით</td>\n",
       "      <td>წაჩხუბი</td>\n",
       "      <td>V</td>\n",
       "      <td>1</td>\n",
       "      <td>11</td>\n",
       "      <td>7</td>\n",
       "      <td>1.571429</td>\n",
       "      <td>low</td>\n",
       "      <td>medium</td>\n",
       "      <td>greater</td>\n",
       "    </tr>\n",
       "    <tr>\n",
       "      <th>1366989</th>\n",
       "      <td>აგვწონეს</td>\n",
       "      <td>აწონა</td>\n",
       "      <td>V</td>\n",
       "      <td>1</td>\n",
       "      <td>8</td>\n",
       "      <td>5</td>\n",
       "      <td>1.600000</td>\n",
       "      <td>low</td>\n",
       "      <td>low</td>\n",
       "      <td>greater</td>\n",
       "    </tr>\n",
       "    <tr>\n",
       "      <th>1366990</th>\n",
       "      <td>ტორონჯაძისა</td>\n",
       "      <td>ტორონჯაძე</td>\n",
       "      <td>N</td>\n",
       "      <td>1</td>\n",
       "      <td>11</td>\n",
       "      <td>9</td>\n",
       "      <td>1.222222</td>\n",
       "      <td>medium</td>\n",
       "      <td>medium</td>\n",
       "      <td>greater</td>\n",
       "    </tr>\n",
       "    <tr>\n",
       "      <th>1366991</th>\n",
       "      <td>სეპარატიზმადაა</td>\n",
       "      <td>სეპარატიზმი</td>\n",
       "      <td>N</td>\n",
       "      <td>1</td>\n",
       "      <td>14</td>\n",
       "      <td>11</td>\n",
       "      <td>1.272727</td>\n",
       "      <td>high</td>\n",
       "      <td>high</td>\n",
       "      <td>greater</td>\n",
       "    </tr>\n",
       "  </tbody>\n",
       "</table>\n",
       "<p>1096766 rows × 10 columns</p>\n",
       "</div>"
      ],
      "text/plain": [
       "                   word        lemma pos_tag   freq  word_length  \\\n",
       "5               გახლდით        ხლება       V   1689            7   \n",
       "7                 ხანია         ხანი       N  24507            5   \n",
       "10           ქალიშვილის    ქალიშვილი       N   1485           10   \n",
       "11              რახელის        რახელ       N     39            7   \n",
       "12           ამხანაგები     ამხანაგი       N    503           10   \n",
       "...                 ...          ...     ...    ...          ...   \n",
       "1366987  რედაქტორებამდე    რედაქტორი       N      1           14   \n",
       "1366988     წაეჩხუბებით      წაჩხუბი       V      1           11   \n",
       "1366989        აგვწონეს        აწონა       V      1            8   \n",
       "1366990     ტორონჯაძისა    ტორონჯაძე       N      1           11   \n",
       "1366991  სეპარატიზმადაა  სეპარატიზმი       N      1           14   \n",
       "\n",
       "         lemma_length     ratio lemma_length_category word_length_category  \\\n",
       "5                   5  1.400000                   low                  low   \n",
       "7                   4  1.250000                   low                  low   \n",
       "10                  9  1.111111                medium               medium   \n",
       "11                  5  1.400000                   low                  low   \n",
       "12                  8  1.250000                medium               medium   \n",
       "...               ...       ...                   ...                  ...   \n",
       "1366987             9  1.555556                medium                 high   \n",
       "1366988             7  1.571429                   low               medium   \n",
       "1366989             5  1.600000                   low                  low   \n",
       "1366990             9  1.222222                medium               medium   \n",
       "1366991            11  1.272727                  high                 high   \n",
       "\n",
       "        ratio_category  \n",
       "5              greater  \n",
       "7              greater  \n",
       "10             greater  \n",
       "11             greater  \n",
       "12             greater  \n",
       "...                ...  \n",
       "1366987        greater  \n",
       "1366988        greater  \n",
       "1366989        greater  \n",
       "1366990        greater  \n",
       "1366991        greater  \n",
       "\n",
       "[1096766 rows x 10 columns]"
      ]
     },
     "execution_count": 22,
     "metadata": {},
     "output_type": "execute_result"
    }
   ],
   "source": [
    "df.query('ratio_category == \"greater\"')"
   ]
  },
  {
   "cell_type": "markdown",
   "metadata": {},
   "source": [
    "## სხვათა სიტყვათა ფორმები"
   ]
  },
  {
   "cell_type": "code",
   "execution_count": 23,
   "metadata": {
    "ExecuteTime": {
     "end_time": "2023-07-03T17:52:05.576473Z",
     "start_time": "2023-07-03T17:52:03.192404Z"
    },
    "collapsed": false,
    "jupyter": {
     "outputs_hidden": false
    }
   },
   "outputs": [],
   "source": [
    "reported_speech_candidates = df[df.word.str.endswith('ო')].copy()\n",
    "reported_speech_candidates['word'] = reported_speech_candidates.word.str[:-1]\n",
    "reported_speech_candidates = reported_speech_candidates[reported_speech_candidates.word.isin(df.word)]\n",
    "third_person_reported_speech = df.index.isin(reported_speech_candidates[reported_speech_candidates.word.isin(pd.merge(reported_speech_candidates, df, on=['word', 'lemma', 'pos_tag'], how='inner').word)].index)\n",
    "\n",
    "df['reported_speech'] = df.word.str.endswith(('-მეთქი', '-თქო')) | third_person_reported_speech"
   ]
  },
  {
   "cell_type": "code",
   "execution_count": 24,
   "metadata": {
    "ExecuteTime": {
     "end_time": "2023-07-03T17:52:05.885930Z",
     "start_time": "2023-07-03T17:52:05.582431Z"
    },
    "collapsed": false,
    "jupyter": {
     "outputs_hidden": false
    }
   },
   "outputs": [],
   "source": [
    "df['reported_speech'] = df['reported_speech'].astype('str')"
   ]
  },
  {
   "cell_type": "code",
   "execution_count": 25,
   "metadata": {
    "ExecuteTime": {
     "end_time": "2023-07-03T17:52:06.003100Z",
     "start_time": "2023-07-03T17:52:05.901050Z"
    },
    "collapsed": false,
    "jupyter": {
     "outputs_hidden": false
    }
   },
   "outputs": [
    {
     "data": {
      "text/plain": [
       "reported_speech\n",
       "False    1278493\n",
       "True       88499\n",
       "Name: word, dtype: int64"
      ]
     },
     "execution_count": 25,
     "metadata": {},
     "output_type": "execute_result"
    }
   ],
   "source": [
    "df.groupby(by='reported_speech').word.count()"
   ]
  },
  {
   "cell_type": "code",
   "execution_count": 26,
   "metadata": {
    "ExecuteTime": {
     "end_time": "2023-07-03T17:52:06.610879Z",
     "start_time": "2023-07-03T17:52:06.100794Z"
    },
    "collapsed": false,
    "jupyter": {
     "outputs_hidden": false
    }
   },
   "outputs": [
    {
     "data": {
      "text/plain": [
       "<Axes: xlabel='reported_speech', ylabel='count'>"
      ]
     },
     "execution_count": 26,
     "metadata": {},
     "output_type": "execute_result"
    },
    {
     "data": {
      "image/png": "[encoded data removed]",
      "text/plain": [
       "<Figure size 640x480 with 1 Axes>"
      ]
     },
     "metadata": {},
     "output_type": "display_data"
    }
   ],
   "source": [
    "sns.countplot(data=df, x='reported_speech')"
   ]
  },
  {
   "cell_type": "markdown",
   "metadata": {},
   "source": [
    "## სიხშირეები"
   ]
  },
  {
   "cell_type": "code",
   "execution_count": 27,
   "metadata": {
    "ExecuteTime": {
     "end_time": "2023-07-03T17:52:06.676309Z",
     "start_time": "2023-07-03T17:52:06.613432Z"
    },
    "collapsed": false,
    "jupyter": {
     "outputs_hidden": false
    }
   },
   "outputs": [
    {
     "data": {
      "text/plain": [
       "0.01       1.0\n",
       "0.02       1.0\n",
       "0.03       1.0\n",
       "0.04       1.0\n",
       "0.05       1.0\n",
       "         ...  \n",
       "0.95     145.0\n",
       "0.96     202.0\n",
       "0.97     302.0\n",
       "0.98     521.0\n",
       "0.99    1229.0\n",
       "Name: freq, Length: 99, dtype: float64"
      ]
     },
     "execution_count": 27,
     "metadata": {},
     "output_type": "execute_result"
    }
   ],
   "source": [
    "df.freq.quantile(q=[ i / 100 for i in range(1, 100)])"
   ]
  },
  {
   "cell_type": "code",
   "execution_count": 28,
   "metadata": {
    "ExecuteTime": {
     "end_time": "2023-07-03T17:52:06.676547Z",
     "start_time": "2023-07-03T17:52:06.642208Z"
    },
    "collapsed": false,
    "jupyter": {
     "outputs_hidden": false
    }
   },
   "outputs": [
    {
     "data": {
      "text/plain": [
       "87009"
      ]
     },
     "execution_count": 28,
     "metadata": {},
     "output_type": "execute_result"
    }
   ],
   "source": [
    "df.query('freq > 100').shape[0]"
   ]
  },
  {
   "cell_type": "code",
   "execution_count": 29,
   "metadata": {
    "ExecuteTime": {
     "end_time": "2023-07-03T17:52:06.733587Z",
     "start_time": "2023-07-03T17:52:06.666910Z"
    },
    "collapsed": false,
    "jupyter": {
     "outputs_hidden": false
    }
   },
   "outputs": [],
   "source": [
    "df['freq_category'] = pd.qcut(df.freq, [0, 0.5, 0.9, 1], labels=['low', 'medium', 'high'])"
   ]
  },
  {
   "cell_type": "code",
   "execution_count": 30,
   "metadata": {
    "ExecuteTime": {
     "end_time": "2023-07-03T17:52:06.753039Z",
     "start_time": "2023-07-03T17:52:06.730810Z"
    },
    "collapsed": false,
    "jupyter": {
     "outputs_hidden": false
    }
   },
   "outputs": [
    {
     "data": {
      "text/plain": [
       "freq_category\n",
       "low          1.273672\n",
       "medium      11.237068\n",
       "high      1058.306617\n",
       "Name: freq, dtype: float64"
      ]
     },
     "execution_count": 30,
     "metadata": {},
     "output_type": "execute_result"
    }
   ],
   "source": [
    "df.groupby(by='freq_category').freq.mean()"
   ]
  },
  {
   "cell_type": "code",
   "execution_count": 31,
   "metadata": {
    "ExecuteTime": {
     "end_time": "2023-07-03T17:52:06.905851Z",
     "start_time": "2023-07-03T17:52:06.755944Z"
    },
    "collapsed": false,
    "jupyter": {
     "outputs_hidden": false
    },
    "pycharm": {
     "name": "#%%\n"
    }
   },
   "outputs": [
    {
     "data": {
      "text/plain": [
       "<Axes: xlabel='freq_category', ylabel='count'>"
      ]
     },
     "execution_count": 31,
     "metadata": {},
     "output_type": "execute_result"
    },
    {
     "data": {
      "image/png": "[encoded data removed]",
      "text/plain": [
       "<Figure size 1000x500 with 1 Axes>"
      ]
     },
     "metadata": {},
     "output_type": "display_data"
    }
   ],
   "source": [
    "plt.figure(figsize=(10, 5))\n",
    "sns.countplot(data=df, x='freq_category')"
   ]
  },
  {
   "cell_type": "code",
   "execution_count": 32,
   "metadata": {
    "ExecuteTime": {
     "end_time": "2023-07-03T17:52:06.920119Z",
     "start_time": "2023-07-03T17:52:06.906227Z"
    },
    "collapsed": false,
    "jupyter": {
     "outputs_hidden": false
    }
   },
   "outputs": [
    {
     "data": {
      "text/html": [
       "<div>\n",
       "<style scoped>\n",
       "    .dataframe tbody tr th:only-of-type {\n",
       "        vertical-align: middle;\n",
       "    }\n",
       "\n",
       "    .dataframe tbody tr th {\n",
       "        vertical-align: top;\n",
       "    }\n",
       "\n",
       "    .dataframe thead th {\n",
       "        text-align: right;\n",
       "    }\n",
       "</style>\n",
       "<table border=\"1\" class=\"dataframe\">\n",
       "  <thead>\n",
       "    <tr style=\"text-align: right;\">\n",
       "      <th></th>\n",
       "      <th>word</th>\n",
       "      <th>lemma</th>\n",
       "      <th>pos_tag</th>\n",
       "      <th>freq</th>\n",
       "      <th>word_length</th>\n",
       "      <th>lemma_length</th>\n",
       "      <th>ratio</th>\n",
       "      <th>lemma_length_category</th>\n",
       "      <th>word_length_category</th>\n",
       "      <th>ratio_category</th>\n",
       "      <th>reported_speech</th>\n",
       "      <th>freq_category</th>\n",
       "    </tr>\n",
       "  </thead>\n",
       "  <tbody>\n",
       "    <tr>\n",
       "      <th>0</th>\n",
       "      <td>ამ</td>\n",
       "      <td>ეს</td>\n",
       "      <td>Pron</td>\n",
       "      <td>1041654</td>\n",
       "      <td>2</td>\n",
       "      <td>2</td>\n",
       "      <td>1.0</td>\n",
       "      <td>low</td>\n",
       "      <td>low</td>\n",
       "      <td>equal</td>\n",
       "      <td>False</td>\n",
       "      <td>high</td>\n",
       "    </tr>\n",
       "    <tr>\n",
       "      <th>1</th>\n",
       "      <td>ზამთრის</td>\n",
       "      <td>ზამთარი</td>\n",
       "      <td>N</td>\n",
       "      <td>8035</td>\n",
       "      <td>7</td>\n",
       "      <td>7</td>\n",
       "      <td>1.0</td>\n",
       "      <td>low</td>\n",
       "      <td>low</td>\n",
       "      <td>equal</td>\n",
       "      <td>False</td>\n",
       "      <td>high</td>\n",
       "    </tr>\n",
       "    <tr>\n",
       "      <th>2</th>\n",
       "      <td>მიწურულს</td>\n",
       "      <td>მიწურული</td>\n",
       "      <td>N</td>\n",
       "      <td>5976</td>\n",
       "      <td>8</td>\n",
       "      <td>8</td>\n",
       "      <td>1.0</td>\n",
       "      <td>medium</td>\n",
       "      <td>low</td>\n",
       "      <td>equal</td>\n",
       "      <td>False</td>\n",
       "      <td>high</td>\n",
       "    </tr>\n",
       "    <tr>\n",
       "      <th>3</th>\n",
       "      <td>თითქმის</td>\n",
       "      <td>თითქმის</td>\n",
       "      <td>Adv</td>\n",
       "      <td>62608</td>\n",
       "      <td>7</td>\n",
       "      <td>7</td>\n",
       "      <td>1.0</td>\n",
       "      <td>low</td>\n",
       "      <td>low</td>\n",
       "      <td>equal</td>\n",
       "      <td>False</td>\n",
       "      <td>high</td>\n",
       "    </tr>\n",
       "    <tr>\n",
       "      <th>4</th>\n",
       "      <td>სასოწარკვეთილი</td>\n",
       "      <td>სასოწარკვეთილი</td>\n",
       "      <td>A</td>\n",
       "      <td>844</td>\n",
       "      <td>14</td>\n",
       "      <td>14</td>\n",
       "      <td>1.0</td>\n",
       "      <td>high</td>\n",
       "      <td>high</td>\n",
       "      <td>equal</td>\n",
       "      <td>False</td>\n",
       "      <td>high</td>\n",
       "    </tr>\n",
       "  </tbody>\n",
       "</table>\n",
       "</div>"
      ],
      "text/plain": [
       "             word           lemma pos_tag     freq  word_length  lemma_length  \\\n",
       "0              ამ              ეს    Pron  1041654            2             2   \n",
       "1         ზამთრის         ზამთარი       N     8035            7             7   \n",
       "2        მიწურულს        მიწურული       N     5976            8             8   \n",
       "3         თითქმის         თითქმის     Adv    62608            7             7   \n",
       "4  სასოწარკვეთილი  სასოწარკვეთილი       A      844           14            14   \n",
       "\n",
       "   ratio lemma_length_category word_length_category ratio_category  \\\n",
       "0    1.0                   low                  low          equal   \n",
       "1    1.0                   low                  low          equal   \n",
       "2    1.0                medium                  low          equal   \n",
       "3    1.0                   low                  low          equal   \n",
       "4    1.0                  high                 high          equal   \n",
       "\n",
       "  reported_speech freq_category  \n",
       "0           False          high  \n",
       "1           False          high  \n",
       "2           False          high  \n",
       "3           False          high  \n",
       "4           False          high  "
      ]
     },
     "execution_count": 32,
     "metadata": {},
     "output_type": "execute_result"
    }
   ],
   "source": [
    "df.head()"
   ]
  },
  {
   "cell_type": "markdown",
   "metadata": {},
   "source": [
    "## ტრეინ / ტესტ დაყოფა"
   ]
  },
  {
   "cell_type": "code",
   "execution_count": 33,
   "metadata": {
    "ExecuteTime": {
     "end_time": "2023-07-03T17:55:20.815361Z",
     "start_time": "2023-07-03T17:55:20.793241Z"
    },
    "collapsed": false,
    "jupyter": {
     "outputs_hidden": false
    }
   },
   "outputs": [],
   "source": [
    "categories = ['pos_tag', 'freq_category', 'ratio_category', 'reported_speech', 'word_length_category', 'lemma_length_category']\n",
    "classes = df[['pos_tag']]"
   ]
  },
  {
   "cell_type": "code",
   "execution_count": 34,
   "metadata": {
    "ExecuteTime": {
     "end_time": "2023-07-03T17:55:22.625979Z",
     "start_time": "2023-07-03T17:55:21.950426Z"
    },
    "collapsed": false,
    "jupyter": {
     "outputs_hidden": false
    }
   },
   "outputs": [
    {
     "data": {
      "text/plain": [
       "pos_tag  freq_category  ratio_category  reported_speech  word_length_category  lemma_length_category\n",
       "A        low            equal           False            low                   low                      3364\n",
       "                                                                               medium                   6239\n",
       "                                                                               high                        0\n",
       "                                                         medium                low                         0\n",
       "                                                                               medium                      0\n",
       "                                                                                                        ... \n",
       "V        high           less            True             medium                medium                      0\n",
       "                                                                               high                        0\n",
       "                                                         high                  low                         0\n",
       "                                                                               medium                      0\n",
       "                                                                               high                        0\n",
       "Name: word, Length: 1620, dtype: int64"
      ]
     },
     "execution_count": 34,
     "metadata": {},
     "output_type": "execute_result"
    }
   ],
   "source": [
    "df.groupby(by=categories).word.count()"
   ]
  },
  {
   "cell_type": "code",
   "execution_count": 35,
   "metadata": {
    "ExecuteTime": {
     "end_time": "2023-07-03T17:56:49.287486Z",
     "start_time": "2023-07-03T17:56:45.750192Z"
    },
    "collapsed": false,
    "jupyter": {
     "outputs_hidden": false
    }
   },
   "outputs": [],
   "source": [
    "train_df, test_df = train_test_split(df, test_size=0.3, stratify=classes, random_state=42)"
   ]
  },
  {
   "cell_type": "code",
   "execution_count": 36,
   "metadata": {
    "ExecuteTime": {
     "end_time": "2023-07-03T17:59:27.229652Z",
     "start_time": "2023-07-03T17:59:26.793436Z"
    },
    "collapsed": false,
    "jupyter": {
     "outputs_hidden": false
    }
   },
   "outputs": [
    {
     "data": {
      "text/plain": [
       "freq_category  ratio_category  reported_speech  word_length_category  lemma_length_category\n",
       "low            equal           False            low                   low                      0.015662\n",
       "                                                                      medium                   0.018085\n",
       "                                                                      high                     0.000000\n",
       "                                                medium                low                      0.000000\n",
       "                                                                      medium                   0.000000\n",
       "                                                                                                 ...   \n",
       "high           less            True             medium                medium                   0.000000\n",
       "                                                                      high                     0.000000\n",
       "                                                high                  low                      0.000000\n",
       "                                                                      medium                   0.000000\n",
       "                                                                      high                     0.000000\n",
       "Name: word, Length: 162, dtype: float64"
      ]
     },
     "execution_count": 36,
     "metadata": {},
     "output_type": "execute_result"
    }
   ],
   "source": [
    "train_dist = train_df.groupby(by=categories[1:]).word.count() / train_df.word.count()\n",
    "train_dist"
   ]
  },
  {
   "cell_type": "code",
   "execution_count": 37,
   "metadata": {
    "ExecuteTime": {
     "end_time": "2023-07-03T17:59:27.433801Z",
     "start_time": "2023-07-03T17:59:27.229943Z"
    },
    "collapsed": false,
    "jupyter": {
     "outputs_hidden": false
    }
   },
   "outputs": [
    {
     "data": {
      "text/plain": [
       "freq_category  ratio_category  reported_speech  word_length_category  lemma_length_category\n",
       "low            equal           False            low                   low                      0.015389\n",
       "                                                                      medium                   0.017679\n",
       "                                                                      high                     0.000000\n",
       "                                                medium                low                      0.000000\n",
       "                                                                      medium                   0.000000\n",
       "                                                                                                 ...   \n",
       "high           less            True             medium                medium                   0.000000\n",
       "                                                                      high                     0.000000\n",
       "                                                high                  low                      0.000000\n",
       "                                                                      medium                   0.000000\n",
       "                                                                      high                     0.000000\n",
       "Name: word, Length: 162, dtype: float64"
      ]
     },
     "execution_count": 37,
     "metadata": {},
     "output_type": "execute_result"
    }
   ],
   "source": [
    "test_dist = test_df.groupby(by=categories[1:]).word.count() / test_df.word.count()\n",
    "test_dist"
   ]
  },
  {
   "cell_type": "code",
   "execution_count": 38,
   "metadata": {
    "ExecuteTime": {
     "end_time": "2023-07-03T17:59:27.691687Z",
     "start_time": "2023-07-03T17:59:27.681642Z"
    },
    "collapsed": false,
    "jupyter": {
     "outputs_hidden": false
    }
   },
   "outputs": [
    {
     "data": {
      "text/plain": [
       "freq_category  ratio_category  reported_speech  word_length_category  lemma_length_category\n",
       "low            equal           False            low                   low                      0.982561\n",
       "                                                                      medium                   0.977558\n",
       "                                                                      high                          NaN\n",
       "                                                medium                low                           NaN\n",
       "                                                                      medium                        NaN\n",
       "                                                                                                 ...   \n",
       "high           less            True             medium                medium                        NaN\n",
       "                                                                      high                          NaN\n",
       "                                                high                  low                           NaN\n",
       "                                                                      medium                        NaN\n",
       "                                                                      high                          NaN\n",
       "Name: word, Length: 162, dtype: float64"
      ]
     },
     "execution_count": 38,
     "metadata": {},
     "output_type": "execute_result"
    }
   ],
   "source": [
    "test_dist /  train_dist  # კატეგორიებში განაწილებების შეფარდებები"
   ]
  },
  {
   "cell_type": "code",
   "execution_count": 39,
   "metadata": {
    "ExecuteTime": {
     "end_time": "2023-07-03T18:02:13.402934Z",
     "start_time": "2023-07-03T18:02:13.128939Z"
    },
    "collapsed": false,
    "jupyter": {
     "outputs_hidden": false
    }
   },
   "outputs": [],
   "source": [
    "train_set_lemmas = set(train_df.lemma.unique())\n",
    "test_set_lemmas = set(test_df.lemma.unique())"
   ]
  },
  {
   "cell_type": "code",
   "execution_count": 40,
   "metadata": {
    "ExecuteTime": {
     "end_time": "2023-07-03T18:03:39.798109Z",
     "start_time": "2023-07-03T18:03:39.795934Z"
    },
    "collapsed": false,
    "jupyter": {
     "outputs_hidden": false
    }
   },
   "outputs": [
    {
     "name": "stdout",
     "output_type": "stream",
     "text": [
      "Number of lemmas in test set not present in train set: 13281\n",
      "Number of lemmas in train set not present in test set: 43314\n"
     ]
    }
   ],
   "source": [
    "not_in_test = train_set_lemmas - test_set_lemmas\n",
    "not_in_train = test_set_lemmas - train_set_lemmas\n",
    "print(f'Number of lemmas in test set not present in train set: {len(not_in_train)}')\n",
    "print(f'Number of lemmas in train set not present in test set: {len(not_in_test)}')"
   ]
  },
  {
   "cell_type": "code",
   "execution_count": 41,
   "metadata": {
    "ExecuteTime": {
     "end_time": "2023-07-03T18:06:54.366842Z",
     "start_time": "2023-07-03T18:06:49.082471Z"
    },
    "collapsed": false,
    "jupyter": {
     "outputs_hidden": false
    }
   },
   "outputs": [],
   "source": [
    "train_df.to_csv('csv/train.csv')\n",
    "test_df.to_csv('csv/test.csv')"
   ]
  },
  {
   "cell_type": "code",
   "execution_count": 41,
   "metadata": {
    "collapsed": false,
    "jupyter": {
     "outputs_hidden": false
    }
   },
   "outputs": [],
   "source": []
  }
 ],
 "metadata": {
  "environment": {
   "kernel": "conda-root-py",
   "name": "workbench-notebooks.m109",
   "type": "gcloud",
   "uri": "gcr.io/deeplearning-platform-release/workbench-notebooks:m109"
  },
  "kernelspec": {
   "display_name": "Python 3",
   "language": "python",
   "name": "conda-root-py"
  },
  "language_info": {
   "codemirror_mode": {
    "name": "ipython",
    "version": 3
   },
   "file_extension": ".py",
   "mimetype": "text/x-python",
   "name": "python",
   "nbconvert_exporter": "python",
   "pygments_lexer": "ipython3",
   "version": "3.10.12"
  }
 },
 "nbformat": 4,
 "nbformat_minor": 4
}
