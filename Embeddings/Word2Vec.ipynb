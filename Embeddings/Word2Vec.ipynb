{
 "cells": [
  {
   "cell_type": "code",
   "execution_count": 15,
   "id": "92eb038f-8d87-4ed5-b603-285eff593746",
   "metadata": {},
   "outputs": [],
   "source": [
    "from gensim.models import Word2Vec\n",
    "from datasets import load_dataset\n",
    "import os"
   ]
  },
  {
   "cell_type": "code",
   "execution_count": 16,
   "id": "9ccefe4e-7f66-4068-8cf3-a966a811ab2e",
   "metadata": {},
   "outputs": [],
   "source": [
    "TRAIN_PATH = os.path.join('..', 'POS_Tagging', 'data', 'train')\n",
    "TEST_PATH = os.path.join('..', 'POS_Tagging', 'data', 'test')"
   ]
  },
  {
   "cell_type": "code",
   "execution_count": 9,
   "id": "43013f91-96b4-47b5-a606-362f94e17eaf",
   "metadata": {},
   "outputs": [
    {
     "data": {
      "application/vnd.jupyter.widget-view+json": {
       "model_id": "97a4313e8a6541fdb74033e4bb21278b",
       "version_major": 2,
       "version_minor": 0
      },
      "text/plain": [
       "Resolving data files:   0%|          | 0/18 [00:00<?, ?it/s]"
      ]
     },
     "metadata": {},
     "output_type": "display_data"
    }
   ],
   "source": [
    "dataset = load_dataset('parquet', data_files=[*[os.path.join(TRAIN_PATH, f'train_{i}.parquet') for i in range(9)],\n",
    "                                    *[os.path.join(TEST_PATH, f'test_{i}.parquet') for i in range(9)]])"
   ]
  },
  {
   "cell_type": "code",
   "execution_count": 10,
   "id": "26016bd6-add7-4b54-838a-144597b75d1c",
   "metadata": {},
   "outputs": [
    {
     "data": {
      "text/plain": [
       "DatasetDict({\n",
       "    train: Dataset({\n",
       "        features: ['init_words', 'mod_words', 'pos_tags', 'sentence_length', 'unique_pos', 'starts_with'],\n",
       "        num_rows: 8111724\n",
       "    })\n",
       "})"
      ]
     },
     "execution_count": 10,
     "metadata": {},
     "output_type": "execute_result"
    }
   ],
   "source": [
    "dataset"
   ]
  },
  {
   "cell_type": "code",
   "execution_count": 11,
   "id": "722ae6f9-f022-4d85-940d-2c9b40da580e",
   "metadata": {},
   "outputs": [],
   "source": [
    "def get_sentences():\n",
    "    \n",
    "    gen = (['<UNK>' if pos == 'Other' else '<NUM>' if pos == 'Num' else word for word, pos in zip(sent['mod_words'], sent['pos_tags']) if pos != 'Punct'] for sent in dataset['train'])\n",
    "    \n",
    "    class MyIterable:\n",
    "    \n",
    "        def __iter__(self):\n",
    "            yield from gen\n",
    "\n",
    "    return MyIterable()"
   ]
  },
  {
   "cell_type": "code",
   "execution_count": 12,
   "id": "2a99bbc7-3241-4aba-99c0-c7a6815d386e",
   "metadata": {},
   "outputs": [
    {
     "name": "stdout",
     "output_type": "stream",
     "text": [
      "['რუსეთის', 'სპეცსამსახურები', 'სამწუხაროდ', 'დღესაც', 'აქტიურად', 'მოქმედებენ', 'საქართველოში']\n",
      "['ამერიკის', 'შეერთებულ', 'შტატებსა', 'და', 'საქართველოს', 'შორის', 'თავდაცვისა', 'და', 'უსაფრთხოების', 'სფეროში', 'თანამშრომლობა', 'და', 'პარტნიორობა', 'სასარგებლოა', 'როგორც', '<NUM>', 'სახელმწიფოსთვის', 'ისე', 'რეგიონისათვის']\n",
      "['ზლატან', 'იბრაჰიმოვიჩი', 'ასეთი', 'არაფერი', 'მინახავს']\n",
      "['შოპენი', 'პატარაობიდანვე', 'გამოირჩეოდა', 'თავისი', 'ნიჭით', 'არა', 'მარტო', 'მუსიკაში', 'არამედ', 'ლექსების', 'კითხვაში', 'და', 'კარიკატურების', 'ხატვაში']\n",
      "['მისმა', 'სახელმა', 'და', 'სილამაზემაც', 'ნისლიანი', 'ალიონის', 'საზღვრებსაც', 'გააღწია']\n",
      "['ახლოვდება', 'ჟამი', 'ჩვენი', 'სამშობლოს', 'საქართველოს', 'გათავისუფლებისა']\n",
      "['საკონსტიტუციო', 'კომისიის', 'შემაჯამებელ', 'სხდომაზე', 'არც', '<NUM>', 'გადაწყვეტილება', 'არ', 'მიღებულა']\n",
      "['ჩამოვედი', 'თუ', 'არა', 'ნალჩიკის', 'სპარტაკიდან', 'დამიკავშირდნენ', 'და', 'დაბრუნება', 'შემომთავაზეს']\n",
      "['ვსადილობ', 'ახალი', 'ბოსტნეულით', 'განსაკუთრებულ', 'პატივს', 'ვცემ', 'სტაფილოს']\n",
      "['კამერის', 'გამოთიშვის', 'შემდეგ', 'ისინი', 'ერთად', 'კარგად', 'ჭამენ', 'და', 'სვამენ', 'ანუ', 'როგორც', 'სააკაშვილი', 'ამბობს', 'მინისტრები', 'კარგი', 'მსმელები', 'და', 'მჭამელები', 'არიან']\n"
     ]
    }
   ],
   "source": [
    "for idx, sent in enumerate(get_sentences()):\n",
    "    if idx == 10:\n",
    "        break\n",
    "    print(sent)"
   ]
  },
  {
   "cell_type": "markdown",
   "id": "440f9fd0-48f4-460b-8789-23fcc22ccd16",
   "metadata": {},
   "source": [
    "# Model"
   ]
  },
  {
   "cell_type": "code",
   "execution_count": 13,
   "id": "3f3e8eac-deb0-4b29-9851-938fa9da1381",
   "metadata": {},
   "outputs": [],
   "source": [
    "w2v_model = Word2Vec(get_sentences(), min_count=20,\n",
    "                     window=2,\n",
    "                     vector_size=500,\n",
    "                     sample=6e-5, \n",
    "                     alpha=0.03, \n",
    "                     min_alpha=0.0007, \n",
    "                     negative=20,\n",
    "                     workers=8,\n",
    "                    epochs=30)"
   ]
  },
  {
   "cell_type": "code",
   "execution_count": 32,
   "id": "40b82387-f727-4ae7-9499-673bf169394c",
   "metadata": {},
   "outputs": [
    {
     "data": {
      "text/plain": [
       "(66017040, 96327699)"
      ]
     },
     "execution_count": 32,
     "metadata": {},
     "output_type": "execute_result"
    }
   ],
   "source": [
    "w2v_model.train(get_sentences(), total_examples=7000000, epochs=200)"
   ]
  },
  {
   "cell_type": "code",
   "execution_count": 2,
   "id": "39fa8000-62f4-41a3-b8ff-fbe242400dd2",
   "metadata": {},
   "outputs": [],
   "source": [
    "w2v_model = Word2Vec.load(os.path.join('models', \"word2vec_v2.model\"))"
   ]
  },
  {
   "cell_type": "code",
   "execution_count": 30,
   "id": "29068433-0953-489a-ab70-9dd877548750",
   "metadata": {},
   "outputs": [
    {
     "data": {
      "text/plain": [
       "[('ქმარი', 0.6007357239723206),\n",
       " ('ცოლიც', 0.5957913398742676),\n",
       " ('დედ-მამა', 0.5849706530570984),\n",
       " ('ქალიშვილი', 0.5841866135597229),\n",
       " ('რძალი', 0.5715733170509338),\n",
       " ('სიდედრი', 0.5705388784408569),\n",
       " ('ბებია', 0.5689602494239807),\n",
       " ('ქმარიც', 0.5687670707702637),\n",
       " ('მეუღლე', 0.565215528011322),\n",
       " ('საცოლე', 0.5651593208312988)]"
      ]
     },
     "execution_count": 30,
     "metadata": {},
     "output_type": "execute_result"
    }
   ],
   "source": [
    "w2v_model.wv.most_similar(positive=['გოგო', 'ცოლი'], negative=['ბიჭი'])"
   ]
  },
  {
   "cell_type": "code",
   "execution_count": 21,
   "id": "5ba9960c-49a8-4f4c-8dc1-4fd4094cc799",
   "metadata": {},
   "outputs": [
    {
     "data": {
      "text/plain": [
       "[('ნელა', 0.5272687077522278),\n",
       " ('დინჯად', 0.45751291513442993),\n",
       " ('ელვისებურად', 0.42783600091934204),\n",
       " ('ტაატით', 0.41170790791511536),\n",
       " ('უსწრაფესად', 0.40102213621139526),\n",
       " ('უცნაურად', 0.400423526763916),\n",
       " ('გაუბედავად', 0.3972097933292389),\n",
       " ('რიტმულად', 0.39583662152290344),\n",
       " ('მდორედ', 0.3906417787075043),\n",
       " ('უცბად', 0.3888978362083435)]"
      ]
     },
     "execution_count": 21,
     "metadata": {},
     "output_type": "execute_result"
    }
   ],
   "source": [
    "w2v_model.wv.most_similar(positive=['ნელი', 'სწრაფად'], negative=['სწრაფი'])"
   ]
  },
  {
   "cell_type": "code",
   "execution_count": 31,
   "id": "cc724a4f-921e-4437-8320-b7364e525e8a",
   "metadata": {},
   "outputs": [
    {
     "data": {
      "text/plain": [
       "[('მივდივარ', 0.585079550743103),\n",
       " ('წამოვედი', 0.5763711929321289),\n",
       " ('წამოვალ', 0.5667750835418701),\n",
       " ('წავალ', 0.5654860734939575),\n",
       " ('წავიდე', 0.5646795034408569),\n",
       " ('წავიდოდი', 0.5388880372047424),\n",
       " ('მოვდივარ', 0.5307322144508362),\n",
       " ('წავსულიყავი', 0.5274919867515564),\n",
       " ('ჩავიდე', 0.5157987475395203),\n",
       " ('წავედით', 0.5123860239982605)]"
      ]
     },
     "execution_count": 31,
     "metadata": {},
     "output_type": "execute_result"
    }
   ],
   "source": [
    "w2v_model.wv.most_similar(positive=['ვარ', 'წავედი'], negative=['ვიყავი'])"
   ]
  },
  {
   "cell_type": "code",
   "execution_count": 134,
   "id": "b1fe0eb7-f9ca-4902-9d6c-7f56c4b4dee0",
   "metadata": {},
   "outputs": [
    {
     "data": {
      "text/plain": [
       "[('მთები', 0.5794955492019653),\n",
       " ('ნაპირები', 0.5692475438117981),\n",
       " ('ხრიოკი', 0.5466976761817932),\n",
       " ('ტყიანი', 0.5422216653823853),\n",
       " ('უდაბნო', 0.537442147731781),\n",
       " ('ივრის', 0.5341458916664124),\n",
       " ('ტყეები', 0.5319012403488159),\n",
       " ('შეფენილი', 0.5294755101203918),\n",
       " ('ჭალები', 0.5212216973304749),\n",
       " ('ველები', 0.5201641917228699)]"
      ]
     },
     "execution_count": 134,
     "metadata": {},
     "output_type": "execute_result"
    }
   ],
   "source": [
    "w2v_model.wv.most_similar(positive=['მთა', 'ხეები'], negative=['ხე'])"
   ]
  },
  {
   "cell_type": "code",
   "execution_count": 135,
   "id": "293056d2-6424-46f4-9774-e922a4e24740",
   "metadata": {},
   "outputs": [
    {
     "data": {
      "text/plain": [
       "[('დედოფალი', 0.5266863107681274),\n",
       " ('დედოფალ', 0.4737202823162079),\n",
       " ('პრინცი', 0.4736841022968292),\n",
       " ('ქალწული', 0.4696141481399536),\n",
       " ('მეფეც', 0.46924567222595215),\n",
       " ('გურანდუხტ', 0.46605610847473145),\n",
       " ('მზეთუნახავი', 0.46064096689224243),\n",
       " ('დედოფლისა', 0.4519679844379425),\n",
       " ('ორლეანელი', 0.45065176486968994),\n",
       " ('უფლისწული', 0.44770342111587524)]"
      ]
     },
     "execution_count": 135,
     "metadata": {},
     "output_type": "execute_result"
    }
   ],
   "source": [
    "w2v_model.wv.most_similar(positive=['ქალი', 'მეფე'], negative=['კაცი'])"
   ]
  },
  {
   "cell_type": "code",
   "execution_count": 131,
   "id": "e382d934-e9cf-4a3d-af94-0e0091deab8e",
   "metadata": {},
   "outputs": [
    {
     "data": {
      "text/plain": [
       "[('უდაბნო', 0.6239278316497803),\n",
       " ('მთაც', 0.6182738542556763),\n",
       " ('მთები', 0.5892217755317688),\n",
       " ('მთაა', 0.588892936706543),\n",
       " ('კლდე', 0.5619916915893555),\n",
       " ('ნაპირები', 0.5547749996185303),\n",
       " ('ჭალა', 0.5507076382637024),\n",
       " ('ნაპირი', 0.5419477224349976),\n",
       " ('მღვიმე', 0.5412144064903259),\n",
       " ('მდელო', 0.5390500426292419)]"
      ]
     },
     "execution_count": 131,
     "metadata": {},
     "output_type": "execute_result"
    }
   ],
   "source": [
    "w2v_model.wv.most_similar('მთა')"
   ]
  },
  {
   "cell_type": "code",
   "execution_count": 137,
   "id": "841051f6-2e43-4cf3-a7ab-15ee3e4797ce",
   "metadata": {},
   "outputs": [],
   "source": [
    "w2v_model.save(os.path.join('models', \"word2vec_v2.model\"))"
   ]
  },
  {
   "cell_type": "markdown",
   "id": "b4c568fe-c405-43da-97c3-c9e6e525e74a",
   "metadata": {},
   "source": [
    "# Compare to fastext Word2vec"
   ]
  },
  {
   "cell_type": "code",
   "execution_count": 2,
   "id": "5d327bdb-ab07-4801-bad2-b43fcd6dce74",
   "metadata": {},
   "outputs": [
    {
     "name": "stdout",
     "output_type": "stream",
     "text": [
      "Collecting fasttext\n",
      "  Downloading fasttext-0.9.2.tar.gz (68 kB)\n",
      "\u001b[2K     \u001b[90m━━━━━━━━━━━━━━━━━━━━━━━━━━━━━━━━━━━━━━━━\u001b[0m \u001b[32m68.8/68.8 kB\u001b[0m \u001b[31m1.6 MB/s\u001b[0m eta \u001b[36m0:00:00\u001b[0ma \u001b[36m0:00:01\u001b[0m\n",
      "\u001b[?25h  Preparing metadata (setup.py) ... \u001b[?25ldone\n",
      "\u001b[?25hCollecting pybind11>=2.2 (from fasttext)\n",
      "  Obtaining dependency information for pybind11>=2.2 from https://files.pythonhosted.org/packages/06/55/9f73c32dda93fa4f539fafa268f9504e83c489f460c380371d94296126cd/pybind11-2.11.1-py3-none-any.whl.metadata\n",
      "  Using cached pybind11-2.11.1-py3-none-any.whl.metadata (9.5 kB)\n",
      "Requirement already satisfied: setuptools>=0.7.0 in /opt/conda/lib/python3.10/site-packages (from fasttext) (68.0.0)\n",
      "Requirement already satisfied: numpy in /opt/conda/lib/python3.10/site-packages (from fasttext) (1.23.5)\n",
      "Using cached pybind11-2.11.1-py3-none-any.whl (227 kB)\n",
      "Building wheels for collected packages: fasttext\n",
      "  Building wheel for fasttext (setup.py) ... \u001b[?25ldone\n",
      "\u001b[?25h  Created wheel for fasttext: filename=fasttext-0.9.2-cp310-cp310-linux_x86_64.whl size=311173 sha256=5ae78a7d8545badf8cdbc069ab52b6f6f31a728d83540f56d72976924b241169\n",
      "  Stored in directory: /home/jupyter/.cache/pip/wheels/a5/13/75/f811c84a8ab36eedbaef977a6a58a98990e8e0f1967f98f394\n",
      "Successfully built fasttext\n",
      "Installing collected packages: pybind11, fasttext\n",
      "Successfully installed fasttext-0.9.2 pybind11-2.11.1\n"
     ]
    }
   ],
   "source": [
    "!pip install fasttext"
   ]
  },
  {
   "cell_type": "code",
   "execution_count": null,
   "id": "7dc71cc9-6ecf-4eeb-b5cd-e11fab4bf0ed",
   "metadata": {},
   "outputs": [
    {
     "name": "stdout",
     "output_type": "stream",
     "text": [
      "Downloading https://dl.fbaipublicfiles.com/fasttext/vectors-crawl/cc.ka.300.bin.gz\n",
      " (24.83%) [============>                                      ]                                                  ]>                                                  ]>                                                  ]>                                                  ]>                                                  ]>                                                  ]>                                                  ]>                                                  ]>                                                  ]>                                                  ]>                                                  ]>                                                  ]>                                                  ]>                                                  ]>                                                  ]>                                                  ]>                                                  ]>                                                  ]>                                                  ]>                                                  ]>                                                  ]>                                                  ]>                                                  ]>                                                  ]>                                                  ]>                                                  ]>                                                  ]>                                                  ]>                                                  ]>                                                  ]>                                                  ]>                                                  ]>                                                  ]>                                                  ]>                                                  ]>                                                  ]>                                                  ]>                                                  ]>                                                  ]>                                                  ]>                                                  ]>                                                  ]>                                                  ]>                                                  ]>                                                  ]>                                                  ]>                                                  ]>                                                  ]>                                                  ]>                                                  ]>                                                  ]>                                                  ]>                                                  ]>                                                  ]>                                                  ]>                                                  ]>                                                  ]>                                                  ]>                                                  ]>                                                  ]>                                                  ]>                                                  ]>                                                  ]>                                                  ]>                                                  ]>                                                  ]>                                                  ]>                                                  ]>                                                  ]>                                                  ]>                                                  ]>                                                  ]>                                                  ]>                                                  ]>                                                  ]>                                                  ]>                                                  ]>                                                  ]>                                                  ]>                                                  ]>                                                  ]>                                                  ]>                                                  ]>                                                  ]>                                                  ]>                                                  ]>                                                  ]>                                                  ]>                                                  ]>                                                  ]>                                                  ]>                                                  ]>                                                  ]>                                                  ]>                                                  ]>                                                  ]>                                                  ]>                                                  ]>                                                  ]>                                                  ]>                                                  ]>                                                  ]>                                                  ]>                                                  ]>                                                  ]>                                                  ]>                                                  ]>                                                  ]>                                                  ]>                                                  ]>                                                  ]>                                                  ]>                                                  ]>                                                  ]>                                                  ]>                                                  ]>                                                  ]>                                                  ]>                                                  ]>                                                  ]>                                                  ]>                                                  ]>                                                  ]>                                                  ]>                                                  ]>                                                  ]>                                                  ]>                                                  ]>                                                  ]>                                                  ]>                                                  ]>                                                  ]>                                                  ]>                                                  ]>                                                  ]>                                                  ]>                                                  ]>                                                  ]>                                                  ]>                                                  ]>                                                  ]>                                                  ]>                                                  ]>                                                  ]>                                                  ]>                                                  ]>                                                  ]>                                                  ]>                                                  ]>                                                  ]>                                                  ]>                                                  ]>                                                  ]>                                                  ]>                                                  ]>                                                  ]>                                                  ]>                                                  ]>                                                  ]>                                                  ]>                                                  ]>                                                  ]>                                                  ]>                                                  ]>                                                  ]>                                                  ]>                                                  ]>                                                  ]>                                                  ]>                                                  ]>                                                  ]>                                                  ]>                                                  ]>                                                  ]>                                                  ]>                                                  ]>                                                  ]>                                                  ]>                                                  ]>                                                  ]>                                                  ]>                                                  ]>                                                  ]>                                                  ]>                                                  ]>                                                  ]>                                                  ]>                                                  ]>                                                  ]>                                                  ]>                                                  ]>                                                  ]>                                                  ]>                                                  ]>                                                  ]>                                                  ]>                                                  ]>                                                  ]>                                                  ]>                                                  ]>                                                  ]>                                                  ]>                                                  ]>                                                  ]>                                                  ]>                                                  ]>                                                  ]>                                                  ]>                                                  ]>                                                  ]>                                                  ]>                                                  ]>                                                  ]>                                                  ]>                                                  ]>                                                  ]>                                                  ]>                                                  ]>                                                  ]>                                                  ]>                                                  ]>                                                  ]>                                                  ]>                                                  ]>                                                  ]>                                                  ]>                                                  ]>                                                  ]>                                                  ]>                                                  ]>                                                  ]>                                                  ]>                                                  ]>                                                  ]>                                                  ]>                                                  ]>                                                  ]=>                                                 ]=>                                                 ]=>                                                 ]=>                                                 ]=>                                                 ]=>                                                 ]=>                                                 ]=>                                                 ]=>                                                 ]=>                                                 ]=>                                                 ]=>                                                 ]=>                                                 ]=>                                                 ]=>                                                 ]=>                                                 ]=>                                                 ]=>                                                 ]=>                                                 ]=>                                                 ]=>                                                 ]=>                                                 ]=>                                                 ]=>                                                 ]=>                                                 ]=>                                                 ]=>                                                 ]=>                                                 ]=>                                                 ]=>                                                 ]=>                                                 ]=>                                                 ]=>                                                 ]=>                                                 ]=>                                                 ]=>                                                 ]=>                                                 ]=>                                                 ]=>                                                 ]=>                                                 ]=>                                                 ]=>                                                 ]=>                                                 ]=>                                                 ]=>                                                 ]=>                                                 ]=>                                                 ]=>                                                 ]=>                                                 ]=>                                                 ]=>                                                 ]=>                                                 ]=>                                                 ]=>                                                 ]=>                                                 ]=>                                                 ]=>                                                 ]=>                                                 ]=>                                                 ]=>                                                 ]=>                                                 ]=>                                                 ]=>                                                 ]=>                                                 ]=>                                                 ]=>                                                 ]=>                                                 ]=>                                                 ]=>                                                 ]=>                                                 ]=>                                                 ]=>                                                 ]=>                                                 ]=>                                                 ]=>                                                 ]=>                                                 ]=>                                                 ]=>                                                 ]=>                                                 ]=>                                                 ]=>                                                 ]=>                                                 ]=>                                                 ]=>                                                 ]=>                                                 ]=>                                                 ]=>                                                 ]=>                                                 ]=>                                                 ]=>                                                 ]=>                                                 ]=>                                                 ]=>                                                 ]=>                                                 ]=>                                                 ]=>                                                 ]=>                                                 ]=>                                                 ]=>                                                 ]=>                                                 ]=>                                                 ]=>                                                 ]=>                                                 ]=>                                                 ]=>                                                 ]=>                                                 ]=>                                                 ]=>                                                 ]=>                                                 ]=>                                                 ]=>                                                 ]=>                                                 ]=>                                                 ]=>                                                 ]=>                                                 ]=>                                                 ]=>                                                 ]=>                                                 ]=>                                                 ]=>                                                 ]=>                                                 ]=>                                                 ]=>                                                 ]=>                                                 ]=>                                                 ]=>                                                 ]=>                                                 ]=>                                                 ]=>                                                 ]=>                                                 ]=>                                                 ]=>                                                 ]=>                                                 ]=>                                                 ]=>                                                 ]=>                                                 ]=>                                                 ]=>                                                 ]=>                                                 ]=>                                                 ]=>                                                 ]=>                                                 ]=>                                                 ]=>                                                 ]=>                                                 ]=>                                                 ]=>                                                 ]=>                                                 ]=>                                                 ]=>                                                 ]=>                                                 ]=>                                                 ]=>                                                 ]=>                                                 ]=>                                                 ]=>                                                 ]=>                                                 ]=>                                                 ]=>                                                 ]=>                                                 ]=>                                                 ]=>                                                 ]=>                                                 ]=>                                                 ]=>                                                 ]=>                                                 ]=>                                                 ]=>                                                 ]=>                                                 ]=>                                                 ]=>                                                 ]=>                                                 ]=>                                                 ]=>                                                 ]=>                                                 ]=>                                                 ]=>                                                 ]=>                                                 ]=>                                                 ]=>                                                 ]=>                                                 ]=>                                                 ]=>                                                 ]=>                                                 ]=>                                                 ]=>                                                 ]=>                                                 ]=>                                                 ]=>                                                 ]=>                                                 ]=>                                                 ]=>                                                 ]=>                                                 ]=>                                                 ]=>                                                 ]=>                                                 ]=>                                                 ]=>                                                 ]=>                                                 ]=>                                                 ]=>                                                 ]=>                                                 ]=>                                                 ]=>                                                 ]=>                                                 ]=>                                                 ]=>                                                 ]=>                                                 ]=>                                                 ]=>                                                 ]=>                                                 ]=>                                                 ]=>                                                 ]=>                                                 ]=>                                                 ]=>                                                 ]=>                                                 ]=>                                                 ]=>                                                 ]=>                                                 ]=>                                                 ]=>                                                 ]=>                                                 ]=>                                                 ]=>                                                 ]=>                                                 ]=>                                                 ]=>                                                 ]=>                                                 ]=>                                                 ]=>                                                 ]=>                                                 ]=>                                                 ]=>                                                 ]=>                                                 ]=>                                                 ]=>                                                 ]=>                                                 ]=>                                                 ]=>                                                 ]=>                                                 ]=>                                                 ]=>                                                 ]=>                                                 ]=>                                                 ]=>                                                 ]=>                                                 ]=>                                                 ]=>                                                 ]=>                                                 ]=>                                                 ]=>                                                 ]=>                                                 ]=>                                                 ]=>                                                 ]=>                                                 ]=>                                                 ]=>                                                 ]=>                                                 ]=>                                                 ]=>                                                 ]=>                                                 ]=>                                                 ]=>                                                 ]=>                                                 ]=>                                                 ]=>                                                 ]=>                                                 ]=>                                                 ]=>                                                 ]=>                                                 ]=>                                                 ]=>                                                 ]=>                                                 ]=>                                                 ]=>                                                 ]=>                                                 ]=>                                                 ]=>                                                 ]=>                                                 ]==>                                                ]==>                                                ]==>                                                ]==>                                                ]==>                                                ]==>                                                ]==>                                                ]==>                                                ]==>                                                ]==>                                                ]==>                                                ]==>                                                ]==>                                                ]==>                                                ]==>                                                ]==>                                                ]==>                                                ]==>                                                ]==>                                                ]==>                                                ]==>                                                ]==>                                                ]==>                                                ]==>                                                ]==>                                                ]==>                                                ]==>                                                ]==>                                                ]==>                                                ]==>                                                ]==>                                                ]==>                                                ]==>                                                ]==>                                                ]==>                                                ]==>                                                ]==>                                                ]==>                                                ]==>                                                ]==>                                                ]==>                                                ]==>                                                ]==>                                                ]==>                                                ]==>                                                ]==>                                                ]==>                                                ]==>                                                ]==>                                                ]==>                                                ]==>                                                ]==>                                                ]==>                                                ]==>                                                ]==>                                                ]==>                                                ]==>                                                ]==>                                                ]==>                                                ]==>                                                ]==>                                                ]==>                                                ]==>                                                ]==>                                                ]==>                                                ]==>                                                ]==>                                                ]==>                                                ]==>                                                ]==>                                                ]==>                                                ]==>                                                ]==>                                                ]==>                                                ]==>                                                ]==>                                                ]==>                                                ]==>                                                ]==>                                                ]==>                                                ]==>                                                ]==>                                                ]==>                                                ]==>                                                ]==>                                                ]==>                                                ]==>                                                ]==>                                                ]==>                                                ]==>                                                ]==>                                                ]==>                                                ]==>                                                ]==>                                                ]==>                                                ]==>                                                ]==>                                                ]==>                                                ]==>                                                ]==>                                                ]==>                                                ]==>                                                ]==>                                                ]==>                                                ]==>                                                ]==>                                                ]==>                                                ]==>                                                ]==>                                                ]==>                                                ]==>                                                ]==>                                                ]==>                                                ]==>                                                ]==>                                                ]==>                                                ]==>                                                ]==>                                                ]==>                                                ]==>                                                ]==>                                                ]==>                                                ]==>                                                ]==>                                                ]==>                                                ]==>                                                ]==>                                                ]==>                                                ]==>                                                ]==>                                                ]==>                                                ]==>                                                ]==>                                                ]==>                                                ]==>                                                ]==>                                                ]==>                                                ]==>                                                ]==>                                                ]==>                                                ]==>                                                ]==>                                                ]==>                                                ]==>                                                ]==>                                                ]==>                                                ]==>                                                ]==>                                                ]==>                                                ]==>                                                ]==>                                                ]==>                                                ]==>                                                ]==>                                                ]==>                                                ]==>                                                ]==>                                                ]==>                                                ]==>                                                ]==>                                                ]==>                                                ]==>                                                ]==>                                                ]==>                                                ]==>                                                ]==>                                                ]==>                                                ]==>                                                ]==>                                                ]==>                                                ]==>                                                ]==>                                                ]==>                                                ]==>                                                ]==>                                                ]==>                                                ]==>                                                ]==>                                                ]==>                                                ]==>                                                ]==>                                                ]==>                                                ]==>                                                ]==>                                                ]==>                                                ]==>                                                ]==>                                                ]==>                                                ]==>                                                ]==>                                                ]==>                                                ]==>                                                ]==>                                                ]==>                                                ]==>                                                ]==>                                                ]==>                                                ]==>                                                ]==>                                                ]==>                                                ]==>                                                ]==>                                                ]==>                                                ]==>                                                ]==>                                                ]==>                                                ]==>                                                ]==>                                                ]==>                                                ]==>                                                ]==>                                                ]==>                                                ]==>                                                ]==>                                                ]==>                                                ]==>                                                ]==>                                                ]==>                                                ]==>                                                ]==>                                                ]==>                                                ]==>                                                ]==>                                                ]==>                                                ]==>                                                ]==>                                                ]==>                                                ]==>                                                ]==>                                                ]==>                                                ]==>                                                ]==>                                                ]==>                                                ]==>                                                ]==>                                                ]==>                                                ]==>                                                ]==>                                                ]==>                                                ]==>                                                ]==>                                                ]==>                                                ]==>                                                ]==>                                                ]==>                                                ]==>                                                ]==>                                                ]==>                                                ]==>                                                ]==>                                                ]==>                                                ]==>                                                ]==>                                                ]==>                                                ]==>                                                ]==>                                                ]==>                                                ]==>                                                ]==>                                                ]==>                                                ]==>                                                ]==>                                                ]==>                                                ]==>                                                ]==>                                                ]==>                                                ]==>                                                ]==>                                                ]==>                                                ]==>                                                ]==>                                                ]==>                                                ]==>                                                ]==>                                                ]==>                                                ]==>                                                ]==>                                                ]==>                                                ]==>                                                ]==>                                                ]==>                                                ]==>                                                ]==>                                                ]==>                                                ]==>                                                ]==>                                                ]==>                                                ]==>                                                ]==>                                                ]==>                                                ]==>                                                ]==>                                                ]==>                                                ]==>                                                ]==>                                                ]==>                                                ]==>                                                ]==>                                                ]==>                                                ]==>                                                ]==>                                                ]==>                                                ]==>                                                ]==>                                                ]==>                                                ]==>                                                ]==>                                                ]==>                                                ]==>                                                ]==>                                                ]===>                                               ]===>                                               ]===>                                               ]===>                                               ]===>                                               ]===>                                               ]===>                                               ]===>                                               ]===>                                               ]===>                                               ]===>                                               ]===>                                               ]===>                                               ]===>                                               ]===>                                               ]===>                                               ]===>                                               ]===>                                               ]===>                                               ]===>                                               ]===>                                               ]===>                                               ]===>                                               ]===>                                               ]===>                                               ]===>                                               ]===>                                               ]===>                                               ]===>                                               ]===>                                               ]===>                                               ]===>                                               ]===>                                               ]===>                                               ]===>                                               ]===>                                               ]===>                                               ]===>                                               ]===>                                               ]===>                                               ]===>                                               ]===>                                               ]===>                                               ]===>                                               ]===>                                               ]===>                                               ]===>                                               ]===>                                               ]===>                                               ]===>                                               ]===>                                               ]===>                                               ]===>                                               ]===>                                               ]===>                                               ]===>                                               ]===>                                               ]===>                                               ]===>                                               ]===>                                               ]===>                                               ]===>                                               ]===>                                               ]===>                                               ]===>                                               ]===>                                               ]===>                                               ]===>                                               ]===>                                               ]===>                                               ]===>                                               ]===>                                               ]===>                                               ]===>                                               ]===>                                               ]===>                                               ]===>                                               ]===>                                               ]===>                                               ]===>                                               ]===>                                               ]===>                                               ]===>                                               ]===>                                               ]===>                                               ]===>                                               ]===>                                               ]===>                                               ]===>                                               ]===>                                               ]===>                                               ]===>                                               ]===>                                               ]===>                                               ]===>                                               ]===>                                               ]===>                                               ]===>                                               ]===>                                               ]===>                                               ]===>                                               ]===>                                               ]===>                                               ]===>                                               ]===>                                               ]===>                                               ]===>                                               ]===>                                               ]===>                                               ]===>                                               ]===>                                               ]===>                                               ]===>                                               ]===>                                               ]===>                                               ]===>                                               ]===>                                               ]===>                                               ]===>                                               ]===>                                               ]===>                                               ]===>                                               ]===>                                               ]===>                                               ]===>                                               ]===>                                               ]===>                                               ]===>                                               ]===>                                               ]===>                                               ]===>                                               ]===>                                               ]===>                                               ]===>                                               ]===>                                               ]===>                                               ]===>                                               ]===>                                               ]===>                                               ]===>                                               ]===>                                               ]===>                                               ]===>                                               ]===>                                               ]===>                                               ]===>                                               ]===>                                               ]===>                                               ]===>                                               ]===>                                               ]===>                                               ]===>                                               ]===>                                               ]===>                                               ]===>                                               ]===>                                               ]===>                                               ]===>                                               ]===>                                               ]===>                                               ]===>                                               ]===>                                               ]===>                                               ]===>                                               ]===>                                               ]===>                                               ]===>                                               ]===>                                               ]===>                                               ]===>                                               ]===>                                               ]===>                                               ]===>                                               ]===>                                               ]===>                                               ]===>                                               ]===>                                               ]===>                                               ]===>                                               ]===>                                               ]===>                                               ]===>                                               ]===>                                               ]===>                                               ]===>                                               ]===>                                               ]===>                                               ]===>                                               ]===>                                               ]===>                                               ]===>                                               ]===>                                               ]===>                                               ]===>                                               ]===>                                               ]===>                                               ]===>                                               ]===>                                               ]===>                                               ]===>                                               ]===>                                               ]===>                                               ]===>                                               ]===>                                               ]===>                                               ]===>                                               ]===>                                               ]===>                                               ]===>                                               ]===>                                               ]===>                                               ]===>                                               ]===>                                               ]===>                                               ]===>                                               ]===>                                               ]===>                                               ]===>                                               ]===>                                               ]===>                                               ]===>                                               ]===>                                               ]===>                                               ]===>                                               ]===>                                               ]===>                                               ]===>                                               ]===>                                               ]===>                                               ]===>                                               ]===>                                               ]===>                                               ]===>                                               ]===>                                               ]===>                                               ]===>                                               ]===>                                               ]===>                                               ]===>                                               ]===>                                               ]===>                                               ]===>                                               ]===>                                               ]===>                                               ]===>                                               ]===>                                               ]===>                                               ]===>                                               ]===>                                               ]===>                                               ]===>                                               ]===>                                               ]===>                                               ]===>                                               ]===>                                               ]===>                                               ]===>                                               ]===>                                               ]===>                                               ]===>                                               ]===>                                               ]===>                                               ]===>                                               ]===>                                               ]===>                                               ]===>                                               ]===>                                               ]===>                                               ]===>                                               ]===>                                               ]===>                                               ]===>                                               ]===>                                               ]===>                                               ]===>                                               ]===>                                               ]===>                                               ]===>                                               ]===>                                               ]===>                                               ]===>                                               ]===>                                               ]===>                                               ]===>                                               ]===>                                               ]===>                                               ]===>                                               ]===>                                               ]===>                                               ]===>                                               ]===>                                               ]===>                                               ]===>                                               ]===>                                               ]===>                                               ]===>                                               ]===>                                               ]===>                                               ]===>                                               ]===>                                               ]===>                                               ]===>                                               ]===>                                               ]===>                                               ]===>                                               ]===>                                               ]===>                                               ]===>                                               ]===>                                               ]===>                                               ]===>                                               ]===>                                               ]===>                                               ]===>                                               ]===>                                               ]===>                                               ]===>                                               ]===>                                               ]===>                                               ]===>                                               ]===>                                               ]===>                                               ]===>                                               ]===>                                               ]===>                                               ]===>                                               ]===>                                               ]===>                                               ]===>                                               ]===>                                               ]===>                                               ]===>                                               ]===>                                               ]===>                                               ]===>                                               ]===>                                               ]===>                                               ]===>                                               ]===>                                               ]===>                                               ]===>                                               ]===>                                               ]===>                                               ]===>                                               ]===>                                               ]===>                                               ]===>                                               ]===>                                               ]===>                                               ]===>                                               ]===>                                               ]===>                                               ]===>                                               ]===>                                               ]===>                                               ]===>                                               ]===>                                               ]===>                                               ]===>                                               ]===>                                               ]===>                                               ]===>                                               ]===>                                               ]===>                                               ]===>                                               ]===>                                               ]===>                                               ]===>                                               ]===>                                               ]===>                                               ]===>                                               ]====>                                              ]====>                                              ]====>                                              ]====>                                              ]====>                                              ]====>                                              ]====>                                              ]====>                                              ]====>                                              ]====>                                              ]====>                                              ]====>                                              ]====>                                              ]====>                                              ]====>                                              ]====>                                              ]====>                                              ]====>                                              ]====>                                              ]====>                                              ]====>                                              ]====>                                              ]====>                                              ]====>                                              ]====>                                              ]====>                                              ]====>                                              ]====>                                              ]====>                                              ]====>                                              ]====>                                              ]====>                                              ]====>                                              ]====>                                              ]====>                                              ]====>                                              ]====>                                              ]====>                                              ]====>                                              ]====>                                              ]====>                                              ]====>                                              ]====>                                              ]====>                                              ]====>                                              ]====>                                              ]====>                                              ]====>                                              ]====>                                              ]====>                                              ]====>                                              ]====>                                              ]====>                                              ]====>                                              ]====>                                              ]====>                                              ]====>                                              ]====>                                              ]====>                                              ]====>                                              ]====>                                              ]====>                                              ]====>                                              ]====>                                              ]====>                                              ]====>                                              ]====>                                              ]====>                                              ]====>                                              ]====>                                              ]====>                                              ]====>                                              ]====>                                              ]====>                                              ]====>                                              ]====>                                              ]====>                                              ]====>                                              ]====>                                              ]====>                                              ]====>                                              ]====>                                              ]====>                                              ]====>                                              ]====>                                              ]====>                                              ]====>                                              ]====>                                              ]====>                                              ]====>                                              ]====>                                              ]====>                                              ]====>                                              ]====>                                              ]====>                                              ]====>                                              ]====>                                              ]====>                                              ]====>                                              ]====>                                              ]====>                                              ]====>                                              ]====>                                              ]====>                                              ]====>                                              ]====>                                              ]====>                                              ]====>                                              ]====>                                              ]====>                                              ]====>                                              ]====>                                              ]====>                                              ]====>                                              ]====>                                              ]====>                                              ]====>                                              ]====>                                              ]====>                                              ]====>                                              ]====>                                              ]====>                                              ]====>                                              ]====>                                              ]====>                                              ]====>                                              ]====>                                              ]====>                                              ]====>                                              ]====>                                              ]====>                                              ]====>                                              ]====>                                              ]====>                                              ]====>                                              ]====>                                              ]====>                                              ]====>                                              ]====>                                              ]====>                                              ]====>                                              ]====>                                              ]====>                                              ]====>                                              ]====>                                              ]====>                                              ]====>                                              ]====>                                              ]====>                                              ]====>                                              ]====>                                              ]====>                                              ]====>                                              ]====>                                              ]====>                                              ]====>                                              ]====>                                              ]====>                                              ]====>                                              ]====>                                              ]====>                                              ]============>                                      ]============>                                      ]============>                                      ]============>                                      ]============>                                      ]============>                                      ]============>                                      ]============>                                      ]============>                                      ]============>                                      ]============>                                      ]============>                                      ]============>                                      ]============>                                      ]============>                                      ]============>                                      ]============>                                      ]============>                                      ]============>                                      ]============>                                      ]============>                                      ]============>                                      ]============>                                      ]============>                                      ]============>                                      ]============>                                      ]============>                                      ]============>                                      ]============>                                      ]============>                                      ]============>                                      ]============>                                      ]============>                                      ]============>                                      ]============>                                      ]============>                                      ]============>                                      ]============>                                      ]============>                                      ]============>                                      ]============>                                      ]============>                                      ]============>                                      ]============>                                      ]============>                                      ]============>                                      ]============>                                      ]============>                                      ]============>                                      ]============>                                      ]============>                                      ]============>                                      ]============>                                      ]============>                                      ]============>                                      ]============>                                      ]============>                                      ]============>                                      ]============>                                      ]============>                                      ]============>                                      ]============>                                      ]============>                                      ]============>                                      ]============>                                      ]============>                                      ]============>                                      ]============>                                      ]============>                                      ]============>                                      ]============>                                      ]============>                                      ]============>                                      ]============>                                      ]============>                                      ]============>                                      ]============>                                      ]============>                                      ]============>                                      ]============>                                      ]============>                                      ]============>                                      ]============>                                      ]============>                                      ]============>                                      ]============>                                      ]============>                                      ]============>                                      ]============>                                      ]============>                                      ]============>                                      ]============>                                      ]============>                                      ]============>                                      ]============>                                      ]============>                                      ]============>                                      ]============>                                      ]============>                                      ]============>                                      ]============>                                      ]============>                                      ]============>                                      ]============>                                      ]============>                                      ]============>                                      ]============>                                      ]============>                                      ]============>                                      ]============>                                      ]============>                                      ]============>                                      ]============>                                      ]============>                                      ]============>                                      ]============>                                      ]\r"
     ]
    },
    {
     "name": "stderr",
     "output_type": "stream",
     "text": [
      "IOPub message rate exceeded.\n",
      "The Jupyter server will temporarily stop sending output\n",
      "to the client in order to avoid crashing it.\n",
      "To change this limit, set the config variable\n",
      "`--ServerApp.iopub_msg_rate_limit`.\n",
      "\n",
      "Current values:\n",
      "ServerApp.iopub_msg_rate_limit=1000.0 (msgs/sec)\n",
      "ServerApp.rate_limit_window=3.0 (secs)\n",
      "\n"
     ]
    },
    {
     "name": "stdout",
     "output_type": "stream",
     "text": [
      " (26.86%) [=============>                                     ]=============>                                     ]=============>                                     ]=============>                                     ]=============>                                     ]=============>                                     ]=============>                                     ]=============>                                     ]=============>                                     ]=============>                                     ]=============>                                     ]=============>                                     ]=============>                                     ]=============>                                     ]=============>                                     ]=============>                                     ]=============>                                     ]=============>                                     ]=============>                                     ]=============>                                     ]=============>                                     ]=============>                                     ]=============>                                     ]=============>                                     ]=============>                                     ]=============>                                     ]=============>                                     ]=============>                                     ]=============>                                     ]=============>                                     ]=============>                                     ]=============>                                     ]=============>                                     ]=============>                                     ]=============>                                     ]=============>                                     ]=============>                                     ]=============>                                     ]=============>                                     ]=============>                                     ]=============>                                     ]=============>                                     ]=============>                                     ]=============>                                     ]=============>                                     ]=============>                                     ]=============>                                     ]=============>                                     ]=============>                                     ]=============>                                     ]=============>                                     ]=============>                                     ]=============>                                     ]=============>                                     ]=============>                                     ]=============>                                     ]=============>                                     ]=============>                                     ]=============>                                     ]=============>                                     ]=============>                                     ]=============>                                     ]=============>                                     ]=============>                                     ]=============>                                     ]=============>                                     ]=============>                                     ]=============>                                     ]=============>                                     ]=============>                                     ]=============>                                     ]=============>                                     ]=============>                                     ]=============>                                     ]=============>                                     ]=============>                                     ]=============>                                     ]=============>                                     ]=============>                                     ]=============>                                     ]=============>                                     ]=============>                                     ]=============>                                     ]\r"
     ]
    },
    {
     "name": "stderr",
     "output_type": "stream",
     "text": [
      "IOPub message rate exceeded.\n",
      "The Jupyter server will temporarily stop sending output\n",
      "to the client in order to avoid crashing it.\n",
      "To change this limit, set the config variable\n",
      "`--ServerApp.iopub_msg_rate_limit`.\n",
      "\n",
      "Current values:\n",
      "ServerApp.iopub_msg_rate_limit=1000.0 (msgs/sec)\n",
      "ServerApp.rate_limit_window=3.0 (secs)\n",
      "\n"
     ]
    },
    {
     "name": "stdout",
     "output_type": "stream",
     "text": [
      " (28.03%) [==============>                                    ]=============>                                     ]=============>                                     ]=============>                                     ]=============>                                     ]=============>                                     ]=============>                                     ]=============>                                     ]=============>                                     ]=============>                                     ]=============>                                     ]=============>                                     ]=============>                                     ]=============>                                     ]=============>                                     ]=============>                                     ]=============>                                     ]=============>                                     ]=============>                                     ]=============>                                     ]=============>                                     ]=============>                                     ]=============>                                     ]=============>                                     ]=============>                                     ]=============>                                     ]=============>                                     ]=============>                                     ]=============>                                     ]=============>                                     ]=============>                                     ]=============>                                     ]=============>                                     ]=============>                                     ]=============>                                     ]=============>                                     ]=============>                                     ]=============>                                     ]=============>                                     ]=============>                                     ]=============>                                     ]=============>                                     ]=============>                                     ]=============>                                     ]=============>                                     ]=============>                                     ]=============>                                     ]=============>                                     ]=============>                                     ]=============>                                     ]=============>                                     ]=============>                                     ]=============>                                     ]=============>                                     ]=============>                                     ]=============>                                     ]=============>                                     ]=============>                                     ]=============>                                     ]=============>                                     ]=============>                                     ]=============>                                     ]=============>                                     ]=============>                                     ]=============>                                     ]=============>                                     ]=============>                                     ]=============>                                     ]=============>                                     ]==============>                                    ]==============>                                    ]==============>                                    ]==============>                                    ]==============>                                    ]==============>                                    ]==============>                                    ]==============>                                    ]==============>                                    ]==============>                                    ]==============>                                    ]==============>                                    ]==============>                                    ]\r"
     ]
    },
    {
     "name": "stderr",
     "output_type": "stream",
     "text": [
      "IOPub message rate exceeded.\n",
      "The Jupyter server will temporarily stop sending output\n",
      "to the client in order to avoid crashing it.\n",
      "To change this limit, set the config variable\n",
      "`--ServerApp.iopub_msg_rate_limit`.\n",
      "\n",
      "Current values:\n",
      "ServerApp.iopub_msg_rate_limit=1000.0 (msgs/sec)\n",
      "ServerApp.rate_limit_window=3.0 (secs)\n",
      "\n"
     ]
    },
    {
     "name": "stdout",
     "output_type": "stream",
     "text": [
      " (28.52%) [==============>                                    ]==============>                                    ]==============>                                    ]==============>                                    ]==============>                                    ]==============>                                    ]==============>                                    ]==============>                                    ]==============>                                    ]==============>                                    ]==============>                                    ]==============>                                    ]==============>                                    ]==============>                                    ]==============>                                    ]==============>                                    ]==============>                                    ]==============>                                    ]==============>                                    ]==============>                                    ]==============>                                    ]==============>                                    ]==============>                                    ]==============>                                    ]==============>                                    ]==============>                                    ]==============>                                    ]==============>                                    ]==============>                                    ]==============>                                    ]==============>                                    ]==============>                                    ]==============>                                    ]==============>                                    ]==============>                                    ]==============>                                    ]==============>                                    ]==============>                                    ]==============>                                    ]==============>                                    ]==============>                                    ]==============>                                    ]==============>                                    ]==============>                                    ]==============>                                    ]==============>                                    ]==============>                                    ]==============>                                    ]==============>                                    ]==============>                                    ]==============>                                    ]==============>                                    ]==============>                                    ]==============>                                    ]==============>                                    ]==============>                                    ]\r"
     ]
    },
    {
     "name": "stderr",
     "output_type": "stream",
     "text": [
      "IOPub message rate exceeded.\n",
      "The Jupyter server will temporarily stop sending output\n",
      "to the client in order to avoid crashing it.\n",
      "To change this limit, set the config variable\n",
      "`--ServerApp.iopub_msg_rate_limit`.\n",
      "\n",
      "Current values:\n",
      "ServerApp.iopub_msg_rate_limit=1000.0 (msgs/sec)\n",
      "ServerApp.rate_limit_window=3.0 (secs)\n",
      "\n"
     ]
    },
    {
     "name": "stdout",
     "output_type": "stream",
     "text": [
      " (29.93%) [==============>                                    ]==============>                                    ]==============>                                    ]==============>                                    ]==============>                                    ]==============>                                    ]==============>                                    ]==============>                                    ]==============>                                    ]==============>                                    ]==============>                                    ]==============>                                    ]==============>                                    ]==============>                                    ]==============>                                    ]==============>                                    ]==============>                                    ]==============>                                    ]==============>                                    ]==============>                                    ]==============>                                    ]==============>                                    ]==============>                                    ]==============>                                    ]==============>                                    ]==============>                                    ]==============>                                    ]==============>                                    ]==============>                                    ]==============>                                    ]==============>                                    ]==============>                                    ]==============>                                    ]==============>                                    ]==============>                                    ]==============>                                    ]==============>                                    ]==============>                                    ]==============>                                    ]==============>                                    ]==============>                                    ]==============>                                    ]==============>                                    ]==============>                                    ]==============>                                    ]==============>                                    ]==============>                                    ]==============>                                    ]==============>                                    ]==============>                                    ]==============>                                    ]==============>                                    ]==============>                                    ]==============>                                    ]==============>                                    ]==============>                                    ]==============>                                    ]==============>                                    ]==============>                                    ]==============>                                    ]==============>                                    ]==============>                                    ]==============>                                    ]==============>                                    ]==============>                                    ]==============>                                    ]==============>                                    ]==============>                                    ]==============>                                    ]==============>                                    ]==============>                                    ]==============>                                    ]==============>                                    ]==============>                                    ]==============>                                    ]==============>                                    ]==============>                                    ]==============>                                    ]==============>                                    ]==============>                                    ]==============>                                    ]==============>                                    ]==============>                                    ]==============>                                    ]==============>                                    ]==============>                                    ]==============>                                    ]==============>                                    ]==============>                                    ]==============>                                    ]==============>                                    ]==============>                                    ]==============>                                    ]==============>                                    ]==============>                                    ]==============>                                    ]==============>                                    ]==============>                                    ]==============>                                    ]==============>                                    ]==============>                                    ]==============>                                    ]==============>                                    ]==============>                                    ]==============>                                    ]==============>                                    ]==============>                                    ]==============>                                    ]==============>                                    ]==============>                                    ]==============>                                    ]==============>                                    ]==============>                                    ]==============>                                    ]==============>                                    ]==============>                                    ]==============>                                    ]==============>                                    ]==============>                                    ]==============>                                    ]==============>                                    ]\r"
     ]
    },
    {
     "name": "stderr",
     "output_type": "stream",
     "text": [
      "IOPub message rate exceeded.\n",
      "The Jupyter server will temporarily stop sending output\n",
      "to the client in order to avoid crashing it.\n",
      "To change this limit, set the config variable\n",
      "`--ServerApp.iopub_msg_rate_limit`.\n",
      "\n",
      "Current values:\n",
      "ServerApp.iopub_msg_rate_limit=1000.0 (msgs/sec)\n",
      "ServerApp.rate_limit_window=3.0 (secs)\n",
      "\n"
     ]
    },
    {
     "name": "stdout",
     "output_type": "stream",
     "text": [
      " (30.49%) [===============>                                   ]===============>                                   ]===============>                                   ]===============>                                   ]===============>                                   ]===============>                                   ]===============>                                   ]===============>                                   ]===============>                                   ]===============>                                   ]===============>                                   ]===============>                                   ]===============>                                   ]===============>                                   ]===============>                                   ]===============>                                   ]===============>                                   ]===============>                                   ]===============>                                   ]===============>                                   ]===============>                                   ]===============>                                   ]===============>                                   ]===============>                                   ]===============>                                   ]===============>                                   ]===============>                                   ]===============>                                   ]===============>                                   ]===============>                                   ]===============>                                   ]===============>                                   ]\r"
     ]
    }
   ],
   "source": [
    "import fasttext.util\n",
    "fasttext.util.download_model('ka', if_exists='ignore')  # English\n",
    "model = fasttext.load_model('cc.ka.300.bin')"
   ]
  },
  {
   "cell_type": "code",
   "execution_count": null,
   "id": "ec60ed05-a10c-46d8-8cbf-af0c1fcf5b6b",
   "metadata": {},
   "outputs": [],
   "source": []
  }
 ],
 "metadata": {
  "environment": {
   "kernel": "python3",
   "name": "pytorch-gpu.2-0.m110",
   "type": "gcloud",
   "uri": "gcr.io/deeplearning-platform-release/pytorch-gpu.2-0:m110"
  },
  "kernelspec": {
   "display_name": "Python 3",
   "language": "python",
   "name": "python3"
  },
  "language_info": {
   "codemirror_mode": {
    "name": "ipython",
    "version": 3
   },
   "file_extension": ".py",
   "mimetype": "text/x-python",
   "name": "python",
   "nbconvert_exporter": "python",
   "pygments_lexer": "ipython3",
   "version": "3.10.12"
  }
 },
 "nbformat": 4,
 "nbformat_minor": 5
}
