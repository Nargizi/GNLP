{
 "cells": [
  {
   "cell_type": "code",
   "execution_count": 1,
   "id": "46ee5db5-cb34-4f08-85ce-2341d827ad72",
   "metadata": {
    "ExecuteTime": {
     "end_time": "2023-07-03T17:51:54.313273Z",
     "start_time": "2023-07-03T17:51:54.274286Z"
    }
   },
   "outputs": [],
   "source": [
    "%matplotlib inline\n",
    "\n",
    "from ast import literal_eval\n",
    "import re\n",
    "import pandas as pd\n",
    "import numpy as np\n",
    "import matplotlib.pyplot as plt\n",
    "import seaborn as sns\n",
    "pd.options.display.float_format = '{:.8f}'.format\n",
    "sns.set(font=\"Meiryo\")"
   ]
  },
  {
   "cell_type": "markdown",
   "id": "c5234248-1152-4669-a14b-208523cdc283",
   "metadata": {
    "tags": []
   },
   "source": [
    "# საწყისი ცხრილი"
   ]
  },
  {
   "cell_type": "markdown",
   "id": "72817936-33e4-461b-ae6f-fd54e83f21d1",
   "metadata": {},
   "source": [
    "ცხრილის მონაცემები, სადაც კორპუსიდან ამოღბულია სიტყვის ყველა შესაძლო მახასიათებელი. მათ შორის ლემების და მეტყველების ნაწილაკებიხ რამოდენიმე ვარიანტი"
   ]
  },
  {
   "cell_type": "code",
   "execution_count": 2,
   "id": "4e2178a3-116b-499b-98b2-d18635918551",
   "metadata": {
    "ExecuteTime": {
     "end_time": "2023-07-03T17:52:01.959475Z",
     "start_time": "2023-07-03T17:51:54.316034Z"
    }
   },
   "outputs": [
    {
     "data": {
      "text/html": [
       "<div>\n",
       "<style scoped>\n",
       "    .dataframe tbody tr th:only-of-type {\n",
       "        vertical-align: middle;\n",
       "    }\n",
       "\n",
       "    .dataframe tbody tr th {\n",
       "        vertical-align: top;\n",
       "    }\n",
       "\n",
       "    .dataframe thead th {\n",
       "        text-align: right;\n",
       "    }\n",
       "</style>\n",
       "<table border=\"1\" class=\"dataframe\">\n",
       "  <thead>\n",
       "    <tr style=\"text-align: right;\">\n",
       "      <th></th>\n",
       "      <th>word_init</th>\n",
       "      <th>word_mod</th>\n",
       "      <th>lemma_basic</th>\n",
       "      <th>lemma_adv</th>\n",
       "      <th>pos_tag</th>\n",
       "      <th>freq</th>\n",
       "    </tr>\n",
       "  </thead>\n",
       "  <tbody>\n",
       "    <tr>\n",
       "      <th>0</th>\n",
       "      <td>ამ</td>\n",
       "      <td>ამ</td>\n",
       "      <td>{'??', '\\t', 'ეს'}</td>\n",
       "      <td>{'??', 'ეს'}</td>\n",
       "      <td>{'Pron', 'Dem', 'Gen', 'Erg', 'Prop', 'Inst', ...</td>\n",
       "      <td>1041654</td>\n",
       "    </tr>\n",
       "    <tr>\n",
       "      <th>1</th>\n",
       "      <td>ზამთრის</td>\n",
       "      <td>ზამთრის</td>\n",
       "      <td>{'ზამთარი', 'ზამთარ·ი'}</td>\n",
       "      <td>{'ზამთ[ა]რ-ი', 'ზამთ[ა]რ·ი'}</td>\n",
       "      <td>{'Gen', 'Sg', 'LevGuess', 'Temp', 'N'}</td>\n",
       "      <td>8035</td>\n",
       "    </tr>\n",
       "    <tr>\n",
       "      <th>2</th>\n",
       "      <td>მიწურულს</td>\n",
       "      <td>მიწურულს</td>\n",
       "      <td>{'მი·წურულ·ი', 'მიწურული', 'მიწურულ·ი'}</td>\n",
       "      <td>{'მიწურულ·ი', 'მი-წურულ-ი/წურ', 'მიწურულ-ი', '...</td>\n",
       "      <td>{'Pv', 'Sg', 'A', 'PastPart', 'LevGuess', 'Dat...</td>\n",
       "      <td>5976</td>\n",
       "    </tr>\n",
       "    <tr>\n",
       "      <th>3</th>\n",
       "      <td>თითქმის</td>\n",
       "      <td>თითქმის</td>\n",
       "      <td>{'თითქმის'}</td>\n",
       "      <td>{'თითქმის'}</td>\n",
       "      <td>{'LevGuess', 'Adv', 'DegNum', 'Deg'}</td>\n",
       "      <td>62608</td>\n",
       "    </tr>\n",
       "    <tr>\n",
       "      <th>4</th>\n",
       "      <td>სასოწარკვეთილი</td>\n",
       "      <td>სასოწარკვეთილი</td>\n",
       "      <td>{'სასოწარკვეთილ·ი', 'სასოწარკვეთილი'}</td>\n",
       "      <td>{'სასოწარკვეთილ·ი', 'სასოწარკვეთილ-ი'}</td>\n",
       "      <td>{'Gen', 'Att', 'A', 'Nom', 'Sg', 'Inst', 'LevG...</td>\n",
       "      <td>844</td>\n",
       "    </tr>\n",
       "    <tr>\n",
       "      <th>...</th>\n",
       "      <td>...</td>\n",
       "      <td>...</td>\n",
       "      <td>...</td>\n",
       "      <td>...</td>\n",
       "      <td>...</td>\n",
       "      <td>...</td>\n",
       "    </tr>\n",
       "    <tr>\n",
       "      <th>95</th>\n",
       "      <td>ხომ</td>\n",
       "      <td>ხომ</td>\n",
       "      <td>{'ხომ'}</td>\n",
       "      <td>{'ხომ'}</td>\n",
       "      <td>{'Disc', 'Adv'}</td>\n",
       "      <td>127578</td>\n",
       "    </tr>\n",
       "    <tr>\n",
       "      <th>96</th>\n",
       "      <td>ვსაყვედურობდი</td>\n",
       "      <td>ვსაყვედურობდი</td>\n",
       "      <td>{'საყვედურ·ი', 'საყვედური'}</td>\n",
       "      <td>{'საყვედურ-ი/საყვედურ', 'საყვედურ·ი/საყვედურ'}</td>\n",
       "      <td>{'&lt;S:Nom&gt;', 'S:1Sg', 'V', 'MedAct', '&lt;S-IO&gt;', ...</td>\n",
       "      <td>19</td>\n",
       "    </tr>\n",
       "    <tr>\n",
       "      <th>97</th>\n",
       "      <td>საწინააღმდეგო</td>\n",
       "      <td>საწინააღმდეგო</td>\n",
       "      <td>{'საწინააღმდეგო'}</td>\n",
       "      <td>{'საწინააღმდეგო'}</td>\n",
       "      <td>{'Gen', 'Erg', 'Att', 'A', 'Nom', 'Inst', 'Sg'...</td>\n",
       "      <td>9474</td>\n",
       "    </tr>\n",
       "    <tr>\n",
       "      <th>98</th>\n",
       "      <td>გაქვს</td>\n",
       "      <td>გაქვს</td>\n",
       "      <td>{'ქონა'}</td>\n",
       "      <td>{'ქონ[ა]/ქვ'}</td>\n",
       "      <td>{'DO:3', '&lt;DO:Nom&gt;', 'V', 'Inv', '&lt;S:Dat&gt;', 'S...</td>\n",
       "      <td>8972</td>\n",
       "    </tr>\n",
       "    <tr>\n",
       "      <th>99</th>\n",
       "      <td>წამოვდექი</td>\n",
       "      <td>წამოვდექი</td>\n",
       "      <td>{'წამოდგომა', 'წამო·დგომა'}</td>\n",
       "      <td>{'წამო·დგომ[ა]/დექ', 'წამო-დგომ[ა]/დექ'}</td>\n",
       "      <td>{'Pv', '&lt;S:Nom&gt;', 'S:1Sg', 'V', '&lt;S&gt;', 'LevGue...</td>\n",
       "      <td>332</td>\n",
       "    </tr>\n",
       "  </tbody>\n",
       "</table>\n",
       "<p>100 rows × 6 columns</p>\n",
       "</div>"
      ],
      "text/plain": [
       "         word_init        word_mod                              lemma_basic  \\\n",
       "0               ამ              ამ                       {'??', '\\t', 'ეს'}   \n",
       "1          ზამთრის         ზამთრის                  {'ზამთარი', 'ზამთარ·ი'}   \n",
       "2         მიწურულს        მიწურულს  {'მი·წურულ·ი', 'მიწურული', 'მიწურულ·ი'}   \n",
       "3          თითქმის         თითქმის                              {'თითქმის'}   \n",
       "4   სასოწარკვეთილი  სასოწარკვეთილი    {'სასოწარკვეთილ·ი', 'სასოწარკვეთილი'}   \n",
       "..             ...             ...                                      ...   \n",
       "95             ხომ             ხომ                                  {'ხომ'}   \n",
       "96   ვსაყვედურობდი   ვსაყვედურობდი              {'საყვედურ·ი', 'საყვედური'}   \n",
       "97   საწინააღმდეგო   საწინააღმდეგო                        {'საწინააღმდეგო'}   \n",
       "98           გაქვს           გაქვს                                 {'ქონა'}   \n",
       "99       წამოვდექი       წამოვდექი              {'წამოდგომა', 'წამო·დგომა'}   \n",
       "\n",
       "                                            lemma_adv  \\\n",
       "0                                        {'??', 'ეს'}   \n",
       "1                        {'ზამთ[ა]რ-ი', 'ზამთ[ა]რ·ი'}   \n",
       "2   {'მიწურულ·ი', 'მი-წურულ-ი/წურ', 'მიწურულ-ი', '...   \n",
       "3                                         {'თითქმის'}   \n",
       "4              {'სასოწარკვეთილ·ი', 'სასოწარკვეთილ-ი'}   \n",
       "..                                                ...   \n",
       "95                                            {'ხომ'}   \n",
       "96     {'საყვედურ-ი/საყვედურ', 'საყვედურ·ი/საყვედურ'}   \n",
       "97                                  {'საწინააღმდეგო'}   \n",
       "98                                      {'ქონ[ა]/ქვ'}   \n",
       "99           {'წამო·დგომ[ა]/დექ', 'წამო-დგომ[ა]/დექ'}   \n",
       "\n",
       "                                              pos_tag     freq  \n",
       "0   {'Pron', 'Dem', 'Gen', 'Erg', 'Prop', 'Inst', ...  1041654  \n",
       "1              {'Gen', 'Sg', 'LevGuess', 'Temp', 'N'}     8035  \n",
       "2   {'Pv', 'Sg', 'A', 'PastPart', 'LevGuess', 'Dat...     5976  \n",
       "3                {'LevGuess', 'Adv', 'DegNum', 'Deg'}    62608  \n",
       "4   {'Gen', 'Att', 'A', 'Nom', 'Sg', 'Inst', 'LevG...      844  \n",
       "..                                                ...      ...  \n",
       "95                                    {'Disc', 'Adv'}   127578  \n",
       "96  {'<S:Nom>', 'S:1Sg', 'V', 'MedAct', '<S-IO>', ...       19  \n",
       "97  {'Gen', 'Erg', 'Att', 'A', 'Nom', 'Inst', 'Sg'...     9474  \n",
       "98  {'DO:3', '<DO:Nom>', 'V', 'Inv', '<S:Dat>', 'S...     8972  \n",
       "99  {'Pv', '<S:Nom>', 'S:1Sg', 'V', '<S>', 'LevGue...      332  \n",
       "\n",
       "[100 rows x 6 columns]"
      ]
     },
     "execution_count": 2,
     "metadata": {},
     "output_type": "execute_result"
    }
   ],
   "source": [
    "df = pd.read_csv('csv/adv_dict.csv')\n",
    "df[:100]"
   ]
  },
  {
   "cell_type": "code",
   "execution_count": 3,
   "id": "f2358f7f-03ce-4451-9c34-a8885d52f341",
   "metadata": {
    "ExecuteTime": {
     "end_time": "2023-07-03T17:52:01.964648Z",
     "start_time": "2023-07-03T17:52:01.961648Z"
    }
   },
   "outputs": [
    {
     "name": "stdout",
     "output_type": "stream",
     "text": [
      "number of words: 2635260\n"
     ]
    }
   ],
   "source": [
    "print(f'number of words: {df.shape[0]}')"
   ]
  },
  {
   "cell_type": "markdown",
   "id": "6dcdc863-9d69-442d-af06-2845178ee61d",
   "metadata": {
    "tags": []
   },
   "source": [
    "## ცხრილის გასუფთავება"
   ]
  },
  {
   "cell_type": "markdown",
   "id": "2be8c477-62bf-4007-a2b4-1409c2ea42f3",
   "metadata": {
    "tags": []
   },
   "source": [
    "### სიტყვები"
   ]
  },
  {
   "cell_type": "code",
   "execution_count": 4,
   "id": "3f9a0f46-8680-4b71-9fa3-a2ab74a42ee8",
   "metadata": {
    "ExecuteTime": {
     "end_time": "2023-07-03T17:52:02.255237Z",
     "start_time": "2023-07-03T17:52:02.227650Z"
    }
   },
   "outputs": [
    {
     "name": "stdout",
     "output_type": "stream",
     "text": [
      "number of words with different \"word_init\" and \"word_mod\" forms: 39066\n"
     ]
    },
    {
     "data": {
      "text/html": [
       "<div>\n",
       "<style scoped>\n",
       "    .dataframe tbody tr th:only-of-type {\n",
       "        vertical-align: middle;\n",
       "    }\n",
       "\n",
       "    .dataframe tbody tr th {\n",
       "        vertical-align: top;\n",
       "    }\n",
       "\n",
       "    .dataframe thead th {\n",
       "        text-align: right;\n",
       "    }\n",
       "</style>\n",
       "<table border=\"1\" class=\"dataframe\">\n",
       "  <thead>\n",
       "    <tr style=\"text-align: right;\">\n",
       "      <th></th>\n",
       "      <th>word_init</th>\n",
       "      <th>word_mod</th>\n",
       "      <th>lemma_basic</th>\n",
       "      <th>lemma_adv</th>\n",
       "      <th>pos_tag</th>\n",
       "      <th>freq</th>\n",
       "      <th>diff</th>\n",
       "    </tr>\n",
       "  </thead>\n",
       "  <tbody>\n",
       "    <tr>\n",
       "      <th>163</th>\n",
       "      <td>ფანტავდა~</td>\n",
       "      <td>ფანტავდა</td>\n",
       "      <td>{'*·ფანტვა'}</td>\n",
       "      <td>{'*·ფანტვ[ა]/ფანტ'}</td>\n",
       "      <td>{'&lt;S:Nom&gt;', 'DO:3', 'S:3Sg', 'V', '&lt;DO:Dat&gt;', ...</td>\n",
       "      <td>50</td>\n",
       "      <td>1</td>\n",
       "    </tr>\n",
       "    <tr>\n",
       "      <th>177</th>\n",
       "      <td>სტაბეკს</td>\n",
       "      <td>სტაშეკს</td>\n",
       "      <td>{'სტაშეკ'}</td>\n",
       "      <td>{'სტაშეკ'}</td>\n",
       "      <td>{'Prop', 'Anthr', 'Dialect', 'LevGuess', 'Firs...</td>\n",
       "      <td>8</td>\n",
       "      <td>1</td>\n",
       "    </tr>\n",
       "    <tr>\n",
       "      <th>219</th>\n",
       "      <td>დამკვიდრა</td>\n",
       "      <td>დამკვიდრდა</td>\n",
       "      <td>{'დამკვიდრება', 'და·მკვიდრება'}</td>\n",
       "      <td>{'და·მკვიდრებ[ა]/მკვიდრ', 'და-მკვიდრებ[ა]/მკვი...</td>\n",
       "      <td>{'Pv', '&lt;S:Nom&gt;', 'S:3Sg', 'V', '&lt;S&gt;', 'LevGue...</td>\n",
       "      <td>2083</td>\n",
       "      <td>1</td>\n",
       "    </tr>\n",
       "    <tr>\n",
       "      <th>333</th>\n",
       "      <td>დავბოდიალობდი</td>\n",
       "      <td>დავბორიალობდი</td>\n",
       "      <td>{'და·ბორიალ·ი'}</td>\n",
       "      <td>{'და·ბორიალ·ი/ბორიალ'}</td>\n",
       "      <td>{'Pv', '&lt;S:Nom&gt;', 'S:1Sg', 'V', 'MedAct', '&lt;S&gt;...</td>\n",
       "      <td>22</td>\n",
       "      <td>1</td>\n",
       "    </tr>\n",
       "    <tr>\n",
       "      <th>428</th>\n",
       "      <td>მქონებოდა</td>\n",
       "      <td>მგონებოდა</td>\n",
       "      <td>{'გონება'}</td>\n",
       "      <td>{'გონებ[ა]/გონ'}</td>\n",
       "      <td>{'DO:3', '&lt;DO:Nom&gt;', 'V', 'Inv', '&lt;S:Dat&gt;', '&lt;...</td>\n",
       "      <td>19</td>\n",
       "      <td>1</td>\n",
       "    </tr>\n",
       "    <tr>\n",
       "      <th>...</th>\n",
       "      <td>...</td>\n",
       "      <td>...</td>\n",
       "      <td>...</td>\n",
       "      <td>...</td>\n",
       "      <td>...</td>\n",
       "      <td>...</td>\n",
       "      <td>...</td>\n",
       "    </tr>\n",
       "    <tr>\n",
       "      <th>6535</th>\n",
       "      <td>გავვოცდი</td>\n",
       "      <td>გავოცდი</td>\n",
       "      <td>{'გა·ოცება'}</td>\n",
       "      <td>{'გა·ოცებ[ა]/ოც'}</td>\n",
       "      <td>{'Pv', '&lt;S:Nom&gt;', 'S:1Sg', 'V', '&lt;S&gt;', 'LevGue...</td>\n",
       "      <td>288</td>\n",
       "      <td>1</td>\n",
       "    </tr>\n",
       "    <tr>\n",
       "      <th>6541</th>\n",
       "      <td>ახვრებს</td>\n",
       "      <td>ახარებს</td>\n",
       "      <td>{'ხარება', '*·ხარება', 'გა·ხარება'}</td>\n",
       "      <td>{'გა·ხარებ[ა]/ხარ', '*·ხარება', '*·ხარებ[ა]/ხარ'}</td>\n",
       "      <td>{'&lt;S:Nom&gt;', 'DO:3', 'S:3Sg', 'V', '&lt;S-DO-IO&gt;',...</td>\n",
       "      <td>591</td>\n",
       "      <td>1</td>\n",
       "    </tr>\n",
       "    <tr>\n",
       "      <th>6742</th>\n",
       "      <td>მხირულება</td>\n",
       "      <td>მხიარულება</td>\n",
       "      <td>{'მხიარულება'}</td>\n",
       "      <td>{'მხიარულებ[ა]'}</td>\n",
       "      <td>{'Sg', 'Nom', 'Voc', 'LevGuess', 'N'}</td>\n",
       "      <td>448</td>\n",
       "      <td>1</td>\n",
       "    </tr>\n",
       "    <tr>\n",
       "      <th>6854</th>\n",
       "      <td>ფონოკაბინეტს</td>\n",
       "      <td>ფოტოკაბინეტს</td>\n",
       "      <td>{'ფოტოკაბინეტ·ი'}</td>\n",
       "      <td>{'ფოტოკაბინეტ·ი'}</td>\n",
       "      <td>{'LevGuess', 'Dat', 'Sg', 'N'}</td>\n",
       "      <td>2</td>\n",
       "      <td>1</td>\n",
       "    </tr>\n",
       "    <tr>\n",
       "      <th>6857</th>\n",
       "      <td>ავნერვიულდი</td>\n",
       "      <td>გავნერვიულდი</td>\n",
       "      <td>{'გა·ნერვიულება'}</td>\n",
       "      <td>{'გა·ნერვიულებ[ა]/ნერვიულ'}</td>\n",
       "      <td>{'Pv', '&lt;S:Nom&gt;', 'S:1Sg', 'V', '&lt;S&gt;', 'LevGue...</td>\n",
       "      <td>55</td>\n",
       "      <td>1</td>\n",
       "    </tr>\n",
       "  </tbody>\n",
       "</table>\n",
       "<p>100 rows × 7 columns</p>\n",
       "</div>"
      ],
      "text/plain": [
       "          word_init       word_mod                          lemma_basic  \\\n",
       "163       ფანტავდა~       ფანტავდა                         {'*·ფანტვა'}   \n",
       "177         სტაბეკს        სტაშეკს                           {'სტაშეკ'}   \n",
       "219       დამკვიდრა     დამკვიდრდა      {'დამკვიდრება', 'და·მკვიდრება'}   \n",
       "333   დავბოდიალობდი  დავბორიალობდი                      {'და·ბორიალ·ი'}   \n",
       "428       მქონებოდა      მგონებოდა                           {'გონება'}   \n",
       "...             ...            ...                                  ...   \n",
       "6535       გავვოცდი        გავოცდი                         {'გა·ოცება'}   \n",
       "6541        ახვრებს        ახარებს  {'ხარება', '*·ხარება', 'გა·ხარება'}   \n",
       "6742      მხირულება     მხიარულება                       {'მხიარულება'}   \n",
       "6854   ფონოკაბინეტს   ფოტოკაბინეტს                    {'ფოტოკაბინეტ·ი'}   \n",
       "6857    ავნერვიულდი   გავნერვიულდი                    {'გა·ნერვიულება'}   \n",
       "\n",
       "                                              lemma_adv  \\\n",
       "163                                 {'*·ფანტვ[ა]/ფანტ'}   \n",
       "177                                          {'სტაშეკ'}   \n",
       "219   {'და·მკვიდრებ[ა]/მკვიდრ', 'და-მკვიდრებ[ა]/მკვი...   \n",
       "333                              {'და·ბორიალ·ი/ბორიალ'}   \n",
       "428                                    {'გონებ[ა]/გონ'}   \n",
       "...                                                 ...   \n",
       "6535                                  {'გა·ოცებ[ა]/ოც'}   \n",
       "6541  {'გა·ხარებ[ა]/ხარ', '*·ხარება', '*·ხარებ[ა]/ხარ'}   \n",
       "6742                                   {'მხიარულებ[ა]'}   \n",
       "6854                                  {'ფოტოკაბინეტ·ი'}   \n",
       "6857                        {'გა·ნერვიულებ[ა]/ნერვიულ'}   \n",
       "\n",
       "                                                pos_tag  freq  diff  \n",
       "163   {'<S:Nom>', 'DO:3', 'S:3Sg', 'V', '<DO:Dat>', ...    50     1  \n",
       "177   {'Prop', 'Anthr', 'Dialect', 'LevGuess', 'Firs...     8     1  \n",
       "219   {'Pv', '<S:Nom>', 'S:3Sg', 'V', '<S>', 'LevGue...  2083     1  \n",
       "333   {'Pv', '<S:Nom>', 'S:1Sg', 'V', 'MedAct', '<S>...    22     1  \n",
       "428   {'DO:3', '<DO:Nom>', 'V', 'Inv', '<S:Dat>', '<...    19     1  \n",
       "...                                                 ...   ...   ...  \n",
       "6535  {'Pv', '<S:Nom>', 'S:1Sg', 'V', '<S>', 'LevGue...   288     1  \n",
       "6541  {'<S:Nom>', 'DO:3', 'S:3Sg', 'V', '<S-DO-IO>',...   591     1  \n",
       "6742              {'Sg', 'Nom', 'Voc', 'LevGuess', 'N'}   448     1  \n",
       "6854                     {'LevGuess', 'Dat', 'Sg', 'N'}     2     1  \n",
       "6857  {'Pv', '<S:Nom>', 'S:1Sg', 'V', '<S>', 'LevGue...    55     1  \n",
       "\n",
       "[100 rows x 7 columns]"
      ]
     },
     "execution_count": 4,
     "metadata": {},
     "output_type": "execute_result"
    }
   ],
   "source": [
    "df['diff'] = np.where(df['word_init'] != df['word_mod'], 1, 0)\n",
    "diff = df[df['diff'] == 1]\n",
    "print(f'number of words with different \"word_init\" and \"word_mod\" forms: {diff.shape[0]}')\n",
    "diff[:100]"
   ]
  },
  {
   "cell_type": "markdown",
   "id": "8e88aa23-9460-43c6-8e9e-5f9a11eb3700",
   "metadata": {},
   "source": [
    "ზოგ შემთხვევაში \"word_mod\"-ში მოცემული გვაქვს \"word_init\" ფორმის ანუ რაც ტექსტში იყო მოცემული საწყისად მისი გასწორებული ვარიანტი. დამკვიდრა -> დამკვიდრდა ან გავვოცდი -> გავოცდი, მხირულება -> მხიარულება. თუმცა ზოგიერთ შემთხვევაში ძირფესვიანი ცვლილება ხდება სიტყვის მქონებოდა -> მგონებოდა ან ახვრებს -> ახარებს ;დდდ. ყველა შემთხვევაში ლემები გვაქვს სიტყვის სახეცვლილი/ გასწორებული ფორმის და არა იმ ფორმის რაც რეალურად ტექტში იყო ანუ გამართული ქართული სიტყვს. აქედან გამომდინარე შეგვიძლია საწყისი ველი დავდროფოთ საერთოდ. "
   ]
  },
  {
   "cell_type": "code",
   "execution_count": 5,
   "id": "79f789c4-12f8-4ece-bfb8-eccb23418e6c",
   "metadata": {
    "ExecuteTime": {
     "end_time": "2023-07-03T17:52:02.864565Z",
     "start_time": "2023-07-03T17:52:02.469500Z"
    }
   },
   "outputs": [
    {
     "data": {
      "text/html": [
       "<div>\n",
       "<style scoped>\n",
       "    .dataframe tbody tr th:only-of-type {\n",
       "        vertical-align: middle;\n",
       "    }\n",
       "\n",
       "    .dataframe tbody tr th {\n",
       "        vertical-align: top;\n",
       "    }\n",
       "\n",
       "    .dataframe thead th {\n",
       "        text-align: right;\n",
       "    }\n",
       "</style>\n",
       "<table border=\"1\" class=\"dataframe\">\n",
       "  <thead>\n",
       "    <tr style=\"text-align: right;\">\n",
       "      <th></th>\n",
       "      <th>word</th>\n",
       "      <th>lemma_basic</th>\n",
       "      <th>lemma_adv</th>\n",
       "      <th>pos_tag</th>\n",
       "      <th>freq</th>\n",
       "    </tr>\n",
       "  </thead>\n",
       "  <tbody>\n",
       "    <tr>\n",
       "      <th>0</th>\n",
       "      <td>ამ</td>\n",
       "      <td>{'??', '\\t', 'ეს'}</td>\n",
       "      <td>{'??', 'ეს'}</td>\n",
       "      <td>{'Pron', 'Dem', 'Gen', 'Erg', 'Prop', 'Inst', ...</td>\n",
       "      <td>1041654</td>\n",
       "    </tr>\n",
       "    <tr>\n",
       "      <th>1</th>\n",
       "      <td>ზამთრის</td>\n",
       "      <td>{'ზამთარი', 'ზამთარ·ი'}</td>\n",
       "      <td>{'ზამთ[ა]რ-ი', 'ზამთ[ა]რ·ი'}</td>\n",
       "      <td>{'Gen', 'Sg', 'LevGuess', 'Temp', 'N'}</td>\n",
       "      <td>8035</td>\n",
       "    </tr>\n",
       "    <tr>\n",
       "      <th>2</th>\n",
       "      <td>მიწურულს</td>\n",
       "      <td>{'მი·წურულ·ი', 'მიწურული', 'მიწურულ·ი'}</td>\n",
       "      <td>{'მიწურულ·ი', 'მი-წურულ-ი/წურ', 'მიწურულ-ი', '...</td>\n",
       "      <td>{'Pv', 'Sg', 'A', 'PastPart', 'LevGuess', 'Dat...</td>\n",
       "      <td>5976</td>\n",
       "    </tr>\n",
       "    <tr>\n",
       "      <th>3</th>\n",
       "      <td>თითქმის</td>\n",
       "      <td>{'თითქმის'}</td>\n",
       "      <td>{'თითქმის'}</td>\n",
       "      <td>{'LevGuess', 'Adv', 'DegNum', 'Deg'}</td>\n",
       "      <td>62608</td>\n",
       "    </tr>\n",
       "    <tr>\n",
       "      <th>4</th>\n",
       "      <td>სასოწარკვეთილი</td>\n",
       "      <td>{'სასოწარკვეთილ·ი', 'სასოწარკვეთილი'}</td>\n",
       "      <td>{'სასოწარკვეთილ·ი', 'სასოწარკვეთილ-ი'}</td>\n",
       "      <td>{'Gen', 'Att', 'A', 'Nom', 'Sg', 'Inst', 'LevG...</td>\n",
       "      <td>844</td>\n",
       "    </tr>\n",
       "    <tr>\n",
       "      <th>...</th>\n",
       "      <td>...</td>\n",
       "      <td>...</td>\n",
       "      <td>...</td>\n",
       "      <td>...</td>\n",
       "      <td>...</td>\n",
       "    </tr>\n",
       "    <tr>\n",
       "      <th>95</th>\n",
       "      <td>ხომ</td>\n",
       "      <td>{'ხომ'}</td>\n",
       "      <td>{'ხომ'}</td>\n",
       "      <td>{'Disc', 'Adv'}</td>\n",
       "      <td>127578</td>\n",
       "    </tr>\n",
       "    <tr>\n",
       "      <th>96</th>\n",
       "      <td>ვსაყვედურობდი</td>\n",
       "      <td>{'საყვედურ·ი', 'საყვედური'}</td>\n",
       "      <td>{'საყვედურ-ი/საყვედურ', 'საყვედურ·ი/საყვედურ'}</td>\n",
       "      <td>{'&lt;S:Nom&gt;', 'S:1Sg', 'V', 'MedAct', '&lt;S-IO&gt;', ...</td>\n",
       "      <td>19</td>\n",
       "    </tr>\n",
       "    <tr>\n",
       "      <th>97</th>\n",
       "      <td>საწინააღმდეგო</td>\n",
       "      <td>{'საწინააღმდეგო'}</td>\n",
       "      <td>{'საწინააღმდეგო'}</td>\n",
       "      <td>{'Gen', 'Erg', 'Att', 'A', 'Nom', 'Inst', 'Sg'...</td>\n",
       "      <td>9474</td>\n",
       "    </tr>\n",
       "    <tr>\n",
       "      <th>98</th>\n",
       "      <td>გაქვს</td>\n",
       "      <td>{'ქონა'}</td>\n",
       "      <td>{'ქონ[ა]/ქვ'}</td>\n",
       "      <td>{'DO:3', '&lt;DO:Nom&gt;', 'V', 'Inv', '&lt;S:Dat&gt;', 'S...</td>\n",
       "      <td>8972</td>\n",
       "    </tr>\n",
       "    <tr>\n",
       "      <th>99</th>\n",
       "      <td>წამოვდექი</td>\n",
       "      <td>{'წამოდგომა', 'წამო·დგომა'}</td>\n",
       "      <td>{'წამო·დგომ[ა]/დექ', 'წამო-დგომ[ა]/დექ'}</td>\n",
       "      <td>{'Pv', '&lt;S:Nom&gt;', 'S:1Sg', 'V', '&lt;S&gt;', 'LevGue...</td>\n",
       "      <td>332</td>\n",
       "    </tr>\n",
       "  </tbody>\n",
       "</table>\n",
       "<p>100 rows × 5 columns</p>\n",
       "</div>"
      ],
      "text/plain": [
       "              word                              lemma_basic  \\\n",
       "0               ამ                       {'??', '\\t', 'ეს'}   \n",
       "1          ზამთრის                  {'ზამთარი', 'ზამთარ·ი'}   \n",
       "2         მიწურულს  {'მი·წურულ·ი', 'მიწურული', 'მიწურულ·ი'}   \n",
       "3          თითქმის                              {'თითქმის'}   \n",
       "4   სასოწარკვეთილი    {'სასოწარკვეთილ·ი', 'სასოწარკვეთილი'}   \n",
       "..             ...                                      ...   \n",
       "95             ხომ                                  {'ხომ'}   \n",
       "96   ვსაყვედურობდი              {'საყვედურ·ი', 'საყვედური'}   \n",
       "97   საწინააღმდეგო                        {'საწინააღმდეგო'}   \n",
       "98           გაქვს                                 {'ქონა'}   \n",
       "99       წამოვდექი              {'წამოდგომა', 'წამო·დგომა'}   \n",
       "\n",
       "                                            lemma_adv  \\\n",
       "0                                        {'??', 'ეს'}   \n",
       "1                        {'ზამთ[ა]რ-ი', 'ზამთ[ა]რ·ი'}   \n",
       "2   {'მიწურულ·ი', 'მი-წურულ-ი/წურ', 'მიწურულ-ი', '...   \n",
       "3                                         {'თითქმის'}   \n",
       "4              {'სასოწარკვეთილ·ი', 'სასოწარკვეთილ-ი'}   \n",
       "..                                                ...   \n",
       "95                                            {'ხომ'}   \n",
       "96     {'საყვედურ-ი/საყვედურ', 'საყვედურ·ი/საყვედურ'}   \n",
       "97                                  {'საწინააღმდეგო'}   \n",
       "98                                      {'ქონ[ა]/ქვ'}   \n",
       "99           {'წამო·დგომ[ა]/დექ', 'წამო-დგომ[ა]/დექ'}   \n",
       "\n",
       "                                              pos_tag     freq  \n",
       "0   {'Pron', 'Dem', 'Gen', 'Erg', 'Prop', 'Inst', ...  1041654  \n",
       "1              {'Gen', 'Sg', 'LevGuess', 'Temp', 'N'}     8035  \n",
       "2   {'Pv', 'Sg', 'A', 'PastPart', 'LevGuess', 'Dat...     5976  \n",
       "3                {'LevGuess', 'Adv', 'DegNum', 'Deg'}    62608  \n",
       "4   {'Gen', 'Att', 'A', 'Nom', 'Sg', 'Inst', 'LevG...      844  \n",
       "..                                                ...      ...  \n",
       "95                                    {'Disc', 'Adv'}   127578  \n",
       "96  {'<S:Nom>', 'S:1Sg', 'V', 'MedAct', '<S-IO>', ...       19  \n",
       "97  {'Gen', 'Erg', 'Att', 'A', 'Nom', 'Inst', 'Sg'...     9474  \n",
       "98  {'DO:3', '<DO:Nom>', 'V', 'Inv', '<S:Dat>', 'S...     8972  \n",
       "99  {'Pv', '<S:Nom>', 'S:1Sg', 'V', '<S>', 'LevGue...      332  \n",
       "\n",
       "[100 rows x 5 columns]"
      ]
     },
     "execution_count": 5,
     "metadata": {},
     "output_type": "execute_result"
    }
   ],
   "source": [
    "df = df.drop(['word_init', 'diff'], axis=1)\n",
    "df = df.rename(columns={'word_mod': 'word'})\n",
    "df = df.dropna(subset=['word'])\n",
    "df[:100]"
   ]
  },
  {
   "cell_type": "markdown",
   "id": "461d2280-c585-430f-99f2-f296710b22a5",
   "metadata": {},
   "source": [
    "ამ ყველაფერთან ერთად გვაქვს სიტყვები, რომლებიც, არასწორადაა ამოჭრილი. მაგ: (სიტყვა, ლათინ- და ა.შ. ანუ შეიცავს ასეობის და რიცხვების გარდა სხვა აღმნიშვნელ ნაწილებს და მისი სხვა ფორმა უკვე მოიძებნება კორპუსში. ესეიგი ეს არ შეეხება კომპოზიტებს, რომლებიც ცალსახად დეფისით იწერება."
   ]
  },
  {
   "cell_type": "code",
   "execution_count": 6,
   "id": "70e9a390-4ec5-4b12-a590-c687f9d30330",
   "metadata": {
    "ExecuteTime": {
     "end_time": "2023-07-03T17:52:19.945534Z",
     "start_time": "2023-07-03T17:52:02.863451Z"
    }
   },
   "outputs": [
    {
     "name": "stdout",
     "output_type": "stream",
     "text": [
      "Number of malformed words: 75023\n"
     ]
    }
   ],
   "source": [
    "words = set(df['word'])\n",
    "malformed_words = set()\n",
    "malformed_word_indecies = list()\n",
    "def extract(row):\n",
    "    x = row['word']\n",
    "    noise = re.compile(r'\\W', re.UNICODE)\n",
    "    try:\n",
    "        word = noise.sub(r'', x)\n",
    "        if word.isnumeric():\n",
    "            return\n",
    "        composite = x.split('-')  # check if word is a composite\n",
    "        if len(composite) == 2 and ((composite[0] in words and composite[1] in words) or (composite[1].startswith(composite[0]))):\n",
    "            return\n",
    "        if all(map(lambda x: len(x) == 1, x.split('.'))):  # check for abbreviation and initials\n",
    "            return\n",
    "        if word != x and word in words:\n",
    "            malformed_words.add((x, word))\n",
    "            malformed_word_indecies.append(row.name)\n",
    "    except Exception:\n",
    "        print(x)\n",
    "    \n",
    "            \n",
    "df.apply(extract, axis=1)\n",
    "print(f\"Number of malformed words: {len(malformed_words)}\")\n"
   ]
  },
  {
   "cell_type": "code",
   "execution_count": 7,
   "id": "33b0e881-e0bf-4170-934a-412229b5fdfa",
   "metadata": {
    "ExecuteTime": {
     "end_time": "2023-07-03T17:52:19.951584Z",
     "start_time": "2023-07-03T17:52:19.949197Z"
    }
   },
   "outputs": [
    {
     "name": "stdout",
     "output_type": "stream",
     "text": [
      "('ვაი-უშველებელში', 'ვაიუშველებელში')\n",
      "('ნა„', 'ნა')\n",
      "('დახმარებისათვის-', 'დახმარებისათვის')\n",
      "('დისკი-', 'დისკი')\n",
      "('მზისმეტყველება”', 'მზისმეტყველება')\n",
      "('პროექტის-', 'პროექტის')\n",
      "('გავზრდით.“', 'გავზრდით')\n",
      "('გაძვირება.“', 'გაძვირება')\n",
      "('აწ-ყობს', 'აწყობს')\n",
      "('-ვარდისფერი-', 'ვარდისფერი')\n",
      "('დაიჯერებო.“', 'დაიჯერებო')\n",
      "('მშვიდობიანი(!)', 'მშვიდობიანი')\n",
      "('ა-ღორ-ძინება', 'აღორძინება')\n",
      "('ყველამ.“', 'ყველამ')\n",
      "('(ბრუნ)ჰილდა”', 'ბრუნჰილდა')\n",
      "('აქაურობას.-', 'აქაურობას')\n",
      "('ძლიერდება.”', 'ძლიერდება')\n",
      "('გაიღო-', 'გაიღო')\n",
      "('ბარ-ძაყიც', 'ბარძაყიც')\n",
      "('ვაჟა-ფშაველა:„', 'ვაჟაფშაველა')\n",
      "('აყოლილები.“', 'აყოლილები')\n",
      "('…რათა', 'რათა')\n",
      "('დაწყებისა.“', 'დაწყებისა')\n",
      "('ინტერნეშენლ“', 'ინტერნეშენლ')\n",
      "('“.თეთრ', 'თეთრ')\n",
      "('ჭირიმე.', 'ჭირიმე')\n",
      "('შესახებ..“', 'შესახებ')\n",
      "('ნ.გ.', 'ნგ')\n",
      "('შეხვედრ-ებში', 'შეხვედრებში')\n",
      "('მას-წავლებლობდა', 'მასწავლებლობდა')\n",
      "('მიწაზე.“', 'მიწაზე')\n",
      "('მენდელეე-ვი', 'მენდელეევი')\n",
      "('აღმოსავლეთ-', 'აღმოსავლეთ')\n",
      "('დადგებით.”', 'დადგებით')\n",
      "('?რის', 'რის')\n",
      "('განკარ-გავენ', 'განკარგავენ')\n",
      "('”რაცა', 'რაცა')\n",
      "('ექსპერტს.“', 'ექსპერტს')\n",
      "('მკაწრავს…-', 'მკაწრავს')\n",
      "('უცეკვია.-', 'უცეკვია')\n",
      "('მაისს-', 'მაისს')\n",
      "('ქონდართუხუცესმა.-', 'ქონდართუხუცესმა')\n",
      "('პოეტებსაც.-', 'პოეტებსაც')\n",
      "('ვუთმობთ.“', 'ვუთმობთ')\n",
      "('Fund”', 'Fund')\n",
      "('ჰოსპიტალს-', 'ჰოსპიტალს')\n",
      "('Oცეან„', 'Oცეან')\n",
      "('ჯი-ენ-ესმა', 'ჯიენესმა')\n",
      "('“ჩვენი', 'ჩვენი')\n",
      "('შენიშნეს-', 'შენიშნეს')\n"
     ]
    }
   ],
   "source": [
    "for i, word in enumerate(malformed_words):\n",
    "    if i == 50:\n",
    "        break\n",
    "    print(word)"
   ]
  },
  {
   "cell_type": "markdown",
   "id": "12d97d4f-724f-448d-a12e-77dddbe1edb0",
   "metadata": {},
   "source": [
    "შეგვიძლია ასეთი დეფორმირებული სიტყვები ამოვიღოთ სიიდან."
   ]
  },
  {
   "cell_type": "code",
   "execution_count": 8,
   "id": "b505add6-da6e-4a98-933e-457c7a945c69",
   "metadata": {
    "ExecuteTime": {
     "end_time": "2023-07-03T17:52:20.295594Z",
     "start_time": "2023-07-03T17:52:19.954327Z"
    }
   },
   "outputs": [
    {
     "data": {
      "text/plain": [
       "(2560235, 5)"
      ]
     },
     "execution_count": 8,
     "metadata": {},
     "output_type": "execute_result"
    }
   ],
   "source": [
    "df = df.drop(malformed_word_indecies).reset_index(drop=True)\n",
    "df.shape"
   ]
  },
  {
   "cell_type": "markdown",
   "id": "d32b6335-63b2-40c8-a65e-008c011f895d",
   "metadata": {},
   "source": [
    "ასევე ბლომად გვაქვს მოცემული არაქართული სიტყვები და სიტყვები სადაც ქართული ანბანიდან ამოღებული ასოებია გამოყენებული ან სიტყვები, რომლებიც უბრალოდ "
   ]
  },
  {
   "cell_type": "code",
   "execution_count": 9,
   "id": "1032584b-ca5b-4c62-aa1f-37df476aabce",
   "metadata": {
    "ExecuteTime": {
     "end_time": "2023-07-03T17:52:34.049410Z",
     "start_time": "2023-07-03T17:52:20.835475Z"
    }
   },
   "outputs": [
    {
     "name": "stdout",
     "output_type": "stream",
     "text": [
      "Number of malformed words: 175383\n"
     ]
    }
   ],
   "source": [
    "words = set(df['word'])\n",
    "malformed_words = set()\n",
    "malformed_word_indecies = list()\n",
    "def extract(row):\n",
    "    word = row['word']\n",
    "    noise = re.compile(r'[^ა-ჰ0-9-]+', re.UNICODE)\n",
    "    number_or_time = re.compile(r'([0-9]+[.,:-]?)+', )\n",
    "    try:\n",
    "        if noise.search(word) is not None and number_or_time.match(word) is None:\n",
    "            malformed_words.add(word)\n",
    "            malformed_word_indecies.append(row.name)\n",
    "    except Exception:\n",
    "        print(word)\n",
    "            \n",
    "df.apply(extract, axis=1)\n",
    "print(f\"Number of malformed words: {len(malformed_words)}\")"
   ]
  },
  {
   "cell_type": "code",
   "execution_count": 10,
   "id": "a2d7dd08-6dbf-43dc-a480-2f2d37831bcf",
   "metadata": {
    "ExecuteTime": {
     "end_time": "2023-07-03T17:52:34.057496Z",
     "start_time": "2023-07-03T17:52:34.052910Z"
    }
   },
   "outputs": [
    {
     "name": "stdout",
     "output_type": "stream",
     "text": [
      "Inglourious\n",
      "ეძლეოდა.სტატიაში\n",
      "instrumental\n",
      "ა.კომახიძე\n",
      "дискуссии\n",
      "ბიასი-6.5\n",
      "გაგრძელებას.ბიძინა\n",
      "კეთილმოტ….”\n",
      "Cognomen\n",
      "дряхлеют\n",
      "Противник\n",
      "qveynebiქქვეყა\n",
      "pater\n",
      "†160\n",
      "იმსჯელებს.პრაიმ-ნიუსთან\n",
      "სიცილს.როგორც\n",
      "Valeriu\n",
      "SoHo\n",
      "ისფაჰანში.ასეთი\n",
      "NBA-საც\n",
      "ქ.N4\n",
      "Eხტენსიონს\n",
      "dgiurebis\n",
      "Mi-2\n",
      "ხნჯ^\n",
      "Irvin\n",
      "Sealed\n",
      "+2,2\n",
      "style=ʼwidth:287.25pt\n",
      "К\n",
      "(HRW)-ის\n",
      "devant\n",
      "გახსნით.ასე\n",
      "ურვისაჲ\n",
      "განთჳსებულთა\n",
      "тогдашнее\n",
      "ნაწილი.ჰილარი\n",
      "Curriculum\n",
      "“(1062)\n",
      "ისვენებენ.Kმაესტრო\n",
      "!ოშ0-შპ#\n",
      "…3\n",
      "IES-თან\n",
      "მ.გონაშვილმა\n",
      "Variety\n",
      "Fl.Arr\n",
      "ნ`დოე-\n",
      "Yთუმცა\n",
      "CSX-ის\n",
      "euobserver-ი\n"
     ]
    }
   ],
   "source": [
    "for i, word in enumerate(malformed_words):\n",
    "    if i == 50:\n",
    "        break\n",
    "    print(word)"
   ]
  },
  {
   "cell_type": "code",
   "execution_count": 11,
   "id": "cb17d56c-4cb0-43db-be31-0e9a24f53924",
   "metadata": {
    "ExecuteTime": {
     "end_time": "2023-07-03T17:52:34.258878Z",
     "start_time": "2023-07-03T17:52:34.075126Z"
    }
   },
   "outputs": [
    {
     "data": {
      "text/plain": [
       "(2384852, 5)"
      ]
     },
     "execution_count": 11,
     "metadata": {},
     "output_type": "execute_result"
    }
   ],
   "source": [
    "df = df.drop(malformed_word_indecies).reset_index(drop=True)\n",
    "df.shape"
   ]
  },
  {
   "cell_type": "markdown",
   "id": "709b3094-8448-4c9d-98c6-c721349ca73a",
   "metadata": {
    "tags": [],
    "toc-hr-collapsed": true
   },
   "source": [
    "### მეტყველების ნაწილის თეგები"
   ]
  },
  {
   "cell_type": "markdown",
   "id": "4f5cbe1b-0f74-4727-b7e5-71f2a1e77f3d",
   "metadata": {},
   "source": [
    "ვინაიდან ცხრილში pos_tag-ზე გვაქვს ყველა შესაძლო კონტექსტში გამოყენებულ სიტყვაზე ინფორმაცია, თუ რომელ მეტყველების ნაწილს მიეკუთვნება. უკონტექსტოდ ეს ინფორმაცია არ იქნება გამოსადეგი ჩვენთვის. პირველადი ვარაუდი მქონდა, რომ არ შეიძლებოდა უმეტესობა სიტყვა მოაზრებული ყოფილიყო რამდენიმე მეტყველების ნაწილად სხვადასხვა კონტექსტში, ფორმების განსხვავებულობის გამო. თუმცა, როგორც მაგალითებიდან ვხედავთ ასე არ ხდება ამ კორპუსში:"
   ]
  },
  {
   "cell_type": "code",
   "execution_count": 12,
   "id": "fbbce66d-492c-428a-bffe-328467d48ea4",
   "metadata": {
    "ExecuteTime": {
     "end_time": "2023-07-03T17:52:34.393845Z",
     "start_time": "2023-07-03T17:52:34.388027Z"
    }
   },
   "outputs": [
    {
     "data": {
      "text/plain": [
       "6820    {'Pv', '<S:Nom>', 'S:3Pl', '<DO:Nom>', 'S:3Sg'...\n",
       "Name: pos_tag, dtype: object"
      ]
     },
     "execution_count": 12,
     "metadata": {},
     "output_type": "execute_result"
    }
   ],
   "source": [
    "df[df['word'] == 'მივდივარ']['pos_tag']"
   ]
  },
  {
   "cell_type": "code",
   "execution_count": 13,
   "id": "613f5716-19f2-46aa-8d14-e71ef731282a",
   "metadata": {
    "ExecuteTime": {
     "end_time": "2023-07-03T17:52:34.531960Z",
     "start_time": "2023-07-03T17:52:34.528290Z"
    }
   },
   "outputs": [
    {
     "data": {
      "text/plain": [
       "4    {'Gen', 'Att', 'A', 'Nom', 'Sg', 'Inst', 'LevG...\n",
       "Name: pos_tag, dtype: object"
      ]
     },
     "execution_count": 13,
     "metadata": {},
     "output_type": "execute_result"
    }
   ],
   "source": [
    "df[df['word'] == 'სასოწარკვეთილი']['pos_tag']"
   ]
  },
  {
   "cell_type": "markdown",
   "id": "50d33d00-cf6a-4589-8e52-9881abf77606",
   "metadata": {},
   "source": [
    "ერთ შემთხვევაში ცალსახად ზმნა ასევე, არსებით სახელადაცაა მონიშნული, მეორე შემთხვევაში აშკარა ზედსართავი სახელი არსებით სახელად, აქედან გამომდინარე უმჯობესი იქნება თუ უკონტექსტოდ არ გვექნება pos_tag-ი გამოყენებული."
   ]
  },
  {
   "cell_type": "code",
   "execution_count": 14,
   "id": "6317e6ff-6139-4754-ac02-7eda3e1cfbbf",
   "metadata": {
    "ExecuteTime": {
     "end_time": "2023-07-03T17:52:34.779002Z",
     "start_time": "2023-07-03T17:52:34.665926Z"
    }
   },
   "outputs": [
    {
     "data": {
      "text/html": [
       "<div>\n",
       "<style scoped>\n",
       "    .dataframe tbody tr th:only-of-type {\n",
       "        vertical-align: middle;\n",
       "    }\n",
       "\n",
       "    .dataframe tbody tr th {\n",
       "        vertical-align: top;\n",
       "    }\n",
       "\n",
       "    .dataframe thead th {\n",
       "        text-align: right;\n",
       "    }\n",
       "</style>\n",
       "<table border=\"1\" class=\"dataframe\">\n",
       "  <thead>\n",
       "    <tr style=\"text-align: right;\">\n",
       "      <th></th>\n",
       "      <th>word</th>\n",
       "      <th>lemma_basic</th>\n",
       "      <th>lemma_adv</th>\n",
       "      <th>freq</th>\n",
       "    </tr>\n",
       "  </thead>\n",
       "  <tbody>\n",
       "    <tr>\n",
       "      <th>0</th>\n",
       "      <td>ამ</td>\n",
       "      <td>{'??', '\\t', 'ეს'}</td>\n",
       "      <td>{'??', 'ეს'}</td>\n",
       "      <td>1041654</td>\n",
       "    </tr>\n",
       "    <tr>\n",
       "      <th>1</th>\n",
       "      <td>ზამთრის</td>\n",
       "      <td>{'ზამთარი', 'ზამთარ·ი'}</td>\n",
       "      <td>{'ზამთ[ა]რ-ი', 'ზამთ[ა]რ·ი'}</td>\n",
       "      <td>8035</td>\n",
       "    </tr>\n",
       "    <tr>\n",
       "      <th>2</th>\n",
       "      <td>მიწურულს</td>\n",
       "      <td>{'მი·წურულ·ი', 'მიწურული', 'მიწურულ·ი'}</td>\n",
       "      <td>{'მიწურულ·ი', 'მი-წურულ-ი/წურ', 'მიწურულ-ი', '...</td>\n",
       "      <td>5976</td>\n",
       "    </tr>\n",
       "    <tr>\n",
       "      <th>3</th>\n",
       "      <td>თითქმის</td>\n",
       "      <td>{'თითქმის'}</td>\n",
       "      <td>{'თითქმის'}</td>\n",
       "      <td>62608</td>\n",
       "    </tr>\n",
       "    <tr>\n",
       "      <th>4</th>\n",
       "      <td>სასოწარკვეთილი</td>\n",
       "      <td>{'სასოწარკვეთილ·ი', 'სასოწარკვეთილი'}</td>\n",
       "      <td>{'სასოწარკვეთილ·ი', 'სასოწარკვეთილ-ი'}</td>\n",
       "      <td>844</td>\n",
       "    </tr>\n",
       "    <tr>\n",
       "      <th>...</th>\n",
       "      <td>...</td>\n",
       "      <td>...</td>\n",
       "      <td>...</td>\n",
       "      <td>...</td>\n",
       "    </tr>\n",
       "    <tr>\n",
       "      <th>95</th>\n",
       "      <td>გადავეხვიე</td>\n",
       "      <td>{'გადა·ხვევა'}</td>\n",
       "      <td>{'გადა·ხვევ[ა]/ხვ'}</td>\n",
       "      <td>35</td>\n",
       "    </tr>\n",
       "    <tr>\n",
       "      <th>96</th>\n",
       "      <td>შუბლზე</td>\n",
       "      <td>{'შუბლი', 'შუბლ·ი'}</td>\n",
       "      <td>{'შუბლ·ი', 'შუბლ-ი'}</td>\n",
       "      <td>1697</td>\n",
       "    </tr>\n",
       "    <tr>\n",
       "      <th>97</th>\n",
       "      <td>ვაკოცე</td>\n",
       "      <td>{'კოცნა'}</td>\n",
       "      <td>{'კოცნ[ა]/კოც'}</td>\n",
       "      <td>174</td>\n",
       "    </tr>\n",
       "    <tr>\n",
       "      <th>98</th>\n",
       "      <td>როგორც</td>\n",
       "      <td>{'როგორც', 'როგორც კი'}</td>\n",
       "      <td>{'როგორც', 'კი'}</td>\n",
       "      <td>478016</td>\n",
       "    </tr>\n",
       "    <tr>\n",
       "      <th>99</th>\n",
       "      <td>ჩანს</td>\n",
       "      <td>{'ჩანი', 'ჩან·ი', '*·ჩენა', '*ჩენა'}</td>\n",
       "      <td>{'ჩან·ი', 'ჩან-ი', '*-ჩენ[ა]/ჩან', '*·ჩენ[ა]/ჩ...</td>\n",
       "      <td>57172</td>\n",
       "    </tr>\n",
       "  </tbody>\n",
       "</table>\n",
       "<p>100 rows × 4 columns</p>\n",
       "</div>"
      ],
      "text/plain": [
       "              word                              lemma_basic  \\\n",
       "0               ამ                       {'??', '\\t', 'ეს'}   \n",
       "1          ზამთრის                  {'ზამთარი', 'ზამთარ·ი'}   \n",
       "2         მიწურულს  {'მი·წურულ·ი', 'მიწურული', 'მიწურულ·ი'}   \n",
       "3          თითქმის                              {'თითქმის'}   \n",
       "4   სასოწარკვეთილი    {'სასოწარკვეთილ·ი', 'სასოწარკვეთილი'}   \n",
       "..             ...                                      ...   \n",
       "95      გადავეხვიე                           {'გადა·ხვევა'}   \n",
       "96          შუბლზე                      {'შუბლი', 'შუბლ·ი'}   \n",
       "97          ვაკოცე                                {'კოცნა'}   \n",
       "98          როგორც                  {'როგორც', 'როგორც კი'}   \n",
       "99            ჩანს     {'ჩანი', 'ჩან·ი', '*·ჩენა', '*ჩენა'}   \n",
       "\n",
       "                                            lemma_adv     freq  \n",
       "0                                        {'??', 'ეს'}  1041654  \n",
       "1                        {'ზამთ[ა]რ-ი', 'ზამთ[ა]რ·ი'}     8035  \n",
       "2   {'მიწურულ·ი', 'მი-წურულ-ი/წურ', 'მიწურულ-ი', '...     5976  \n",
       "3                                         {'თითქმის'}    62608  \n",
       "4              {'სასოწარკვეთილ·ი', 'სასოწარკვეთილ-ი'}      844  \n",
       "..                                                ...      ...  \n",
       "95                                {'გადა·ხვევ[ა]/ხვ'}       35  \n",
       "96                               {'შუბლ·ი', 'შუბლ-ი'}     1697  \n",
       "97                                    {'კოცნ[ა]/კოც'}      174  \n",
       "98                                   {'როგორც', 'კი'}   478016  \n",
       "99  {'ჩან·ი', 'ჩან-ი', '*-ჩენ[ა]/ჩან', '*·ჩენ[ა]/ჩ...    57172  \n",
       "\n",
       "[100 rows x 4 columns]"
      ]
     },
     "execution_count": 14,
     "metadata": {},
     "output_type": "execute_result"
    }
   ],
   "source": [
    "df = df.drop(['pos_tag'], axis=1)\n",
    "df[:100]"
   ]
  },
  {
   "cell_type": "markdown",
   "id": "6ef55dce-5fc1-48b6-ba65-d438ff0a2e6b",
   "metadata": {
    "tags": []
   },
   "source": [
    "### ლემები"
   ]
  },
  {
   "cell_type": "markdown",
   "id": "f2024197-fc43-4809-973c-b4b2bfad14f9",
   "metadata": {
    "tags": []
   },
   "source": [
    "#### ულემო სიტყვები"
   ]
  },
  {
   "cell_type": "code",
   "execution_count": 15,
   "id": "02235c78-9c72-4aea-802d-11b2320640bc",
   "metadata": {
    "ExecuteTime": {
     "end_time": "2023-07-03T17:52:35.523061Z",
     "start_time": "2023-07-03T17:52:35.161987Z"
    }
   },
   "outputs": [
    {
     "name": "stdout",
     "output_type": "stream",
     "text": [
      "Number of words without lemmas: 910909\n",
      "Frequency of words without lemmas: 3745518, prct: 2.3720464719763865%\n",
      "The most frequent words without lemma:\n"
     ]
    },
    {
     "data": {
      "text/html": [
       "<div>\n",
       "<style scoped>\n",
       "    .dataframe tbody tr th:only-of-type {\n",
       "        vertical-align: middle;\n",
       "    }\n",
       "\n",
       "    .dataframe tbody tr th {\n",
       "        vertical-align: top;\n",
       "    }\n",
       "\n",
       "    .dataframe thead th {\n",
       "        text-align: right;\n",
       "    }\n",
       "</style>\n",
       "<table border=\"1\" class=\"dataframe\">\n",
       "  <thead>\n",
       "    <tr style=\"text-align: right;\">\n",
       "      <th></th>\n",
       "      <th>word</th>\n",
       "      <th>lemma_basic</th>\n",
       "      <th>lemma_adv</th>\n",
       "      <th>freq</th>\n",
       "    </tr>\n",
       "  </thead>\n",
       "  <tbody>\n",
       "    <tr>\n",
       "      <th>767714</th>\n",
       "      <td>ვიტ</td>\n",
       "      <td>{'??'}</td>\n",
       "      <td>{'??'}</td>\n",
       "      <td>8375</td>\n",
       "    </tr>\n",
       "    <tr>\n",
       "      <th>877574</th>\n",
       "      <td>ინტერ-პრესი</td>\n",
       "      <td>{'??'}</td>\n",
       "      <td>{'??'}</td>\n",
       "      <td>6784</td>\n",
       "    </tr>\n",
       "    <tr>\n",
       "      <th>901566</th>\n",
       "      <td>პრაიმ-ნიუსი</td>\n",
       "      <td>{'??'}</td>\n",
       "      <td>{'??'}</td>\n",
       "      <td>5833</td>\n",
       "    </tr>\n",
       "    <tr>\n",
       "      <th>526919</th>\n",
       "      <td>ჩელსის</td>\n",
       "      <td>{'??'}</td>\n",
       "      <td>{'??'}</td>\n",
       "      <td>5563</td>\n",
       "    </tr>\n",
       "    <tr>\n",
       "      <th>395527</th>\n",
       "      <td>ქართულ-აფხაზური</td>\n",
       "      <td>{'??'}</td>\n",
       "      <td>{'??'}</td>\n",
       "      <td>5375</td>\n",
       "    </tr>\n",
       "    <tr>\n",
       "      <th>...</th>\n",
       "      <td>...</td>\n",
       "      <td>...</td>\n",
       "      <td>...</td>\n",
       "      <td>...</td>\n",
       "    </tr>\n",
       "    <tr>\n",
       "      <th>102988</th>\n",
       "      <td>მიგელ</td>\n",
       "      <td>{'??'}</td>\n",
       "      <td>{'??'}</td>\n",
       "      <td>1187</td>\n",
       "    </tr>\n",
       "    <tr>\n",
       "      <th>66934</th>\n",
       "      <td>კოული</td>\n",
       "      <td>{'??'}</td>\n",
       "      <td>{'??'}</td>\n",
       "      <td>1183</td>\n",
       "    </tr>\n",
       "    <tr>\n",
       "      <th>985215</th>\n",
       "      <td>მედია-ნიუსს</td>\n",
       "      <td>{'??'}</td>\n",
       "      <td>{'??'}</td>\n",
       "      <td>1177</td>\n",
       "    </tr>\n",
       "    <tr>\n",
       "      <th>411266</th>\n",
       "      <td>რონალდ</td>\n",
       "      <td>{'??'}</td>\n",
       "      <td>{'??'}</td>\n",
       "      <td>1172</td>\n",
       "    </tr>\n",
       "    <tr>\n",
       "      <th>1414859</th>\n",
       "      <td>ფ-ში</td>\n",
       "      <td>{'??'}</td>\n",
       "      <td>{'??'}</td>\n",
       "      <td>1158</td>\n",
       "    </tr>\n",
       "  </tbody>\n",
       "</table>\n",
       "<p>100 rows × 4 columns</p>\n",
       "</div>"
      ],
      "text/plain": [
       "                    word lemma_basic lemma_adv  freq\n",
       "767714               ვიტ      {'??'}    {'??'}  8375\n",
       "877574       ინტერ-პრესი      {'??'}    {'??'}  6784\n",
       "901566       პრაიმ-ნიუსი      {'??'}    {'??'}  5833\n",
       "526919            ჩელსის      {'??'}    {'??'}  5563\n",
       "395527   ქართულ-აფხაზური      {'??'}    {'??'}  5375\n",
       "...                  ...         ...       ...   ...\n",
       "102988             მიგელ      {'??'}    {'??'}  1187\n",
       "66934              კოული      {'??'}    {'??'}  1183\n",
       "985215       მედია-ნიუსს      {'??'}    {'??'}  1177\n",
       "411266            რონალდ      {'??'}    {'??'}  1172\n",
       "1414859             ფ-ში      {'??'}    {'??'}  1158\n",
       "\n",
       "[100 rows x 4 columns]"
      ]
     },
     "execution_count": 15,
     "metadata": {},
     "output_type": "execute_result"
    }
   ],
   "source": [
    "no_lemma = df[(df['lemma_basic'] == \"{'??'}\") & (df['lemma_adv'] == \"{'??'}\")]\n",
    "print(f'Number of words without lemmas: {no_lemma.shape[0]}')\n",
    "print(f'Frequency of words without lemmas: {no_lemma[\"freq\"].sum()}, prct: {no_lemma[\"freq\"].sum() / df[\"freq\"].sum() * 100}%')\n",
    "print(f'The most frequent words without lemma:')\n",
    "no_lemma.sort_values(by=['freq'], ascending=False)[: 100]"
   ]
  },
  {
   "cell_type": "markdown",
   "id": "5cc616e5-940b-41f6-b512-3b681365c76d",
   "metadata": {},
   "source": [
    "როგორც ვხედავთ, იმის მიუხედავად, რომ კორპუსში არსებული სიტყვების ნახევარს საერთოდ არ აქვს ლემმა. ისინი გამოყენების სიხშირით კორპუსის მხოლოდ 2%-ს შეადგენენ. ამასთან ერთად როგორც ვხედავთ pos-tag-იც კი არასწორად აქვთ შესაბამებული. მაგ: ანტირუსული სახელად არის წარმოდგენილი და ა.შ. ტრენინგისთვის სრულიად გამოუსადეგარი იქნება ამიტომაც ასეთ სიტყვებსაც ვდროფავ."
   ]
  },
  {
   "cell_type": "code",
   "execution_count": 16,
   "id": "412822a2-525e-46f4-93db-9dde73593b40",
   "metadata": {
    "ExecuteTime": {
     "end_time": "2023-07-03T17:52:35.701820Z",
     "start_time": "2023-07-03T17:52:35.512196Z"
    }
   },
   "outputs": [
    {
     "name": "stdout",
     "output_type": "stream",
     "text": [
      "Number of words left: 1473943\n"
     ]
    },
    {
     "data": {
      "text/html": [
       "<div>\n",
       "<style scoped>\n",
       "    .dataframe tbody tr th:only-of-type {\n",
       "        vertical-align: middle;\n",
       "    }\n",
       "\n",
       "    .dataframe tbody tr th {\n",
       "        vertical-align: top;\n",
       "    }\n",
       "\n",
       "    .dataframe thead th {\n",
       "        text-align: right;\n",
       "    }\n",
       "</style>\n",
       "<table border=\"1\" class=\"dataframe\">\n",
       "  <thead>\n",
       "    <tr style=\"text-align: right;\">\n",
       "      <th></th>\n",
       "      <th>word</th>\n",
       "      <th>lemma_basic</th>\n",
       "      <th>lemma_adv</th>\n",
       "      <th>freq</th>\n",
       "    </tr>\n",
       "  </thead>\n",
       "  <tbody>\n",
       "    <tr>\n",
       "      <th>0</th>\n",
       "      <td>ამ</td>\n",
       "      <td>{'??', '\\t', 'ეს'}</td>\n",
       "      <td>{'??', 'ეს'}</td>\n",
       "      <td>1041654</td>\n",
       "    </tr>\n",
       "    <tr>\n",
       "      <th>1</th>\n",
       "      <td>ზამთრის</td>\n",
       "      <td>{'ზამთარი', 'ზამთარ·ი'}</td>\n",
       "      <td>{'ზამთ[ა]რ-ი', 'ზამთ[ა]რ·ი'}</td>\n",
       "      <td>8035</td>\n",
       "    </tr>\n",
       "    <tr>\n",
       "      <th>2</th>\n",
       "      <td>მიწურულს</td>\n",
       "      <td>{'მი·წურულ·ი', 'მიწურული', 'მიწურულ·ი'}</td>\n",
       "      <td>{'მიწურულ·ი', 'მი-წურულ-ი/წურ', 'მიწურულ-ი', '...</td>\n",
       "      <td>5976</td>\n",
       "    </tr>\n",
       "    <tr>\n",
       "      <th>3</th>\n",
       "      <td>თითქმის</td>\n",
       "      <td>{'თითქმის'}</td>\n",
       "      <td>{'თითქმის'}</td>\n",
       "      <td>62608</td>\n",
       "    </tr>\n",
       "    <tr>\n",
       "      <th>4</th>\n",
       "      <td>სასოწარკვეთილი</td>\n",
       "      <td>{'სასოწარკვეთილ·ი', 'სასოწარკვეთილი'}</td>\n",
       "      <td>{'სასოწარკვეთილ·ი', 'სასოწარკვეთილ-ი'}</td>\n",
       "      <td>844</td>\n",
       "    </tr>\n",
       "    <tr>\n",
       "      <th>...</th>\n",
       "      <td>...</td>\n",
       "      <td>...</td>\n",
       "      <td>...</td>\n",
       "      <td>...</td>\n",
       "    </tr>\n",
       "    <tr>\n",
       "      <th>95</th>\n",
       "      <td>შუბლზე</td>\n",
       "      <td>{'შუბლი', 'შუბლ·ი'}</td>\n",
       "      <td>{'შუბლ·ი', 'შუბლ-ი'}</td>\n",
       "      <td>1697</td>\n",
       "    </tr>\n",
       "    <tr>\n",
       "      <th>96</th>\n",
       "      <td>ვაკოცე</td>\n",
       "      <td>{'კოცნა'}</td>\n",
       "      <td>{'კოცნ[ა]/კოც'}</td>\n",
       "      <td>174</td>\n",
       "    </tr>\n",
       "    <tr>\n",
       "      <th>97</th>\n",
       "      <td>როგორც</td>\n",
       "      <td>{'როგორც', 'როგორც კი'}</td>\n",
       "      <td>{'როგორც', 'კი'}</td>\n",
       "      <td>478016</td>\n",
       "    </tr>\n",
       "    <tr>\n",
       "      <th>98</th>\n",
       "      <td>ჩანს</td>\n",
       "      <td>{'ჩანი', 'ჩან·ი', '*·ჩენა', '*ჩენა'}</td>\n",
       "      <td>{'ჩან·ი', 'ჩან-ი', '*-ჩენ[ა]/ჩან', '*·ჩენ[ა]/ჩ...</td>\n",
       "      <td>57172</td>\n",
       "    </tr>\n",
       "    <tr>\n",
       "      <th>99</th>\n",
       "      <td>მაშინ</td>\n",
       "      <td>{'მაშინ'}</td>\n",
       "      <td>{'მაშინ'}</td>\n",
       "      <td>154162</td>\n",
       "    </tr>\n",
       "  </tbody>\n",
       "</table>\n",
       "<p>100 rows × 4 columns</p>\n",
       "</div>"
      ],
      "text/plain": [
       "              word                              lemma_basic  \\\n",
       "0               ამ                       {'??', '\\t', 'ეს'}   \n",
       "1          ზამთრის                  {'ზამთარი', 'ზამთარ·ი'}   \n",
       "2         მიწურულს  {'მი·წურულ·ი', 'მიწურული', 'მიწურულ·ი'}   \n",
       "3          თითქმის                              {'თითქმის'}   \n",
       "4   სასოწარკვეთილი    {'სასოწარკვეთილ·ი', 'სასოწარკვეთილი'}   \n",
       "..             ...                                      ...   \n",
       "95          შუბლზე                      {'შუბლი', 'შუბლ·ი'}   \n",
       "96          ვაკოცე                                {'კოცნა'}   \n",
       "97          როგორც                  {'როგორც', 'როგორც კი'}   \n",
       "98            ჩანს     {'ჩანი', 'ჩან·ი', '*·ჩენა', '*ჩენა'}   \n",
       "99           მაშინ                                {'მაშინ'}   \n",
       "\n",
       "                                            lemma_adv     freq  \n",
       "0                                        {'??', 'ეს'}  1041654  \n",
       "1                        {'ზამთ[ა]რ-ი', 'ზამთ[ა]რ·ი'}     8035  \n",
       "2   {'მიწურულ·ი', 'მი-წურულ-ი/წურ', 'მიწურულ-ი', '...     5976  \n",
       "3                                         {'თითქმის'}    62608  \n",
       "4              {'სასოწარკვეთილ·ი', 'სასოწარკვეთილ-ი'}      844  \n",
       "..                                                ...      ...  \n",
       "95                               {'შუბლ·ი', 'შუბლ-ი'}     1697  \n",
       "96                                    {'კოცნ[ა]/კოც'}      174  \n",
       "97                                   {'როგორც', 'კი'}   478016  \n",
       "98  {'ჩან·ი', 'ჩან-ი', '*-ჩენ[ა]/ჩან', '*·ჩენ[ა]/ჩ...    57172  \n",
       "99                                          {'მაშინ'}   154162  \n",
       "\n",
       "[100 rows x 4 columns]"
      ]
     },
     "execution_count": 16,
     "metadata": {},
     "output_type": "execute_result"
    }
   ],
   "source": [
    "df = df.drop(no_lemma.index).reset_index(drop=True)\n",
    "print(f'Number of words left: {df.shape[0]}')\n",
    "df[:100]"
   ]
  },
  {
   "cell_type": "markdown",
   "id": "df4dee62-19d3-49cb-a34e-4870243509ee",
   "metadata": {
    "jp-MarkdownHeadingCollapsed": true,
    "tags": []
   },
   "source": [
    "#### განსხვავებული ტიპის ლემები"
   ]
  },
  {
   "cell_type": "code",
   "execution_count": 17,
   "id": "1f9b1da2-b0a2-4819-9035-90ab1fe883c8",
   "metadata": {
    "ExecuteTime": {
     "end_time": "2023-07-03T17:52:35.927761Z",
     "start_time": "2023-07-03T17:52:35.797328Z"
    }
   },
   "outputs": [
    {
     "name": "stdout",
     "output_type": "stream",
     "text": [
      "       word               lemma_adv     lemma_basic\n",
      "18217  ჭამა  {'ჭამ[ა]/ჭამ', 'ჭ[ა]'}  {'ჭამა', 'ჭა'}\n",
      "       word       lemma_adv lemma_basic\n",
      "11963  ჭამს  {'ჭამ[ა]/ჭამ'}    {'ჭამა'}\n"
     ]
    }
   ],
   "source": [
    "print(df[df['word'] == 'ჭამა'][['word', 'lemma_adv', 'lemma_basic']])\n",
    "print(df[df['word'] == 'ჭამს'][['word', 'lemma_adv', 'lemma_basic']])"
   ]
  },
  {
   "cell_type": "markdown",
   "id": "61bd818d-d4b1-4486-890a-e9798049e8ad",
   "metadata": {},
   "source": [
    "ძალიან უცნაური ლემები აქვთ ზოგიერთ შემთხვევაში ამა თუ იმ სიტყვას. არ ვიცი რა კონტექსტში შეიძლება იყოს ჭამა ჭის რაიმე ფორმა. (ერთადერთი რაც მახსენდება შესაძლებელია ჭამ (ჭის მოთხრობითი ბრუნვა და ჭამის მეორე პირის მხოლობითი ფორმა ორივე ნაირად იქნას ინტერპრეტრებული.)) ამასთან ერთად lemma_basic-ში არის სიტყვის არსებითი სახელის ფორმა არჩეული ლემად. სახელზმნის შემთხვევაში. ხოლო lemma_adv-ში \"არსებითი სახელი\\ზმნის ბუძე\" ფორმატი, მიუხედავად იმისა სიტყვა, რომელიც დაგვყავს ზმნადაა მოცემული და არსებით სახელად. და დამატებით აღნიშნულია, მოცილებადი ნაწილი სიტყვის. შესაბამისად მხოლოდ ინფორმატიულ დატვირთვას ატარებს და მარტივი ლემის სხვანაირად წარმოდგენას განასახიერებს."
   ]
  },
  {
   "cell_type": "code",
   "execution_count": 18,
   "id": "4a88495c-fbba-492c-b7f9-f9c98ab9c204",
   "metadata": {
    "ExecuteTime": {
     "end_time": "2023-07-03T17:52:53.533428Z",
     "start_time": "2023-07-03T17:52:35.932178Z"
    }
   },
   "outputs": [
    {
     "name": "stdout",
     "output_type": "stream",
     "text": [
      "31021\n"
     ]
    },
    {
     "data": {
      "text/html": [
       "<div>\n",
       "<style scoped>\n",
       "    .dataframe tbody tr th:only-of-type {\n",
       "        vertical-align: middle;\n",
       "    }\n",
       "\n",
       "    .dataframe tbody tr th {\n",
       "        vertical-align: top;\n",
       "    }\n",
       "\n",
       "    .dataframe thead th {\n",
       "        text-align: right;\n",
       "    }\n",
       "</style>\n",
       "<table border=\"1\" class=\"dataframe\">\n",
       "  <thead>\n",
       "    <tr style=\"text-align: right;\">\n",
       "      <th></th>\n",
       "      <th>word</th>\n",
       "      <th>lemma_basic</th>\n",
       "      <th>lemma_adv</th>\n",
       "      <th>freq</th>\n",
       "      <th>diff</th>\n",
       "    </tr>\n",
       "  </thead>\n",
       "  <tbody>\n",
       "    <tr>\n",
       "      <th>0</th>\n",
       "      <td>ამ</td>\n",
       "      <td>{'??', '\\t', 'ეს'}</td>\n",
       "      <td>{'??', 'ეს'}</td>\n",
       "      <td>1041654</td>\n",
       "      <td>1</td>\n",
       "    </tr>\n",
       "    <tr>\n",
       "      <th>2</th>\n",
       "      <td>მიწურულს</td>\n",
       "      <td>{'მი·წურულ·ი', 'მიწურული', 'მიწურულ·ი'}</td>\n",
       "      <td>{'მიწურულ·ი', 'მი-წურულ-ი/წურ', 'მიწურულ-ი', '...</td>\n",
       "      <td>5976</td>\n",
       "      <td>1</td>\n",
       "    </tr>\n",
       "    <tr>\n",
       "      <th>5</th>\n",
       "      <td>გახლდით</td>\n",
       "      <td>{'ხლება'}</td>\n",
       "      <td>{'ხლებ[ა]/ახლ', 'ხლებ[ა]/ხლ'}</td>\n",
       "      <td>1689</td>\n",
       "      <td>1</td>\n",
       "    </tr>\n",
       "    <tr>\n",
       "      <th>6</th>\n",
       "      <td>რა</td>\n",
       "      <td>{'რა თქმა უნდა', '\\t', 'რა', '??'}</td>\n",
       "      <td>{'უნდა', 'რ[ა]', 'რა', '??', 'თქმა'}</td>\n",
       "      <td>418777</td>\n",
       "      <td>1</td>\n",
       "    </tr>\n",
       "    <tr>\n",
       "      <th>7</th>\n",
       "      <td>ხანია</td>\n",
       "      <td>{'ხანი', 'ხან·ი'}</td>\n",
       "      <td>{'ხ[ა]ნ-ი', 'ხან·ი', 'ხ[ა]ნ·ი'}</td>\n",
       "      <td>24507</td>\n",
       "      <td>1</td>\n",
       "    </tr>\n",
       "    <tr>\n",
       "      <th>...</th>\n",
       "      <td>...</td>\n",
       "      <td>...</td>\n",
       "      <td>...</td>\n",
       "      <td>...</td>\n",
       "      <td>...</td>\n",
       "    </tr>\n",
       "    <tr>\n",
       "      <th>1213</th>\n",
       "      <td>ვალი</td>\n",
       "      <td>{'ვალი', 'ვალ·ი'}</td>\n",
       "      <td>{'ვალი', 'ვალ-ი', 'ვალ·ი'}</td>\n",
       "      <td>5625</td>\n",
       "      <td>1</td>\n",
       "    </tr>\n",
       "    <tr>\n",
       "      <th>1214</th>\n",
       "      <td>გაწევს</td>\n",
       "      <td>{'გა·წევა', '*·წოლა'}</td>\n",
       "      <td>{'გა·წევ[ა]/წ[ევ]'}</td>\n",
       "      <td>58</td>\n",
       "      <td>1</td>\n",
       "    </tr>\n",
       "    <tr>\n",
       "      <th>1223</th>\n",
       "      <td>მილკა</td>\n",
       "      <td>{'მილკა'}</td>\n",
       "      <td>{'მილკა', 'მილკ[ა]'}</td>\n",
       "      <td>20</td>\n",
       "      <td>1</td>\n",
       "    </tr>\n",
       "    <tr>\n",
       "      <th>1230</th>\n",
       "      <td>ზმანებათა</td>\n",
       "      <td>{'ზმანება'}</td>\n",
       "      <td>{'ზმანებ[ა]/ზმან', 'ზმანებ[ა]'}</td>\n",
       "      <td>26</td>\n",
       "      <td>1</td>\n",
       "    </tr>\n",
       "    <tr>\n",
       "      <th>1236</th>\n",
       "      <td>მშვენიერი</td>\n",
       "      <td>{'მშვენიერ·ი', 'მშვენიერი'}</td>\n",
       "      <td>{'მშვენიერ·ი', 'მშვენიერ-ი', 'მშვენი[ე]რ·ი', '...</td>\n",
       "      <td>9363</td>\n",
       "      <td>1</td>\n",
       "    </tr>\n",
       "  </tbody>\n",
       "</table>\n",
       "<p>100 rows × 5 columns</p>\n",
       "</div>"
      ],
      "text/plain": [
       "           word                              lemma_basic  \\\n",
       "0            ამ                       {'??', '\\t', 'ეს'}   \n",
       "2      მიწურულს  {'მი·წურულ·ი', 'მიწურული', 'მიწურულ·ი'}   \n",
       "5       გახლდით                                {'ხლება'}   \n",
       "6            რა       {'რა თქმა უნდა', '\\t', 'რა', '??'}   \n",
       "7         ხანია                        {'ხანი', 'ხან·ი'}   \n",
       "...         ...                                      ...   \n",
       "1213       ვალი                        {'ვალი', 'ვალ·ი'}   \n",
       "1214     გაწევს                    {'გა·წევა', '*·წოლა'}   \n",
       "1223      მილკა                                {'მილკა'}   \n",
       "1230  ზმანებათა                              {'ზმანება'}   \n",
       "1236  მშვენიერი              {'მშვენიერ·ი', 'მშვენიერი'}   \n",
       "\n",
       "                                              lemma_adv     freq  diff  \n",
       "0                                          {'??', 'ეს'}  1041654     1  \n",
       "2     {'მიწურულ·ი', 'მი-წურულ-ი/წურ', 'მიწურულ-ი', '...     5976     1  \n",
       "5                         {'ხლებ[ა]/ახლ', 'ხლებ[ა]/ხლ'}     1689     1  \n",
       "6                  {'უნდა', 'რ[ა]', 'რა', '??', 'თქმა'}   418777     1  \n",
       "7                       {'ხ[ა]ნ-ი', 'ხან·ი', 'ხ[ა]ნ·ი'}    24507     1  \n",
       "...                                                 ...      ...   ...  \n",
       "1213                         {'ვალი', 'ვალ-ი', 'ვალ·ი'}     5625     1  \n",
       "1214                                {'გა·წევ[ა]/წ[ევ]'}       58     1  \n",
       "1223                               {'მილკა', 'მილკ[ა]'}       20     1  \n",
       "1230                    {'ზმანებ[ა]/ზმან', 'ზმანებ[ა]'}       26     1  \n",
       "1236  {'მშვენიერ·ი', 'მშვენიერ-ი', 'მშვენი[ე]რ·ი', '...     9363     1  \n",
       "\n",
       "[100 rows x 5 columns]"
      ]
     },
     "execution_count": 18,
     "metadata": {},
     "output_type": "execute_result"
    }
   ],
   "source": [
    "def tryconvert(x):\n",
    "    try:\n",
    "        return len(literal_eval(x))\n",
    "    except Exception:\n",
    "        return 0\n",
    "    \n",
    "df['diff'] = np.where(df['lemma_basic'].apply(lambda x: len(literal_eval(x))) \n",
    "                      != df['lemma_adv'].apply(lambda x: tryconvert(x)) , 1, 0)\n",
    "diff = df[df['diff'] == 1]\n",
    "print(diff.shape[0])\n",
    "diff[:100]"
   ]
  },
  {
   "cell_type": "markdown",
   "id": "1f5c4d6c-12d3-4e11-8991-ad0cdae9b631",
   "metadata": {},
   "source": [
    "როგორც ვხედავთ ძირითადად ორივე ლემის ტიპში დამთხვევები გვაქ, ლემების რაოდენობის მხრივ, თუმცა 33205 სიტყვაში საქმე სხვაგვარადაა."
   ]
  },
  {
   "cell_type": "code",
   "execution_count": 19,
   "id": "83b70d07-5561-4766-937e-1e140d6fd810",
   "metadata": {
    "ExecuteTime": {
     "end_time": "2023-07-03T17:52:53.668241Z",
     "start_time": "2023-07-03T17:52:53.664974Z"
    }
   },
   "outputs": [
    {
     "name": "stdout",
     "output_type": "stream",
     "text": [
      "    word                        lemma_adv        lemma_basic\n",
      "7  ხანია  {'ხ[ა]ნ-ი', 'ხან·ი', 'ხ[ა]ნ·ი'}  {'ხანი', 'ხან·ი'}\n"
     ]
    }
   ],
   "source": [
    "print(df[df['word'] == 'ხანია'][['word', 'lemma_adv', 'lemma_basic']])"
   ]
  },
  {
   "cell_type": "code",
   "execution_count": 20,
   "id": "7d45ddbf-6bf6-4a20-bc42-6aae8cb5f3f6",
   "metadata": {
    "ExecuteTime": {
     "end_time": "2023-07-03T17:52:53.739688Z",
     "start_time": "2023-07-03T17:52:53.671288Z"
    }
   },
   "outputs": [
    {
     "data": {
      "text/html": [
       "<div>\n",
       "<style scoped>\n",
       "    .dataframe tbody tr th:only-of-type {\n",
       "        vertical-align: middle;\n",
       "    }\n",
       "\n",
       "    .dataframe tbody tr th {\n",
       "        vertical-align: top;\n",
       "    }\n",
       "\n",
       "    .dataframe thead th {\n",
       "        text-align: right;\n",
       "    }\n",
       "</style>\n",
       "<table border=\"1\" class=\"dataframe\">\n",
       "  <thead>\n",
       "    <tr style=\"text-align: right;\">\n",
       "      <th></th>\n",
       "      <th>word</th>\n",
       "      <th>lemma</th>\n",
       "      <th>freq</th>\n",
       "    </tr>\n",
       "  </thead>\n",
       "  <tbody>\n",
       "    <tr>\n",
       "      <th>0</th>\n",
       "      <td>ამ</td>\n",
       "      <td>{'??', '\\t', 'ეს'}</td>\n",
       "      <td>1041654</td>\n",
       "    </tr>\n",
       "    <tr>\n",
       "      <th>1</th>\n",
       "      <td>ზამთრის</td>\n",
       "      <td>{'ზამთარი', 'ზამთარ·ი'}</td>\n",
       "      <td>8035</td>\n",
       "    </tr>\n",
       "    <tr>\n",
       "      <th>2</th>\n",
       "      <td>მიწურულს</td>\n",
       "      <td>{'მი·წურულ·ი', 'მიწურული', 'მიწურულ·ი'}</td>\n",
       "      <td>5976</td>\n",
       "    </tr>\n",
       "    <tr>\n",
       "      <th>3</th>\n",
       "      <td>თითქმის</td>\n",
       "      <td>{'თითქმის'}</td>\n",
       "      <td>62608</td>\n",
       "    </tr>\n",
       "    <tr>\n",
       "      <th>4</th>\n",
       "      <td>სასოწარკვეთილი</td>\n",
       "      <td>{'სასოწარკვეთილ·ი', 'სასოწარკვეთილი'}</td>\n",
       "      <td>844</td>\n",
       "    </tr>\n",
       "    <tr>\n",
       "      <th>...</th>\n",
       "      <td>...</td>\n",
       "      <td>...</td>\n",
       "      <td>...</td>\n",
       "    </tr>\n",
       "    <tr>\n",
       "      <th>95</th>\n",
       "      <td>შუბლზე</td>\n",
       "      <td>{'შუბლი', 'შუბლ·ი'}</td>\n",
       "      <td>1697</td>\n",
       "    </tr>\n",
       "    <tr>\n",
       "      <th>96</th>\n",
       "      <td>ვაკოცე</td>\n",
       "      <td>{'კოცნა'}</td>\n",
       "      <td>174</td>\n",
       "    </tr>\n",
       "    <tr>\n",
       "      <th>97</th>\n",
       "      <td>როგორც</td>\n",
       "      <td>{'როგორც', 'როგორც კი'}</td>\n",
       "      <td>478016</td>\n",
       "    </tr>\n",
       "    <tr>\n",
       "      <th>98</th>\n",
       "      <td>ჩანს</td>\n",
       "      <td>{'ჩანი', 'ჩან·ი', '*·ჩენა', '*ჩენა'}</td>\n",
       "      <td>57172</td>\n",
       "    </tr>\n",
       "    <tr>\n",
       "      <th>99</th>\n",
       "      <td>მაშინ</td>\n",
       "      <td>{'მაშინ'}</td>\n",
       "      <td>154162</td>\n",
       "    </tr>\n",
       "  </tbody>\n",
       "</table>\n",
       "<p>100 rows × 3 columns</p>\n",
       "</div>"
      ],
      "text/plain": [
       "              word                                    lemma     freq\n",
       "0               ამ                       {'??', '\\t', 'ეს'}  1041654\n",
       "1          ზამთრის                  {'ზამთარი', 'ზამთარ·ი'}     8035\n",
       "2         მიწურულს  {'მი·წურულ·ი', 'მიწურული', 'მიწურულ·ი'}     5976\n",
       "3          თითქმის                              {'თითქმის'}    62608\n",
       "4   სასოწარკვეთილი    {'სასოწარკვეთილ·ი', 'სასოწარკვეთილი'}      844\n",
       "..             ...                                      ...      ...\n",
       "95          შუბლზე                      {'შუბლი', 'შუბლ·ი'}     1697\n",
       "96          ვაკოცე                                {'კოცნა'}      174\n",
       "97          როგორც                  {'როგორც', 'როგორც კი'}   478016\n",
       "98            ჩანს     {'ჩანი', 'ჩან·ი', '*·ჩენა', '*ჩენა'}    57172\n",
       "99           მაშინ                                {'მაშინ'}   154162\n",
       "\n",
       "[100 rows x 3 columns]"
      ]
     },
     "execution_count": 20,
     "metadata": {},
     "output_type": "execute_result"
    }
   ],
   "source": [
    "df = df.drop(['lemma_adv', 'diff'], axis=1)\n",
    "df = df.rename(columns={'lemma_basic': 'lemma'})\n",
    "df[:100]"
   ]
  },
  {
   "cell_type": "markdown",
   "id": "5d1a8683-758d-4ea8-baec-091b8e356e03",
   "metadata": {
    "tags": []
   },
   "source": [
    "#### ლემის ფორმა"
   ]
  },
  {
   "cell_type": "code",
   "execution_count": 21,
   "id": "fb37b3f5-6712-42e4-a4a0-c54af567c0b5",
   "metadata": {
    "ExecuteTime": {
     "end_time": "2023-07-03T17:52:54.051448Z",
     "start_time": "2023-07-03T17:52:53.819996Z"
    }
   },
   "outputs": [
    {
     "name": "stdout",
     "output_type": "stream",
     "text": [
      "Word: წამოვდექი  Lemma: 89    {'წამოდგომა', 'წამო·დგომა'}\n",
      "Name: lemma, dtype: object\n",
      "Word: ავდექი  Lemma: 9165    {'ა·დგომა', 'ადგომა'}\n",
      "Name: lemma, dtype: object\n",
      "Word: დავდექი  Lemma: 90625    {'და·დგომა'}\n",
      "Name: lemma, dtype: object\n",
      "Word: ვდგავარ  Lemma: 2322    {'დგომა'}\n",
      "Name: lemma, dtype: object\n"
     ]
    }
   ],
   "source": [
    "print(f\"Word: წამოვდექი  Lemma: {df[df['word'] == 'წამოვდექი']['lemma']}\")\n",
    "print(f\"Word: ავდექი  Lemma: {df[df['word'] == 'ავდექი']['lemma']}\")\n",
    "print(f\"Word: დავდექი  Lemma: {df[df['word'] == 'დავდექი']['lemma']}\")\n",
    "print(f\"Word: ვდგავარ  Lemma: {df[df['word'] == 'ვდგავარ']['lemma']}\")"
   ]
  },
  {
   "cell_type": "markdown",
   "id": "b577513e-36a2-4939-a8a7-6812c10ec221",
   "metadata": {},
   "source": [
    "როგორც ვხედავთ საინტერესო სიტყვათა ნათესაობა შეინიშნება ლემებში. საერთო ძირის მქონე სიტყვათა ჯგუფები აღნიშნულია შესაბამისად."
   ]
  },
  {
   "cell_type": "code",
   "execution_count": 22,
   "id": "97e0ec8c-74f5-4647-a705-f766bdc8547f",
   "metadata": {
    "ExecuteTime": {
     "end_time": "2023-07-03T17:52:54.353787Z",
     "start_time": "2023-07-03T17:52:54.126745Z"
    }
   },
   "outputs": [
    {
     "name": "stdout",
     "output_type": "stream",
     "text": [
      "Word: ზამთარი  Lemma: 47444    {'ზამთარი', 'ზამთარ·ი'}\n",
      "Name: lemma, dtype: object\n",
      "Word: ზამთრული  Lemma: 1124123    {'ზამთრულ·ი'}\n",
      "Name: lemma, dtype: object\n",
      "Word: დაზამთრდა  Lemma: 313719    {'და·ზამთრება'}\n",
      "Name: lemma, dtype: object\n",
      "Word: საზამთრო  Lemma: 43533    {'საზამთრო'}\n",
      "Name: lemma, dtype: object\n"
     ]
    }
   ],
   "source": [
    "print(f\"Word: ზამთარი  Lemma: {df[df['word'] == 'ზამთარი']['lemma']}\")\n",
    "print(f\"Word: ზამთრული  Lemma: {df[df['word'] == 'ზამთრული']['lemma']}\")\n",
    "print(f\"Word: დაზამთრდა  Lemma: {df[df['word'] == 'დაზამთრდა']['lemma']}\")\n",
    "print(f\"Word: საზამთრო  Lemma: {df[df['word'] == 'საზამთრო']['lemma']}\")"
   ]
  },
  {
   "cell_type": "code",
   "execution_count": 23,
   "id": "fa1d8611-3975-4aac-a1cf-e654529eaa8e",
   "metadata": {
    "ExecuteTime": {
     "end_time": "2023-07-03T17:52:54.507677Z",
     "start_time": "2023-07-03T17:52:54.429038Z"
    }
   },
   "outputs": [
    {
     "name": "stdout",
     "output_type": "stream",
     "text": [
      "Word: დაკავება  Lemma: 119973    {'დაკავება', 'და·კავება'}\n",
      "Name: lemma, dtype: object\n",
      "Word: დაკავებული  Lemma: 62949    {'დაკავებული', 'და·კავებულ·ი'}\n",
      "Name: lemma, dtype: object\n"
     ]
    }
   ],
   "source": [
    "print(f\"Word: დაკავება  Lemma: {df[df['word'] == 'დაკავება']['lemma']}\")\n",
    "print(f\"Word: დაკავებული  Lemma: {df[df['word'] == 'დაკავებული']['lemma']}\")"
   ]
  },
  {
   "cell_type": "markdown",
   "id": "4cf8517e-ca93-4771-adc9-7cb738410bbd",
   "metadata": {},
   "source": [
    "ზემოთა აღნიშნული ფაქტის მიუხედავად, ყველგან არ ჩანს მსგავსი ნათესაობა, ზოგან აშკარად საერთო ძირის მიუხედავად, მცირედი განსხვავებები შეინიშნება გამოყოფილ წერტილებით გამოყოფილ ნაწილებში. ამიტომაც, მიუხედავად იმისა, რომ საინტერესო იდეაა, ვფიქრობ, რომ ჯობია წერტილები დავკარგოთ ლემებიდან და შემდგომ თუ გაჩნდება ამის საჭიროება სხვა გზით მოვნახოთ საერთო ძირები ჩვეულებრივი ლემებიდან."
   ]
  },
  {
   "cell_type": "code",
   "execution_count": 24,
   "id": "30d1dfa6-cf98-4590-bec8-3d24566317f1",
   "metadata": {
    "ExecuteTime": {
     "end_time": "2023-07-03T17:53:06.905198Z",
     "start_time": "2023-07-03T17:52:54.516671Z"
    }
   },
   "outputs": [
    {
     "data": {
      "text/html": [
       "<div>\n",
       "<style scoped>\n",
       "    .dataframe tbody tr th:only-of-type {\n",
       "        vertical-align: middle;\n",
       "    }\n",
       "\n",
       "    .dataframe tbody tr th {\n",
       "        vertical-align: top;\n",
       "    }\n",
       "\n",
       "    .dataframe thead th {\n",
       "        text-align: right;\n",
       "    }\n",
       "</style>\n",
       "<table border=\"1\" class=\"dataframe\">\n",
       "  <thead>\n",
       "    <tr style=\"text-align: right;\">\n",
       "      <th></th>\n",
       "      <th>word</th>\n",
       "      <th>lemma</th>\n",
       "      <th>freq</th>\n",
       "    </tr>\n",
       "  </thead>\n",
       "  <tbody>\n",
       "    <tr>\n",
       "      <th>0</th>\n",
       "      <td>ამ</td>\n",
       "      <td>{'\\t', 'ეს', '??'}</td>\n",
       "      <td>1041654</td>\n",
       "    </tr>\n",
       "    <tr>\n",
       "      <th>1</th>\n",
       "      <td>ზამთრის</td>\n",
       "      <td>{'ზამთარი'}</td>\n",
       "      <td>8035</td>\n",
       "    </tr>\n",
       "    <tr>\n",
       "      <th>2</th>\n",
       "      <td>მიწურულს</td>\n",
       "      <td>{'მიწურული'}</td>\n",
       "      <td>5976</td>\n",
       "    </tr>\n",
       "    <tr>\n",
       "      <th>3</th>\n",
       "      <td>თითქმის</td>\n",
       "      <td>{'თითქმის'}</td>\n",
       "      <td>62608</td>\n",
       "    </tr>\n",
       "    <tr>\n",
       "      <th>4</th>\n",
       "      <td>სასოწარკვეთილი</td>\n",
       "      <td>{'სასოწარკვეთილი'}</td>\n",
       "      <td>844</td>\n",
       "    </tr>\n",
       "    <tr>\n",
       "      <th>...</th>\n",
       "      <td>...</td>\n",
       "      <td>...</td>\n",
       "      <td>...</td>\n",
       "    </tr>\n",
       "    <tr>\n",
       "      <th>95</th>\n",
       "      <td>შუბლზე</td>\n",
       "      <td>{'შუბლი'}</td>\n",
       "      <td>1697</td>\n",
       "    </tr>\n",
       "    <tr>\n",
       "      <th>96</th>\n",
       "      <td>ვაკოცე</td>\n",
       "      <td>{'კოცნა'}</td>\n",
       "      <td>174</td>\n",
       "    </tr>\n",
       "    <tr>\n",
       "      <th>97</th>\n",
       "      <td>როგორც</td>\n",
       "      <td>{'როგორც კი', 'როგორც'}</td>\n",
       "      <td>478016</td>\n",
       "    </tr>\n",
       "    <tr>\n",
       "      <th>98</th>\n",
       "      <td>ჩანს</td>\n",
       "      <td>{'ჩანი', '*ჩენა'}</td>\n",
       "      <td>57172</td>\n",
       "    </tr>\n",
       "    <tr>\n",
       "      <th>99</th>\n",
       "      <td>მაშინ</td>\n",
       "      <td>{'მაშინ'}</td>\n",
       "      <td>154162</td>\n",
       "    </tr>\n",
       "  </tbody>\n",
       "</table>\n",
       "<p>100 rows × 3 columns</p>\n",
       "</div>"
      ],
      "text/plain": [
       "              word                    lemma     freq\n",
       "0               ამ       {'\\t', 'ეს', '??'}  1041654\n",
       "1          ზამთრის              {'ზამთარი'}     8035\n",
       "2         მიწურულს             {'მიწურული'}     5976\n",
       "3          თითქმის              {'თითქმის'}    62608\n",
       "4   სასოწარკვეთილი       {'სასოწარკვეთილი'}      844\n",
       "..             ...                      ...      ...\n",
       "95          შუბლზე                {'შუბლი'}     1697\n",
       "96          ვაკოცე                {'კოცნა'}      174\n",
       "97          როგორც  {'როგორც კი', 'როგორც'}   478016\n",
       "98            ჩანს        {'ჩანი', '*ჩენა'}    57172\n",
       "99           მაშინ                {'მაშინ'}   154162\n",
       "\n",
       "[100 rows x 3 columns]"
      ]
     },
     "execution_count": 24,
     "metadata": {},
     "output_type": "execute_result"
    }
   ],
   "source": [
    "def remove_dot(x):\n",
    "    return str({re.sub('·', '', word)for word in literal_eval(x)})\n",
    "\n",
    "df['lemma'] = df['lemma'].apply(lambda x: remove_dot(x))\n",
    "df[:100]"
   ]
  },
  {
   "cell_type": "markdown",
   "id": "3d1607ed-b7d6-49d6-8358-8bd2254b5294",
   "metadata": {
    "tags": []
   },
   "source": [
    "#### მრავალლემიანობა"
   ]
  },
  {
   "cell_type": "code",
   "execution_count": 25,
   "id": "3a6a8132-c5bf-4c2a-970a-9010e99b3aa7",
   "metadata": {
    "ExecuteTime": {
     "end_time": "2023-07-03T17:53:15.335940Z",
     "start_time": "2023-07-03T17:53:06.908853Z"
    }
   },
   "outputs": [
    {
     "name": "stdout",
     "output_type": "stream",
     "text": [
      "Number of words with ambigious lemmas: 22298\n"
     ]
    },
    {
     "data": {
      "text/html": [
       "<div>\n",
       "<style scoped>\n",
       "    .dataframe tbody tr th:only-of-type {\n",
       "        vertical-align: middle;\n",
       "    }\n",
       "\n",
       "    .dataframe tbody tr th {\n",
       "        vertical-align: top;\n",
       "    }\n",
       "\n",
       "    .dataframe thead th {\n",
       "        text-align: right;\n",
       "    }\n",
       "</style>\n",
       "<table border=\"1\" class=\"dataframe\">\n",
       "  <thead>\n",
       "    <tr style=\"text-align: right;\">\n",
       "      <th></th>\n",
       "      <th>word</th>\n",
       "      <th>lemma</th>\n",
       "      <th>freq</th>\n",
       "      <th>lemma_count</th>\n",
       "    </tr>\n",
       "  </thead>\n",
       "  <tbody>\n",
       "    <tr>\n",
       "      <th>0</th>\n",
       "      <td>ამ</td>\n",
       "      <td>{'\\t', 'ეს', '??'}</td>\n",
       "      <td>1041654</td>\n",
       "      <td>3</td>\n",
       "    </tr>\n",
       "    <tr>\n",
       "      <th>6</th>\n",
       "      <td>რა</td>\n",
       "      <td>{'\\t', 'რა', 'რა თქმა უნდა', '??'}</td>\n",
       "      <td>418777</td>\n",
       "      <td>4</td>\n",
       "    </tr>\n",
       "    <tr>\n",
       "      <th>9</th>\n",
       "      <td>უფროსი</td>\n",
       "      <td>{'უფროსი', 'უფრო'}</td>\n",
       "      <td>23894</td>\n",
       "      <td>2</td>\n",
       "    </tr>\n",
       "    <tr>\n",
       "      <th>16</th>\n",
       "      <td>და</td>\n",
       "      <td>{'და ასე შემდეგ', '\\t', 'და', '??'}</td>\n",
       "      <td>5410387</td>\n",
       "      <td>4</td>\n",
       "    </tr>\n",
       "    <tr>\n",
       "      <th>21</th>\n",
       "      <td>მახარა</td>\n",
       "      <td>{'მახარა', 'ხარება'}</td>\n",
       "      <td>75</td>\n",
       "      <td>2</td>\n",
       "    </tr>\n",
       "    <tr>\n",
       "      <th>...</th>\n",
       "      <td>...</td>\n",
       "      <td>...</td>\n",
       "      <td>...</td>\n",
       "      <td>...</td>\n",
       "    </tr>\n",
       "    <tr>\n",
       "      <th>4200</th>\n",
       "      <td>უნუგეშო</td>\n",
       "      <td>{'უნუგეშო', 'ნუგეშება'}</td>\n",
       "      <td>208</td>\n",
       "      <td>2</td>\n",
       "    </tr>\n",
       "    <tr>\n",
       "      <th>4241</th>\n",
       "      <td>მკიდა</td>\n",
       "      <td>{'*მკა', 'კიდება'}</td>\n",
       "      <td>12</td>\n",
       "      <td>2</td>\n",
       "    </tr>\n",
       "    <tr>\n",
       "      <th>4247</th>\n",
       "      <td>მკათათვე</td>\n",
       "      <td>{'მკათათვე', 'მკა'}</td>\n",
       "      <td>19</td>\n",
       "      <td>2</td>\n",
       "    </tr>\n",
       "    <tr>\n",
       "      <th>4253</th>\n",
       "      <td>რაშებს</td>\n",
       "      <td>{'რაშა', 'რაში'}</td>\n",
       "      <td>34</td>\n",
       "      <td>2</td>\n",
       "    </tr>\n",
       "    <tr>\n",
       "      <th>4279</th>\n",
       "      <td>მუხლები</td>\n",
       "      <td>{'მუხლა', 'მუხლი'}</td>\n",
       "      <td>1616</td>\n",
       "      <td>2</td>\n",
       "    </tr>\n",
       "  </tbody>\n",
       "</table>\n",
       "<p>500 rows × 4 columns</p>\n",
       "</div>"
      ],
      "text/plain": [
       "          word                                lemma     freq  lemma_count\n",
       "0           ამ                   {'\\t', 'ეს', '??'}  1041654            3\n",
       "6           რა   {'\\t', 'რა', 'რა თქმა უნდა', '??'}   418777            4\n",
       "9       უფროსი                   {'უფროსი', 'უფრო'}    23894            2\n",
       "16          და  {'და ასე შემდეგ', '\\t', 'და', '??'}  5410387            4\n",
       "21      მახარა                 {'მახარა', 'ხარება'}       75            2\n",
       "...        ...                                  ...      ...          ...\n",
       "4200   უნუგეშო              {'უნუგეშო', 'ნუგეშება'}      208            2\n",
       "4241     მკიდა                   {'*მკა', 'კიდება'}       12            2\n",
       "4247  მკათათვე                  {'მკათათვე', 'მკა'}       19            2\n",
       "4253    რაშებს                     {'რაშა', 'რაში'}       34            2\n",
       "4279   მუხლები                   {'მუხლა', 'მუხლი'}     1616            2\n",
       "\n",
       "[500 rows x 4 columns]"
      ]
     },
     "execution_count": 25,
     "metadata": {},
     "output_type": "execute_result"
    }
   ],
   "source": [
    "df['lemma_count'] = df['lemma'].apply(lambda x: len(literal_eval(x)))\n",
    "amb_lemmas = df[df['lemma_count'] != 1]\n",
    "print(f'Number of words with ambigious lemmas: {amb_lemmas.shape[0]}')\n",
    "amb_lemmas[:500]"
   ]
  },
  {
   "cell_type": "code",
   "execution_count": 26,
   "id": "afc3d3c1-6852-4209-b4d2-fb43cd0bd20a",
   "metadata": {
    "ExecuteTime": {
     "end_time": "2023-07-03T17:53:41.968533Z",
     "start_time": "2023-07-03T17:53:15.339661Z"
    }
   },
   "outputs": [],
   "source": [
    "count = {}\n",
    "def counter(x):\n",
    "    for lemma in literal_eval(x.lemma):\n",
    "        try:\n",
    "            count[lemma].add(x.word)\n",
    "        except KeyError:\n",
    "            count[lemma] = {x.word}\n",
    "    \n",
    "df[['lemma', 'word']].apply(counter, axis=1)\n",
    "lemmas_frame = pd.DataFrame(count.items(), columns=['lemma', 'lexems'])"
   ]
  },
  {
   "cell_type": "code",
   "execution_count": 27,
   "id": "a26145a3-e72e-493d-966e-161c6757f5fb",
   "metadata": {
    "ExecuteTime": {
     "end_time": "2023-07-03T17:53:42.018430Z",
     "start_time": "2023-07-03T17:53:41.968801Z"
    }
   },
   "outputs": [],
   "source": [
    "lemmas_frame['count'] = lemmas_frame['lexems'].apply(len)"
   ]
  },
  {
   "cell_type": "code",
   "execution_count": 28,
   "id": "918e2f7b-9e3a-4592-81d2-d8b96b670db4",
   "metadata": {
    "ExecuteTime": {
     "end_time": "2023-07-03T17:53:42.046198Z",
     "start_time": "2023-07-03T17:53:42.019972Z"
    }
   },
   "outputs": [
    {
     "name": "stdout",
     "output_type": "stream",
     "text": [
      "Number of unique lemmas 212915\n"
     ]
    },
    {
     "data": {
      "text/html": [
       "<div>\n",
       "<style scoped>\n",
       "    .dataframe tbody tr th:only-of-type {\n",
       "        vertical-align: middle;\n",
       "    }\n",
       "\n",
       "    .dataframe tbody tr th {\n",
       "        vertical-align: top;\n",
       "    }\n",
       "\n",
       "    .dataframe thead th {\n",
       "        text-align: right;\n",
       "    }\n",
       "</style>\n",
       "<table border=\"1\" class=\"dataframe\">\n",
       "  <thead>\n",
       "    <tr style=\"text-align: right;\">\n",
       "      <th></th>\n",
       "      <th>lemma</th>\n",
       "      <th>lexems</th>\n",
       "      <th>count</th>\n",
       "    </tr>\n",
       "  </thead>\n",
       "  <tbody>\n",
       "    <tr>\n",
       "      <th>0</th>\n",
       "      <td>\\t</td>\n",
       "      <td>{შანჟ, ტიგრან, ნივის, ჯარზეით, ფრისისკენ, აზიე...</td>\n",
       "      <td>6824</td>\n",
       "    </tr>\n",
       "    <tr>\n",
       "      <th>2</th>\n",
       "      <td>??</td>\n",
       "      <td>{ტოლსტოიზე, სითბო-სიცივის, ტიგრან, ჯარზეით, და...</td>\n",
       "      <td>2701</td>\n",
       "    </tr>\n",
       "    <tr>\n",
       "      <th>1420</th>\n",
       "      <td>მიცემა</td>\n",
       "      <td>{გაძლევდენ, მიუციათ, მიეცემოდაო, უძლევია, გაძლ...</td>\n",
       "      <td>811</td>\n",
       "    </tr>\n",
       "    <tr>\n",
       "      <th>1001</th>\n",
       "      <td>დაბრუნება</td>\n",
       "      <td>{დავიბრუნოო, -დაბრუნებას, დაგვიბრუნდნენ, დაჰბრ...</td>\n",
       "      <td>680</td>\n",
       "    </tr>\n",
       "    <tr>\n",
       "      <th>276</th>\n",
       "      <td>კითხვა</td>\n",
       "      <td>{ჰკითხეს, გკითხავთ, კითხვებიცა, კითხვად, ეკითხ...</td>\n",
       "      <td>620</td>\n",
       "    </tr>\n",
       "    <tr>\n",
       "      <th>...</th>\n",
       "      <td>...</td>\n",
       "      <td>...</td>\n",
       "      <td>...</td>\n",
       "    </tr>\n",
       "    <tr>\n",
       "      <th>128888</th>\n",
       "      <td>ჩამოწეწილჩამოგლეჯილი</td>\n",
       "      <td>{ჩამოწეწილ-ჩამოგლეჯილი}</td>\n",
       "      <td>1</td>\n",
       "    </tr>\n",
       "    <tr>\n",
       "      <th>128887</th>\n",
       "      <td>არაძალმომრეობა</td>\n",
       "      <td>{არაძალმომრეობის}</td>\n",
       "      <td>1</td>\n",
       "    </tr>\n",
       "    <tr>\n",
       "      <th>128885</th>\n",
       "      <td>ყვავიაშვილი</td>\n",
       "      <td>{ყვავიაშვილი}</td>\n",
       "      <td>1</td>\n",
       "    </tr>\n",
       "    <tr>\n",
       "      <th>128883</th>\n",
       "      <td>დადგმეჳნება</td>\n",
       "      <td>{დაადგმევიენ}</td>\n",
       "      <td>1</td>\n",
       "    </tr>\n",
       "    <tr>\n",
       "      <th>212914</th>\n",
       "      <td>წინასწარმეტყველთაგანნი</td>\n",
       "      <td>{წინასწარმეტყველთაგანნი-}</td>\n",
       "      <td>1</td>\n",
       "    </tr>\n",
       "  </tbody>\n",
       "</table>\n",
       "<p>212915 rows × 3 columns</p>\n",
       "</div>"
      ],
      "text/plain": [
       "                         lemma  \\\n",
       "0                           \\t   \n",
       "2                           ??   \n",
       "1420                    მიცემა   \n",
       "1001                 დაბრუნება   \n",
       "276                     კითხვა   \n",
       "...                        ...   \n",
       "128888    ჩამოწეწილჩამოგლეჯილი   \n",
       "128887          არაძალმომრეობა   \n",
       "128885             ყვავიაშვილი   \n",
       "128883             დადგმეჳნება   \n",
       "212914  წინასწარმეტყველთაგანნი   \n",
       "\n",
       "                                                   lexems  count  \n",
       "0       {შანჟ, ტიგრან, ნივის, ჯარზეით, ფრისისკენ, აზიე...   6824  \n",
       "2       {ტოლსტოიზე, სითბო-სიცივის, ტიგრან, ჯარზეით, და...   2701  \n",
       "1420    {გაძლევდენ, მიუციათ, მიეცემოდაო, უძლევია, გაძლ...    811  \n",
       "1001    {დავიბრუნოო, -დაბრუნებას, დაგვიბრუნდნენ, დაჰბრ...    680  \n",
       "276     {ჰკითხეს, გკითხავთ, კითხვებიცა, კითხვად, ეკითხ...    620  \n",
       "...                                                   ...    ...  \n",
       "128888                            {ჩამოწეწილ-ჩამოგლეჯილი}      1  \n",
       "128887                                  {არაძალმომრეობის}      1  \n",
       "128885                                      {ყვავიაშვილი}      1  \n",
       "128883                                      {დაადგმევიენ}      1  \n",
       "212914                          {წინასწარმეტყველთაგანნი-}      1  \n",
       "\n",
       "[212915 rows x 3 columns]"
      ]
     },
     "execution_count": 28,
     "metadata": {},
     "output_type": "execute_result"
    }
   ],
   "source": [
    "print(f'Number of unique lemmas {len(lemmas_frame)}')\n",
    "lemmas_frame.sort_values(by='count', ascending=False)"
   ]
  },
  {
   "cell_type": "code",
   "execution_count": 29,
   "id": "4319e89a-e67e-4929-a62b-37fe6d65143d",
   "metadata": {
    "ExecuteTime": {
     "end_time": "2023-07-03T17:53:42.054366Z",
     "start_time": "2023-07-03T17:53:42.048141Z"
    }
   },
   "outputs": [],
   "source": [
    "def word_to_lemma(word):\n",
    "    return (df[df['word'] == word]['lemma'].item())\n",
    "    \n",
    "def lemma_to_words(lemma):\n",
    "    return (lemmas_frame[lemmas_frame['lemma'] == lemma]['lexems'].item())\n",
    "    "
   ]
  },
  {
   "cell_type": "markdown",
   "id": "6d38728d-633e-4e98-a157-1183920e0190",
   "metadata": {},
   "source": [
    "რამდენიმე ტიპის ლემები გვხვდება აქ, რომლებიც გადასგდებია: '??' (როგორც ამოუცნობი ლემების შემთხვევაში), '\\t', ლემები რომლებიც რაიმე ფრაზას წარმოადგენს, იმის ნაცვლად, რომ თითო სიტყვას შეესაბამებოდეს. ამასთან ერთად ჩანს ლემებიც, რომელსაც შინაარსობრივი დატვირთვა არ გააჩნია, მიუხედავად იმის, რომ ლემა სიტყვის, რომელიმე ფორმა უნდა იყოს და შესაბამისად ასეთ დიდ კორპუსში ცალკე ხაზადაც უნდა იყოს წარმოდგენილი."
   ]
  },
  {
   "cell_type": "markdown",
   "id": "ba7271c5-bbc2-4b24-bfc5-de7f87b14a4e",
   "metadata": {},
   "source": [
    "ლემები, რომლებიც ცალკეულ სიტყვად კორპუსში არ გვაქ მოცემული:"
   ]
  },
  {
   "cell_type": "code",
   "execution_count": 30,
   "id": "53948d34-0b60-4e3f-8b87-7e00cbd57cd2",
   "metadata": {
    "ExecuteTime": {
     "end_time": "2023-07-03T17:53:51.631311Z",
     "start_time": "2023-07-03T17:53:42.391655Z"
    }
   },
   "outputs": [
    {
     "name": "stdout",
     "output_type": "stream",
     "text": [
      "Number of malformed lemmas: 56096\n"
     ]
    }
   ],
   "source": [
    "lemmas_not_present_as_words = set()\n",
    "words = set(df['word'])\n",
    "def extract(x):\n",
    "    for lemma in literal_eval(x):\n",
    "        if lemma not in words:\n",
    "            lemmas_not_present_as_words.add(lemma)\n",
    "    \n",
    "df['lemma'].apply(extract)\n",
    "print(f'Number of malformed lemmas: {len(lemmas_not_present_as_words)}')"
   ]
  },
  {
   "cell_type": "code",
   "execution_count": 31,
   "id": "407d1d54-5aa0-4cfb-9948-59ba8c2876ef",
   "metadata": {
    "ExecuteTime": {
     "end_time": "2023-07-03T17:53:51.636805Z",
     "start_time": "2023-07-03T17:53:51.633794Z"
    }
   },
   "outputs": [
    {
     "name": "stdout",
     "output_type": "stream",
     "text": [
      "\n",
      "ჩუმქარი\n",
      "თარიმანიშვილი\n",
      "კავშრი\n",
      "მამიანი\n",
      "ოთხასიათასი\n",
      "დაჳდოვი\n",
      "არასაპრეზიდენტოჲ\n",
      "996097\n",
      "ბატონება\n",
      "ევრა\n",
      "636კილომეტრიანი\n",
      "რეფორმისტულ\n",
      "აწუა\n",
      "238000\n",
      "157გვერდიანი\n",
      "ამბრიანი\n",
      "171204\n",
      "გამძვრელი\n",
      "7Eleven\n",
      "ფლორა+ფაუნა\n",
      "360400\n",
      "ობა+კუ\n",
      "104ქვემეხიანი\n",
      "ქვემო ბოლნისი\n",
      "განიორწყლებინება\n",
      "01216\n",
      "ტომრისმაგვარი\n",
      "120250\n",
      "*ტკბარუნება\n",
      "ბიზნეს+ცენტრი\n",
      "5ოთახიანი\n",
      "195364\n",
      "დაქოთქოთი\n",
      "გადაბეჭდვინება\n",
      "ბრედისნაირი\n",
      "აღელუება\n",
      "ჩიქჩიქი\n",
      "14:2229\n",
      "19811993\n",
      "*რაცხვა\n",
      "243.0\n",
      "ახლობლიანი\n",
      "აღალიანი\n",
      "ს+ხათა\n",
      "დვესტია\n",
      "*მარტოვება\n",
      "კენჭაკლდე\n",
      "კვირაძალიანი\n",
      "თათბი\n"
     ]
    }
   ],
   "source": [
    "for i, lemma in enumerate(lemmas_not_present_as_words):\n",
    "    if i == 50:\n",
    "        break\n",
    "    print(lemma)"
   ]
  },
  {
   "cell_type": "code",
   "execution_count": 32,
   "id": "32d3442c-e25f-4ff9-92d5-eef32b61bb1b",
   "metadata": {
    "ExecuteTime": {
     "end_time": "2023-07-03T17:53:51.664270Z",
     "start_time": "2023-07-03T17:53:51.650865Z"
    }
   },
   "outputs": [
    {
     "data": {
      "text/plain": [
       "{'ვაწუხებინებ', 'შეაწუხებინა'}"
      ]
     },
     "execution_count": 32,
     "metadata": {},
     "output_type": "execute_result"
    }
   ],
   "source": [
    "lemma_to_words('შეწუხებინება')"
   ]
  },
  {
   "cell_type": "markdown",
   "id": "6980b686-8320-4c16-8725-e0b69e79c373",
   "metadata": {},
   "source": [
    "არც თუ ისე ცოტა ლემმა ასეთი სახის. თუმცა არ ვარ დარწმუნებული, როგორ უნდა მოვექცეთ ასეთ ლემებს. ზოგიერთი უბრალოდ არ მოიძენბება კორპუსში სავარაუდოდ მათი სიიშვიათიდან გამომდინარე, დანარჩენები კი ან ბოლო ხმოვანია სახეცვლილი მაგ: ზვირთება - ზვირთების ნაცვლად და ა.შ. "
   ]
  },
  {
   "cell_type": "markdown",
   "id": "6b6afc2f-8959-42af-8050-1871423c19d7",
   "metadata": {},
   "source": [
    "რამოდენიმე ლემიანი სიტყვები:"
   ]
  },
  {
   "cell_type": "code",
   "execution_count": 33,
   "id": "f7df96ff-8cb8-430e-a4b7-295bcd632e4d",
   "metadata": {
    "ExecuteTime": {
     "end_time": "2023-07-03T17:53:51.945441Z",
     "start_time": "2023-07-03T17:53:51.765927Z"
    }
   },
   "outputs": [
    {
     "name": "stdout",
     "output_type": "stream",
     "text": [
      "Word: უნდა  Lemma: {'უნდა', '\\t', 'ნდომა'}\n",
      "Word: მინდა  Lemma: {'ნდომა'}\n",
      "Word: გვინდა  Lemma: {'ნდომა'}\n",
      "Lemma: ნდომა Words: {'მდომებია', 'მინდიხარ-მეთქი', '-მინდა', 'მინდოდა', 'ნდომებოდეს', 'გვინდა-თქო', 'გვინდიხართო', 'მინდოდაო', 'გინდოდესთ', 'გინდათო', 'გენდომები', 'გინდოდე', 'უნა', 'ნდომებოდათ', '-გვინდა', 'უნდოდეს-მეთქი', 'ნდომისა', 'უნდოდეს', 'ჰნდომულობს', 'ნდომა', 'გნდომებოდა', 'მინ-და', 'ენდომება', 'გდომებიათ', 'მინდაა', 'ვუნდი', 'ნდომად', 'უნდიხარ', 'ვუნდივარ-მეთქი', 'გვნდომებია', 'ვენდომები', 'გუინდი', '-გინდოდა', 'ვუნდივარო', 'უნდათ-რა', 'უნდათ-მეთქი', 'გვინდოდეს', 'ნდომულობდა', 'უნდა-თქო', 'მინდო-და', 'ნდომის', 'ვუნდოდეთ', 'ენდომებაო', 'მინდა-მეთქი', 'ნდომებს', '-მინდაო', 'მინდებაო', 'ნდომაც', 'ენდომები', 'ნდომისაგან', 'გნდომებიათ', 'უნდოდენ', 'ვდომებივართ', 'მინდა-თქვა', 'მინდოდე', 'მინდოდა-მეთქი', 'უნდათთქო', 'უნდოდით', 'ნდომულობენ', 'უნდოდათ-მეთქი', 'უნდაო', 'მინდიხარ', 'მინდოდეს', 'უნდათრა', 'გინდა-მეთქი', 'ნდომასა', 'სდომებოდეს', 'ვდომებივარ', 'გენდომება', 'გდომებია', 'უნდოდარა', 'ნდომათაგანის', 'გვინდოდა', 'უნდოდა-მეთქი', 'ნდომასაც', 'მინდა-რა', 'გინდა', 'დომებია', 'ნდომაო', 'გვინდაო', 'გინდივართ', 'მდომებოდა', 'უნდება', 'ენდომებოდაო', 'უნდებოდათ', 'გინდოდა', 'უნდათ-თქო', 'ვუნდოდიო', 'გვინდოდი', 'უნდოდათ', 'ენდომებოდათ', 'გინა', 'სდომებიათო', 'უნდოდის', 'უნდი', 'გვნდომებოდა', 'ვუნდოდე', 'უნდა-მეთქი', 'მინდა', 'გინდაცა', 'ნდომებოდა', 'გვინა', 'მინდიხარ-თქო', 'მინდება', 'გინდოდათ', 'მინდარა', 'გინდათ-მეთქი', 'უნდათ', 'ნდომებიაო', 'გინდოდესო', 'გინდა-რა', 'ნდომისათვის', 'ნდომისგან', 'ენდომებათ', 'ნდომაზე', 'ვუნდოდით', 'გენდომებით', 'უნდათო', 'ვდომებოდი', 'მინდოდათქო', 'ვენდომებიო', 'გინდი', 'ნდომით', 'გვინდით', 'ნდომამაც', 'გვინდოდესო', 'ნდომათა', 'მნდომებოდა', 'გინდოდი', 'ენდომება-მეთქი', 'მინდიხართო', 'უნდიხარო', 'სდომებიათ', 'ვუნდოდი', 'გვინდიხარ', 'გინდოდით', 'გენდომებოდათ', 'ვუნდივარ', 'ნდომებია', 'უნდებათ', 'სდომებიაო', 'მინდათქო', 'გენდომებათ', 'უნდოდა', 'გვინდიხარო', 'უნდა', 'გინდივარ', 'მინდიხართ', 'გინდოდათო', 'ენდომებოდა', 'გვდომებია', 'ნდომაში', 'გინდოდეთო', 'ნდომაა', 'გინდოდეთ', 'უნდოდეთ-მეთქი', 'უნდიხართ', 'გინდაო', 'გინდაა', 'გინდოდა-მეთქი', 'ნდომას', 'უნდოდი', 'უნდოდესო', 'უნდოდაო', 'გინდათ', 'გინდივარო', 'გნდომებია', 'გინდოდაო', 'მინდა-თქო', '-გინდა', 'მინდამეთქი', 'გდომებიათო', 'გდომებიაო', 'გვინდოდაო', 'გინდა-თქვა', 'უნდაა', 'გუინი', 'უნდოდათო', 'გვინდა-მეთქი', 'ნდომულობს', 'გვინდა', 'მინდოდა-რა', 'გვენდომებოდა', 'უნ-დოდა', 'გვინდიხართ', 'სდომებია', 'ვუნდივართ', 'მინდოდის', 'ვენდომებით', 'გინდოდეს', 'მნდომებია', 'გდომებოდათ', 'გდომებოდა', 'ნდომამ', 'მენდომება', 'მინდიხარო', 'ნდომასთან', 'გვდომებოდა', 'ვუნდივართო', 'უნდოდე', 'გენდომებოდაო', 'სდომებოდა', 'გვენდომება', 'გინდივართო', 'მინდა-რაო', 'ნდომანი', 'მინდაო', 'გვინდაღა', 'გინდება', 'ნდომისგანაც', 'გინდა-თქო', 'ნდომაზეა', 'გინ-და', 'უნდოდა-თქვა', 'მინდოდით', 'ნდომითა', 'უნდოდათ-რა', 'გენდომებოდა', 'სდომებოდათ', 'მინდოდი', 'მენდომებაო', 'მდომებოდა-მეთქი', 'უნდიხართო', 'მინარე', 'უნდოდეთ', 'გვინდა-რა', 'ნდომებიათ', 'ნდომამა', 'უნდოდა-რა'}\n",
      "Lemma: ნდომა Words: {'უნდა-მეთქი', 'უნდა-თქო', 'უნ-და', 'უნდაც', 'უნდაში', '-უნდა', 'უნდარა', 'უნდაო', 'უნდა-რა', 'უნდა', 'უნდას'}\n"
     ]
    }
   ],
   "source": [
    "print(f\"Word: უნდა  Lemma: {word_to_lemma('უნდა')}\")\n",
    "print(f\"Word: მინდა  Lemma: {word_to_lemma('მინდა')}\")\n",
    "print(f\"Word: გვინდა  Lemma: {word_to_lemma('გვინდა')}\")\n",
    "print(f\"Lemma: ნდომა Words: {lemma_to_words('ნდომა')}\")\n",
    "print(f\"Lemma: ნდომა Words: {lemma_to_words('უნდა')}\")"
   ]
  },
  {
   "cell_type": "markdown",
   "id": "63e251cc-d2c7-4e3d-ab7e-8133208815f4",
   "metadata": {},
   "source": [
    "ყველა ლემა ქმნის ლექსემების ჯგუფს, თუმცა რამოდენიმე ლემას კორპუსში აქვს თანაკვეთა ლექსემების სიაში, რაც ბუნდოვანს ხდის, რომელ ჯგუფს უნდა ეკუთვნოდეს, რეალურად ესა თუ ის სიტყვა. გაერთიანებული უნდა იყოს ეს ჯგუფები თუ განცალკევებული ერთმანეთისგან."
   ]
  },
  {
   "cell_type": "code",
   "execution_count": 34,
   "id": "cbcaca84-0ffd-4b26-b676-e4c48869e4f4",
   "metadata": {
    "ExecuteTime": {
     "end_time": "2023-07-03T17:53:51.973171Z",
     "start_time": "2023-07-03T17:53:51.956063Z"
    }
   },
   "outputs": [],
   "source": [
    "set1 = lemma_to_words('ნდომა')\n",
    "set2 = lemma_to_words('უნდა')"
   ]
  },
  {
   "cell_type": "code",
   "execution_count": 35,
   "id": "f556ad90-3086-467d-a1f6-a6db8e7102d6",
   "metadata": {
    "ExecuteTime": {
     "end_time": "2023-07-03T17:53:51.979232Z",
     "start_time": "2023-07-03T17:53:51.972362Z"
    }
   },
   "outputs": [
    {
     "name": "stdout",
     "output_type": "stream",
     "text": [
      "difference 7\n",
      "intersection 4\n",
      "{'უნ-და', 'უნდაც', 'უნდაში', '-უნდა', 'უნდარა', 'უნდა-რა', 'უნდას'}\n",
      "{'უნდა-მეთქი', 'უნდა', 'უნდა-თქო', 'უნდაო'}\n"
     ]
    }
   ],
   "source": [
    "diff = set2.difference(set1)\n",
    "inter = set2.intersection(set1)\n",
    "print(f'difference {len(diff)}')\n",
    "print(f'intersection {len(inter)}')\n",
    "print(diff)\n",
    "print(inter)"
   ]
  },
  {
   "cell_type": "code",
   "execution_count": 36,
   "id": "53b545d7-ed65-4661-bf9d-cf3f6910ebce",
   "metadata": {
    "ExecuteTime": {
     "end_time": "2023-07-03T17:53:52.005846Z",
     "start_time": "2023-07-03T17:53:51.998672Z"
    }
   },
   "outputs": [],
   "source": [
    "set1 = lemma_to_words('ჭა')\n",
    "set2 = lemma_to_words('ჭამა')"
   ]
  },
  {
   "cell_type": "code",
   "execution_count": 37,
   "id": "7084dc1e-cb91-4c5b-8cfd-147f00ed6d37",
   "metadata": {
    "ExecuteTime": {
     "end_time": "2023-07-03T17:53:52.013735Z",
     "start_time": "2023-07-03T17:53:52.010701Z"
    }
   },
   "outputs": [
    {
     "name": "stdout",
     "output_type": "stream",
     "text": [
      "difference 331\n",
      "intersection 5\n",
      "{'შევუჭამდი', 'შემიჭამენო', 'ჭამაცა', 'სჭამდეს', 'შეგიჭამიათ', 'ჭამაზეა', 'დაგიჭამიათ', 'მჭამს', 'გჭამს', 'გვჭამდა', 'შემიჭამა', 'სჭამდა', 'სჭამდენ', 'სჭამეო', 'სჭამენ', 'ჭამდენ', 'სჭამოს', 'ჭამისთვის', 'ჭამაშიაც', 'ჭამს', 'შეგიჭამია', 'დაუჭამს', 'სჭამენო', 'ეჭმება', 'ჭამოთ', 'დამიჭამაო', 'აჭამო', 'გამოეჭამა', 'ჭამისას', 'ვჭამოთ-მეთქი', 'ჭამაც', 'გიჭამით', 'გადაუჭამიაო', 'მოგვიჭამია', 'გამოუჭამეს', 'სჭამდაო', 'ჭამესო', 'ჭამთ', 'ჭამოთო', 'შეგვიჭამდა', 'ჭამე-მეთქი', 'მაჭამდნენ', 'ჭამოსო', 'ამოუჭამია', 'ჭამისკენ', 'ვაჭამდი', 'იჭამენ', 'სჭამდათ', 'ჭამე-ო', 'მოეჭამა', 'მიჭამია-რაო', 'იჭამდნენ', 'სჭამდესო', 'ამოგვეჭამა', 'შემიჭამთ', 'შეგვიჭამეს', 'გვჭამთ', 'ვიჭამთ', 'შეგვიჭამა', 'იჭამსო', 'ჭამოს', 'ჭამენ-მეთქი', 'შეუჭამ', 'ჭამასავით', 'შემეჭამა', 'ჭამო-მეთქი', 'დამიჭამეს', 'ჭამა-მეთქი', 'ჭამისაკენ', 'ჭამაღა', 'გადაგვიჭამა', 'შეუჭამია', 'უჭამია', 'შემიჭამეთ', 'გამოუჭამიათ-მეთქი', 'ვჭამო', 'შეგვიჭამია', 'ჭამამდის', 'სჭამდეო', 'ჭამასა', 'მჭამე', 'მომიჭამია', 'ჭამაშიც', 'შევუჭამე', 'ვიჭამდე', 'შეგვიჭამონ', 'აჭამდა', 'ჭამამდე', 'იჭმებოდეს', 'ჭამამდეც', 'ვჭამდეთ', 'ჭამითო', 'ჭამისათვის', 'ჭამასაც', 'მჭამოს', 'გჭამენ', 'ჭამდნენ', 'წაეჭამათ', 'ვჭამთო', 'ამოგიჭამა', 'გადაგვიჭამს', 'ჰსჭამდნენ', 'მოგიჭამიათ', 'შემიჭამეს', 'სჭამდეთ', 'წავუჭამე', 'მჭამო', 'ჭამაო', 'ჭამენო', 'შემიჭამაო', 'ჭამამ', 'სჭამეთ', 'ჭამდნენო', 'შეუჭამათ', 'ვჭამოთო', 'ვჭამეთქო', 'შეგვიჭამდნენ', 'ვჭამე', 'ჭამაზედ', 'ვჭამოო', 'ჭამეთო', 'მოეჭამათ', 'სჭამთ', 'სჭამდით', 'შევუჭამივარ', 'დაგვეჭამა', 'მჭამთ', 'სჭამსო', 'შევეჭამე', 'გვჭამენ', 'შეუჭამიხარ', 'სჭამე', 'ჰსჭამენ', 'ჭამით', 'ვჭამდი', 'ვჭამო-მეთქი', 'ჭამაზეც', 'გამოგვიჭამს', 'დაგიჭამა', 'შეუჭამე', 'გიჭამიათო', 'დაუჭამიათ', 'სჭამეს', 'შეგიჭამენ', 'გადაეჭამა', 'შეუჭამიათ', 'წაგიჭამია', 'ჭამასო', 'მიჭამიაო', 'ჭამაზედაც', 'შეგვიჭამს', 'ვსჭამთ', 'დაუჭამა', 'უჭამიათ', 'გამოუჭამია', 'ჭამისო', 'გამოუჭამდნენ', 'ჭამაზე', 'დამიჭამოს', 'ჭამოს-მეთქი', 'სჭამა', 'მჭამსო', 'იჭამს', 'ამოუჭამა', 'ჭამადაც', 'ამოუჭამათ', 'ჭამანი', 'გვიჭამიაო', 'შეეჭამნეს', 'ვსჭამდე', 'ჭამისაც', 'მჭამდნენ', 'სჭამთო', 'ჭამას', 'ჭამის', 'იჭამ', 'შემიჭამდი', 'შეგიჭამს', 'შევუჭამო', 'აჭამდნენ', 'ვჭამეო', 'ჭამამა', 'ჭამისთანავე', 'შეგიჭამა', 'დაეჭამათ', 'ჭამნო', 'გვაჭამო', 'შეუჭამოთ', 'მოუჭამია', 'შეგიჭამეს', 'ვსჭამ', 'ამომიჭამია', 'ჭამაშიაო', 'ვჭამეთ', 'ჭამიდან', 'ჭამაა', 'დაგვიჭამია', 'იჭმებაო', 'ჭამდაო', 'შემიჭამდიო', 'ვჭამდითო', 'შეგიჭამონ', 'სჭამდნენ', 'ჭამად', 'შემიჭამენ', 'ვაჭამო', 'შეგვეჭამა', 'სჭამს', 'დაუჭამეს', 'უჭამიაო', 'ჭამაშია', 'შევუჭამივართ', 'ვჭამოთ', 'ჭამსო', 'შეეჭამათ', 'ვჭამ-მეთქი', 'გვჭამდნენ', 'შემიჭამოს', 'ვჭამე-მეთქი', 'გიჭამიაო', 'შეგიჭამთ', 'შევუჭამ', 'ვჭამთ', 'ვსჭამო', 'ვსჭამოთო', 'სჭამოთო', 'ჭამდით', 'ჭამისა', 'შემიჭამია-რა', 'დამიჭამა', 'ჰჭამდი', 'შეუჭამოს', 'სჭამდი', 'სჭამოთ', 'გჭამენო', 'ეჭმებოდა', 'ჰსჭამეთ', 'ჭამედ', 'შეუჭამა', 'დაეჭამა', 'შეუჭამესო', 'ვსჭამეო', 'ჭამისადმი', 'ამოეჭამნა', 'შეუჭამეთ', 'ჭამდეს', 'ჭამე', 'გაჭამო', 'ჭამასთან', 'იჭმებოდა', 'ვჭამდე', 'სჭამო', 'გვჭამეთ', 'ამოგიჭამს', 'უჭამნია', 'შევუჭამთ', 'ჭამათ', 'აჭამენ', 'შეუჭამიაო', 'ამოეჭამა', 'ჰსჭამდა', 'მიჭამია', 'მოუჭამიაო', 'ჭამენ', 'ჭამონო', 'იჭმება', 'სჭამდე', 'შეგიჭამიაო', 'გჭამოთო', 'იჭამდა', 'ჭამაში', 'გვჭამს', 'შემიჭამს', 'გვიჭამია', 'ჭამითაც', 'ჭამეთქო', 'გიჭამია', 'ჭამისაგან', 'ჭამდა', 'ჭამონ', 'შემიჭამია', 'შეუჭამიხარო', 'ჭამეს', 'შეუჭამეს', 'ვსჭამდი', 'შემიჭამდა', 'გვჭამოს', 'სჭამდნენო', 'შეუჭამს', 'შეგიჭამ', 'ჭამისთვისაც', 'დაუჭამია', 'დავეჭამეთ', 'გვჭამონ', 'ჭამეო', 'ვჭამეთო', 'გვჭამდეს', 'ჭამდესო', 'მიჭამაო', 'ჭამეთ', 'გიჭამიათ', 'სჭამ', 'უჭამიარა', 'შეეჭამა', 'ჭამისგან', 'ჭამითა', 'ვჭამოთ-თქო', 'მოეჭამნა', 'შეუჭამიხართ', 'გვიჭამია-რა', 'ვჭამდიო', 'შეგიჭამოთ', 'ჭამ-მეთქი', 'ვჭამ', 'მოგვიჭამდეს', 'გჭამდა', 'მჭამენ', 'ჭამთო', 'შემიჭამე', 'მჭამ', 'შეეჭამნა', 'სჭამონ', 'ვჭამდით', 'შეეჭამა-თქო', 'შეგიჭამე', 'მჭამეთ', 'მოუჭამიათ', 'მჭამდა', 'ჭამოო', 'ჰსჭამსო', 'შევუჭამეთ'}\n",
      "{'ჭამდე', 'ჭამო', 'ჭამა', 'ჭამ', 'ჭამდი'}\n"
     ]
    }
   ],
   "source": [
    "diff = set2.difference(set1)\n",
    "inter = set2.intersection(set1)\n",
    "print(f'difference {len(diff)}')\n",
    "print(f'intersection {len(inter)}')\n",
    "print(diff)\n",
    "print(inter)"
   ]
  },
  {
   "cell_type": "markdown",
   "id": "23b5cf46-0d9a-4f86-94aa-705788b8b38d",
   "metadata": {},
   "source": [
    "ამ ყველაფრის მიუხედავ, არის რაღაცეები რისგანაც მაინც შეგვიზლია გავწმინდოთ ლემები მაგალითად. '??' ან '\\t'"
   ]
  },
  {
   "cell_type": "code",
   "execution_count": 38,
   "id": "2fcb846a-3185-4cab-9270-01b2676c6088",
   "metadata": {
    "ExecuteTime": {
     "end_time": "2023-07-03T17:55:29.774364Z",
     "start_time": "2023-07-03T17:53:52.053646Z"
    }
   },
   "outputs": [
    {
     "data": {
      "text/html": [
       "<div>\n",
       "<style scoped>\n",
       "    .dataframe tbody tr th:only-of-type {\n",
       "        vertical-align: middle;\n",
       "    }\n",
       "\n",
       "    .dataframe tbody tr th {\n",
       "        vertical-align: top;\n",
       "    }\n",
       "\n",
       "    .dataframe thead th {\n",
       "        text-align: right;\n",
       "    }\n",
       "</style>\n",
       "<table border=\"1\" class=\"dataframe\">\n",
       "  <thead>\n",
       "    <tr style=\"text-align: right;\">\n",
       "      <th></th>\n",
       "      <th>word</th>\n",
       "      <th>lemma</th>\n",
       "      <th>freq</th>\n",
       "      <th>lemma_count</th>\n",
       "    </tr>\n",
       "  </thead>\n",
       "  <tbody>\n",
       "    <tr>\n",
       "      <th>0</th>\n",
       "      <td>ამ</td>\n",
       "      <td>{'ეს'}</td>\n",
       "      <td>1041654</td>\n",
       "      <td>1</td>\n",
       "    </tr>\n",
       "    <tr>\n",
       "      <th>1</th>\n",
       "      <td>ზამთრის</td>\n",
       "      <td>{'ზამთარი'}</td>\n",
       "      <td>8035</td>\n",
       "      <td>1</td>\n",
       "    </tr>\n",
       "    <tr>\n",
       "      <th>2</th>\n",
       "      <td>მიწურულს</td>\n",
       "      <td>{'მიწურული'}</td>\n",
       "      <td>5976</td>\n",
       "      <td>1</td>\n",
       "    </tr>\n",
       "    <tr>\n",
       "      <th>3</th>\n",
       "      <td>თითქმის</td>\n",
       "      <td>{'თითქმის'}</td>\n",
       "      <td>62608</td>\n",
       "      <td>1</td>\n",
       "    </tr>\n",
       "    <tr>\n",
       "      <th>4</th>\n",
       "      <td>სასოწარკვეთილი</td>\n",
       "      <td>{'სასოწარკვეთილი'}</td>\n",
       "      <td>844</td>\n",
       "      <td>1</td>\n",
       "    </tr>\n",
       "    <tr>\n",
       "      <th>...</th>\n",
       "      <td>...</td>\n",
       "      <td>...</td>\n",
       "      <td>...</td>\n",
       "      <td>...</td>\n",
       "    </tr>\n",
       "    <tr>\n",
       "      <th>95</th>\n",
       "      <td>შუბლზე</td>\n",
       "      <td>{'შუბლი'}</td>\n",
       "      <td>1697</td>\n",
       "      <td>1</td>\n",
       "    </tr>\n",
       "    <tr>\n",
       "      <th>96</th>\n",
       "      <td>ვაკოცე</td>\n",
       "      <td>{'კოცნა'}</td>\n",
       "      <td>174</td>\n",
       "      <td>1</td>\n",
       "    </tr>\n",
       "    <tr>\n",
       "      <th>97</th>\n",
       "      <td>როგორც</td>\n",
       "      <td>{'როგორც'}</td>\n",
       "      <td>478016</td>\n",
       "      <td>1</td>\n",
       "    </tr>\n",
       "    <tr>\n",
       "      <th>98</th>\n",
       "      <td>ჩანს</td>\n",
       "      <td>{'ჩანი', '*ჩენა'}</td>\n",
       "      <td>57172</td>\n",
       "      <td>2</td>\n",
       "    </tr>\n",
       "    <tr>\n",
       "      <th>99</th>\n",
       "      <td>მაშინ</td>\n",
       "      <td>{'მაშინ'}</td>\n",
       "      <td>154162</td>\n",
       "      <td>1</td>\n",
       "    </tr>\n",
       "  </tbody>\n",
       "</table>\n",
       "<p>100 rows × 4 columns</p>\n",
       "</div>"
      ],
      "text/plain": [
       "              word               lemma     freq  lemma_count\n",
       "0               ამ              {'ეს'}  1041654            1\n",
       "1          ზამთრის         {'ზამთარი'}     8035            1\n",
       "2         მიწურულს        {'მიწურული'}     5976            1\n",
       "3          თითქმის         {'თითქმის'}    62608            1\n",
       "4   სასოწარკვეთილი  {'სასოწარკვეთილი'}      844            1\n",
       "..             ...                 ...      ...          ...\n",
       "95          შუბლზე           {'შუბლი'}     1697            1\n",
       "96          ვაკოცე           {'კოცნა'}      174            1\n",
       "97          როგორც          {'როგორც'}   478016            1\n",
       "98            ჩანს   {'ჩანი', '*ჩენა'}    57172            2\n",
       "99           მაშინ           {'მაშინ'}   154162            1\n",
       "\n",
       "[100 rows x 4 columns]"
      ]
     },
     "execution_count": 38,
     "metadata": {},
     "output_type": "execute_result"
    }
   ],
   "source": [
    "def clean(x):\n",
    "    word = x.word\n",
    "    lemmas = x.lemma\n",
    "    bad_lemma_patterns = re.compile(r'\\?\\?|\\t')\n",
    "    new_lemmas = set()\n",
    "    for lemma in literal_eval(lemmas):\n",
    "        try:\n",
    "            if bad_lemma_patterns.search(lemma) is not None:\n",
    "                continue\n",
    "            words = lemma.split()\n",
    "            if words is not None and len(words) > 1:\n",
    "                continue\n",
    "        except Exception:\n",
    "            pass\n",
    "        new_lemmas.add(lemma)\n",
    "    x['lemma'] = str(new_lemmas)\n",
    "    x['lemma_count'] = len(new_lemmas)\n",
    "    return x\n",
    "\n",
    "cleaned_df = df.apply(lambda x: clean(x), axis=1)\n",
    "cleaned_df[:100]"
   ]
  },
  {
   "cell_type": "code",
   "execution_count": 39,
   "id": "d6285de5-79b0-4ba3-ae5b-0f4e0299611e",
   "metadata": {
    "ExecuteTime": {
     "end_time": "2023-07-03T17:55:29.932254Z",
     "start_time": "2023-07-03T17:55:29.773479Z"
    }
   },
   "outputs": [
    {
     "name": "stdout",
     "output_type": "stream",
     "text": [
      "Number of words with ambigious lemmas: 18138\n"
     ]
    },
    {
     "data": {
      "text/html": [
       "<div>\n",
       "<style scoped>\n",
       "    .dataframe tbody tr th:only-of-type {\n",
       "        vertical-align: middle;\n",
       "    }\n",
       "\n",
       "    .dataframe tbody tr th {\n",
       "        vertical-align: top;\n",
       "    }\n",
       "\n",
       "    .dataframe thead th {\n",
       "        text-align: right;\n",
       "    }\n",
       "</style>\n",
       "<table border=\"1\" class=\"dataframe\">\n",
       "  <thead>\n",
       "    <tr style=\"text-align: right;\">\n",
       "      <th></th>\n",
       "      <th>word</th>\n",
       "      <th>lemma</th>\n",
       "      <th>freq</th>\n",
       "      <th>lemma_count</th>\n",
       "    </tr>\n",
       "  </thead>\n",
       "  <tbody>\n",
       "    <tr>\n",
       "      <th>9</th>\n",
       "      <td>უფროსი</td>\n",
       "      <td>{'უფროსი', 'უფრო'}</td>\n",
       "      <td>23894</td>\n",
       "      <td>2</td>\n",
       "    </tr>\n",
       "    <tr>\n",
       "      <th>21</th>\n",
       "      <td>მახარა</td>\n",
       "      <td>{'მახარა', 'ხარება'}</td>\n",
       "      <td>75</td>\n",
       "      <td>2</td>\n",
       "    </tr>\n",
       "    <tr>\n",
       "      <th>25</th>\n",
       "      <td>შეხვდა</td>\n",
       "      <td>{'შეხვედრა', 'შეხვდომა'}</td>\n",
       "      <td>19596</td>\n",
       "      <td>2</td>\n",
       "    </tr>\n",
       "    <tr>\n",
       "      <th>28</th>\n",
       "      <td>პირველივე</td>\n",
       "      <td>{'პირველიივე', 'პირველივე'}</td>\n",
       "      <td>8989</td>\n",
       "      <td>2</td>\n",
       "    </tr>\n",
       "    <tr>\n",
       "      <th>34</th>\n",
       "      <td>ამბით</td>\n",
       "      <td>{'ამბა', 'ამბავი'}</td>\n",
       "      <td>840</td>\n",
       "      <td>2</td>\n",
       "    </tr>\n",
       "    <tr>\n",
       "      <th>44</th>\n",
       "      <td>არის</td>\n",
       "      <td>{'ყოფნა', 'არე'}</td>\n",
       "      <td>582792</td>\n",
       "      <td>2</td>\n",
       "    </tr>\n",
       "    <tr>\n",
       "      <th>51</th>\n",
       "      <td>ვიცნობთ</td>\n",
       "      <td>{'ცნობა', '*ცნობა'}</td>\n",
       "      <td>1052</td>\n",
       "      <td>2</td>\n",
       "    </tr>\n",
       "    <tr>\n",
       "      <th>61</th>\n",
       "      <td>შენ</td>\n",
       "      <td>{'შენ', 'შენი'}</td>\n",
       "      <td>62211</td>\n",
       "      <td>2</td>\n",
       "    </tr>\n",
       "    <tr>\n",
       "      <th>62</th>\n",
       "      <td>მხოლოდ</td>\n",
       "      <td>{'მხოლო', 'მხოლოდ'}</td>\n",
       "      <td>298169</td>\n",
       "      <td>2</td>\n",
       "    </tr>\n",
       "    <tr>\n",
       "      <th>65</th>\n",
       "      <td>მერედა</td>\n",
       "      <td>{'მერე', 'მერედა'}</td>\n",
       "      <td>1223</td>\n",
       "      <td>2</td>\n",
       "    </tr>\n",
       "    <tr>\n",
       "      <th>91</th>\n",
       "      <td>ჩემს</td>\n",
       "      <td>{'მე', 'ჩემი'}</td>\n",
       "      <td>72189</td>\n",
       "      <td>2</td>\n",
       "    </tr>\n",
       "    <tr>\n",
       "      <th>93</th>\n",
       "      <td>დადგა</td>\n",
       "      <td>{'დადგომა', 'დადგმა'}</td>\n",
       "      <td>13715</td>\n",
       "      <td>2</td>\n",
       "    </tr>\n",
       "    <tr>\n",
       "      <th>98</th>\n",
       "      <td>ჩანს</td>\n",
       "      <td>{'ჩანი', '*ჩენა'}</td>\n",
       "      <td>57172</td>\n",
       "      <td>2</td>\n",
       "    </tr>\n",
       "    <tr>\n",
       "      <th>134</th>\n",
       "      <td>შორის</td>\n",
       "      <td>{'შორი', 'შორის'}</td>\n",
       "      <td>244634</td>\n",
       "      <td>2</td>\n",
       "    </tr>\n",
       "    <tr>\n",
       "      <th>156</th>\n",
       "      <td>ჩვენს</td>\n",
       "      <td>{'ჩვენი', 'ჩვენ'}</td>\n",
       "      <td>108145</td>\n",
       "      <td>2</td>\n",
       "    </tr>\n",
       "    <tr>\n",
       "      <th>177</th>\n",
       "      <td>ერთად</td>\n",
       "      <td>{'ერთა', 'ერთი', 'ერთად', 'ერი'}</td>\n",
       "      <td>151071</td>\n",
       "      <td>4</td>\n",
       "    </tr>\n",
       "    <tr>\n",
       "      <th>178</th>\n",
       "      <td>ვართ</td>\n",
       "      <td>{'ყოფნა', 'ვარი'}</td>\n",
       "      <td>51649</td>\n",
       "      <td>2</td>\n",
       "    </tr>\n",
       "    <tr>\n",
       "      <th>182</th>\n",
       "      <td>შემდეგ</td>\n",
       "      <td>{'შემდეგი', 'შემდეგ'}</td>\n",
       "      <td>396135</td>\n",
       "      <td>2</td>\n",
       "    </tr>\n",
       "    <tr>\n",
       "      <th>190</th>\n",
       "      <td>მანძილზე</td>\n",
       "      <td>{'მანძილი', 'მანძილზე'}</td>\n",
       "      <td>32071</td>\n",
       "      <td>2</td>\n",
       "    </tr>\n",
       "    <tr>\n",
       "      <th>191</th>\n",
       "      <td>მის</td>\n",
       "      <td>{'მისი', 'ის'}</td>\n",
       "      <td>183573</td>\n",
       "      <td>2</td>\n",
       "    </tr>\n",
       "    <tr>\n",
       "      <th>204</th>\n",
       "      <td>გეგმავდა</td>\n",
       "      <td>{'*გეგმვა', 'დაგეგმვა'}</td>\n",
       "      <td>1649</td>\n",
       "      <td>2</td>\n",
       "    </tr>\n",
       "    <tr>\n",
       "      <th>214</th>\n",
       "      <td>პირველად</td>\n",
       "      <td>{'პირველად', 'პირველი', 'პირველადი'}</td>\n",
       "      <td>38138</td>\n",
       "      <td>3</td>\n",
       "    </tr>\n",
       "    <tr>\n",
       "      <th>216</th>\n",
       "      <td>პირველი</td>\n",
       "      <td>{'პირველი', 'პირველ'}</td>\n",
       "      <td>148578</td>\n",
       "      <td>2</td>\n",
       "    </tr>\n",
       "    <tr>\n",
       "      <th>217</th>\n",
       "      <td>იყო</td>\n",
       "      <td>{'ყოფნა', 'იყო'}</td>\n",
       "      <td>624156</td>\n",
       "      <td>2</td>\n",
       "    </tr>\n",
       "    <tr>\n",
       "      <th>218</th>\n",
       "      <td>ვინაც</td>\n",
       "      <td>{'ვინ', 'ვინა'}</td>\n",
       "      <td>2305</td>\n",
       "      <td>2</td>\n",
       "    </tr>\n",
       "    <tr>\n",
       "      <th>222</th>\n",
       "      <td>მეუღლის</td>\n",
       "      <td>{'მეუღლე', 'მოღლა'}</td>\n",
       "      <td>4718</td>\n",
       "      <td>2</td>\n",
       "    </tr>\n",
       "    <tr>\n",
       "      <th>224</th>\n",
       "      <td>უმცროსი</td>\n",
       "      <td>{'უმცროსი', 'უმცრო'}</td>\n",
       "      <td>3941</td>\n",
       "      <td>2</td>\n",
       "    </tr>\n",
       "    <tr>\n",
       "      <th>231</th>\n",
       "      <td>ამბის</td>\n",
       "      <td>{'ამბა', 'ამბავი'}</td>\n",
       "      <td>2873</td>\n",
       "      <td>2</td>\n",
       "    </tr>\n",
       "    <tr>\n",
       "      <th>232</th>\n",
       "      <td>გარდაცვალების</td>\n",
       "      <td>{'გარდაცვალება', 'გარდაცვლა'}</td>\n",
       "      <td>8056</td>\n",
       "      <td>2</td>\n",
       "    </tr>\n",
       "    <tr>\n",
       "      <th>233</th>\n",
       "      <td>შესახებ</td>\n",
       "      <td>{'შესახები', 'შესახებ'}</td>\n",
       "      <td>218762</td>\n",
       "      <td>2</td>\n",
       "    </tr>\n",
       "    <tr>\n",
       "      <th>258</th>\n",
       "      <td>მესამედ</td>\n",
       "      <td>{'მესამედი', 'მესამე'}</td>\n",
       "      <td>3164</td>\n",
       "      <td>2</td>\n",
       "    </tr>\n",
       "    <tr>\n",
       "      <th>263</th>\n",
       "      <td>ყურებს</td>\n",
       "      <td>{'ყურა', 'ყური'}</td>\n",
       "      <td>566</td>\n",
       "      <td>2</td>\n",
       "    </tr>\n",
       "    <tr>\n",
       "      <th>278</th>\n",
       "      <td>ჩვენ</td>\n",
       "      <td>{'ჩვენი', 'ჩვენ'}</td>\n",
       "      <td>289594</td>\n",
       "      <td>2</td>\n",
       "    </tr>\n",
       "    <tr>\n",
       "      <th>281</th>\n",
       "      <td>ვესაუბრებით</td>\n",
       "      <td>{'საუბრება', 'საუბარი'}</td>\n",
       "      <td>559</td>\n",
       "      <td>2</td>\n",
       "    </tr>\n",
       "    <tr>\n",
       "      <th>285</th>\n",
       "      <td>მესტუმრებიან</td>\n",
       "      <td>{'სტუმრება', '*სტუმრება'}</td>\n",
       "      <td>12</td>\n",
       "      <td>2</td>\n",
       "    </tr>\n",
       "    <tr>\n",
       "      <th>288</th>\n",
       "      <td>დაწვრილებით</td>\n",
       "      <td>{'დაწვრილებით', 'დაწვრილებითი', 'დაწვრილება'}</td>\n",
       "      <td>4119</td>\n",
       "      <td>3</td>\n",
       "    </tr>\n",
       "    <tr>\n",
       "      <th>293</th>\n",
       "      <td>არა</td>\n",
       "      <td>{'არა', 'არ'}</td>\n",
       "      <td>396486</td>\n",
       "      <td>2</td>\n",
       "    </tr>\n",
       "    <tr>\n",
       "      <th>296</th>\n",
       "      <td>ძალიან</td>\n",
       "      <td>{'ძალიან', 'ძალიანი'}</td>\n",
       "      <td>250474</td>\n",
       "      <td>2</td>\n",
       "    </tr>\n",
       "    <tr>\n",
       "      <th>308</th>\n",
       "      <td>დამრჩენია</td>\n",
       "      <td>{'დამრჩენი', 'დარჩენა'}</td>\n",
       "      <td>529</td>\n",
       "      <td>2</td>\n",
       "    </tr>\n",
       "    <tr>\n",
       "      <th>309</th>\n",
       "      <td>ვთხოვო</td>\n",
       "      <td>{'თხოვნა', '*თხოვნა'}</td>\n",
       "      <td>593</td>\n",
       "      <td>2</td>\n",
       "    </tr>\n",
       "    <tr>\n",
       "      <th>311</th>\n",
       "      <td>ჩემზე</td>\n",
       "      <td>{'მე', 'ჩემი'}</td>\n",
       "      <td>8326</td>\n",
       "      <td>2</td>\n",
       "    </tr>\n",
       "    <tr>\n",
       "      <th>344</th>\n",
       "      <td>მეყიდა</td>\n",
       "      <td>{'ყიდვა', 'მოყიდვა'}</td>\n",
       "      <td>168</td>\n",
       "      <td>2</td>\n",
       "    </tr>\n",
       "    <tr>\n",
       "      <th>376</th>\n",
       "      <td>ვიხევ</td>\n",
       "      <td>{'დახევა', '*ხევა'}</td>\n",
       "      <td>34</td>\n",
       "      <td>2</td>\n",
       "    </tr>\n",
       "    <tr>\n",
       "      <th>379</th>\n",
       "      <td>გაჭირვებით</td>\n",
       "      <td>{'გაჭირვებით', 'გაჭირვება'}</td>\n",
       "      <td>1289</td>\n",
       "      <td>2</td>\n",
       "    </tr>\n",
       "    <tr>\n",
       "      <th>391</th>\n",
       "      <td>ხელებს</td>\n",
       "      <td>{'ხელი', 'ხელა'}</td>\n",
       "      <td>2767</td>\n",
       "      <td>2</td>\n",
       "    </tr>\n",
       "    <tr>\n",
       "      <th>393</th>\n",
       "      <td>ასხამენ</td>\n",
       "      <td>{'დასხმა', '*სხმა', 'ასხმა'}</td>\n",
       "      <td>418</td>\n",
       "      <td>3</td>\n",
       "    </tr>\n",
       "    <tr>\n",
       "      <th>398</th>\n",
       "      <td>პირიქით</td>\n",
       "      <td>{'პირიქითი', 'პირიქით'}</td>\n",
       "      <td>23861</td>\n",
       "      <td>2</td>\n",
       "    </tr>\n",
       "    <tr>\n",
       "      <th>401</th>\n",
       "      <td>საკმაოდ</td>\n",
       "      <td>{'საკმაოდ', 'საკმაო'}</td>\n",
       "      <td>78847</td>\n",
       "      <td>2</td>\n",
       "    </tr>\n",
       "    <tr>\n",
       "      <th>404</th>\n",
       "      <td>აქვს</td>\n",
       "      <td>{'ქონა', 'აქვი'}</td>\n",
       "      <td>230641</td>\n",
       "      <td>2</td>\n",
       "    </tr>\n",
       "    <tr>\n",
       "      <th>418</th>\n",
       "      <td>როგორ</td>\n",
       "      <td>{'როგორ', 'როგორი'}</td>\n",
       "      <td>162401</td>\n",
       "      <td>2</td>\n",
       "    </tr>\n",
       "  </tbody>\n",
       "</table>\n",
       "</div>"
      ],
      "text/plain": [
       "              word                                          lemma    freq  \\\n",
       "9           უფროსი                             {'უფროსი', 'უფრო'}   23894   \n",
       "21          მახარა                           {'მახარა', 'ხარება'}      75   \n",
       "25          შეხვდა                       {'შეხვედრა', 'შეხვდომა'}   19596   \n",
       "28       პირველივე                    {'პირველიივე', 'პირველივე'}    8989   \n",
       "34           ამბით                             {'ამბა', 'ამბავი'}     840   \n",
       "44            არის                               {'ყოფნა', 'არე'}  582792   \n",
       "51         ვიცნობთ                            {'ცნობა', '*ცნობა'}    1052   \n",
       "61             შენ                                {'შენ', 'შენი'}   62211   \n",
       "62          მხოლოდ                            {'მხოლო', 'მხოლოდ'}  298169   \n",
       "65          მერედა                             {'მერე', 'მერედა'}    1223   \n",
       "91            ჩემს                                 {'მე', 'ჩემი'}   72189   \n",
       "93           დადგა                          {'დადგომა', 'დადგმა'}   13715   \n",
       "98            ჩანს                              {'ჩანი', '*ჩენა'}   57172   \n",
       "134          შორის                              {'შორი', 'შორის'}  244634   \n",
       "156          ჩვენს                              {'ჩვენი', 'ჩვენ'}  108145   \n",
       "177          ერთად               {'ერთა', 'ერთი', 'ერთად', 'ერი'}  151071   \n",
       "178           ვართ                              {'ყოფნა', 'ვარი'}   51649   \n",
       "182         შემდეგ                          {'შემდეგი', 'შემდეგ'}  396135   \n",
       "190       მანძილზე                        {'მანძილი', 'მანძილზე'}   32071   \n",
       "191            მის                                 {'მისი', 'ის'}  183573   \n",
       "204       გეგმავდა                        {'*გეგმვა', 'დაგეგმვა'}    1649   \n",
       "214       პირველად           {'პირველად', 'პირველი', 'პირველადი'}   38138   \n",
       "216        პირველი                          {'პირველი', 'პირველ'}  148578   \n",
       "217            იყო                               {'ყოფნა', 'იყო'}  624156   \n",
       "218          ვინაც                                {'ვინ', 'ვინა'}    2305   \n",
       "222        მეუღლის                            {'მეუღლე', 'მოღლა'}    4718   \n",
       "224        უმცროსი                           {'უმცროსი', 'უმცრო'}    3941   \n",
       "231          ამბის                             {'ამბა', 'ამბავი'}    2873   \n",
       "232  გარდაცვალების                  {'გარდაცვალება', 'გარდაცვლა'}    8056   \n",
       "233        შესახებ                        {'შესახები', 'შესახებ'}  218762   \n",
       "258        მესამედ                         {'მესამედი', 'მესამე'}    3164   \n",
       "263         ყურებს                               {'ყურა', 'ყური'}     566   \n",
       "278           ჩვენ                              {'ჩვენი', 'ჩვენ'}  289594   \n",
       "281    ვესაუბრებით                        {'საუბრება', 'საუბარი'}     559   \n",
       "285   მესტუმრებიან                      {'სტუმრება', '*სტუმრება'}      12   \n",
       "288    დაწვრილებით  {'დაწვრილებით', 'დაწვრილებითი', 'დაწვრილება'}    4119   \n",
       "293            არა                                  {'არა', 'არ'}  396486   \n",
       "296         ძალიან                          {'ძალიან', 'ძალიანი'}  250474   \n",
       "308      დამრჩენია                        {'დამრჩენი', 'დარჩენა'}     529   \n",
       "309         ვთხოვო                          {'თხოვნა', '*თხოვნა'}     593   \n",
       "311          ჩემზე                                 {'მე', 'ჩემი'}    8326   \n",
       "344         მეყიდა                           {'ყიდვა', 'მოყიდვა'}     168   \n",
       "376          ვიხევ                            {'დახევა', '*ხევა'}      34   \n",
       "379     გაჭირვებით                    {'გაჭირვებით', 'გაჭირვება'}    1289   \n",
       "391         ხელებს                               {'ხელი', 'ხელა'}    2767   \n",
       "393        ასხამენ                   {'დასხმა', '*სხმა', 'ასხმა'}     418   \n",
       "398        პირიქით                        {'პირიქითი', 'პირიქით'}   23861   \n",
       "401        საკმაოდ                          {'საკმაოდ', 'საკმაო'}   78847   \n",
       "404           აქვს                               {'ქონა', 'აქვი'}  230641   \n",
       "418          როგორ                            {'როგორ', 'როგორი'}  162401   \n",
       "\n",
       "     lemma_count  \n",
       "9              2  \n",
       "21             2  \n",
       "25             2  \n",
       "28             2  \n",
       "34             2  \n",
       "44             2  \n",
       "51             2  \n",
       "61             2  \n",
       "62             2  \n",
       "65             2  \n",
       "91             2  \n",
       "93             2  \n",
       "98             2  \n",
       "134            2  \n",
       "156            2  \n",
       "177            4  \n",
       "178            2  \n",
       "182            2  \n",
       "190            2  \n",
       "191            2  \n",
       "204            2  \n",
       "214            3  \n",
       "216            2  \n",
       "217            2  \n",
       "218            2  \n",
       "222            2  \n",
       "224            2  \n",
       "231            2  \n",
       "232            2  \n",
       "233            2  \n",
       "258            2  \n",
       "263            2  \n",
       "278            2  \n",
       "281            2  \n",
       "285            2  \n",
       "288            3  \n",
       "293            2  \n",
       "296            2  \n",
       "308            2  \n",
       "309            2  \n",
       "311            2  \n",
       "344            2  \n",
       "376            2  \n",
       "379            2  \n",
       "391            2  \n",
       "393            3  \n",
       "398            2  \n",
       "401            2  \n",
       "404            2  \n",
       "418            2  "
      ]
     },
     "execution_count": 39,
     "metadata": {},
     "output_type": "execute_result"
    }
   ],
   "source": [
    "cleaned_df = cleaned_df[cleaned_df['lemma_count'] != 0]\n",
    "amb_lemmas = cleaned_df[cleaned_df['lemma_count'] != 1]\n",
    "print(f'Number of words with ambigious lemmas: {amb_lemmas.shape[0]}')\n",
    "amb_lemmas[:50]"
   ]
  },
  {
   "cell_type": "markdown",
   "id": "dda0ba28-7436-46fc-a313-75d9c3c118bd",
   "metadata": {},
   "source": [
    "კიდევ ერთი რამ რაც შევამჩნიე არის, ფაქტი, რომ ზოგიერთი ზმნა ლემას იცვლის სერიებსა და მწკრივებში"
   ]
  },
  {
   "cell_type": "code",
   "execution_count": 40,
   "id": "aecf756a-0881-4c36-ad24-b102dfcdb325",
   "metadata": {
    "ExecuteTime": {
     "end_time": "2023-07-03T17:55:30.052391Z",
     "start_time": "2023-07-03T17:55:30.022804Z"
    }
   },
   "outputs": [
    {
     "data": {
      "text/plain": [
       "\"{'დასხმა'}\""
      ]
     },
     "execution_count": 40,
     "metadata": {},
     "output_type": "execute_result"
    }
   ],
   "source": [
    "word_to_lemma('დამისხა')"
   ]
  },
  {
   "cell_type": "code",
   "execution_count": 41,
   "id": "34c9a13a-beda-4ac9-92cb-825484379964",
   "metadata": {
    "ExecuteTime": {
     "end_time": "2023-07-03T17:55:30.067716Z",
     "start_time": "2023-07-03T17:55:30.060212Z"
    }
   },
   "outputs": [
    {
     "name": "stdout",
     "output_type": "stream",
     "text": [
      "{'დაესხმებათ', 'დაუსხამენ', 'ასხამდა', 'დაგესხმით', 'დამესხას', 'გვასხამს', 'დავესხა', 'დაისხამდა', 'დაგესხნენთ', 'დასხმითა', 'ასხამ', 'დაუსხია', 'დაასხიო', 'დაგვსხამენ', 'დაგისხა', 'დაასხამდა', 'დასხა', 'დაგსხა', 'დამესხმის', 'დაგვასხესო', 'დაისხამდეს', 'დაგვისხამდა', 'დამსხნი', 'დაგვესხმებოდა', 'დაუსხამს', 'დასხმენ', 'დაესხნეს', 'დაგისხათ', 'დაუსხენ', 'დაგვისხა', 'დაასხ', 'დავისხი', 'დავესხმებით', 'გასხამ', 'დაისხამს', 'ასხენ', 'დაესხმიანო', 'დაისხამთ', 'დასხმია', 'დავასხამთო', 'დაისხეს', 'დაესხის', 'დასხნენ', 'დაგვესხმის', 'დამისხან', 'დაგვსხნა', 'დაგასხამო', 'დაგესხმებათ', 'დაასხენ', 'დამასხამ', 'დავუსხამ', 'დავუსხამდი', 'დაუსხამდა', 'დაგვესხმებოდნენ', 'დაუსხეს', 'დაგვესხმოდნენ', 'დასხმის', 'გვასხა', 'დაგესხას', 'დავასხით', 'დავისხით', 'დაასხამდნენ', 'დასხმად', 'გასხნესო', 'დამასხით', 'დაგვესხმება', 'დაგვსხმოდა', 'დაესხენ', 'დაგვესხმებით', 'დაასხი', 'დავესხით', 'დასხმისგან', 'დავისხათ', 'დასხნეს', 'დაგვსხმია', 'დაასხის', 'დამესხმებოდნენ', 'მასხეს', 'დაგვესხმიან', 'დამასხა', 'დაასხესო', 'დამესხა', 'დაგასხამ', 'მასხა', 'დაუსხამ', 'დაისხას', 'დაგესხათ', 'დაგვასხამ', 'დაასხით', 'დაგვესხნეს', 'დამესხნეს', 'დაესხმებიან', 'დაუსხი', 'გვასხეს', 'დაესხათო', 'დავესხმებოდი', 'მასხამდა', 'დასხმისაგან', 'დამისხით', 'დაისხი', 'დავესხმით', 'ასხამდათ', 'დაისხა', 'დასხმაა', 'დაგესხმებითო', 'ასხამდით', 'დაუსხა', 'დაგვასხას', 'დასხმა', 'დაისხმიდეს', 'დამისხამთ', 'დავასხ', 'დამისხითო', 'დაუსხას', 'დაესხმოდნენ', 'დასხმანი', 'დავისხენ', 'დასხითო', 'დაისხამსო', 'დაასხი-მეთქი', 'დაისხმება', 'დამისხეს', 'დაესხანო', 'დაგესხნენ', 'დამისხათ', 'დავასხამო', 'დაგვასხეს', 'დავასხა', 'დამესხმოდა', 'დაესხმები', 'დამესხნენ', 'დაგვასხამდა', 'ვასხამ', 'დაგისხით', 'დაისხნა', 'დაგესხმებიან', 'დაესხმოდა', 'დაგვესხნენო', 'დავესხი-მეთქი', 'დავსხამდით', 'დავასხამდით', 'დასხმისათვისაო', 'მასხამ', 'დაესხმებოდა', 'დაგვესხნენ', 'დამისხიაო', 'დაესხმის', 'დამესხას-მეთქი', 'დასხას', 'დავსხამდი', 'გვასხამდნენ', 'დაგესხმებით-მეთქი', 'დაესხნას', 'დამსხმია', 'დავესხნეთ', 'დაისხამ', 'დაგვესხას', 'დაესხა', 'დავისხია', 'დამისხამდა', 'დაგესხაო', 'ვასხამთ', 'დავასხამთ', 'დაესხმებით', 'დაასხამენ', 'დამსხას', 'დასხმამდე', 'დაგვესხან', 'დაგასხნა', 'დაგვესხენ', 'დაგვესხა', 'დასხმოდეს', 'დაგასხამს', 'დესხა', 'დაუსხამთ', 'დავასხამ', 'დაესხმით', 'დამსხმოდა', 'დაგესხან', 'დაგესხმიან', 'დაგვასხამთ', 'გასხამთ', 'დავისხამდი', 'დავესხათ', 'დაესხმოდეს', 'გვასხამ', 'დასხით', 'დამასხენ', 'დაგასხი', 'დაესხმიან', 'დასხმიდეს', 'გვასხამენო', 'დამისხიო', 'მასხამს', 'დაასხმიდეს', 'დაისხათ', 'მასხამდნენ', 'დაგვესხმებიან', 'დაუსხან', 'დაესხმებოდეს', 'დაესხნენო', 'დამასხამენ', 'დაგესხმებაო', 'დასხამდნენ', 'დაგესხმება', 'დავუსხი', 'დაგესხმები', 'დაასხან', 'დაესხმებოდით', 'დაგასხამთ', 'დაისხიო', 'დაგვსხამდა', 'მასხამთ', 'დავსხმივართ', 'დამასხამდა', 'ასხამენ', 'გვასხამდა', 'დაისხამდნენ', 'დავისხამ', 'დაგესხმებოდნენ', 'დავსხამთ', 'დაგასხა', 'დამსხმოდნენ', 'დავსხმოდი', 'დაგასხან', 'დაგესხნეს', 'დაესხან', 'დაასხამს', 'დასხამენ', 'დასხმით', 'მასხი', 'დასხი', 'დაასხამთ', 'დამესხნენ-მეთქი', 'დასხათ', 'დამესხნენო', 'დაასხიან', 'დასხმოდა', 'ასხამს', 'დაასხათ', 'დავსხმოდით', 'დამესხნნეს', 'დამესხი', 'დავესხმი', 'დასხამს', 'დასხამ', 'დაგესხა', 'დეესხათ', 'დაგვისხამენ', 'დაესხას', 'დასხმოდნენ', 'დაგესხათო', 'დაასხამდენ', 'დაგვესხით', 'დასხმისა', 'ასხამდნენ', 'დავესხმებიო', 'დასხმაზე', 'დავუსხათ', 'დამისხა', '-დაასხით', 'დავასხამდი', 'დასხმისთანავე', 'დაგასხეს', 'დაასხნე', 'დაასხნა', 'დაასხა-მეთქი', 'დაგასხას', 'დაასხაო', 'დაგვსხამდნენ', 'დაგვსხამს', 'დამესხმება', 'დასხმოდათ', 'დამსხმოდაო', 'დაგესხმის', 'დამასხი', 'დავისხამთ', 'დასხმიან', 'დამასხას', 'დამესხენ', 'დასხან', 'დაგესხით', 'დაისხით', 'დავსხით', 'დაჰსხმოდა', 'დაესხათ', 'დაგვესხმოდა', 'დაესხმებოდნენ', 'დაასხათო', 'დავისხა', 'დაგსხმოდნენ', 'დაესხმოდათ', 'დაგვასხით', 'დასხმასა', 'დავესხაო', 'დაისხმიან', 'დაგესხმებით', 'დამესხმიან', 'დაესხაო', 'დამისხია', 'დამისხი', 'დამასხან', 'დავასხი', 'დავუსხა', 'დაგვასხამენ', 'დავსხათ', 'დაგვსხით', 'დამასხამს', 'დაასხა', 'მასხამენ', 'დამესხაო', 'დაასხნეს', 'დაგისხნა', 'დაგვსხეს', 'გვასხამენ', 'დაესხეს', 'დასხმაც', 'დაგესხეს', 'დამესხან', 'დასხმაში', 'დაგვსხა', 'დამესხა-მეთქი', 'დავუსხით', 'დაგვასხა', 'დაასხამდი', 'გასხამს', 'დასხმიათ', 'დავუსხამ-მეთქი', 'დაგვესხასო', 'დაგვასხამს', 'დაასხეს', 'დაგესხენ', 'დაგვესხი', 'დაუსხათ', 'დაისხენ', 'დაესხით', 'დაესხმება', 'დაუსხით', 'დაგსხმიათ', 'გვასხან', 'დასხმასავით', 'დაგვესხაო', 'დასხმისას', 'დაგვისხამს', 'დავსხნე', 'ვასხამდი', 'დამისხამს', 'დაგვისხი', 'დავსხა', 'დასხმას', 'დამისხაო', 'დაასხას', 'დავესხნათ', 'დაესხმი', 'დასხეს', 'დავსხათო', 'დამასხეს', 'დავასხათ', 'დაესხნენ', 'დასხმაო', 'დაასხამ', 'დასხამდა', 'დაგასხათ', 'დაგისხი', 'დაგისხამ', 'დაესხი', 'დამესხმით', 'დავისხამ-მეთქი', 'დაგვსხი', 'დაგისხამთ', 'დაგსხეს', 'დავუსხამდით', 'დავესხმები', 'დავესხი'}\n"
     ]
    }
   ],
   "source": [
    "print(lemma_to_words('დასხმა'))"
   ]
  },
  {
   "cell_type": "code",
   "execution_count": 42,
   "id": "3fa56782-fe8a-4f39-883b-be6237d95a8f",
   "metadata": {
    "ExecuteTime": {
     "end_time": "2023-07-03T17:55:30.144028Z",
     "start_time": "2023-07-03T17:55:30.141394Z"
    }
   },
   "outputs": [
    {
     "data": {
      "text/plain": [
       "\"{'*სხმა'}\""
      ]
     },
     "execution_count": 42,
     "metadata": {},
     "output_type": "execute_result"
    }
   ],
   "source": [
    "word_to_lemma('მისხამს')"
   ]
  },
  {
   "cell_type": "code",
   "execution_count": 43,
   "id": "60040edf-a3ec-467a-bd09-e2d013383195",
   "metadata": {
    "ExecuteTime": {
     "end_time": "2023-07-03T17:55:30.159720Z",
     "start_time": "2023-07-03T17:55:30.156929Z"
    }
   },
   "outputs": [
    {
     "name": "stdout",
     "output_type": "stream",
     "text": [
      "{'სხამდა', 'გასხამდნენ', 'სხთა', 'ვისხი', 'უსხამს', 'ესხმება', 'ასხამდით', 'ასხამდა', 'სხით', 'მესხმიან', 'გვისხამდნენ', 'ისხნენ', 'ისხამენ', 'ასხამდენ', 'გესხმის', 'გისხამდე', 'გვისხამთ', 'გვისხენ', 'ასხამ', 'სხო', 'მესხმების', 'უსხნა', 'უსხამ', 'ვესხმოდი', 'უსხენცა', 'ესხმიან', 'ისხამენო', 'მესხმები', 'გვესხმიანო', 'გვისხამს', 'მსხნენო', 'ისხენით', 'ისხმებოდეს', 'გვისხამენ', 'ასხამენ', 'გისხამენ', 'სხი', 'გვესხმოდა', 'სხა', 'მესხმის', 'ესხმი', 'ისხნა', 'ვესხმოდით', 'მესხმოდეს', 'ვუსხამდი', 'ესხმებოდნენ', 'გვესხმოდნენო', 'უსხამდეს', 'ვუსხამ', 'გესხმით', 'მისხამდა', 'ისხამდეს', 'მსხ', 'ასხენ', 'მისხამს', 'მესხმებოდა', 'სხათა', 'გვესხმის', 'ვესხმი', 'უსხან', 'ასხნა', 'ესხმოდეს', 'ვასხამ', 'ისხით', 'მისხამენ', 'გისხენ', 'ასხამდეს', 'ისხმიან', 'გვესხმოდნენ', 'ასხამსო', 'გვესხმი', 'გისხამდნენ', 'ვესხმით', 'ისხამსა', 'ვუსხამთ', 'ვუსხამდით', 'ისხნეს', 'ესხმებიან', 'სხარე', 'მისხმენ', 'ვისხამდი', 'სხცა', 'ასხამს', 'სხამენ', 'ვისხამ', 'ისხამთ', 'სხითა', 'სხ', 'ასხამდე', 'უსხამდა', 'ისხა', 'მისხამ', 'ესხმისო', 'უსხამთ', 'ესხმიო', 'ასხამთო', 'სხამს', 'ასხამენო', 'ისხამსო', 'მესხმით', 'ვისხაო', 'ესხმოდა', 'ვსხამთ', 'ისხამ', 'ვასხამთ', 'გასხამენ', 'ასხამდნენ', 'ისხამს', 'უსხამენ', 'გესხმიან', 'ვისხით', 'გისხნენ', 'სხას', 'ვასხამდი', 'მესხმოდნენ', 'უსხენ', 'ისხმება', 'გვესხმიან', 'ასხამდნენო', 'გესხმება', 'სხათ', 'ისხამდნენ', 'გვისხამდა', 'ვასხამდით', 'მისხამდე', 'ესხმით', 'მესხმება', 'ვისხამდით', 'ისხამდა', 'ისხმიდეს', 'მასხა', 'ვისხამთ', 'სხამდნენ', 'ესხმის', 'ვასხამდე', 'ესხმებოდა', 'ესხმიანო', 'ისხეს', 'მასხენ', 'გვესხმება', 'მესხმოდა', 'ვუსხი', 'ესხმოდნენ', 'ესხასა', 'ესხმებათ', 'გისხამს', 'ისხმის', 'ისხმებოდა', 'ისხამდე', 'გასხნა', 'უსხამდნენ', 'გასხენ', 'გისხამ', 'მესხმი', 'გესხმებათ', 'ასხამდი', 'გესხმოდნენ', 'უსხა', 'ისხმოდა', 'მესხრე', 'ასხამთ', 'გვესხას'}\n"
     ]
    }
   ],
   "source": [
    "print(lemma_to_words('*სხმა'))\n",
    "# ფიფქით დაწყებული ლემების გარჩევაც საჭირაო ცალკეა"
   ]
  },
  {
   "cell_type": "code",
   "execution_count": 44,
   "id": "5dfe4bac-6f44-4c99-80fc-8919fe9cdb8c",
   "metadata": {
    "ExecuteTime": {
     "end_time": "2023-07-03T17:55:30.248385Z",
     "start_time": "2023-07-03T17:55:30.241634Z"
    }
   },
   "outputs": [
    {
     "data": {
      "text/plain": [
       "\"{'დასხმა', '*სხმა', 'ასხმა'}\""
      ]
     },
     "execution_count": 44,
     "metadata": {},
     "output_type": "execute_result"
    }
   ],
   "source": [
    "word_to_lemma('ასხამს')"
   ]
  },
  {
   "cell_type": "markdown",
   "id": "3a44e304-a597-4f44-a720-84291fe40b16",
   "metadata": {},
   "source": [
    " სადაც გვაქვს ორი ლემა და მათ გააჩნიათ, ხოლმე საერთო ერთი ან რამოდენიმე ლექსემი ხშირად სინამდვილეში ერთი ლექსემის ჯგუფი ანუ ერთი ლემა უნდა იყოს. როგორც *ასხმა და დასხმა "
   ]
  },
  {
   "cell_type": "code",
   "execution_count": 45,
   "id": "f492bed2-5e70-41b7-b5d0-9b193ad234a1",
   "metadata": {
    "ExecuteTime": {
     "end_time": "2023-07-03T17:55:30.430564Z",
     "start_time": "2023-07-03T17:55:30.310469Z"
    }
   },
   "outputs": [],
   "source": [
    "intersection = {}\n",
    "for lemmas in list(amb_lemmas['lemma']):\n",
    "    lemmas = literal_eval(lemmas)\n",
    "    for lemma in lemmas:\n",
    "        intersection[lemma] = lemmas.difference(lemma)"
   ]
  },
  {
   "cell_type": "markdown",
   "id": "d8180cf3-ee18-48f3-bc47-f27ef948984a",
   "metadata": {},
   "source": [
    "ლემები, რომლებთაც თანაკვეთა აქვთ ლექსემებში"
   ]
  },
  {
   "cell_type": "code",
   "execution_count": 46,
   "id": "e0b2eee8-5c27-4cbd-a25a-c2068799aee3",
   "metadata": {
    "ExecuteTime": {
     "end_time": "2023-07-03T17:55:30.542742Z",
     "start_time": "2023-07-03T17:55:30.458681Z"
    }
   },
   "outputs": [
    {
     "name": "stdout",
     "output_type": "stream",
     "text": [
      "11296\n"
     ]
    },
    {
     "data": {
      "text/html": [
       "<div>\n",
       "<style scoped>\n",
       "    .dataframe tbody tr th:only-of-type {\n",
       "        vertical-align: middle;\n",
       "    }\n",
       "\n",
       "    .dataframe tbody tr th {\n",
       "        vertical-align: top;\n",
       "    }\n",
       "\n",
       "    .dataframe thead th {\n",
       "        text-align: right;\n",
       "    }\n",
       "</style>\n",
       "<table border=\"1\" class=\"dataframe\">\n",
       "  <thead>\n",
       "    <tr style=\"text-align: right;\">\n",
       "      <th></th>\n",
       "      <th>lemma</th>\n",
       "      <th>lexems</th>\n",
       "      <th>count</th>\n",
       "      <th>intersection</th>\n",
       "    </tr>\n",
       "  </thead>\n",
       "  <tbody>\n",
       "    <tr>\n",
       "      <th>1420</th>\n",
       "      <td>მიცემა</td>\n",
       "      <td>{გაძლევდენ, მიუციათ, მიეცემოდაო, უძლევია, გაძლ...</td>\n",
       "      <td>811</td>\n",
       "      <td>{მიცემა, *ძლევა}</td>\n",
       "    </tr>\n",
       "    <tr>\n",
       "      <th>276</th>\n",
       "      <td>კითხვა</td>\n",
       "      <td>{ჰკითხეს, გკითხავთ, კითხვებიცა, კითხვად, ეკითხ...</td>\n",
       "      <td>620</td>\n",
       "      <td>{*კითხვა, კითხვა}</td>\n",
       "    </tr>\n",
       "    <tr>\n",
       "      <th>1414</th>\n",
       "      <td>ქმნა</td>\n",
       "      <td>{მიქნა, იზამენო, ვქმნათო, ქმნაც, იქმს, იზამთ-მ...</td>\n",
       "      <td>618</td>\n",
       "      <td>{*ქმნა, ქმნა}</td>\n",
       "    </tr>\n",
       "    <tr>\n",
       "      <th>1308</th>\n",
       "      <td>დადება</td>\n",
       "      <td>{დაგიდვია, დადებდით, დადვა, დამდებია, დაადებო,...</td>\n",
       "      <td>607</td>\n",
       "      <td>{დადება, დასლვა}</td>\n",
       "    </tr>\n",
       "    <tr>\n",
       "      <th>40</th>\n",
       "      <td>დაპირება</td>\n",
       "      <td>{გვიპირობს, დაპირდით, დაგვპირდნენ, უპირებთ, ვა...</td>\n",
       "      <td>542</td>\n",
       "      <td>{*პირება, დაპირება}</td>\n",
       "    </tr>\n",
       "    <tr>\n",
       "      <th>87</th>\n",
       "      <td>თქმა</td>\n",
       "      <td>{თქმითაც, გიტყვი, თქმასღა, ვსთქვით, ვამბობო, უ...</td>\n",
       "      <td>518</td>\n",
       "      <td>{თქმა, *თქმა}</td>\n",
       "    </tr>\n",
       "    <tr>\n",
       "      <th>252</th>\n",
       "      <td>შექმნა</td>\n",
       "      <td>{შეგვიქმნითო, შექმენო, შევქმნათო, შექმნისა, შე...</td>\n",
       "      <td>510</td>\n",
       "      <td>{შექნიანი, შექმნა}</td>\n",
       "    </tr>\n",
       "    <tr>\n",
       "      <th>1294</th>\n",
       "      <td>დაკარგვა</td>\n",
       "      <td>{დაეკარგებათ, დაკარგოთ, ეკარგვის, დამეკარგება,...</td>\n",
       "      <td>505</td>\n",
       "      <td>{დაკარგვა, დამკარგავი}</td>\n",
       "    </tr>\n",
       "    <tr>\n",
       "      <th>24</th>\n",
       "      <td>ნახვა</td>\n",
       "      <td>{გვინახია-რა, ჰნახეს, ვნახავთ, ნახა-თქო, ნახვა...</td>\n",
       "      <td>499</td>\n",
       "      <td>{ნახვა, *ნახვა}</td>\n",
       "    </tr>\n",
       "    <tr>\n",
       "      <th>80</th>\n",
       "      <td>მოყოლა</td>\n",
       "      <td>{მოგყავდათ, მო-ჰყვება, მოგყვებოდნენ, მოუყვეს, ...</td>\n",
       "      <td>498</td>\n",
       "      <td>{მიყოლა, მოყოლა}</td>\n",
       "    </tr>\n",
       "    <tr>\n",
       "      <th>2598</th>\n",
       "      <td>მოწონება</td>\n",
       "      <td>{აწონებდენ, მოეწონეო, მომეწონაო, მოწონებებზე, ...</td>\n",
       "      <td>493</td>\n",
       "      <td>{აწონა, მოწონება}</td>\n",
       "    </tr>\n",
       "    <tr>\n",
       "      <th>569</th>\n",
       "      <td>გადარჩენა</td>\n",
       "      <td>{გადაგვირჩაო, გადავარჩენ, გადარჩენით, გადაგვარ...</td>\n",
       "      <td>477</td>\n",
       "      <td>{გადრჩენა, გადარჩენა}</td>\n",
       "    </tr>\n",
       "    <tr>\n",
       "      <th>352</th>\n",
       "      <td>მოსვლა</td>\n",
       "      <td>{მოუხვალ, მოსვლაზე, მოსვლამან, მოსვლას-მეთქი, ...</td>\n",
       "      <td>467</td>\n",
       "      <td>{მოგვი, მოსვლა}</td>\n",
       "    </tr>\n",
       "    <tr>\n",
       "      <th>507</th>\n",
       "      <td>მოსმენა</td>\n",
       "      <td>{უსმენდეს, მოგისმინეს, მოუსმინე, გისმინა, მოუს...</td>\n",
       "      <td>460</td>\n",
       "      <td>{მომსმენი, მოსმენა}</td>\n",
       "    </tr>\n",
       "    <tr>\n",
       "      <th>3233</th>\n",
       "      <td>დატოვება</td>\n",
       "      <td>{დაეტოვებინოს, დამტოვებთო, დაგვიტოვებდნენ, დამ...</td>\n",
       "      <td>459</td>\n",
       "      <td>{დატოვებინება, დატოვება}</td>\n",
       "    </tr>\n",
       "    <tr>\n",
       "      <th>1195</th>\n",
       "      <td>გაჩენა</td>\n",
       "      <td>{გაგიჩნდებათო, გააჩინე, გამიჩნდებოდა, გავიჩენთ...</td>\n",
       "      <td>451</td>\n",
       "      <td>{*ჩენა, გაჩენა}</td>\n",
       "    </tr>\n",
       "    <tr>\n",
       "      <th>7</th>\n",
       "      <td>ხლება</td>\n",
       "      <td>{გაახლა, იხლებდი, გეახლებით-მეთქი, გიხლიაო, გვ...</td>\n",
       "      <td>450</td>\n",
       "      <td>{*ხლება, ხლება}</td>\n",
       "    </tr>\n",
       "    <tr>\n",
       "      <th>4182</th>\n",
       "      <td>მოქცევა</td>\n",
       "      <td>{მოიქცეს, მოქცევა, მოჰქცეულხარ, მოვიქეცი-მეთქი...</td>\n",
       "      <td>449</td>\n",
       "      <td>{მომქცევი, მოქცევა}</td>\n",
       "    </tr>\n",
       "    <tr>\n",
       "      <th>52</th>\n",
       "      <td>ყოფნა</td>\n",
       "      <td>{ყოფილი-ყო, მეყოფა-მეთქი, იყოს-ო, იქნე-ბა, ვიყ...</td>\n",
       "      <td>447</td>\n",
       "      <td>{ყოფნა, ყოფა}</td>\n",
       "    </tr>\n",
       "    <tr>\n",
       "      <th>248</th>\n",
       "      <td>გაკეთება</td>\n",
       "      <td>{გაუკეთოს, გამიკეთოსო, გავაკეთოთ, გაკეთებითა, ...</td>\n",
       "      <td>446</td>\n",
       "      <td>{გაკეთება, გამოკეთება}</td>\n",
       "    </tr>\n",
       "    <tr>\n",
       "      <th>281</th>\n",
       "      <td>გაცნობა</td>\n",
       "      <td>{აცნობდნენ, გაიცნოო, გაიცანიო, გაგაცნობო, გაგა...</td>\n",
       "      <td>445</td>\n",
       "      <td>{გამოცნობა, გაცნობა}</td>\n",
       "    </tr>\n",
       "    <tr>\n",
       "      <th>1065</th>\n",
       "      <td>ცემა</td>\n",
       "      <td>{მცი-, გვეცემაო, ეცი-თქო, მე-ც, ეცეს, ვსცემდე,...</td>\n",
       "      <td>445</td>\n",
       "      <td>{ცემა, *ცემა}</td>\n",
       "    </tr>\n",
       "    <tr>\n",
       "      <th>6403</th>\n",
       "      <td>ბრძოლა</td>\n",
       "      <td>{შეებრძოლება, გავიბრძოლეთ, მებრძოდნენ, შემებრძ...</td>\n",
       "      <td>443</td>\n",
       "      <td>{ბრძოლება, ბრძოლა}</td>\n",
       "    </tr>\n",
       "    <tr>\n",
       "      <th>5096</th>\n",
       "      <td>მოთხოვნა</td>\n",
       "      <td>{მოვთხოვე, მოგთხოვონო, მოითხოვონ, მოთხოვესო, მ...</td>\n",
       "      <td>441</td>\n",
       "      <td>{მოთხოვნა, მოთხოვნამდე}</td>\n",
       "    </tr>\n",
       "    <tr>\n",
       "      <th>5604</th>\n",
       "      <td>დაწერა</td>\n",
       "      <td>{დამიწერთ, დაგვაწერეს, დაიწერონ, დაგვიწერეთ, დ...</td>\n",
       "      <td>440</td>\n",
       "      <td>{დაწერა, დამწერი}</td>\n",
       "    </tr>\n",
       "    <tr>\n",
       "      <th>2208</th>\n",
       "      <td>დამორჩილება</td>\n",
       "      <td>{დაუმორჩილოთ, იმორჩილებდნენ, დაგმორჩილდით, დაგ...</td>\n",
       "      <td>438</td>\n",
       "      <td>{დამორჩილება, მორჩილი}</td>\n",
       "    </tr>\n",
       "    <tr>\n",
       "      <th>4556</th>\n",
       "      <td>შეწუხება</td>\n",
       "      <td>{შეგვაწუხაო, შევუწუხებივართ, შეგვაწუხეს, შეაწუ...</td>\n",
       "      <td>435</td>\n",
       "      <td>{შეწუხება, წუხვა}</td>\n",
       "    </tr>\n",
       "    <tr>\n",
       "      <th>97</th>\n",
       "      <td>ის</td>\n",
       "      <td>{იმისთვისაც, მათთვისვე, მათთანვე, -მათა, მისთვ...</td>\n",
       "      <td>432</td>\n",
       "      <td>{იგი, ის}</td>\n",
       "    </tr>\n",
       "    <tr>\n",
       "      <th>122</th>\n",
       "      <td>ტირილი</td>\n",
       "      <td>{დატიროდა, დასტიროდნენ, იტიროს, ეტირნათ, სტირო...</td>\n",
       "      <td>431</td>\n",
       "      <td>{ტირილი, ტირი}</td>\n",
       "    </tr>\n",
       "    <tr>\n",
       "      <th>461</th>\n",
       "      <td>ყოლა</td>\n",
       "      <td>{მეყოლებოდაო, გყვანდეს, გვყვანდეს, ჰყვანდე, გყ...</td>\n",
       "      <td>429</td>\n",
       "      <td>{ყოლა, სმევა}</td>\n",
       "    </tr>\n",
       "    <tr>\n",
       "      <th>1324</th>\n",
       "      <td>ჩვენება</td>\n",
       "      <td>{ჩვენებად, მიჩვენეთ, მჩვენებოდი, ვეჩვენო-მეთქი...</td>\n",
       "      <td>421</td>\n",
       "      <td>{*ჩვენება, ჩვენება}</td>\n",
       "    </tr>\n",
       "    <tr>\n",
       "      <th>1150</th>\n",
       "      <td>დათმობა</td>\n",
       "      <td>{დამითმოო, მეთმოსა, დაუთმობდათ, გვითმობთო, დათ...</td>\n",
       "      <td>418</td>\n",
       "      <td>{დათმობა, თმობა}</td>\n",
       "    </tr>\n",
       "    <tr>\n",
       "      <th>100</th>\n",
       "      <td>დადგომა</td>\n",
       "      <td>{დავადგე-მეთქი, დაუდგებათ, დადგებოდე, დადგომის...</td>\n",
       "      <td>411</td>\n",
       "      <td>{დადგომა, დადგმა}</td>\n",
       "    </tr>\n",
       "    <tr>\n",
       "      <th>476</th>\n",
       "      <td>დაჯერება</td>\n",
       "      <td>{დაუჯერებდენ, დაგჯერდათ, დააჯერეს, დაიჯერე, დე...</td>\n",
       "      <td>411</td>\n",
       "      <td>{დაჯერება, *ჯერება}</td>\n",
       "    </tr>\n",
       "    <tr>\n",
       "      <th>2242</th>\n",
       "      <td>გამოჩენა</td>\n",
       "      <td>{გამოაჩინო, გამოვჩნდები, გამომაჩინონ, გამოაჩნდ...</td>\n",
       "      <td>410</td>\n",
       "      <td>{გამოჩენა, გამომჩენი}</td>\n",
       "    </tr>\n",
       "    <tr>\n",
       "      <th>6078</th>\n",
       "      <td>გამოცხადება</td>\n",
       "      <td>{გამოგიცხადონო, გამოცხადებადაც, გამომეცხადება,...</td>\n",
       "      <td>408</td>\n",
       "      <td>{გამოცხადებით, გამოცხადება}</td>\n",
       "    </tr>\n",
       "    <tr>\n",
       "      <th>836</th>\n",
       "      <td>მოკვლა</td>\n",
       "      <td>{მოკვლაში, მოუკალი, მოგკლა, მოკალთ, მოვიკლავო,...</td>\n",
       "      <td>408</td>\n",
       "      <td>{მოკვლა, მოუკლავი}</td>\n",
       "    </tr>\n",
       "    <tr>\n",
       "      <th>197</th>\n",
       "      <td>ცხოვრება</td>\n",
       "      <td>{ვიცხოვროთ, ცხოვრებების, იცხოვროსო, გეცხოვროთო...</td>\n",
       "      <td>404</td>\n",
       "      <td>{ცხოვარი, ცხოვრება}</td>\n",
       "    </tr>\n",
       "    <tr>\n",
       "      <th>1423</th>\n",
       "      <td>გახარება</td>\n",
       "      <td>{გაახარებდე, გავიხაროთ, გავახაროთ, ახარებთ, გა...</td>\n",
       "      <td>403</td>\n",
       "      <td>{გახარება, გახრა}</td>\n",
       "    </tr>\n",
       "    <tr>\n",
       "      <th>540</th>\n",
       "      <td>გრძნობა</td>\n",
       "      <td>{მგრძნობთ, გვაგრძნობინებთ, გრძნობიდანაც, გაგრძ...</td>\n",
       "      <td>403</td>\n",
       "      <td>{უგრძნობი, გრძნობა}</td>\n",
       "    </tr>\n",
       "    <tr>\n",
       "      <th>1503</th>\n",
       "      <td>დავიწყება</td>\n",
       "      <td>{დაგავიწყდები, დაი-ვიწყებთ, დამავიწყდესო, დაგვ...</td>\n",
       "      <td>398</td>\n",
       "      <td>{დაწყება, დავიწყება}</td>\n",
       "    </tr>\n",
       "    <tr>\n",
       "      <th>10837</th>\n",
       "      <td>გაყიდვა</td>\n",
       "      <td>{გაიყიდები, გამაყიდია, გაყიდულიყვნენ, გამაყიდვ...</td>\n",
       "      <td>397</td>\n",
       "      <td>{გაყიდვა, ყიდვა}</td>\n",
       "    </tr>\n",
       "    <tr>\n",
       "      <th>209</th>\n",
       "      <td>დარჩენა</td>\n",
       "      <td>{დარჩებოდა-მეთქი, დარჩენითაა, დაგირჩებით, დარჩ...</td>\n",
       "      <td>396</td>\n",
       "      <td>{დაურჩება, დარჩენა}</td>\n",
       "    </tr>\n",
       "    <tr>\n",
       "      <th>174</th>\n",
       "      <td>შეძლება</td>\n",
       "      <td>{შეგიძლიანო, შეგიძლიათო, შეგძლებიაო, შეაძლებინ...</td>\n",
       "      <td>395</td>\n",
       "      <td>{შეძლება, *ძლება}</td>\n",
       "    </tr>\n",
       "    <tr>\n",
       "      <th>140</th>\n",
       "      <td>პოვნა</td>\n",
       "      <td>{პოვნაშიც, პოულობენ, იპოვის-მეთქი, უპოვნიაო, ი...</td>\n",
       "      <td>395</td>\n",
       "      <td>{უპო, პოვნა}</td>\n",
       "    </tr>\n",
       "    <tr>\n",
       "      <th>95</th>\n",
       "      <td>ქონა</td>\n",
       "      <td>{ქონაა, ექნებოდათ-რა, აქვთ-მეთქი, ქონისთვის, ა...</td>\n",
       "      <td>395</td>\n",
       "      <td>{ქონა, შემოქნა}</td>\n",
       "    </tr>\n",
       "    <tr>\n",
       "      <th>492</th>\n",
       "      <td>ლოდინი</td>\n",
       "      <td>{მომელოდა, უელი, მელოდოთო, გელოდებოდითო, ელოდა...</td>\n",
       "      <td>394</td>\n",
       "      <td>{ლოდინი, ველი}</td>\n",
       "    </tr>\n",
       "    <tr>\n",
       "      <th>1411</th>\n",
       "      <td>მიღება</td>\n",
       "      <td>{მიაღებინონ, მიიღებდიო, მიიღებოდა, მიიღებდნენ,...</td>\n",
       "      <td>391</td>\n",
       "      <td>{მიღება, *ღება}</td>\n",
       "    </tr>\n",
       "    <tr>\n",
       "      <th>2014</th>\n",
       "      <td>ქცევა</td>\n",
       "      <td>{უქცევიათო, ვიქცევითო, იქცეს, იქცია, გვაქციონ,...</td>\n",
       "      <td>388</td>\n",
       "      <td>{ქცევა, *ქცევა}</td>\n",
       "    </tr>\n",
       "    <tr>\n",
       "      <th>626</th>\n",
       "      <td>დგომა</td>\n",
       "      <td>{ვიდგებოდი, იდგებოდით, მდგომოდა, გვადგას, გედგ...</td>\n",
       "      <td>387</td>\n",
       "      <td>{დგომა, ადგომა}</td>\n",
       "    </tr>\n",
       "  </tbody>\n",
       "</table>\n",
       "</div>"
      ],
      "text/plain": [
       "             lemma                                             lexems  count  \\\n",
       "1420        მიცემა  {გაძლევდენ, მიუციათ, მიეცემოდაო, უძლევია, გაძლ...    811   \n",
       "276         კითხვა  {ჰკითხეს, გკითხავთ, კითხვებიცა, კითხვად, ეკითხ...    620   \n",
       "1414          ქმნა  {მიქნა, იზამენო, ვქმნათო, ქმნაც, იქმს, იზამთ-მ...    618   \n",
       "1308        დადება  {დაგიდვია, დადებდით, დადვა, დამდებია, დაადებო,...    607   \n",
       "40        დაპირება  {გვიპირობს, დაპირდით, დაგვპირდნენ, უპირებთ, ვა...    542   \n",
       "87            თქმა  {თქმითაც, გიტყვი, თქმასღა, ვსთქვით, ვამბობო, უ...    518   \n",
       "252         შექმნა  {შეგვიქმნითო, შექმენო, შევქმნათო, შექმნისა, შე...    510   \n",
       "1294      დაკარგვა  {დაეკარგებათ, დაკარგოთ, ეკარგვის, დამეკარგება,...    505   \n",
       "24           ნახვა  {გვინახია-რა, ჰნახეს, ვნახავთ, ნახა-თქო, ნახვა...    499   \n",
       "80          მოყოლა  {მოგყავდათ, მო-ჰყვება, მოგყვებოდნენ, მოუყვეს, ...    498   \n",
       "2598      მოწონება  {აწონებდენ, მოეწონეო, მომეწონაო, მოწონებებზე, ...    493   \n",
       "569      გადარჩენა  {გადაგვირჩაო, გადავარჩენ, გადარჩენით, გადაგვარ...    477   \n",
       "352         მოსვლა  {მოუხვალ, მოსვლაზე, მოსვლამან, მოსვლას-მეთქი, ...    467   \n",
       "507        მოსმენა  {უსმენდეს, მოგისმინეს, მოუსმინე, გისმინა, მოუს...    460   \n",
       "3233      დატოვება  {დაეტოვებინოს, დამტოვებთო, დაგვიტოვებდნენ, დამ...    459   \n",
       "1195        გაჩენა  {გაგიჩნდებათო, გააჩინე, გამიჩნდებოდა, გავიჩენთ...    451   \n",
       "7            ხლება  {გაახლა, იხლებდი, გეახლებით-მეთქი, გიხლიაო, გვ...    450   \n",
       "4182       მოქცევა  {მოიქცეს, მოქცევა, მოჰქცეულხარ, მოვიქეცი-მეთქი...    449   \n",
       "52           ყოფნა  {ყოფილი-ყო, მეყოფა-მეთქი, იყოს-ო, იქნე-ბა, ვიყ...    447   \n",
       "248       გაკეთება  {გაუკეთოს, გამიკეთოსო, გავაკეთოთ, გაკეთებითა, ...    446   \n",
       "281        გაცნობა  {აცნობდნენ, გაიცნოო, გაიცანიო, გაგაცნობო, გაგა...    445   \n",
       "1065          ცემა  {მცი-, გვეცემაო, ეცი-თქო, მე-ც, ეცეს, ვსცემდე,...    445   \n",
       "6403        ბრძოლა  {შეებრძოლება, გავიბრძოლეთ, მებრძოდნენ, შემებრძ...    443   \n",
       "5096      მოთხოვნა  {მოვთხოვე, მოგთხოვონო, მოითხოვონ, მოთხოვესო, მ...    441   \n",
       "5604        დაწერა  {დამიწერთ, დაგვაწერეს, დაიწერონ, დაგვიწერეთ, დ...    440   \n",
       "2208   დამორჩილება  {დაუმორჩილოთ, იმორჩილებდნენ, დაგმორჩილდით, დაგ...    438   \n",
       "4556      შეწუხება  {შეგვაწუხაო, შევუწუხებივართ, შეგვაწუხეს, შეაწუ...    435   \n",
       "97              ის  {იმისთვისაც, მათთვისვე, მათთანვე, -მათა, მისთვ...    432   \n",
       "122         ტირილი  {დატიროდა, დასტიროდნენ, იტიროს, ეტირნათ, სტირო...    431   \n",
       "461           ყოლა  {მეყოლებოდაო, გყვანდეს, გვყვანდეს, ჰყვანდე, გყ...    429   \n",
       "1324       ჩვენება  {ჩვენებად, მიჩვენეთ, მჩვენებოდი, ვეჩვენო-მეთქი...    421   \n",
       "1150       დათმობა  {დამითმოო, მეთმოსა, დაუთმობდათ, გვითმობთო, დათ...    418   \n",
       "100        დადგომა  {დავადგე-მეთქი, დაუდგებათ, დადგებოდე, დადგომის...    411   \n",
       "476       დაჯერება  {დაუჯერებდენ, დაგჯერდათ, დააჯერეს, დაიჯერე, დე...    411   \n",
       "2242      გამოჩენა  {გამოაჩინო, გამოვჩნდები, გამომაჩინონ, გამოაჩნდ...    410   \n",
       "6078   გამოცხადება  {გამოგიცხადონო, გამოცხადებადაც, გამომეცხადება,...    408   \n",
       "836         მოკვლა  {მოკვლაში, მოუკალი, მოგკლა, მოკალთ, მოვიკლავო,...    408   \n",
       "197       ცხოვრება  {ვიცხოვროთ, ცხოვრებების, იცხოვროსო, გეცხოვროთო...    404   \n",
       "1423      გახარება  {გაახარებდე, გავიხაროთ, გავახაროთ, ახარებთ, გა...    403   \n",
       "540        გრძნობა  {მგრძნობთ, გვაგრძნობინებთ, გრძნობიდანაც, გაგრძ...    403   \n",
       "1503     დავიწყება  {დაგავიწყდები, დაი-ვიწყებთ, დამავიწყდესო, დაგვ...    398   \n",
       "10837      გაყიდვა  {გაიყიდები, გამაყიდია, გაყიდულიყვნენ, გამაყიდვ...    397   \n",
       "209        დარჩენა  {დარჩებოდა-მეთქი, დარჩენითაა, დაგირჩებით, დარჩ...    396   \n",
       "174        შეძლება  {შეგიძლიანო, შეგიძლიათო, შეგძლებიაო, შეაძლებინ...    395   \n",
       "140          პოვნა  {პოვნაშიც, პოულობენ, იპოვის-მეთქი, უპოვნიაო, ი...    395   \n",
       "95            ქონა  {ქონაა, ექნებოდათ-რა, აქვთ-მეთქი, ქონისთვის, ა...    395   \n",
       "492         ლოდინი  {მომელოდა, უელი, მელოდოთო, გელოდებოდითო, ელოდა...    394   \n",
       "1411        მიღება  {მიაღებინონ, მიიღებდიო, მიიღებოდა, მიიღებდნენ,...    391   \n",
       "2014         ქცევა  {უქცევიათო, ვიქცევითო, იქცეს, იქცია, გვაქციონ,...    388   \n",
       "626          დგომა  {ვიდგებოდი, იდგებოდით, მდგომოდა, გვადგას, გედგ...    387   \n",
       "\n",
       "                      intersection  \n",
       "1420              {მიცემა, *ძლევა}  \n",
       "276              {*კითხვა, კითხვა}  \n",
       "1414                 {*ქმნა, ქმნა}  \n",
       "1308              {დადება, დასლვა}  \n",
       "40             {*პირება, დაპირება}  \n",
       "87                   {თქმა, *თქმა}  \n",
       "252             {შექნიანი, შექმნა}  \n",
       "1294        {დაკარგვა, დამკარგავი}  \n",
       "24                 {ნახვა, *ნახვა}  \n",
       "80                {მიყოლა, მოყოლა}  \n",
       "2598             {აწონა, მოწონება}  \n",
       "569          {გადრჩენა, გადარჩენა}  \n",
       "352                {მოგვი, მოსვლა}  \n",
       "507            {მომსმენი, მოსმენა}  \n",
       "3233      {დატოვებინება, დატოვება}  \n",
       "1195               {*ჩენა, გაჩენა}  \n",
       "7                  {*ხლება, ხლება}  \n",
       "4182           {მომქცევი, მოქცევა}  \n",
       "52                   {ყოფნა, ყოფა}  \n",
       "248         {გაკეთება, გამოკეთება}  \n",
       "281           {გამოცნობა, გაცნობა}  \n",
       "1065                 {ცემა, *ცემა}  \n",
       "6403            {ბრძოლება, ბრძოლა}  \n",
       "5096       {მოთხოვნა, მოთხოვნამდე}  \n",
       "5604             {დაწერა, დამწერი}  \n",
       "2208        {დამორჩილება, მორჩილი}  \n",
       "4556             {შეწუხება, წუხვა}  \n",
       "97                       {იგი, ის}  \n",
       "122                 {ტირილი, ტირი}  \n",
       "461                  {ყოლა, სმევა}  \n",
       "1324           {*ჩვენება, ჩვენება}  \n",
       "1150              {დათმობა, თმობა}  \n",
       "100              {დადგომა, დადგმა}  \n",
       "476            {დაჯერება, *ჯერება}  \n",
       "2242         {გამოჩენა, გამომჩენი}  \n",
       "6078   {გამოცხადებით, გამოცხადება}  \n",
       "836             {მოკვლა, მოუკლავი}  \n",
       "197            {ცხოვარი, ცხოვრება}  \n",
       "1423             {გახარება, გახრა}  \n",
       "540            {უგრძნობი, გრძნობა}  \n",
       "1503          {დაწყება, დავიწყება}  \n",
       "10837             {გაყიდვა, ყიდვა}  \n",
       "209            {დაურჩება, დარჩენა}  \n",
       "174              {შეძლება, *ძლება}  \n",
       "140                   {უპო, პოვნა}  \n",
       "95                 {ქონა, შემოქნა}  \n",
       "492                 {ლოდინი, ველი}  \n",
       "1411               {მიღება, *ღება}  \n",
       "2014               {ქცევა, *ქცევა}  \n",
       "626                {დგომა, ადგომა}  "
      ]
     },
     "execution_count": 46,
     "metadata": {},
     "output_type": "execute_result"
    }
   ],
   "source": [
    "lemmas_frame['intersection'] = lemmas_frame['lemma'].map(intersection)\n",
    "lemmas_with_inter = lemmas_frame[~lemmas_frame.isnull().intersection]\n",
    "print(lemmas_with_inter.shape[0])\n",
    "lemmas_with_inter.sort_values(by=['count'], ascending=False)[:50]"
   ]
  },
  {
   "cell_type": "markdown",
   "id": "850673bb-aee5-466e-b8f0-8c2309e9f703",
   "metadata": {},
   "source": [
    "აქვე იკვეთება ჯგუფები, რომლებთა გაერთიანებაც შესაძლებელია: 1. [ა-ჰ]*ლემა და *ლემა (მაგ. დაჯერეაბ და *ჯერება ან შეძლება და *ძლება და ა.შ.) 2. ლემა1 და ლემა2 სადაც ლემა2 თვითონ შედის ლემა1-ში"
   ]
  },
  {
   "cell_type": "code",
   "execution_count": 47,
   "id": "132cd4a2-6888-44bd-a953-c835b9cc9649",
   "metadata": {
    "ExecuteTime": {
     "end_time": "2023-07-03T17:55:30.545829Z",
     "start_time": "2023-07-03T17:55:30.542242Z"
    }
   },
   "outputs": [],
   "source": [
    "def word_to_lemma(word: str) -> str:\n",
    "    try:\n",
    "        return df[df['word'] == word]['lemma'].item()\n",
    "    except ValueError:\n",
    "        return ''\n",
    "        \n",
    "def print_word_to_lemma(word: str) -> None:\n",
    "    print(f'word: {word} - lemma: {word_to_lemma(word)}')"
   ]
  },
  {
   "cell_type": "markdown",
   "id": "abe07574-a986-4486-a568-2b603dbd3895",
   "metadata": {},
   "source": [
    "ზოგიერთი სიტყვის ყველა ფორმაზე მოგვეძებნება შესაბამისი სწორი ლემა"
   ]
  },
  {
   "cell_type": "code",
   "execution_count": 48,
   "id": "a1c0574b-9776-4510-9899-96218e78336f",
   "metadata": {
    "ExecuteTime": {
     "end_time": "2023-07-03T17:55:31.007871Z",
     "start_time": "2023-07-03T17:55:30.623628Z"
    }
   },
   "outputs": [
    {
     "name": "stdout",
     "output_type": "stream",
     "text": [
      "word: ვჭამ - lemma: {'ჭამა'}\n",
      "word: ჭამ - lemma: {'ჭა', 'ჭამა'}\n",
      "word: ჭამს - lemma: {'ჭამა'}\n",
      "word: ვჭამთ - lemma: {'ჭამა'}\n",
      "word: ჭამთ - lemma: {'ჭამა'}\n",
      "word: ჭამენ - lemma: {'ჭამა'}\n"
     ]
    }
   ],
   "source": [
    "print_word_to_lemma('ვჭამ')\n",
    "print_word_to_lemma('ჭამ')\n",
    "print_word_to_lemma('ჭამს')\n",
    "print_word_to_lemma('ვჭამთ')\n",
    "print_word_to_lemma('ჭამთ')\n",
    "print_word_to_lemma('ჭამენ')"
   ]
  },
  {
   "cell_type": "code",
   "execution_count": 49,
   "id": "c44e6f9f-d0eb-49f2-8c2d-2d068d8ff291",
   "metadata": {
    "ExecuteTime": {
     "end_time": "2023-07-03T17:55:31.547514Z",
     "start_time": "2023-07-03T17:55:31.087493Z"
    }
   },
   "outputs": [
    {
     "name": "stdout",
     "output_type": "stream",
     "text": [
      "word: წყალი - lemma: {'წყალი'}\n",
      "word: წყალმა - lemma: {'წყალი'}\n",
      "word: წყალს - lemma: {'წყალი'}\n",
      "word: წყლის - lemma: {'წყალი'}\n",
      "word: წყლით - lemma: {'წყალი'}\n",
      "word: წყლად - lemma: {'წყალი'}\n",
      "word: წყალო - lemma: {'წყალი'}\n"
     ]
    }
   ],
   "source": [
    "print_word_to_lemma('წყალი')\n",
    "print_word_to_lemma('წყალმა')\n",
    "print_word_to_lemma('წყალს')\n",
    "print_word_to_lemma('წყლის')\n",
    "print_word_to_lemma('წყლით')\n",
    "print_word_to_lemma('წყლად')\n",
    "print_word_to_lemma('წყალო')"
   ]
  },
  {
   "cell_type": "code",
   "execution_count": 50,
   "id": "43746188-d345-4d40-9a0f-a6bcdb88b002",
   "metadata": {
    "ExecuteTime": {
     "end_time": "2023-07-03T17:55:32.004429Z",
     "start_time": "2023-07-03T17:55:31.623040Z"
    }
   },
   "outputs": [
    {
     "name": "stdout",
     "output_type": "stream",
     "text": [
      "word: ვყვირი - lemma: {'ყვირილი'}\n",
      "word: ყვირი - lemma: {'ყვირილი'}\n",
      "word: ყვირის - lemma: {'ყვირილი'}\n",
      "word: ვყვირით - lemma: {'ყვირილი'}\n",
      "word: ყვირით - lemma: {'ყვირილი'}\n",
      "word: ყვირიან - lemma: {'ყვირილი'}\n"
     ]
    }
   ],
   "source": [
    "print_word_to_lemma('ვყვირი')\n",
    "print_word_to_lemma('ყვირი')\n",
    "print_word_to_lemma('ყვირის')\n",
    "print_word_to_lemma('ვყვირით')\n",
    "print_word_to_lemma('ყვირით')\n",
    "print_word_to_lemma('ყვირიან')"
   ]
  },
  {
   "cell_type": "markdown",
   "id": "f5660411-535b-4eb6-bb92-9aab92f64b10",
   "metadata": {},
   "source": [
    "ზოგიერთი ცვალებადი მეტყველების ნაწილის ყველა ფორმა ერთ ლემაზე არ დადის"
   ]
  },
  {
   "cell_type": "code",
   "execution_count": 51,
   "id": "aae483e5-fe7f-409c-b488-1ae77541693d",
   "metadata": {
    "ExecuteTime": {
     "end_time": "2023-07-03T17:55:32.456170Z",
     "start_time": "2023-07-03T17:55:32.079964Z"
    }
   },
   "outputs": [
    {
     "name": "stdout",
     "output_type": "stream",
     "text": [
      "word: მივდივარ - lemma: {'მისვლა', 'მიდენა'}\n",
      "word: მიდიხარ - lemma: {'მისვლა', 'მიდენა'}\n",
      "word: მიდის - lemma: {'მისვლა'}\n",
      "word: მივდივართ - lemma: {'მისვლა', 'მივდივარი'}\n",
      "word: მიდიხართ - lemma: {'მისვლა'}\n",
      "word: მიდიან - lemma: {'მიდიანი', 'მისვლა'}\n"
     ]
    }
   ],
   "source": [
    "print_word_to_lemma('მივდივარ')\n",
    "print_word_to_lemma('მიდიხარ')\n",
    "print_word_to_lemma('მიდის')\n",
    "print_word_to_lemma('მივდივართ')\n",
    "print_word_to_lemma('მიდიხართ')\n",
    "print_word_to_lemma('მიდიან')"
   ]
  },
  {
   "cell_type": "markdown",
   "id": "61e1380b-1476-4dc3-915c-f5f573995524",
   "metadata": {},
   "source": [
    "კუმშვად / კვეცადი სახელების სიაც კი გაარჩია და ზოგიერთი არასწორი ფორმაც კი იცის, რომელიც გმაოიყენება ენაში"
   ]
  },
  {
   "cell_type": "code",
   "execution_count": 52,
   "id": "039fc583-ed21-4948-9813-2b05c1160537",
   "metadata": {
    "ExecuteTime": {
     "end_time": "2023-07-03T17:55:33.215806Z",
     "start_time": "2023-07-03T17:55:32.531106Z"
    }
   },
   "outputs": [
    {
     "name": "stdout",
     "output_type": "stream",
     "text": [
      "word: ნიორი - lemma: {'ნიორი'}\n",
      "word: ნიორის - lemma: {'ნიორი'}\n",
      "word: ნივრის - lemma: {'ნიორი'}\n",
      "word: მაწონი - lemma: {'მაწონი', 'დაწონა'}\n",
      "word: მაწვნის - lemma: {'მაწონი'}\n",
      "word: მინდორი - lemma: {'მინდორი', '\\t'}\n",
      "word: მინდვრის - lemma: {'მინდორი'}\n",
      "word: ლიმონი - lemma: {'ლიმო'}\n",
      "word: ლიმონის - lemma: {'ლიმონი'}\n",
      "word: ლიმნის - lemma: {'ლიმონი'}\n"
     ]
    }
   ],
   "source": [
    "print_word_to_lemma('ნიორი')\n",
    "print_word_to_lemma('ნიორის')\n",
    "print_word_to_lemma('ნივრის')\n",
    "print_word_to_lemma('მაწონი')\n",
    "print_word_to_lemma('მაწვნის')\n",
    "print_word_to_lemma('მინდორი')\n",
    "print_word_to_lemma('მინდვრის')\n",
    "print_word_to_lemma('ლიმონი')\n",
    "print_word_to_lemma('ლიმონის')\n",
    "print_word_to_lemma('ლიმნის')"
   ]
  },
  {
   "cell_type": "code",
   "execution_count": 53,
   "id": "8575c348-827d-4113-800e-ffccf96b58b2",
   "metadata": {
    "ExecuteTime": {
     "end_time": "2023-07-03T17:55:33.379286Z",
     "start_time": "2023-07-03T17:55:33.297060Z"
    }
   },
   "outputs": [
    {
     "name": "stdout",
     "output_type": "stream",
     "text": [
      "word: ვმესიჯობ - lemma: \n",
      "word: მომწერე - lemma: {'მოწერა'}\n"
     ]
    }
   ],
   "source": [
    "print_word_to_lemma('ვმესიჯობ')\n",
    "print_word_to_lemma('მომწერე')"
   ]
  },
  {
   "cell_type": "code",
   "execution_count": 54,
   "id": "d7e48c6d-0a3d-4030-beaf-ade6b21c1565",
   "metadata": {
    "ExecuteTime": {
     "end_time": "2023-07-03T17:55:33.388179Z",
     "start_time": "2023-07-03T17:55:33.384481Z"
    }
   },
   "outputs": [
    {
     "data": {
      "text/html": [
       "<div>\n",
       "<style scoped>\n",
       "    .dataframe tbody tr th:only-of-type {\n",
       "        vertical-align: middle;\n",
       "    }\n",
       "\n",
       "    .dataframe tbody tr th {\n",
       "        vertical-align: top;\n",
       "    }\n",
       "\n",
       "    .dataframe thead th {\n",
       "        text-align: right;\n",
       "    }\n",
       "</style>\n",
       "<table border=\"1\" class=\"dataframe\">\n",
       "  <thead>\n",
       "    <tr style=\"text-align: right;\">\n",
       "      <th></th>\n",
       "      <th>word</th>\n",
       "      <th>lemma</th>\n",
       "      <th>freq</th>\n",
       "      <th>lemma_count</th>\n",
       "    </tr>\n",
       "  </thead>\n",
       "  <tbody>\n",
       "    <tr>\n",
       "      <th>1000</th>\n",
       "      <td>ვილოცოთ</td>\n",
       "      <td>{'ლოცვა'}</td>\n",
       "      <td>219</td>\n",
       "      <td>1</td>\n",
       "    </tr>\n",
       "    <tr>\n",
       "      <th>1001</th>\n",
       "      <td>ღმერთს</td>\n",
       "      <td>{'ღმერთი'}</td>\n",
       "      <td>7440</td>\n",
       "      <td>1</td>\n",
       "    </tr>\n",
       "    <tr>\n",
       "      <th>1002</th>\n",
       "      <td>გადარჩენისა</td>\n",
       "      <td>{'გადარჩენა'}</td>\n",
       "      <td>357</td>\n",
       "      <td>1</td>\n",
       "    </tr>\n",
       "    <tr>\n",
       "      <th>1003</th>\n",
       "      <td>გაძლიერებისათვის</td>\n",
       "      <td>{'გაძლიერება'}</td>\n",
       "      <td>130</td>\n",
       "      <td>1</td>\n",
       "    </tr>\n",
       "    <tr>\n",
       "      <th>1004</th>\n",
       "      <td>მადლობა</td>\n",
       "      <td>{'მადლობა'}</td>\n",
       "      <td>16546</td>\n",
       "      <td>1</td>\n",
       "    </tr>\n",
       "    <tr>\n",
       "      <th>1005</th>\n",
       "      <td>შევწიროთ</td>\n",
       "      <td>{'შეწირვა'}</td>\n",
       "      <td>99</td>\n",
       "      <td>1</td>\n",
       "    </tr>\n",
       "    <tr>\n",
       "      <th>1006</th>\n",
       "      <td>შეყოვნდა</td>\n",
       "      <td>{'შეყოვნება'}</td>\n",
       "      <td>363</td>\n",
       "      <td>1</td>\n",
       "    </tr>\n",
       "    <tr>\n",
       "      <th>1007</th>\n",
       "      <td>მომეჩვენა</td>\n",
       "      <td>{'მოჩვენება'}</td>\n",
       "      <td>1231</td>\n",
       "      <td>1</td>\n",
       "    </tr>\n",
       "    <tr>\n",
       "      <th>1008</th>\n",
       "      <td>მეხსიერებას</td>\n",
       "      <td>{'მეხსიერება'}</td>\n",
       "      <td>539</td>\n",
       "      <td>1</td>\n",
       "    </tr>\n",
       "    <tr>\n",
       "      <th>1009</th>\n",
       "      <td>ძაბავდა</td>\n",
       "      <td>{'*ძაბვა'}</td>\n",
       "      <td>48</td>\n",
       "      <td>1</td>\n",
       "    </tr>\n",
       "    <tr>\n",
       "      <th>1010</th>\n",
       "      <td>სიტყვების</td>\n",
       "      <td>{'სიტყვება', 'სიტყვა'}</td>\n",
       "      <td>4304</td>\n",
       "      <td>2</td>\n",
       "    </tr>\n",
       "    <tr>\n",
       "      <th>1011</th>\n",
       "      <td>პოვნა</td>\n",
       "      <td>{'პოვნა'}</td>\n",
       "      <td>1776</td>\n",
       "      <td>1</td>\n",
       "    </tr>\n",
       "    <tr>\n",
       "      <th>1012</th>\n",
       "      <td>უჭირდა</td>\n",
       "      <td>{'ჭირვება'}</td>\n",
       "      <td>1794</td>\n",
       "      <td>1</td>\n",
       "    </tr>\n",
       "    <tr>\n",
       "      <th>1013</th>\n",
       "      <td>გონებაც</td>\n",
       "      <td>{'გონება'}</td>\n",
       "      <td>172</td>\n",
       "      <td>1</td>\n",
       "    </tr>\n",
       "    <tr>\n",
       "      <th>1014</th>\n",
       "      <td>დაბინდულიყო</td>\n",
       "      <td>{'დაბინდება'}</td>\n",
       "      <td>3</td>\n",
       "      <td>1</td>\n",
       "    </tr>\n",
       "    <tr>\n",
       "      <th>1015</th>\n",
       "      <td>სანგრიდან</td>\n",
       "      <td>{'სანგარი'}</td>\n",
       "      <td>16</td>\n",
       "      <td>1</td>\n",
       "    </tr>\n",
       "    <tr>\n",
       "      <th>1016</th>\n",
       "      <td>გავიდოდით</td>\n",
       "      <td>{'გასვლა'}</td>\n",
       "      <td>173</td>\n",
       "      <td>1</td>\n",
       "    </tr>\n",
       "    <tr>\n",
       "      <th>1017</th>\n",
       "      <td>მახსოვს</td>\n",
       "      <td>{'ხსოვნა'}</td>\n",
       "      <td>15112</td>\n",
       "      <td>1</td>\n",
       "    </tr>\n",
       "    <tr>\n",
       "      <th>1018</th>\n",
       "      <td>მომაშორა</td>\n",
       "      <td>{'მოშორება'}</td>\n",
       "      <td>30</td>\n",
       "      <td>1</td>\n",
       "    </tr>\n",
       "    <tr>\n",
       "      <th>1019</th>\n",
       "      <td>სახიდან</td>\n",
       "      <td>{'სახე'}</td>\n",
       "      <td>317</td>\n",
       "      <td>1</td>\n",
       "    </tr>\n",
       "  </tbody>\n",
       "</table>\n",
       "</div>"
      ],
      "text/plain": [
       "                  word                   lemma   freq  lemma_count\n",
       "1000           ვილოცოთ               {'ლოცვა'}    219            1\n",
       "1001            ღმერთს              {'ღმერთი'}   7440            1\n",
       "1002       გადარჩენისა           {'გადარჩენა'}    357            1\n",
       "1003  გაძლიერებისათვის          {'გაძლიერება'}    130            1\n",
       "1004           მადლობა             {'მადლობა'}  16546            1\n",
       "1005          შევწიროთ             {'შეწირვა'}     99            1\n",
       "1006          შეყოვნდა           {'შეყოვნება'}    363            1\n",
       "1007         მომეჩვენა           {'მოჩვენება'}   1231            1\n",
       "1008       მეხსიერებას          {'მეხსიერება'}    539            1\n",
       "1009           ძაბავდა              {'*ძაბვა'}     48            1\n",
       "1010         სიტყვების  {'სიტყვება', 'სიტყვა'}   4304            2\n",
       "1011             პოვნა               {'პოვნა'}   1776            1\n",
       "1012            უჭირდა             {'ჭირვება'}   1794            1\n",
       "1013           გონებაც              {'გონება'}    172            1\n",
       "1014       დაბინდულიყო           {'დაბინდება'}      3            1\n",
       "1015         სანგრიდან             {'სანგარი'}     16            1\n",
       "1016         გავიდოდით              {'გასვლა'}    173            1\n",
       "1017           მახსოვს              {'ხსოვნა'}  15112            1\n",
       "1018          მომაშორა            {'მოშორება'}     30            1\n",
       "1019           სახიდან                {'სახე'}    317            1"
      ]
     },
     "execution_count": 54,
     "metadata": {},
     "output_type": "execute_result"
    }
   ],
   "source": [
    "df[1000:1020]"
   ]
  },
  {
   "cell_type": "markdown",
   "id": "cdc37b76-6047-4934-b47d-73c4eeb83aa1",
   "metadata": {},
   "source": [
    "# შემოკლებული ცხრილი"
   ]
  },
  {
   "cell_type": "markdown",
   "id": "68e780f7-d581-4fa2-b5da-53af27a363ec",
   "metadata": {},
   "source": [
    "მაღლა წარმოდგენილი პრობლემებიდან გამომდინარე, იმისთვის, რომ მრავალემიანობა და მრავალთეგიანობა გადაგვეჭრა მივმართეთ ლემების და თეგების სიხშირის მიხედვით ამოეღებას."
   ]
  },
  {
   "cell_type": "code",
   "execution_count": 307,
   "id": "d46a4167-4d44-47d7-9605-215deba268b9",
   "metadata": {
    "ExecuteTime": {
     "end_time": "2023-07-03T19:51:31.276241Z",
     "start_time": "2023-07-03T19:51:26.243647Z"
    }
   },
   "outputs": [
    {
     "data": {
      "text/html": [
       "<div>\n",
       "<style scoped>\n",
       "    .dataframe tbody tr th:only-of-type {\n",
       "        vertical-align: middle;\n",
       "    }\n",
       "\n",
       "    .dataframe tbody tr th {\n",
       "        vertical-align: top;\n",
       "    }\n",
       "\n",
       "    .dataframe thead th {\n",
       "        text-align: right;\n",
       "    }\n",
       "</style>\n",
       "<table border=\"1\" class=\"dataframe\">\n",
       "  <thead>\n",
       "    <tr style=\"text-align: right;\">\n",
       "      <th></th>\n",
       "      <th>word</th>\n",
       "      <th>lemma</th>\n",
       "      <th>pos_tag</th>\n",
       "      <th>freq</th>\n",
       "    </tr>\n",
       "  </thead>\n",
       "  <tbody>\n",
       "    <tr>\n",
       "      <th>0</th>\n",
       "      <td>ამ</td>\n",
       "      <td>ეს</td>\n",
       "      <td>Pron</td>\n",
       "      <td>1041654</td>\n",
       "    </tr>\n",
       "    <tr>\n",
       "      <th>1</th>\n",
       "      <td>ზამთრის</td>\n",
       "      <td>ზამთარ·ი</td>\n",
       "      <td>N</td>\n",
       "      <td>8035</td>\n",
       "    </tr>\n",
       "    <tr>\n",
       "      <th>2</th>\n",
       "      <td>მიწურულს</td>\n",
       "      <td>მი·წურულ·ი</td>\n",
       "      <td>Dat</td>\n",
       "      <td>5976</td>\n",
       "    </tr>\n",
       "    <tr>\n",
       "      <th>3</th>\n",
       "      <td>თითქმის</td>\n",
       "      <td>თითქმის</td>\n",
       "      <td>Adv</td>\n",
       "      <td>62608</td>\n",
       "    </tr>\n",
       "    <tr>\n",
       "      <th>4</th>\n",
       "      <td>სასოწარკვეთილი</td>\n",
       "      <td>სასოწარკვეთილ·ი</td>\n",
       "      <td>A</td>\n",
       "      <td>844</td>\n",
       "    </tr>\n",
       "    <tr>\n",
       "      <th>...</th>\n",
       "      <td>...</td>\n",
       "      <td>...</td>\n",
       "      <td>...</td>\n",
       "      <td>...</td>\n",
       "    </tr>\n",
       "    <tr>\n",
       "      <th>95</th>\n",
       "      <td>ხომ</td>\n",
       "      <td>ხომ</td>\n",
       "      <td>Adv</td>\n",
       "      <td>127578</td>\n",
       "    </tr>\n",
       "    <tr>\n",
       "      <th>96</th>\n",
       "      <td>ვსაყვედურობდი</td>\n",
       "      <td>საყვედურ·ი</td>\n",
       "      <td>V</td>\n",
       "      <td>19</td>\n",
       "    </tr>\n",
       "    <tr>\n",
       "      <th>97</th>\n",
       "      <td>საწინააღმდეგო</td>\n",
       "      <td>საწინააღმდეგო</td>\n",
       "      <td>A</td>\n",
       "      <td>9474</td>\n",
       "    </tr>\n",
       "    <tr>\n",
       "      <th>98</th>\n",
       "      <td>გაქვს</td>\n",
       "      <td>ქონა</td>\n",
       "      <td>V</td>\n",
       "      <td>8972</td>\n",
       "    </tr>\n",
       "    <tr>\n",
       "      <th>99</th>\n",
       "      <td>წამოვდექი</td>\n",
       "      <td>წამო·დგომა</td>\n",
       "      <td>V</td>\n",
       "      <td>332</td>\n",
       "    </tr>\n",
       "  </tbody>\n",
       "</table>\n",
       "<p>100 rows × 4 columns</p>\n",
       "</div>"
      ],
      "text/plain": [
       "              word            lemma pos_tag     freq\n",
       "0               ამ               ეს    Pron  1041654\n",
       "1          ზამთრის         ზამთარ·ი       N     8035\n",
       "2         მიწურულს       მი·წურულ·ი     Dat     5976\n",
       "3          თითქმის          თითქმის     Adv    62608\n",
       "4   სასოწარკვეთილი  სასოწარკვეთილ·ი       A      844\n",
       "..             ...              ...     ...      ...\n",
       "95             ხომ              ხომ     Adv   127578\n",
       "96   ვსაყვედურობდი       საყვედურ·ი       V       19\n",
       "97   საწინააღმდეგო    საწინააღმდეგო       A     9474\n",
       "98           გაქვს             ქონა       V     8972\n",
       "99       წამოვდექი       წამო·დგომა       V      332\n",
       "\n",
       "[100 rows x 4 columns]"
      ]
     },
     "execution_count": 307,
     "metadata": {},
     "output_type": "execute_result"
    }
   ],
   "source": [
    "df2 = pd.read_csv('csv/adv_dict2.csv')\n",
    "df2[:100]"
   ]
  },
  {
   "cell_type": "code",
   "execution_count": 308,
   "id": "28536a1f-e093-4ecf-bf44-8b2259d8219f",
   "metadata": {
    "ExecuteTime": {
     "end_time": "2023-07-03T19:51:31.283244Z",
     "start_time": "2023-07-03T19:51:31.278159Z"
    }
   },
   "outputs": [
    {
     "data": {
      "text/plain": [
       "(2635260, 4)"
      ]
     },
     "execution_count": 308,
     "metadata": {},
     "output_type": "execute_result"
    }
   ],
   "source": [
    "df2.shape"
   ]
  },
  {
   "cell_type": "markdown",
   "id": "99f55b6c-91bc-49c7-b71a-05497bd618fc",
   "metadata": {
    "tags": []
   },
   "source": [
    "## ცხრილის გასუფთავება"
   ]
  },
  {
   "cell_type": "code",
   "execution_count": 309,
   "id": "4aacd015-b71a-4074-bb2f-52428b211834",
   "metadata": {
    "ExecuteTime": {
     "end_time": "2023-07-03T19:51:33.784151Z",
     "start_time": "2023-07-03T19:51:33.494400Z"
    }
   },
   "outputs": [
    {
     "data": {
      "text/plain": [
       "(1468545, 4)"
      ]
     },
     "execution_count": 309,
     "metadata": {},
     "output_type": "execute_result"
    }
   ],
   "source": [
    "df2 = df2[df2.word.isin(cleaned_df.word)]\n",
    "df2.shape"
   ]
  },
  {
   "cell_type": "code",
   "execution_count": 310,
   "id": "e3dc5ffd-1231-449e-ae91-21cd54f4109d",
   "metadata": {
    "ExecuteTime": {
     "end_time": "2023-07-03T19:51:34.144376Z",
     "start_time": "2023-07-03T19:51:34.080247Z"
    }
   },
   "outputs": [
    {
     "data": {
      "text/html": [
       "<div>\n",
       "<style scoped>\n",
       "    .dataframe tbody tr th:only-of-type {\n",
       "        vertical-align: middle;\n",
       "    }\n",
       "\n",
       "    .dataframe tbody tr th {\n",
       "        vertical-align: top;\n",
       "    }\n",
       "\n",
       "    .dataframe thead th {\n",
       "        text-align: right;\n",
       "    }\n",
       "</style>\n",
       "<table border=\"1\" class=\"dataframe\">\n",
       "  <thead>\n",
       "    <tr style=\"text-align: right;\">\n",
       "      <th></th>\n",
       "      <th>word</th>\n",
       "      <th>lemma</th>\n",
       "      <th>pos_tag</th>\n",
       "      <th>freq</th>\n",
       "    </tr>\n",
       "  </thead>\n",
       "  <tbody>\n",
       "    <tr>\n",
       "      <th>2479</th>\n",
       "      <td>------</td>\n",
       "      <td>NaN</td>\n",
       "      <td>Interj</td>\n",
       "      <td>29</td>\n",
       "    </tr>\n",
       "    <tr>\n",
       "      <th>223663</th>\n",
       "      <td>----------------</td>\n",
       "      <td>NaN</td>\n",
       "      <td>Interj</td>\n",
       "      <td>19</td>\n",
       "    </tr>\n",
       "    <tr>\n",
       "      <th>306977</th>\n",
       "      <td>----------</td>\n",
       "      <td>NaN</td>\n",
       "      <td>Interj</td>\n",
       "      <td>35</td>\n",
       "    </tr>\n",
       "    <tr>\n",
       "      <th>412795</th>\n",
       "      <td>----------------------------------------------...</td>\n",
       "      <td>NaN</td>\n",
       "      <td>Interj</td>\n",
       "      <td>1</td>\n",
       "    </tr>\n",
       "    <tr>\n",
       "      <th>459350</th>\n",
       "      <td>---------</td>\n",
       "      <td>NaN</td>\n",
       "      <td>Interj</td>\n",
       "      <td>38</td>\n",
       "    </tr>\n",
       "    <tr>\n",
       "      <th>464477</th>\n",
       "      <td>-----------------------------------------</td>\n",
       "      <td>NaN</td>\n",
       "      <td>Interj</td>\n",
       "      <td>15</td>\n",
       "    </tr>\n",
       "    <tr>\n",
       "      <th>492616</th>\n",
       "      <td>--------------------</td>\n",
       "      <td>NaN</td>\n",
       "      <td>Interj</td>\n",
       "      <td>34</td>\n",
       "    </tr>\n",
       "    <tr>\n",
       "      <th>545815</th>\n",
       "      <td>--------------------------------------</td>\n",
       "      <td>NaN</td>\n",
       "      <td>Interj</td>\n",
       "      <td>8</td>\n",
       "    </tr>\n",
       "    <tr>\n",
       "      <th>545823</th>\n",
       "      <td>--------------------------------------------</td>\n",
       "      <td>NaN</td>\n",
       "      <td>Interj</td>\n",
       "      <td>7</td>\n",
       "    </tr>\n",
       "    <tr>\n",
       "      <th>545830</th>\n",
       "      <td>---------------------------------------</td>\n",
       "      <td>NaN</td>\n",
       "      <td>Interj</td>\n",
       "      <td>14</td>\n",
       "    </tr>\n",
       "    <tr>\n",
       "      <th>545885</th>\n",
       "      <td>------------------------------------------</td>\n",
       "      <td>NaN</td>\n",
       "      <td>Interj</td>\n",
       "      <td>7</td>\n",
       "    </tr>\n",
       "    <tr>\n",
       "      <th>546400</th>\n",
       "      <td>----------------------------------------</td>\n",
       "      <td>NaN</td>\n",
       "      <td>Interj</td>\n",
       "      <td>18</td>\n",
       "    </tr>\n",
       "    <tr>\n",
       "      <th>546513</th>\n",
       "      <td>-----------------------------------------------</td>\n",
       "      <td>NaN</td>\n",
       "      <td>Interj</td>\n",
       "      <td>1</td>\n",
       "    </tr>\n",
       "    <tr>\n",
       "      <th>564175</th>\n",
       "      <td>-------------------------------------</td>\n",
       "      <td>NaN</td>\n",
       "      <td>Interj</td>\n",
       "      <td>8</td>\n",
       "    </tr>\n",
       "    <tr>\n",
       "      <th>564176</th>\n",
       "      <td>----------------------------------------------...</td>\n",
       "      <td>NaN</td>\n",
       "      <td>Interj</td>\n",
       "      <td>13</td>\n",
       "    </tr>\n",
       "    <tr>\n",
       "      <th>565337</th>\n",
       "      <td>-------------------------------------------------</td>\n",
       "      <td>NaN</td>\n",
       "      <td>Interj</td>\n",
       "      <td>1</td>\n",
       "    </tr>\n",
       "    <tr>\n",
       "      <th>567649</th>\n",
       "      <td>------------------</td>\n",
       "      <td>NaN</td>\n",
       "      <td>Interj</td>\n",
       "      <td>27</td>\n",
       "    </tr>\n",
       "    <tr>\n",
       "      <th>577333</th>\n",
       "      <td>--------</td>\n",
       "      <td>NaN</td>\n",
       "      <td>Interj</td>\n",
       "      <td>48</td>\n",
       "    </tr>\n",
       "    <tr>\n",
       "      <th>577541</th>\n",
       "      <td>--------------------------------</td>\n",
       "      <td>NaN</td>\n",
       "      <td>Interj</td>\n",
       "      <td>7</td>\n",
       "    </tr>\n",
       "    <tr>\n",
       "      <th>577542</th>\n",
       "      <td>----------------------------------</td>\n",
       "      <td>NaN</td>\n",
       "      <td>Interj</td>\n",
       "      <td>11</td>\n",
       "    </tr>\n",
       "    <tr>\n",
       "      <th>578224</th>\n",
       "      <td>---------------</td>\n",
       "      <td>NaN</td>\n",
       "      <td>Interj</td>\n",
       "      <td>20</td>\n",
       "    </tr>\n",
       "    <tr>\n",
       "      <th>578747</th>\n",
       "      <td>-----------------------</td>\n",
       "      <td>NaN</td>\n",
       "      <td>Interj</td>\n",
       "      <td>19</td>\n",
       "    </tr>\n",
       "    <tr>\n",
       "      <th>579128</th>\n",
       "      <td>-------------------------------------------</td>\n",
       "      <td>NaN</td>\n",
       "      <td>Interj</td>\n",
       "      <td>4</td>\n",
       "    </tr>\n",
       "    <tr>\n",
       "      <th>581147</th>\n",
       "      <td>---------------------------------</td>\n",
       "      <td>NaN</td>\n",
       "      <td>Interj</td>\n",
       "      <td>5</td>\n",
       "    </tr>\n",
       "    <tr>\n",
       "      <th>587634</th>\n",
       "      <td>-----------</td>\n",
       "      <td>NaN</td>\n",
       "      <td>Interj</td>\n",
       "      <td>23</td>\n",
       "    </tr>\n",
       "    <tr>\n",
       "      <th>588446</th>\n",
       "      <td>-------</td>\n",
       "      <td>NaN</td>\n",
       "      <td>Interj</td>\n",
       "      <td>34</td>\n",
       "    </tr>\n",
       "    <tr>\n",
       "      <th>597283</th>\n",
       "      <td>-------------------------------</td>\n",
       "      <td>NaN</td>\n",
       "      <td>Interj</td>\n",
       "      <td>6</td>\n",
       "    </tr>\n",
       "    <tr>\n",
       "      <th>598029</th>\n",
       "      <td>-----------------------------------</td>\n",
       "      <td>NaN</td>\n",
       "      <td>Interj</td>\n",
       "      <td>7</td>\n",
       "    </tr>\n",
       "    <tr>\n",
       "      <th>598355</th>\n",
       "      <td>-----------------------------</td>\n",
       "      <td>NaN</td>\n",
       "      <td>Interj</td>\n",
       "      <td>7</td>\n",
       "    </tr>\n",
       "    <tr>\n",
       "      <th>599510</th>\n",
       "      <td>--------------------------</td>\n",
       "      <td>NaN</td>\n",
       "      <td>Interj</td>\n",
       "      <td>13</td>\n",
       "    </tr>\n",
       "    <tr>\n",
       "      <th>599603</th>\n",
       "      <td>----------------------</td>\n",
       "      <td>NaN</td>\n",
       "      <td>Interj</td>\n",
       "      <td>21</td>\n",
       "    </tr>\n",
       "    <tr>\n",
       "      <th>600616</th>\n",
       "      <td>------------------------</td>\n",
       "      <td>NaN</td>\n",
       "      <td>Interj</td>\n",
       "      <td>15</td>\n",
       "    </tr>\n",
       "    <tr>\n",
       "      <th>601054</th>\n",
       "      <td>----------------------------</td>\n",
       "      <td>NaN</td>\n",
       "      <td>Interj</td>\n",
       "      <td>6</td>\n",
       "    </tr>\n",
       "    <tr>\n",
       "      <th>601073</th>\n",
       "      <td>-----------------</td>\n",
       "      <td>NaN</td>\n",
       "      <td>Interj</td>\n",
       "      <td>25</td>\n",
       "    </tr>\n",
       "    <tr>\n",
       "      <th>602081</th>\n",
       "      <td>---------------------------</td>\n",
       "      <td>NaN</td>\n",
       "      <td>Interj</td>\n",
       "      <td>10</td>\n",
       "    </tr>\n",
       "    <tr>\n",
       "      <th>602901</th>\n",
       "      <td>----</td>\n",
       "      <td>NaN</td>\n",
       "      <td>Interj</td>\n",
       "      <td>13</td>\n",
       "    </tr>\n",
       "    <tr>\n",
       "      <th>603214</th>\n",
       "      <td>---------------------</td>\n",
       "      <td>NaN</td>\n",
       "      <td>Interj</td>\n",
       "      <td>16</td>\n",
       "    </tr>\n",
       "    <tr>\n",
       "      <th>606959</th>\n",
       "      <td>----------------------------------------------...</td>\n",
       "      <td>NaN</td>\n",
       "      <td>Interj</td>\n",
       "      <td>1</td>\n",
       "    </tr>\n",
       "    <tr>\n",
       "      <th>611496</th>\n",
       "      <td>------------------------------</td>\n",
       "      <td>NaN</td>\n",
       "      <td>Interj</td>\n",
       "      <td>11</td>\n",
       "    </tr>\n",
       "    <tr>\n",
       "      <th>616895</th>\n",
       "      <td>-------------</td>\n",
       "      <td>NaN</td>\n",
       "      <td>Interj</td>\n",
       "      <td>14</td>\n",
       "    </tr>\n",
       "    <tr>\n",
       "      <th>616897</th>\n",
       "      <td>-------------------------</td>\n",
       "      <td>NaN</td>\n",
       "      <td>Interj</td>\n",
       "      <td>7</td>\n",
       "    </tr>\n",
       "    <tr>\n",
       "      <th>617296</th>\n",
       "      <td>---------------------------------------------</td>\n",
       "      <td>NaN</td>\n",
       "      <td>Interj</td>\n",
       "      <td>5</td>\n",
       "    </tr>\n",
       "    <tr>\n",
       "      <th>625574</th>\n",
       "      <td>--------------</td>\n",
       "      <td>NaN</td>\n",
       "      <td>Interj</td>\n",
       "      <td>10</td>\n",
       "    </tr>\n",
       "    <tr>\n",
       "      <th>625984</th>\n",
       "      <td>-------------------</td>\n",
       "      <td>NaN</td>\n",
       "      <td>Interj</td>\n",
       "      <td>15</td>\n",
       "    </tr>\n",
       "    <tr>\n",
       "      <th>626347</th>\n",
       "      <td>----------------------------------------------...</td>\n",
       "      <td>NaN</td>\n",
       "      <td>Interj</td>\n",
       "      <td>2</td>\n",
       "    </tr>\n",
       "    <tr>\n",
       "      <th>629691</th>\n",
       "      <td>-----</td>\n",
       "      <td>NaN</td>\n",
       "      <td>Interj</td>\n",
       "      <td>18</td>\n",
       "    </tr>\n",
       "    <tr>\n",
       "      <th>629778</th>\n",
       "      <td>------------------------------------</td>\n",
       "      <td>NaN</td>\n",
       "      <td>Interj</td>\n",
       "      <td>12</td>\n",
       "    </tr>\n",
       "    <tr>\n",
       "      <th>637493</th>\n",
       "      <td>----------------------------------------------...</td>\n",
       "      <td>NaN</td>\n",
       "      <td>Interj</td>\n",
       "      <td>1</td>\n",
       "    </tr>\n",
       "    <tr>\n",
       "      <th>650797</th>\n",
       "      <td>----------------------------------------------...</td>\n",
       "      <td>NaN</td>\n",
       "      <td>Interj</td>\n",
       "      <td>1</td>\n",
       "    </tr>\n",
       "    <tr>\n",
       "      <th>664739</th>\n",
       "      <td>------------</td>\n",
       "      <td>NaN</td>\n",
       "      <td>Interj</td>\n",
       "      <td>17</td>\n",
       "    </tr>\n",
       "    <tr>\n",
       "      <th>827941</th>\n",
       "      <td>----------------------------------------------...</td>\n",
       "      <td>NaN</td>\n",
       "      <td>Interj</td>\n",
       "      <td>1</td>\n",
       "    </tr>\n",
       "    <tr>\n",
       "      <th>946822</th>\n",
       "      <td>----------------------------------------------...</td>\n",
       "      <td>NaN</td>\n",
       "      <td>Interj</td>\n",
       "      <td>2</td>\n",
       "    </tr>\n",
       "  </tbody>\n",
       "</table>\n",
       "</div>"
      ],
      "text/plain": [
       "                                                     word lemma pos_tag  freq\n",
       "2479                                               ------   NaN  Interj    29\n",
       "223663                                   ----------------   NaN  Interj    19\n",
       "306977                                         ----------   NaN  Interj    35\n",
       "412795  ----------------------------------------------...   NaN  Interj     1\n",
       "459350                                          ---------   NaN  Interj    38\n",
       "464477          -----------------------------------------   NaN  Interj    15\n",
       "492616                               --------------------   NaN  Interj    34\n",
       "545815             --------------------------------------   NaN  Interj     8\n",
       "545823       --------------------------------------------   NaN  Interj     7\n",
       "545830            ---------------------------------------   NaN  Interj    14\n",
       "545885         ------------------------------------------   NaN  Interj     7\n",
       "546400           ----------------------------------------   NaN  Interj    18\n",
       "546513    -----------------------------------------------   NaN  Interj     1\n",
       "564175              -------------------------------------   NaN  Interj     8\n",
       "564176  ----------------------------------------------...   NaN  Interj    13\n",
       "565337  -------------------------------------------------   NaN  Interj     1\n",
       "567649                                 ------------------   NaN  Interj    27\n",
       "577333                                           --------   NaN  Interj    48\n",
       "577541                   --------------------------------   NaN  Interj     7\n",
       "577542                 ----------------------------------   NaN  Interj    11\n",
       "578224                                    ---------------   NaN  Interj    20\n",
       "578747                            -----------------------   NaN  Interj    19\n",
       "579128        -------------------------------------------   NaN  Interj     4\n",
       "581147                  ---------------------------------   NaN  Interj     5\n",
       "587634                                        -----------   NaN  Interj    23\n",
       "588446                                            -------   NaN  Interj    34\n",
       "597283                    -------------------------------   NaN  Interj     6\n",
       "598029                -----------------------------------   NaN  Interj     7\n",
       "598355                      -----------------------------   NaN  Interj     7\n",
       "599510                         --------------------------   NaN  Interj    13\n",
       "599603                             ----------------------   NaN  Interj    21\n",
       "600616                           ------------------------   NaN  Interj    15\n",
       "601054                       ----------------------------   NaN  Interj     6\n",
       "601073                                  -----------------   NaN  Interj    25\n",
       "602081                        ---------------------------   NaN  Interj    10\n",
       "602901                                               ----   NaN  Interj    13\n",
       "603214                              ---------------------   NaN  Interj    16\n",
       "606959  ----------------------------------------------...   NaN  Interj     1\n",
       "611496                     ------------------------------   NaN  Interj    11\n",
       "616895                                      -------------   NaN  Interj    14\n",
       "616897                          -------------------------   NaN  Interj     7\n",
       "617296      ---------------------------------------------   NaN  Interj     5\n",
       "625574                                     --------------   NaN  Interj    10\n",
       "625984                                -------------------   NaN  Interj    15\n",
       "626347  ----------------------------------------------...   NaN  Interj     2\n",
       "629691                                              -----   NaN  Interj    18\n",
       "629778               ------------------------------------   NaN  Interj    12\n",
       "637493  ----------------------------------------------...   NaN  Interj     1\n",
       "650797  ----------------------------------------------...   NaN  Interj     1\n",
       "664739                                       ------------   NaN  Interj    17\n",
       "827941  ----------------------------------------------...   NaN  Interj     1\n",
       "946822  ----------------------------------------------...   NaN  Interj     2"
      ]
     },
     "execution_count": 310,
     "metadata": {},
     "output_type": "execute_result"
    }
   ],
   "source": [
    "df2[df2.isna().any(axis=1)]"
   ]
  },
  {
   "cell_type": "code",
   "execution_count": 311,
   "id": "9ca33858-fe23-4cf8-9e28-560316b726fc",
   "metadata": {
    "ExecuteTime": {
     "end_time": "2023-07-03T19:51:35.056756Z",
     "start_time": "2023-07-03T19:51:34.550884Z"
    }
   },
   "outputs": [
    {
     "data": {
      "text/plain": [
       "(1468493, 4)"
      ]
     },
     "execution_count": 311,
     "metadata": {},
     "output_type": "execute_result"
    }
   ],
   "source": [
    "df2 = df2.dropna(how='any')\n",
    "df2.shape"
   ]
  },
  {
   "cell_type": "code",
   "execution_count": 312,
   "id": "c7044c40-a3e5-4287-96d8-f9c3fe04002f",
   "metadata": {
    "ExecuteTime": {
     "end_time": "2023-07-03T19:51:37.899917Z",
     "start_time": "2023-07-03T19:51:34.880799Z"
    }
   },
   "outputs": [],
   "source": [
    "def remove_dot(x):\n",
    "    try:\n",
    "        return str(re.sub('·', '', x))\n",
    "    except TypeError:\n",
    "        print(x)\n",
    "\n",
    "df2.loc[:,'lemma'] = df2.loc[:,'lemma'].apply(remove_dot)"
   ]
  },
  {
   "cell_type": "markdown",
   "id": "42ba9103",
   "metadata": {},
   "source": [
    "### სიტყვების გასუფთავება"
   ]
  },
  {
   "cell_type": "code",
   "execution_count": 313,
   "id": "293de19b",
   "metadata": {
    "ExecuteTime": {
     "end_time": "2023-07-03T19:51:39.199288Z",
     "start_time": "2023-07-03T19:51:38.003823Z"
    },
    "collapsed": false,
    "jupyter": {
     "outputs_hidden": false
    }
   },
   "outputs": [],
   "source": [
    "df2 = df2[~df2.word.str.contains(r'[0-9]')] # რიცხვებისგან გაწმენდა"
   ]
  },
  {
   "cell_type": "code",
   "execution_count": 419,
   "id": "fc598457",
   "metadata": {
    "ExecuteTime": {
     "end_time": "2023-07-03T20:22:19.885159Z",
     "start_time": "2023-07-03T20:22:17.875887Z"
    },
    "collapsed": false,
    "jupyter": {
     "outputs_hidden": false
    }
   },
   "outputs": [],
   "source": [
    "df2 = df2[~(df2.word.str.count('-') > 1 | df2.word.str.startswith('-') | df2.word.str.endswith('-'))]"
   ]
  },
  {
   "cell_type": "code",
   "execution_count": 314,
   "id": "601395b5",
   "metadata": {
    "ExecuteTime": {
     "end_time": "2023-07-03T19:51:40.363976Z",
     "start_time": "2023-07-03T19:51:39.341518Z"
    },
    "collapsed": false,
    "jupyter": {
     "outputs_hidden": false
    }
   },
   "outputs": [],
   "source": [
    "df2 = df2[df2.word.str.contains(r'[აბგდევზთიკლმნოპჟრსტუფქღყშჩცძწჭხჯჰ]')] # ქართული ასოების არ შემცველი სიტყვების ამოგდება"
   ]
  },
  {
   "cell_type": "code",
   "execution_count": 315,
   "id": "20f996eb",
   "metadata": {
    "ExecuteTime": {
     "end_time": "2023-07-03T19:51:41.183782Z",
     "start_time": "2023-07-03T19:51:40.459239Z"
    },
    "collapsed": false,
    "jupyter": {
     "outputs_hidden": false
    }
   },
   "outputs": [
    {
     "data": {
      "text/plain": [
       "0"
      ]
     },
     "execution_count": 315,
     "metadata": {},
     "output_type": "execute_result"
    }
   ],
   "source": [
    "len(df2[df2.word.str.contains(r'[^აბგდევზთიკლმნოპჟრსტუფქღყშჩცძწჭხჯჰ-]')])"
   ]
  },
  {
   "cell_type": "markdown",
   "id": "a6c65435",
   "metadata": {},
   "source": [
    "მხოლოდ ქართული ასოებისგან შემდგარი სიტყვები დარჩა"
   ]
  },
  {
   "cell_type": "markdown",
   "id": "87be5634",
   "metadata": {},
   "source": [
    "### ლემების გასუფთავება"
   ]
  },
  {
   "cell_type": "code",
   "execution_count": 316,
   "id": "e60f707c",
   "metadata": {
    "ExecuteTime": {
     "end_time": "2023-07-03T19:51:42.105727Z",
     "start_time": "2023-07-03T19:51:41.180457Z"
    },
    "collapsed": false,
    "jupyter": {
     "outputs_hidden": false
    }
   },
   "outputs": [
    {
     "data": {
      "text/html": [
       "<div>\n",
       "<style scoped>\n",
       "    .dataframe tbody tr th:only-of-type {\n",
       "        vertical-align: middle;\n",
       "    }\n",
       "\n",
       "    .dataframe tbody tr th {\n",
       "        vertical-align: top;\n",
       "    }\n",
       "\n",
       "    .dataframe thead th {\n",
       "        text-align: right;\n",
       "    }\n",
       "</style>\n",
       "<table border=\"1\" class=\"dataframe\">\n",
       "  <thead>\n",
       "    <tr style=\"text-align: right;\">\n",
       "      <th></th>\n",
       "      <th>word</th>\n",
       "      <th>lemma</th>\n",
       "      <th>pos_tag</th>\n",
       "      <th>freq</th>\n",
       "    </tr>\n",
       "  </thead>\n",
       "  <tbody>\n",
       "    <tr>\n",
       "      <th>3035</th>\n",
       "      <td>თქმა</td>\n",
       "      <td>\\t</td>\n",
       "      <td>&lt;MWE&gt;</td>\n",
       "      <td>82436</td>\n",
       "    </tr>\n",
       "  </tbody>\n",
       "</table>\n",
       "</div>"
      ],
      "text/plain": [
       "      word lemma pos_tag   freq\n",
       "3035  თქმა    \\t   <MWE>  82436"
      ]
     },
     "execution_count": 316,
     "metadata": {},
     "output_type": "execute_result"
    }
   ],
   "source": [
    "df.query('word == \"თქმა\"')\n",
    "df2[df2.lemma.str.contains(r'\\t|\\?\\?')].query('word == \"თქმა\"')"
   ]
  },
  {
   "cell_type": "code",
   "execution_count": 317,
   "id": "840a8241",
   "metadata": {
    "ExecuteTime": {
     "end_time": "2023-07-03T19:51:42.272629Z",
     "start_time": "2023-07-03T19:51:42.100696Z"
    },
    "collapsed": false,
    "jupyter": {
     "outputs_hidden": false
    }
   },
   "outputs": [
    {
     "data": {
      "text/html": [
       "<div>\n",
       "<style scoped>\n",
       "    .dataframe tbody tr th:only-of-type {\n",
       "        vertical-align: middle;\n",
       "    }\n",
       "\n",
       "    .dataframe tbody tr th {\n",
       "        vertical-align: top;\n",
       "    }\n",
       "\n",
       "    .dataframe thead th {\n",
       "        text-align: right;\n",
       "    }\n",
       "</style>\n",
       "<table border=\"1\" class=\"dataframe\">\n",
       "  <thead>\n",
       "    <tr style=\"text-align: right;\">\n",
       "      <th></th>\n",
       "      <th>word</th>\n",
       "      <th>lemma</th>\n",
       "      <th>pos_tag</th>\n",
       "      <th>freq</th>\n",
       "    </tr>\n",
       "  </thead>\n",
       "  <tbody>\n",
       "    <tr>\n",
       "      <th>3035</th>\n",
       "      <td>თქმა</td>\n",
       "      <td>\\t</td>\n",
       "      <td>&lt;MWE&gt;</td>\n",
       "      <td>82436</td>\n",
       "    </tr>\n",
       "    <tr>\n",
       "      <th>3632</th>\n",
       "      <td>ზღვის</td>\n",
       "      <td>\\t</td>\n",
       "      <td>&lt;MWE&gt;</td>\n",
       "      <td>13421</td>\n",
       "    </tr>\n",
       "    <tr>\n",
       "      <th>12493</th>\n",
       "      <td>უმეტეს</td>\n",
       "      <td>\\t</td>\n",
       "      <td>&lt;MWE&gt;</td>\n",
       "      <td>26016</td>\n",
       "    </tr>\n",
       "    <tr>\n",
       "      <th>15529</th>\n",
       "      <td>ქართლსა</td>\n",
       "      <td>\\t</td>\n",
       "      <td>&lt;MWE&gt;</td>\n",
       "      <td>471</td>\n",
       "    </tr>\n",
       "    <tr>\n",
       "      <th>21896</th>\n",
       "      <td>ქართლიდან</td>\n",
       "      <td>\\t</td>\n",
       "      <td>&lt;MWE&gt;</td>\n",
       "      <td>305</td>\n",
       "    </tr>\n",
       "    <tr>\n",
       "      <th>...</th>\n",
       "      <td>...</td>\n",
       "      <td>...</td>\n",
       "      <td>...</td>\n",
       "      <td>...</td>\n",
       "    </tr>\n",
       "    <tr>\n",
       "      <th>2432488</th>\n",
       "      <td>ზელანდიამდე</td>\n",
       "      <td>\\t</td>\n",
       "      <td>&lt;MWE&gt;</td>\n",
       "      <td>8</td>\n",
       "    </tr>\n",
       "    <tr>\n",
       "      <th>2456605</th>\n",
       "      <td>სალიე</td>\n",
       "      <td>\\t</td>\n",
       "      <td>Unknown</td>\n",
       "      <td>12</td>\n",
       "    </tr>\n",
       "    <tr>\n",
       "      <th>2488229</th>\n",
       "      <td>ეწერიდანაა</td>\n",
       "      <td>\\t</td>\n",
       "      <td>&lt;MWE&gt;</td>\n",
       "      <td>2</td>\n",
       "    </tr>\n",
       "    <tr>\n",
       "      <th>2492771</th>\n",
       "      <td>აზიელებით</td>\n",
       "      <td>\\t</td>\n",
       "      <td>&lt;MWE&gt;</td>\n",
       "      <td>2</td>\n",
       "    </tr>\n",
       "    <tr>\n",
       "      <th>2498248</th>\n",
       "      <td>კორეაო</td>\n",
       "      <td>\\t</td>\n",
       "      <td>&lt;MWE&gt;</td>\n",
       "      <td>2</td>\n",
       "    </tr>\n",
       "  </tbody>\n",
       "</table>\n",
       "<p>205 rows × 4 columns</p>\n",
       "</div>"
      ],
      "text/plain": [
       "                word lemma  pos_tag   freq\n",
       "3035            თქმა    \\t    <MWE>  82436\n",
       "3632           ზღვის    \\t    <MWE>  13421\n",
       "12493         უმეტეს    \\t    <MWE>  26016\n",
       "15529        ქართლსა    \\t    <MWE>    471\n",
       "21896      ქართლიდან    \\t    <MWE>    305\n",
       "...              ...   ...      ...    ...\n",
       "2432488  ზელანდიამდე    \\t    <MWE>      8\n",
       "2456605        სალიე    \\t  Unknown     12\n",
       "2488229   ეწერიდანაა    \\t    <MWE>      2\n",
       "2492771    აზიელებით    \\t    <MWE>      2\n",
       "2498248       კორეაო    \\t    <MWE>      2\n",
       "\n",
       "[205 rows x 4 columns]"
      ]
     },
     "execution_count": 317,
     "metadata": {},
     "output_type": "execute_result"
    }
   ],
   "source": [
    "df2.query('lemma == \"\\t\"')"
   ]
  },
  {
   "cell_type": "code",
   "execution_count": 318,
   "id": "e5bf324d",
   "metadata": {
    "ExecuteTime": {
     "end_time": "2023-07-03T19:51:43.660240Z",
     "start_time": "2023-07-03T19:51:42.238368Z"
    },
    "collapsed": false,
    "jupyter": {
     "outputs_hidden": false
    }
   },
   "outputs": [
    {
     "data": {
      "text/plain": [
       "array(['ბარვა=წამოცმა', 'აწონა=დაწონა', '\\t', ..., 'არაესკადრილიაჲ',\n",
       "       'ქება=დევნა', 'არასაამაყოჲ'], dtype=object)"
      ]
     },
     "execution_count": 318,
     "metadata": {},
     "output_type": "execute_result"
    }
   ],
   "source": [
    "df2[df2.lemma.str.contains(r'[^აბგდევზთიკლმნოპჟრსტუფქღყშჩცძწჭხჯჰ*-]')].lemma.unique()"
   ]
  },
  {
   "cell_type": "code",
   "execution_count": 319,
   "id": "582a464c",
   "metadata": {
    "ExecuteTime": {
     "end_time": "2023-07-03T19:51:45.679461Z",
     "start_time": "2023-07-03T19:51:43.733914Z"
    },
    "collapsed": false,
    "jupyter": {
     "outputs_hidden": false
    }
   },
   "outputs": [
    {
     "data": {
      "text/html": [
       "<div>\n",
       "<style scoped>\n",
       "    .dataframe tbody tr th:only-of-type {\n",
       "        vertical-align: middle;\n",
       "    }\n",
       "\n",
       "    .dataframe tbody tr th {\n",
       "        vertical-align: top;\n",
       "    }\n",
       "\n",
       "    .dataframe thead th {\n",
       "        text-align: right;\n",
       "    }\n",
       "</style>\n",
       "<table border=\"1\" class=\"dataframe\">\n",
       "  <thead>\n",
       "    <tr style=\"text-align: right;\">\n",
       "      <th></th>\n",
       "      <th>word</th>\n",
       "      <th>lemma_right</th>\n",
       "    </tr>\n",
       "  </thead>\n",
       "  <tbody>\n",
       "    <tr>\n",
       "      <th>0</th>\n",
       "      <td>თქმა</td>\n",
       "      <td>{'თქმა', '\\t'}</td>\n",
       "    </tr>\n",
       "    <tr>\n",
       "      <th>1</th>\n",
       "      <td>დ</td>\n",
       "      <td>{'??', '\\t', 'დ-ი'}</td>\n",
       "    </tr>\n",
       "    <tr>\n",
       "      <th>2</th>\n",
       "      <td>ზღვის</td>\n",
       "      <td>{'\\t', 'ზღვა'}</td>\n",
       "    </tr>\n",
       "    <tr>\n",
       "      <th>3</th>\n",
       "      <td>ჟიულ</td>\n",
       "      <td>{'ჟიული', '??'}</td>\n",
       "    </tr>\n",
       "    <tr>\n",
       "      <th>4</th>\n",
       "      <td>ერნსტ</td>\n",
       "      <td>{'ერნსტი', '??'}</td>\n",
       "    </tr>\n",
       "    <tr>\n",
       "      <th>...</th>\n",
       "      <td>...</td>\n",
       "      <td>...</td>\n",
       "    </tr>\n",
       "    <tr>\n",
       "      <th>818</th>\n",
       "      <td>ურთიერთთანაცხოვრების</td>\n",
       "      <td>{'ურთიერთ+თანაცხოვრება', '??'}</td>\n",
       "    </tr>\n",
       "    <tr>\n",
       "      <th>819</th>\n",
       "      <td>ეწერიდანაა</td>\n",
       "      <td>{'\\t', 'ეწერი'}</td>\n",
       "    </tr>\n",
       "    <tr>\n",
       "      <th>820</th>\n",
       "      <td>აზიელებით</td>\n",
       "      <td>{'აზიელი', '\\t'}</td>\n",
       "    </tr>\n",
       "    <tr>\n",
       "      <th>821</th>\n",
       "      <td>კილპატრიკს</td>\n",
       "      <td>{'კილ+პატრიკი', '??'}</td>\n",
       "    </tr>\n",
       "    <tr>\n",
       "      <th>822</th>\n",
       "      <td>კორეაო</td>\n",
       "      <td>{'\\t', 'კორეა'}</td>\n",
       "    </tr>\n",
       "  </tbody>\n",
       "</table>\n",
       "<p>823 rows × 2 columns</p>\n",
       "</div>"
      ],
      "text/plain": [
       "                     word                     lemma_right\n",
       "0                    თქმა                  {'თქმა', '\\t'}\n",
       "1                       დ             {'??', '\\t', 'დ-ი'}\n",
       "2                   ზღვის                  {'\\t', 'ზღვა'}\n",
       "3                    ჟიულ                 {'ჟიული', '??'}\n",
       "4                   ერნსტ                {'ერნსტი', '??'}\n",
       "..                    ...                             ...\n",
       "818  ურთიერთთანაცხოვრების  {'ურთიერთ+თანაცხოვრება', '??'}\n",
       "819            ეწერიდანაა                 {'\\t', 'ეწერი'}\n",
       "820             აზიელებით                {'აზიელი', '\\t'}\n",
       "821            კილპატრიკს           {'კილ+პატრიკი', '??'}\n",
       "822                კორეაო                 {'\\t', 'კორეა'}\n",
       "\n",
       "[823 rows x 2 columns]"
      ]
     },
     "execution_count": 319,
     "metadata": {},
     "output_type": "execute_result"
    }
   ],
   "source": [
    "plemma_df = df2[df2.lemma.str.contains(r'\\t|\\?\\?')]\n",
    "plemma_df_merged = pd.merge(plemma_df, df, on='word', suffixes=('_left', '_right'))[['word', 'lemma_right']]\n",
    "plemma_df_merged"
   ]
  },
  {
   "cell_type": "code",
   "execution_count": 320,
   "id": "c4bd6e2e",
   "metadata": {
    "ExecuteTime": {
     "end_time": "2023-07-03T19:51:46.018971Z",
     "start_time": "2023-07-03T19:51:45.678853Z"
    },
    "collapsed": false,
    "jupyter": {
     "outputs_hidden": false
    }
   },
   "outputs": [
    {
     "data": {
      "text/html": [
       "<div>\n",
       "<style scoped>\n",
       "    .dataframe tbody tr th:only-of-type {\n",
       "        vertical-align: middle;\n",
       "    }\n",
       "\n",
       "    .dataframe tbody tr th {\n",
       "        vertical-align: top;\n",
       "    }\n",
       "\n",
       "    .dataframe thead th {\n",
       "        text-align: right;\n",
       "    }\n",
       "</style>\n",
       "<table border=\"1\" class=\"dataframe\">\n",
       "  <thead>\n",
       "    <tr style=\"text-align: right;\">\n",
       "      <th></th>\n",
       "      <th>lemma_right</th>\n",
       "    </tr>\n",
       "    <tr>\n",
       "      <th>word</th>\n",
       "      <th></th>\n",
       "    </tr>\n",
       "  </thead>\n",
       "  <tbody>\n",
       "    <tr>\n",
       "      <th>თქმა</th>\n",
       "      <td>თქმა</td>\n",
       "    </tr>\n",
       "    <tr>\n",
       "      <th>დ</th>\n",
       "      <td>დ-ი</td>\n",
       "    </tr>\n",
       "    <tr>\n",
       "      <th>ზღვის</th>\n",
       "      <td>ზღვა</td>\n",
       "    </tr>\n",
       "    <tr>\n",
       "      <th>ჟიულ</th>\n",
       "      <td>ჟიული</td>\n",
       "    </tr>\n",
       "    <tr>\n",
       "      <th>ერნსტ</th>\n",
       "      <td>ერნსტი</td>\n",
       "    </tr>\n",
       "    <tr>\n",
       "      <th>...</th>\n",
       "      <td>...</td>\n",
       "    </tr>\n",
       "    <tr>\n",
       "      <th>ურთიერთთანაცხოვრების</th>\n",
       "      <td>ურთიერთ+თანაცხოვრება</td>\n",
       "    </tr>\n",
       "    <tr>\n",
       "      <th>ეწერიდანაა</th>\n",
       "      <td>ეწერი</td>\n",
       "    </tr>\n",
       "    <tr>\n",
       "      <th>აზიელებით</th>\n",
       "      <td>აზიელი</td>\n",
       "    </tr>\n",
       "    <tr>\n",
       "      <th>კილპატრიკს</th>\n",
       "      <td>კილ+პატრიკი</td>\n",
       "    </tr>\n",
       "    <tr>\n",
       "      <th>კორეაო</th>\n",
       "      <td>კორეა</td>\n",
       "    </tr>\n",
       "  </tbody>\n",
       "</table>\n",
       "<p>823 rows × 1 columns</p>\n",
       "</div>"
      ],
      "text/plain": [
       "                               lemma_right\n",
       "word                                      \n",
       "თქმა                                  თქმა\n",
       "დ                                      დ-ი\n",
       "ზღვის                                 ზღვა\n",
       "ჟიულ                                 ჟიული\n",
       "ერნსტ                               ერნსტი\n",
       "...                                    ...\n",
       "ურთიერთთანაცხოვრების  ურთიერთ+თანაცხოვრება\n",
       "ეწერიდანაა                           ეწერი\n",
       "აზიელებით                           აზიელი\n",
       "კილპატრიკს                     კილ+პატრიკი\n",
       "კორეაო                               კორეა\n",
       "\n",
       "[823 rows x 1 columns]"
      ]
     },
     "execution_count": 320,
     "metadata": {},
     "output_type": "execute_result"
    }
   ],
   "source": [
    "plemma_df_merged.lemma_right = (plemma_df_merged.lemma_right.str.replace(r\"[{},']\", \"\", regex=True)\n",
    " .str.replace(r\"\\\\t|\\?\\?\", \"\", regex=True).str.split().str[0])\n",
    "plemma_df_merged = plemma_df_merged.set_index('word')\n",
    "plemma_df_merged"
   ]
  },
  {
   "cell_type": "code",
   "execution_count": 321,
   "id": "07fb4abd",
   "metadata": {
    "ExecuteTime": {
     "end_time": "2023-07-03T19:53:22.726369Z",
     "start_time": "2023-07-03T19:51:45.891782Z"
    },
    "collapsed": false,
    "jupyter": {
     "outputs_hidden": false
    }
   },
   "outputs": [],
   "source": [
    "def map_to_lemma(x):\n",
    "    try:\n",
    "        x.lemma = plemma_df_merged.loc[x.word].lemma_right\n",
    "    except KeyError:\n",
    "        pass\n",
    "    return x\n",
    "\n",
    "df2 = df2.apply(map_to_lemma, axis=1)"
   ]
  },
  {
   "cell_type": "code",
   "execution_count": 322,
   "id": "c39c908f",
   "metadata": {
    "ExecuteTime": {
     "end_time": "2023-07-03T19:53:22.829588Z",
     "start_time": "2023-07-03T19:53:22.724183Z"
    },
    "collapsed": false,
    "jupyter": {
     "outputs_hidden": false
    }
   },
   "outputs": [
    {
     "data": {
      "text/html": [
       "<div>\n",
       "<style scoped>\n",
       "    .dataframe tbody tr th:only-of-type {\n",
       "        vertical-align: middle;\n",
       "    }\n",
       "\n",
       "    .dataframe tbody tr th {\n",
       "        vertical-align: top;\n",
       "    }\n",
       "\n",
       "    .dataframe thead th {\n",
       "        text-align: right;\n",
       "    }\n",
       "</style>\n",
       "<table border=\"1\" class=\"dataframe\">\n",
       "  <thead>\n",
       "    <tr style=\"text-align: right;\">\n",
       "      <th></th>\n",
       "      <th>word</th>\n",
       "      <th>lemma</th>\n",
       "      <th>pos_tag</th>\n",
       "      <th>freq</th>\n",
       "    </tr>\n",
       "  </thead>\n",
       "  <tbody>\n",
       "    <tr>\n",
       "      <th>19220</th>\n",
       "      <td>ესვიდა</td>\n",
       "      <td>-/ს</td>\n",
       "      <td>V</td>\n",
       "      <td>5</td>\n",
       "    </tr>\n",
       "    <tr>\n",
       "      <th>19419</th>\n",
       "      <td>ვესავ</td>\n",
       "      <td>-/ს</td>\n",
       "      <td>V</td>\n",
       "      <td>22</td>\n",
       "    </tr>\n",
       "    <tr>\n",
       "      <th>80960</th>\n",
       "      <td>ესავს</td>\n",
       "      <td>-/ს</td>\n",
       "      <td>V</td>\n",
       "      <td>53</td>\n",
       "    </tr>\n",
       "    <tr>\n",
       "      <th>318779</th>\n",
       "      <td>გესავ</td>\n",
       "      <td>-/ს</td>\n",
       "      <td>V</td>\n",
       "      <td>13</td>\n",
       "    </tr>\n",
       "    <tr>\n",
       "      <th>416793</th>\n",
       "      <td>ვესევდით</td>\n",
       "      <td>-/ს</td>\n",
       "      <td>V</td>\n",
       "      <td>1</td>\n",
       "    </tr>\n",
       "    <tr>\n",
       "      <th>462051</th>\n",
       "      <td>ესევდით</td>\n",
       "      <td>-/ს</td>\n",
       "      <td>V</td>\n",
       "      <td>4</td>\n",
       "    </tr>\n",
       "    <tr>\n",
       "      <th>463015</th>\n",
       "      <td>ესავთ</td>\n",
       "      <td>-/ს</td>\n",
       "      <td>V</td>\n",
       "      <td>4</td>\n",
       "    </tr>\n",
       "    <tr>\n",
       "      <th>486719</th>\n",
       "      <td>ვესავღა</td>\n",
       "      <td>-/ს</td>\n",
       "      <td>V</td>\n",
       "      <td>1</td>\n",
       "    </tr>\n",
       "    <tr>\n",
       "      <th>520220</th>\n",
       "      <td>ესავსა</td>\n",
       "      <td>-/ს</td>\n",
       "      <td>V</td>\n",
       "      <td>4</td>\n",
       "    </tr>\n",
       "    <tr>\n",
       "      <th>615772</th>\n",
       "      <td>ესვიდეს</td>\n",
       "      <td>-/ს</td>\n",
       "      <td>V</td>\n",
       "      <td>3</td>\n",
       "    </tr>\n",
       "    <tr>\n",
       "      <th>658996</th>\n",
       "      <td>ესავნ</td>\n",
       "      <td>-/ს</td>\n",
       "      <td>V</td>\n",
       "      <td>3</td>\n",
       "    </tr>\n",
       "    <tr>\n",
       "      <th>681491</th>\n",
       "      <td>მესვიდე</td>\n",
       "      <td>-/ს</td>\n",
       "      <td>V</td>\n",
       "      <td>2</td>\n",
       "    </tr>\n",
       "    <tr>\n",
       "      <th>754660</th>\n",
       "      <td>ესვიდენ</td>\n",
       "      <td>-/ს</td>\n",
       "      <td>V</td>\n",
       "      <td>1</td>\n",
       "    </tr>\n",
       "    <tr>\n",
       "      <th>789018</th>\n",
       "      <td>ესევდი</td>\n",
       "      <td>-/ს</td>\n",
       "      <td>V</td>\n",
       "      <td>1</td>\n",
       "    </tr>\n",
       "    <tr>\n",
       "      <th>1657199</th>\n",
       "      <td>ვესავთ</td>\n",
       "      <td>-/ს</td>\n",
       "      <td>V</td>\n",
       "      <td>5</td>\n",
       "    </tr>\n",
       "    <tr>\n",
       "      <th>1899792</th>\n",
       "      <td>გესავთ</td>\n",
       "      <td>-/ს</td>\n",
       "      <td>V</td>\n",
       "      <td>4</td>\n",
       "    </tr>\n",
       "  </tbody>\n",
       "</table>\n",
       "</div>"
      ],
      "text/plain": [
       "             word lemma pos_tag  freq\n",
       "19220      ესვიდა   -/ს       V     5\n",
       "19419       ვესავ   -/ს       V    22\n",
       "80960       ესავს   -/ს       V    53\n",
       "318779      გესავ   -/ს       V    13\n",
       "416793   ვესევდით   -/ს       V     1\n",
       "462051    ესევდით   -/ს       V     4\n",
       "463015      ესავთ   -/ს       V     4\n",
       "486719    ვესავღა   -/ს       V     1\n",
       "520220     ესავსა   -/ს       V     4\n",
       "615772    ესვიდეს   -/ს       V     3\n",
       "658996      ესავნ   -/ს       V     3\n",
       "681491    მესვიდე   -/ს       V     2\n",
       "754660    ესვიდენ   -/ს       V     1\n",
       "789018     ესევდი   -/ს       V     1\n",
       "1657199    ვესავთ   -/ს       V     5\n",
       "1899792    გესავთ   -/ს       V     4"
      ]
     },
     "execution_count": 322,
     "metadata": {},
     "output_type": "execute_result"
    }
   ],
   "source": [
    "df2.query('lemma == \"-/ს\"')"
   ]
  },
  {
   "cell_type": "code",
   "execution_count": 323,
   "id": "d3e7bcc5",
   "metadata": {
    "ExecuteTime": {
     "end_time": "2023-07-03T19:53:26.130492Z",
     "start_time": "2023-07-03T19:53:22.825715Z"
    },
    "collapsed": false,
    "jupyter": {
     "outputs_hidden": false
    }
   },
   "outputs": [],
   "source": [
    "df2 = df2[~df2.lemma.str.contains(r'[ ]')]\n",
    "df2 = df2[~df2.lemma.str.contains(r'[ჳჲჱჴჵ]')]\n",
    "df2 = df2[~df2.lemma.str.contains(r'-/ს')]"
   ]
  },
  {
   "cell_type": "code",
   "execution_count": 324,
   "id": "2efd673e",
   "metadata": {
    "ExecuteTime": {
     "end_time": "2023-07-03T19:53:26.782925Z",
     "start_time": "2023-07-03T19:53:26.220451Z"
    },
    "collapsed": false,
    "jupyter": {
     "outputs_hidden": false
    }
   },
   "outputs": [
    {
     "data": {
      "text/html": [
       "<div>\n",
       "<style scoped>\n",
       "    .dataframe tbody tr th:only-of-type {\n",
       "        vertical-align: middle;\n",
       "    }\n",
       "\n",
       "    .dataframe tbody tr th {\n",
       "        vertical-align: top;\n",
       "    }\n",
       "\n",
       "    .dataframe thead th {\n",
       "        text-align: right;\n",
       "    }\n",
       "</style>\n",
       "<table border=\"1\" class=\"dataframe\">\n",
       "  <thead>\n",
       "    <tr style=\"text-align: right;\">\n",
       "      <th></th>\n",
       "      <th>word</th>\n",
       "      <th>lemma</th>\n",
       "      <th>pos_tag</th>\n",
       "      <th>freq</th>\n",
       "    </tr>\n",
       "  </thead>\n",
       "  <tbody>\n",
       "    <tr>\n",
       "      <th>27077</th>\n",
       "      <td>ცოლ-ქმრის</td>\n",
       "      <td>ცოლ+ქმარი</td>\n",
       "      <td>N</td>\n",
       "      <td>309</td>\n",
       "    </tr>\n",
       "    <tr>\n",
       "      <th>27875</th>\n",
       "      <td>რიხტერის</td>\n",
       "      <td>რიხ+ტერი</td>\n",
       "      <td>N</td>\n",
       "      <td>177</td>\n",
       "    </tr>\n",
       "    <tr>\n",
       "      <th>58480</th>\n",
       "      <td>ემარის</td>\n",
       "      <td>ემა+რე</td>\n",
       "      <td>N</td>\n",
       "      <td>3</td>\n",
       "    </tr>\n",
       "    <tr>\n",
       "      <th>70785</th>\n",
       "      <td>მნიშვნელოვანწილად</td>\n",
       "      <td>მნიშვნელოვან+წილა</td>\n",
       "      <td>N</td>\n",
       "      <td>1066</td>\n",
       "    </tr>\n",
       "    <tr>\n",
       "      <th>71791</th>\n",
       "      <td>გილერმო</td>\n",
       "      <td>გილ+ერმი</td>\n",
       "      <td>N</td>\n",
       "      <td>517</td>\n",
       "    </tr>\n",
       "    <tr>\n",
       "      <th>...</th>\n",
       "      <td>...</td>\n",
       "      <td>...</td>\n",
       "      <td>...</td>\n",
       "      <td>...</td>\n",
       "    </tr>\n",
       "    <tr>\n",
       "      <th>2498355</th>\n",
       "      <td>მელერის</td>\n",
       "      <td>მელ+ერი</td>\n",
       "      <td>N</td>\n",
       "      <td>1</td>\n",
       "    </tr>\n",
       "    <tr>\n",
       "      <th>2502338</th>\n",
       "      <td>უკომპეტენტობა</td>\n",
       "      <td>უ+კომპეტენტობა</td>\n",
       "      <td>N</td>\n",
       "      <td>1</td>\n",
       "    </tr>\n",
       "    <tr>\n",
       "      <th>2502563</th>\n",
       "      <td>ევროპულ-აფრიკული</td>\n",
       "      <td>ევროპულ+აფრიკული</td>\n",
       "      <td>A</td>\n",
       "      <td>1</td>\n",
       "    </tr>\n",
       "    <tr>\n",
       "      <th>2502565</th>\n",
       "      <td>გრანდთან</td>\n",
       "      <td>გრან+დი</td>\n",
       "      <td>N</td>\n",
       "      <td>1</td>\n",
       "    </tr>\n",
       "    <tr>\n",
       "      <th>2502566</th>\n",
       "      <td>დამაჯერებად</td>\n",
       "      <td>დამა+ჯერი</td>\n",
       "      <td>N</td>\n",
       "      <td>1</td>\n",
       "    </tr>\n",
       "  </tbody>\n",
       "</table>\n",
       "<p>435 rows × 4 columns</p>\n",
       "</div>"
      ],
      "text/plain": [
       "                      word              lemma pos_tag  freq\n",
       "27077            ცოლ-ქმრის          ცოლ+ქმარი       N   309\n",
       "27875             რიხტერის           რიხ+ტერი       N   177\n",
       "58480               ემარის             ემა+რე       N     3\n",
       "70785    მნიშვნელოვანწილად  მნიშვნელოვან+წილა       N  1066\n",
       "71791              გილერმო           გილ+ერმი       N   517\n",
       "...                    ...                ...     ...   ...\n",
       "2498355            მელერის            მელ+ერი       N     1\n",
       "2502338      უკომპეტენტობა     უ+კომპეტენტობა       N     1\n",
       "2502563   ევროპულ-აფრიკული   ევროპულ+აფრიკული       A     1\n",
       "2502565           გრანდთან            გრან+დი       N     1\n",
       "2502566        დამაჯერებად          დამა+ჯერი       N     1\n",
       "\n",
       "[435 rows x 4 columns]"
      ]
     },
     "execution_count": 324,
     "metadata": {},
     "output_type": "execute_result"
    }
   ],
   "source": [
    "df2[df2.lemma.str.contains(r'[+]')]"
   ]
  },
  {
   "cell_type": "code",
   "execution_count": 325,
   "id": "eed23c7a",
   "metadata": {
    "ExecuteTime": {
     "end_time": "2023-07-03T19:55:19.179863Z",
     "start_time": "2023-07-03T19:53:26.769888Z"
    },
    "collapsed": false,
    "jupyter": {
     "outputs_hidden": false
    }
   },
   "outputs": [],
   "source": [
    "def remove_plus(x):\n",
    "    if '-' in x.word:\n",
    "        x.lemma = x.lemma.replace('+', '-')\n",
    "    else:\n",
    "        x.lemma = x.lemma.replace('+', '')\n",
    "    return x\n",
    "\n",
    "df2 = df2.apply(remove_plus, axis=1)"
   ]
  },
  {
   "cell_type": "code",
   "execution_count": 326,
   "id": "cc8d88d0",
   "metadata": {
    "ExecuteTime": {
     "end_time": "2023-07-03T19:55:19.868293Z",
     "start_time": "2023-07-03T19:55:19.248438Z"
    },
    "collapsed": false,
    "jupyter": {
     "outputs_hidden": false
    }
   },
   "outputs": [
    {
     "data": {
      "text/html": [
       "<div>\n",
       "<style scoped>\n",
       "    .dataframe tbody tr th:only-of-type {\n",
       "        vertical-align: middle;\n",
       "    }\n",
       "\n",
       "    .dataframe tbody tr th {\n",
       "        vertical-align: top;\n",
       "    }\n",
       "\n",
       "    .dataframe thead th {\n",
       "        text-align: right;\n",
       "    }\n",
       "</style>\n",
       "<table border=\"1\" class=\"dataframe\">\n",
       "  <thead>\n",
       "    <tr style=\"text-align: right;\">\n",
       "      <th></th>\n",
       "      <th>word</th>\n",
       "      <th>lemma</th>\n",
       "      <th>pos_tag</th>\n",
       "      <th>freq</th>\n",
       "    </tr>\n",
       "  </thead>\n",
       "  <tbody>\n",
       "    <tr>\n",
       "      <th>746</th>\n",
       "      <td>ბარ-მიცვამდე</td>\n",
       "      <td>ბარვა=წამოცმა</td>\n",
       "      <td>V</td>\n",
       "      <td>1</td>\n",
       "    </tr>\n",
       "    <tr>\n",
       "      <th>2195</th>\n",
       "      <td>ავწონ-დავწონე</td>\n",
       "      <td>აწონა=დაწონა</td>\n",
       "      <td>V</td>\n",
       "      <td>42</td>\n",
       "    </tr>\n",
       "    <tr>\n",
       "      <th>5366</th>\n",
       "      <td>ასწევ-დასწევდა</td>\n",
       "      <td>აწევდაწევა=დაწევა</td>\n",
       "      <td>V</td>\n",
       "      <td>1</td>\n",
       "    </tr>\n",
       "    <tr>\n",
       "      <th>10048</th>\n",
       "      <td>ავხედ-დავხედე</td>\n",
       "      <td>ახედვა=დახედვა</td>\n",
       "      <td>V</td>\n",
       "      <td>7</td>\n",
       "    </tr>\n",
       "    <tr>\n",
       "      <th>11060</th>\n",
       "      <td>გაიარ-გამოიარა</td>\n",
       "      <td>გავლა=გამოვლა</td>\n",
       "      <td>V</td>\n",
       "      <td>117</td>\n",
       "    </tr>\n",
       "    <tr>\n",
       "      <th>...</th>\n",
       "      <td>...</td>\n",
       "      <td>...</td>\n",
       "      <td>...</td>\n",
       "      <td>...</td>\n",
       "    </tr>\n",
       "    <tr>\n",
       "      <th>2629547</th>\n",
       "      <td>უმღერ-უცეკვა</td>\n",
       "      <td>მღერება=ცეკვება</td>\n",
       "      <td>V</td>\n",
       "      <td>1</td>\n",
       "    </tr>\n",
       "    <tr>\n",
       "      <th>2630413</th>\n",
       "      <td>მიჰფანტ-მოჰფანტეს</td>\n",
       "      <td>მიფანტვა=მოფანტვა</td>\n",
       "      <td>V</td>\n",
       "      <td>1</td>\n",
       "    </tr>\n",
       "    <tr>\n",
       "      <th>2630896</th>\n",
       "      <td>აქ-რადიო</td>\n",
       "      <td>ქება=დევნა</td>\n",
       "      <td>V</td>\n",
       "      <td>1</td>\n",
       "    </tr>\n",
       "    <tr>\n",
       "      <th>2631503</th>\n",
       "      <td>გადაიყვან-გადმოიყვანეს</td>\n",
       "      <td>გადაყვანა=გადმოყვანა</td>\n",
       "      <td>V</td>\n",
       "      <td>1</td>\n",
       "    </tr>\n",
       "    <tr>\n",
       "      <th>2634848</th>\n",
       "      <td>მიყარ-მოყარო</td>\n",
       "      <td>მიყრა=მოყრა</td>\n",
       "      <td>V</td>\n",
       "      <td>1</td>\n",
       "    </tr>\n",
       "  </tbody>\n",
       "</table>\n",
       "<p>1375 rows × 4 columns</p>\n",
       "</div>"
      ],
      "text/plain": [
       "                           word                 lemma pos_tag  freq\n",
       "746                ბარ-მიცვამდე         ბარვა=წამოცმა       V     1\n",
       "2195              ავწონ-დავწონე          აწონა=დაწონა       V    42\n",
       "5366             ასწევ-დასწევდა     აწევდაწევა=დაწევა       V     1\n",
       "10048             ავხედ-დავხედე        ახედვა=დახედვა       V     7\n",
       "11060            გაიარ-გამოიარა         გავლა=გამოვლა       V   117\n",
       "...                         ...                   ...     ...   ...\n",
       "2629547            უმღერ-უცეკვა       მღერება=ცეკვება       V     1\n",
       "2630413       მიჰფანტ-მოჰფანტეს     მიფანტვა=მოფანტვა       V     1\n",
       "2630896                აქ-რადიო            ქება=დევნა       V     1\n",
       "2631503  გადაიყვან-გადმოიყვანეს  გადაყვანა=გადმოყვანა       V     1\n",
       "2634848            მიყარ-მოყარო           მიყრა=მოყრა       V     1\n",
       "\n",
       "[1375 rows x 4 columns]"
      ]
     },
     "execution_count": 326,
     "metadata": {},
     "output_type": "execute_result"
    }
   ],
   "source": [
    "df2[df2.lemma.str.contains(r'[=]')]"
   ]
  },
  {
   "cell_type": "code",
   "execution_count": 327,
   "id": "ef7b357e",
   "metadata": {
    "ExecuteTime": {
     "end_time": "2023-07-03T19:55:21.810773Z",
     "start_time": "2023-07-03T19:55:19.864229Z"
    },
    "collapsed": false,
    "jupyter": {
     "outputs_hidden": false
    }
   },
   "outputs": [
    {
     "data": {
      "text/html": [
       "<div>\n",
       "<style scoped>\n",
       "    .dataframe tbody tr th:only-of-type {\n",
       "        vertical-align: middle;\n",
       "    }\n",
       "\n",
       "    .dataframe tbody tr th {\n",
       "        vertical-align: top;\n",
       "    }\n",
       "\n",
       "    .dataframe thead th {\n",
       "        text-align: right;\n",
       "    }\n",
       "</style>\n",
       "<table border=\"1\" class=\"dataframe\">\n",
       "  <thead>\n",
       "    <tr style=\"text-align: right;\">\n",
       "      <th></th>\n",
       "      <th>word</th>\n",
       "      <th>lemma</th>\n",
       "      <th>pos_tag</th>\n",
       "      <th>freq</th>\n",
       "    </tr>\n",
       "  </thead>\n",
       "  <tbody>\n",
       "  </tbody>\n",
       "</table>\n",
       "</div>"
      ],
      "text/plain": [
       "Empty DataFrame\n",
       "Columns: [word, lemma, pos_tag, freq]\n",
       "Index: []"
      ]
     },
     "execution_count": 327,
     "metadata": {},
     "output_type": "execute_result"
    }
   ],
   "source": [
    "df2[df2.lemma.str.contains(r'[=]') & ~df2.word.str.contains(r'[-]')]"
   ]
  },
  {
   "cell_type": "code",
   "execution_count": 328,
   "id": "ae5f0468",
   "metadata": {
    "ExecuteTime": {
     "end_time": "2023-07-03T19:55:23.196160Z",
     "start_time": "2023-07-03T19:55:21.960649Z"
    },
    "collapsed": false,
    "jupyter": {
     "outputs_hidden": false
    }
   },
   "outputs": [],
   "source": [
    "df2.lemma = df2.lemma.str.replace('=', '-')\n",
    "df2.lemma = df2.lemma.str.replace(':', '')"
   ]
  },
  {
   "cell_type": "code",
   "execution_count": 329,
   "id": "8a92bb75",
   "metadata": {
    "ExecuteTime": {
     "end_time": "2023-07-03T19:55:24.022182Z",
     "start_time": "2023-07-03T19:55:23.322158Z"
    },
    "collapsed": false,
    "jupyter": {
     "outputs_hidden": false
    }
   },
   "outputs": [
    {
     "data": {
      "text/html": [
       "<div>\n",
       "<style scoped>\n",
       "    .dataframe tbody tr th:only-of-type {\n",
       "        vertical-align: middle;\n",
       "    }\n",
       "\n",
       "    .dataframe tbody tr th {\n",
       "        vertical-align: top;\n",
       "    }\n",
       "\n",
       "    .dataframe thead th {\n",
       "        text-align: right;\n",
       "    }\n",
       "</style>\n",
       "<table border=\"1\" class=\"dataframe\">\n",
       "  <thead>\n",
       "    <tr style=\"text-align: right;\">\n",
       "      <th></th>\n",
       "      <th>word</th>\n",
       "      <th>lemma</th>\n",
       "      <th>freq</th>\n",
       "      <th>lemma_count</th>\n",
       "    </tr>\n",
       "  </thead>\n",
       "  <tbody>\n",
       "    <tr>\n",
       "      <th>0</th>\n",
       "      <td>ამ</td>\n",
       "      <td>{'\\t', 'ეს', '??'}</td>\n",
       "      <td>1041654</td>\n",
       "      <td>3</td>\n",
       "    </tr>\n",
       "    <tr>\n",
       "      <th>6</th>\n",
       "      <td>რა</td>\n",
       "      <td>{'\\t', 'რა', 'რა თქმა უნდა', '??'}</td>\n",
       "      <td>418777</td>\n",
       "      <td>4</td>\n",
       "    </tr>\n",
       "    <tr>\n",
       "      <th>16</th>\n",
       "      <td>და</td>\n",
       "      <td>{'და ასე შემდეგ', '\\t', 'და', '??'}</td>\n",
       "      <td>5410387</td>\n",
       "      <td>4</td>\n",
       "    </tr>\n",
       "    <tr>\n",
       "      <th>30</th>\n",
       "      <td>კი</td>\n",
       "      <td>{'კი', '\\t', 'კი მაგრამ', '??'}</td>\n",
       "      <td>780477</td>\n",
       "      <td>4</td>\n",
       "    </tr>\n",
       "    <tr>\n",
       "      <th>42</th>\n",
       "      <td>ეს</td>\n",
       "      <td>{'\\t', 'ეს', '??'}</td>\n",
       "      <td>1059446</td>\n",
       "      <td>3</td>\n",
       "    </tr>\n",
       "    <tr>\n",
       "      <th>...</th>\n",
       "      <td>...</td>\n",
       "      <td>...</td>\n",
       "      <td>...</td>\n",
       "      <td>...</td>\n",
       "    </tr>\n",
       "    <tr>\n",
       "      <th>1464015</th>\n",
       "      <td>კონგელ</td>\n",
       "      <td>{'\\t'}</td>\n",
       "      <td>1</td>\n",
       "      <td>1</td>\n",
       "    </tr>\n",
       "    <tr>\n",
       "      <th>1470251</th>\n",
       "      <td>კონგთანაც</td>\n",
       "      <td>{'\\t'}</td>\n",
       "      <td>1</td>\n",
       "      <td>1</td>\n",
       "    </tr>\n",
       "    <tr>\n",
       "      <th>1470823</th>\n",
       "      <td>სვანეთისგან</td>\n",
       "      <td>{'\\t'}</td>\n",
       "      <td>1</td>\n",
       "      <td>1</td>\n",
       "    </tr>\n",
       "    <tr>\n",
       "      <th>1473213</th>\n",
       "      <td>რაიხისა</td>\n",
       "      <td>{'\\t'}</td>\n",
       "      <td>1</td>\n",
       "      <td>1</td>\n",
       "    </tr>\n",
       "    <tr>\n",
       "      <th>1473865</th>\n",
       "      <td>სვანეთისკენაც</td>\n",
       "      <td>{'\\t'}</td>\n",
       "      <td>1</td>\n",
       "      <td>1</td>\n",
       "    </tr>\n",
       "  </tbody>\n",
       "</table>\n",
       "<p>6825 rows × 4 columns</p>\n",
       "</div>"
      ],
      "text/plain": [
       "                  word                                lemma     freq  \\\n",
       "0                   ამ                   {'\\t', 'ეს', '??'}  1041654   \n",
       "6                   რა   {'\\t', 'რა', 'რა თქმა უნდა', '??'}   418777   \n",
       "16                  და  {'და ასე შემდეგ', '\\t', 'და', '??'}  5410387   \n",
       "30                  კი      {'კი', '\\t', 'კი მაგრამ', '??'}   780477   \n",
       "42                  ეს                   {'\\t', 'ეს', '??'}  1059446   \n",
       "...                ...                                  ...      ...   \n",
       "1464015         კონგელ                               {'\\t'}        1   \n",
       "1470251      კონგთანაც                               {'\\t'}        1   \n",
       "1470823    სვანეთისგან                               {'\\t'}        1   \n",
       "1473213        რაიხისა                               {'\\t'}        1   \n",
       "1473865  სვანეთისკენაც                               {'\\t'}        1   \n",
       "\n",
       "         lemma_count  \n",
       "0                  3  \n",
       "6                  4  \n",
       "16                 4  \n",
       "30                 4  \n",
       "42                 3  \n",
       "...              ...  \n",
       "1464015            1  \n",
       "1470251            1  \n",
       "1470823            1  \n",
       "1473213            1  \n",
       "1473865            1  \n",
       "\n",
       "[6825 rows x 4 columns]"
      ]
     },
     "execution_count": 329,
     "metadata": {},
     "output_type": "execute_result"
    }
   ],
   "source": [
    "df[df.lemma.str.contains(r\"\\\\t\")]"
   ]
  },
  {
   "cell_type": "code",
   "execution_count": 330,
   "id": "e5737524",
   "metadata": {
    "ExecuteTime": {
     "end_time": "2023-07-03T19:55:24.883995Z",
     "start_time": "2023-07-03T19:55:24.121641Z"
    },
    "collapsed": false,
    "jupyter": {
     "outputs_hidden": false
    }
   },
   "outputs": [
    {
     "data": {
      "text/plain": [
       "array([], dtype=object)"
      ]
     },
     "execution_count": 330,
     "metadata": {},
     "output_type": "execute_result"
    }
   ],
   "source": [
    "df2[df2.lemma.str.contains(r'[^აბგდევზთიკლმნოპჟრსტუფქღყშჩცძწჭხჯჰ*-]')].lemma.unique()"
   ]
  },
  {
   "cell_type": "markdown",
   "id": "9669e50b",
   "metadata": {},
   "source": [
    "### მეტყველების ნაწილებისგან გასუფთავება"
   ]
  },
  {
   "cell_type": "code",
   "execution_count": 420,
   "id": "daea7bc9",
   "metadata": {
    "ExecuteTime": {
     "end_time": "2023-07-03T20:22:31.843794Z",
     "start_time": "2023-07-03T20:22:31.701755Z"
    },
    "collapsed": false,
    "jupyter": {
     "outputs_hidden": false
    }
   },
   "outputs": [
    {
     "data": {
      "text/plain": [
       "array(['Pron', 'N', 'Dat', 'Adv', 'A', 'V', 'Nom', 'Cj', 'Num', 'Quant',\n",
       "       'Pp', 'Inst', 'Att', 'Pv', 'Advb', 'Encl:ც', 'Erg', 'Gen', 'Int',\n",
       "       'Sg', 'Temp', 'Modal', 'Encl:ვე', 'Pot', 'Foc', 'Encl:Aux',\n",
       "       'Interj', 'Encl:ღა', 'Encl:IndSp3', '<MWE>', 'Pl', 'Voc', 'L',\n",
       "       'Neg', 'PP', 'LevGuess', 'Hum', 'Dialect', 'Encl:IndSp1',\n",
       "       'NonStand', 'Old', 'Tm:ღა', 'Encl:მე', 'Encl:ცა', 'Prop',\n",
       "       'Unrecognized', 'Guess', 'Encl:IndSp2', 'Rel:ც', 'Encl:მცა',\n",
       "       'Encl:კი', 'Symbol', 'Compl', 'Imp', 'Tm:ძი', 'Abs', 'Unknown',\n",
       "       'Tm:ვე', '>XCOMP'], dtype=object)"
      ]
     },
     "execution_count": 420,
     "metadata": {},
     "output_type": "execute_result"
    }
   ],
   "source": [
    "df2.pos_tag.unique()"
   ]
  },
  {
   "cell_type": "code",
   "execution_count": 421,
   "id": "cd36e64a",
   "metadata": {
    "ExecuteTime": {
     "end_time": "2023-07-03T20:22:35.198712Z",
     "start_time": "2023-07-03T20:22:35.122943Z"
    },
    "collapsed": false,
    "jupyter": {
     "outputs_hidden": false
    }
   },
   "outputs": [
    {
     "data": {
      "text/html": [
       "<div>\n",
       "<style scoped>\n",
       "    .dataframe tbody tr th:only-of-type {\n",
       "        vertical-align: middle;\n",
       "    }\n",
       "\n",
       "    .dataframe tbody tr th {\n",
       "        vertical-align: top;\n",
       "    }\n",
       "\n",
       "    .dataframe thead th {\n",
       "        text-align: right;\n",
       "    }\n",
       "</style>\n",
       "<table border=\"1\" class=\"dataframe\">\n",
       "  <thead>\n",
       "    <tr style=\"text-align: right;\">\n",
       "      <th></th>\n",
       "      <th>word</th>\n",
       "      <th>lemma</th>\n",
       "      <th>pos_tag</th>\n",
       "      <th>freq</th>\n",
       "    </tr>\n",
       "  </thead>\n",
       "  <tbody>\n",
       "    <tr>\n",
       "      <th>18443</th>\n",
       "      <td>მანცა</td>\n",
       "      <td>ის</td>\n",
       "      <td>Encl:ცა</td>\n",
       "      <td>46</td>\n",
       "    </tr>\n",
       "    <tr>\n",
       "      <th>228199</th>\n",
       "      <td>აქაცა</td>\n",
       "      <td>აქა</td>\n",
       "      <td>Encl:ცა</td>\n",
       "      <td>39</td>\n",
       "    </tr>\n",
       "    <tr>\n",
       "      <th>365856</th>\n",
       "      <td>გინდაცა</td>\n",
       "      <td>ნდომა</td>\n",
       "      <td>Encl:ცა</td>\n",
       "      <td>10</td>\n",
       "    </tr>\n",
       "    <tr>\n",
       "      <th>393298</th>\n",
       "      <td>ოდეს-ცა</td>\n",
       "      <td>აოდვა</td>\n",
       "      <td>Encl:ცა</td>\n",
       "      <td>7</td>\n",
       "    </tr>\n",
       "    <tr>\n",
       "      <th>430815</th>\n",
       "      <td>კუალადცა</td>\n",
       "      <td>კუალად</td>\n",
       "      <td>Encl:ცა</td>\n",
       "      <td>15</td>\n",
       "    </tr>\n",
       "    <tr>\n",
       "      <th>438308</th>\n",
       "      <td>თქუენცა</td>\n",
       "      <td>თქუენ</td>\n",
       "      <td>Encl:ცა</td>\n",
       "      <td>28</td>\n",
       "    </tr>\n",
       "    <tr>\n",
       "      <th>447551</th>\n",
       "      <td>მიერცა</td>\n",
       "      <td>მიერ</td>\n",
       "      <td>Encl:ცა</td>\n",
       "      <td>6</td>\n",
       "    </tr>\n",
       "  </tbody>\n",
       "</table>\n",
       "</div>"
      ],
      "text/plain": [
       "            word   lemma  pos_tag  freq\n",
       "18443      მანცა      ის  Encl:ცა    46\n",
       "228199     აქაცა     აქა  Encl:ცა    39\n",
       "365856   გინდაცა   ნდომა  Encl:ცა    10\n",
       "393298   ოდეს-ცა   აოდვა  Encl:ცა     7\n",
       "430815  კუალადცა  კუალად  Encl:ცა    15\n",
       "438308   თქუენცა   თქუენ  Encl:ცა    28\n",
       "447551    მიერცა    მიერ  Encl:ცა     6"
      ]
     },
     "execution_count": 421,
     "metadata": {},
     "output_type": "execute_result"
    }
   ],
   "source": [
    "df2.query('pos_tag == \"Encl:ცა\"')"
   ]
  },
  {
   "cell_type": "code",
   "execution_count": 422,
   "id": "c2bd94a9",
   "metadata": {
    "ExecuteTime": {
     "end_time": "2023-07-03T20:22:37.866506Z",
     "start_time": "2023-07-03T20:22:37.828347Z"
    },
    "collapsed": false,
    "jupyter": {
     "outputs_hidden": false
    }
   },
   "outputs": [
    {
     "data": {
      "text/html": [
       "<div>\n",
       "<style scoped>\n",
       "    .dataframe tbody tr th:only-of-type {\n",
       "        vertical-align: middle;\n",
       "    }\n",
       "\n",
       "    .dataframe tbody tr th {\n",
       "        vertical-align: top;\n",
       "    }\n",
       "\n",
       "    .dataframe thead th {\n",
       "        text-align: right;\n",
       "    }\n",
       "</style>\n",
       "<table border=\"1\" class=\"dataframe\">\n",
       "  <thead>\n",
       "    <tr style=\"text-align: right;\">\n",
       "      <th></th>\n",
       "      <th>word</th>\n",
       "      <th>lemma</th>\n",
       "      <th>pos_tag</th>\n",
       "      <th>freq</th>\n",
       "    </tr>\n",
       "  </thead>\n",
       "  <tbody>\n",
       "    <tr>\n",
       "      <th>112427</th>\n",
       "      <td>დაყუჩდებაო-</td>\n",
       "      <td>დაყუჩდებაო</td>\n",
       "      <td>Symbol</td>\n",
       "      <td>1</td>\n",
       "    </tr>\n",
       "    <tr>\n",
       "      <th>118006</th>\n",
       "      <td>ტაბახმელ-</td>\n",
       "      <td>ტაბახმელ</td>\n",
       "      <td>Symbol</td>\n",
       "      <td>1</td>\n",
       "    </tr>\n",
       "    <tr>\n",
       "      <th>142321</th>\n",
       "      <td>ღილ-</td>\n",
       "      <td>ღილ</td>\n",
       "      <td>Symbol</td>\n",
       "      <td>1</td>\n",
       "    </tr>\n",
       "    <tr>\n",
       "      <th>142723</th>\n",
       "      <td>საურავ-</td>\n",
       "      <td>საურავ</td>\n",
       "      <td>Symbol</td>\n",
       "      <td>1</td>\n",
       "    </tr>\n",
       "    <tr>\n",
       "      <th>162790</th>\n",
       "      <td>სტროიკაზე-</td>\n",
       "      <td>სტროიკაზე</td>\n",
       "      <td>Symbol</td>\n",
       "      <td>1</td>\n",
       "    </tr>\n",
       "    <tr>\n",
       "      <th>...</th>\n",
       "      <td>...</td>\n",
       "      <td>...</td>\n",
       "      <td>...</td>\n",
       "      <td>...</td>\n",
       "    </tr>\n",
       "    <tr>\n",
       "      <th>2623752</th>\n",
       "      <td>გულყვითელამ-</td>\n",
       "      <td>გულყვითელამ</td>\n",
       "      <td>Symbol</td>\n",
       "      <td>1</td>\n",
       "    </tr>\n",
       "    <tr>\n",
       "      <th>2626934</th>\n",
       "      <td>ნაცებ-</td>\n",
       "      <td>ნაცებ</td>\n",
       "      <td>Symbol</td>\n",
       "      <td>1</td>\n",
       "    </tr>\n",
       "    <tr>\n",
       "      <th>2629191</th>\n",
       "      <td>რუკს-</td>\n",
       "      <td>რუკს</td>\n",
       "      <td>Symbol</td>\n",
       "      <td>1</td>\n",
       "    </tr>\n",
       "    <tr>\n",
       "      <th>2631453</th>\n",
       "      <td>ჟივილ-</td>\n",
       "      <td>ჟივილ</td>\n",
       "      <td>Symbol</td>\n",
       "      <td>1</td>\n",
       "    </tr>\n",
       "    <tr>\n",
       "      <th>2635215</th>\n",
       "      <td>წინასწარმეტყველთაგანნი-</td>\n",
       "      <td>წინასწარმეტყველთაგანნი</td>\n",
       "      <td>Symbol</td>\n",
       "      <td>1</td>\n",
       "    </tr>\n",
       "  </tbody>\n",
       "</table>\n",
       "<p>1060 rows × 4 columns</p>\n",
       "</div>"
      ],
      "text/plain": [
       "                            word                   lemma pos_tag  freq\n",
       "112427               დაყუჩდებაო-              დაყუჩდებაო  Symbol     1\n",
       "118006                 ტაბახმელ-                ტაბახმელ  Symbol     1\n",
       "142321                      ღილ-                     ღილ  Symbol     1\n",
       "142723                   საურავ-                  საურავ  Symbol     1\n",
       "162790                სტროიკაზე-               სტროიკაზე  Symbol     1\n",
       "...                          ...                     ...     ...   ...\n",
       "2623752             გულყვითელამ-             გულყვითელამ  Symbol     1\n",
       "2626934                   ნაცებ-                   ნაცებ  Symbol     1\n",
       "2629191                    რუკს-                    რუკს  Symbol     1\n",
       "2631453                   ჟივილ-                   ჟივილ  Symbol     1\n",
       "2635215  წინასწარმეტყველთაგანნი-  წინასწარმეტყველთაგანნი  Symbol     1\n",
       "\n",
       "[1060 rows x 4 columns]"
      ]
     },
     "execution_count": 422,
     "metadata": {},
     "output_type": "execute_result"
    }
   ],
   "source": [
    "df2.query('pos_tag == \"Symbol\"')"
   ]
  },
  {
   "cell_type": "code",
   "execution_count": 423,
   "id": "796a5279",
   "metadata": {
    "ExecuteTime": {
     "end_time": "2023-07-03T20:22:40.971159Z",
     "start_time": "2023-07-03T20:22:40.920586Z"
    },
    "collapsed": false,
    "jupyter": {
     "outputs_hidden": false
    }
   },
   "outputs": [
    {
     "data": {
      "text/html": [
       "<div>\n",
       "<style scoped>\n",
       "    .dataframe tbody tr th:only-of-type {\n",
       "        vertical-align: middle;\n",
       "    }\n",
       "\n",
       "    .dataframe tbody tr th {\n",
       "        vertical-align: top;\n",
       "    }\n",
       "\n",
       "    .dataframe thead th {\n",
       "        text-align: right;\n",
       "    }\n",
       "</style>\n",
       "<table border=\"1\" class=\"dataframe\">\n",
       "  <thead>\n",
       "    <tr style=\"text-align: right;\">\n",
       "      <th></th>\n",
       "      <th>word</th>\n",
       "      <th>lemma</th>\n",
       "      <th>pos_tag</th>\n",
       "      <th>freq</th>\n",
       "    </tr>\n",
       "  </thead>\n",
       "  <tbody>\n",
       "    <tr>\n",
       "      <th>266608</th>\n",
       "      <td>ვე</td>\n",
       "      <td>ვე</td>\n",
       "      <td>Tm:ვე</td>\n",
       "      <td>84</td>\n",
       "    </tr>\n",
       "  </tbody>\n",
       "</table>\n",
       "</div>"
      ],
      "text/plain": [
       "       word lemma pos_tag  freq\n",
       "266608   ვე    ვე   Tm:ვე    84"
      ]
     },
     "execution_count": 423,
     "metadata": {},
     "output_type": "execute_result"
    }
   ],
   "source": [
    "df2.query('pos_tag == \"Tm:ვე\"')"
   ]
  },
  {
   "cell_type": "code",
   "execution_count": 424,
   "id": "df4d10df",
   "metadata": {
    "ExecuteTime": {
     "end_time": "2023-07-03T20:22:44.115401Z",
     "start_time": "2023-07-03T20:22:44.062748Z"
    },
    "collapsed": false,
    "jupyter": {
     "outputs_hidden": false
    }
   },
   "outputs": [
    {
     "data": {
      "text/html": [
       "<div>\n",
       "<style scoped>\n",
       "    .dataframe tbody tr th:only-of-type {\n",
       "        vertical-align: middle;\n",
       "    }\n",
       "\n",
       "    .dataframe tbody tr th {\n",
       "        vertical-align: top;\n",
       "    }\n",
       "\n",
       "    .dataframe thead th {\n",
       "        text-align: right;\n",
       "    }\n",
       "</style>\n",
       "<table border=\"1\" class=\"dataframe\">\n",
       "  <thead>\n",
       "    <tr style=\"text-align: right;\">\n",
       "      <th></th>\n",
       "      <th>word</th>\n",
       "      <th>lemma</th>\n",
       "      <th>pos_tag</th>\n",
       "      <th>freq</th>\n",
       "    </tr>\n",
       "  </thead>\n",
       "  <tbody>\n",
       "    <tr>\n",
       "      <th>143125</th>\n",
       "      <td>ძი</td>\n",
       "      <td>ძი</td>\n",
       "      <td>Tm:ძი</td>\n",
       "      <td>58</td>\n",
       "    </tr>\n",
       "  </tbody>\n",
       "</table>\n",
       "</div>"
      ],
      "text/plain": [
       "       word lemma pos_tag  freq\n",
       "143125   ძი    ძი   Tm:ძი    58"
      ]
     },
     "execution_count": 424,
     "metadata": {},
     "output_type": "execute_result"
    }
   ],
   "source": [
    "df2.query('pos_tag == \"Tm:ძი\"')"
   ]
  },
  {
   "cell_type": "code",
   "execution_count": 425,
   "id": "d9f15b25",
   "metadata": {
    "ExecuteTime": {
     "end_time": "2023-07-03T20:22:44.239006Z",
     "start_time": "2023-07-03T20:22:44.116131Z"
    },
    "collapsed": false,
    "jupyter": {
     "outputs_hidden": false
    }
   },
   "outputs": [
    {
     "data": {
      "text/html": [
       "<div>\n",
       "<style scoped>\n",
       "    .dataframe tbody tr th:only-of-type {\n",
       "        vertical-align: middle;\n",
       "    }\n",
       "\n",
       "    .dataframe tbody tr th {\n",
       "        vertical-align: top;\n",
       "    }\n",
       "\n",
       "    .dataframe thead th {\n",
       "        text-align: right;\n",
       "    }\n",
       "</style>\n",
       "<table border=\"1\" class=\"dataframe\">\n",
       "  <thead>\n",
       "    <tr style=\"text-align: right;\">\n",
       "      <th></th>\n",
       "      <th>word</th>\n",
       "      <th>lemma</th>\n",
       "      <th>pos_tag</th>\n",
       "      <th>freq</th>\n",
       "    </tr>\n",
       "  </thead>\n",
       "  <tbody>\n",
       "    <tr>\n",
       "      <th>101829</th>\n",
       "      <td>იყოსმცა</td>\n",
       "      <td>ყოფა</td>\n",
       "      <td>Encl:მცა</td>\n",
       "      <td>12</td>\n",
       "    </tr>\n",
       "    <tr>\n",
       "      <th>143022</th>\n",
       "      <td>ვისმცა</td>\n",
       "      <td>ვინ</td>\n",
       "      <td>Encl:მცა</td>\n",
       "      <td>15</td>\n",
       "    </tr>\n",
       "  </tbody>\n",
       "</table>\n",
       "</div>"
      ],
      "text/plain": [
       "           word lemma   pos_tag  freq\n",
       "101829  იყოსმცა  ყოფა  Encl:მცა    12\n",
       "143022   ვისმცა   ვინ  Encl:მცა    15"
      ]
     },
     "execution_count": 425,
     "metadata": {},
     "output_type": "execute_result"
    }
   ],
   "source": [
    "df2.query('pos_tag == \"Encl:მცა\"')"
   ]
  },
  {
   "cell_type": "code",
   "execution_count": 427,
   "id": "9352de0d",
   "metadata": {
    "ExecuteTime": {
     "end_time": "2023-07-03T20:22:50.129840Z",
     "start_time": "2023-07-03T20:22:50.081018Z"
    },
    "collapsed": false,
    "jupyter": {
     "outputs_hidden": false
    }
   },
   "outputs": [
    {
     "data": {
      "text/html": [
       "<div>\n",
       "<style scoped>\n",
       "    .dataframe tbody tr th:only-of-type {\n",
       "        vertical-align: middle;\n",
       "    }\n",
       "\n",
       "    .dataframe tbody tr th {\n",
       "        vertical-align: top;\n",
       "    }\n",
       "\n",
       "    .dataframe thead th {\n",
       "        text-align: right;\n",
       "    }\n",
       "</style>\n",
       "<table border=\"1\" class=\"dataframe\">\n",
       "  <thead>\n",
       "    <tr style=\"text-align: right;\">\n",
       "      <th></th>\n",
       "      <th>word</th>\n",
       "      <th>lemma</th>\n",
       "      <th>pos_tag</th>\n",
       "      <th>freq</th>\n",
       "    </tr>\n",
       "  </thead>\n",
       "  <tbody>\n",
       "    <tr>\n",
       "      <th>841991</th>\n",
       "      <td>შემ-ხვედრია</td>\n",
       "      <td>შემხვედრი</td>\n",
       "      <td>&gt;XCOMP</td>\n",
       "      <td>1</td>\n",
       "    </tr>\n",
       "  </tbody>\n",
       "</table>\n",
       "</div>"
      ],
      "text/plain": [
       "               word      lemma pos_tag  freq\n",
       "841991  შემ-ხვედრია  შემხვედრი  >XCOMP     1"
      ]
     },
     "execution_count": 427,
     "metadata": {},
     "output_type": "execute_result"
    }
   ],
   "source": [
    "df2.query('pos_tag == \">XCOMP\"')"
   ]
  },
  {
   "cell_type": "code",
   "execution_count": 428,
   "id": "9e2ff125",
   "metadata": {
    "ExecuteTime": {
     "end_time": "2023-07-03T20:22:55.007145Z",
     "start_time": "2023-07-03T20:22:54.970239Z"
    },
    "collapsed": false,
    "jupyter": {
     "outputs_hidden": false
    }
   },
   "outputs": [],
   "source": [
    "junk = ['>XCOMP', 'Tm:ვე', 'Tm:ძი', 'Encl:მცა', 'Guess', 'Tm:ღა', 'Encl:ცა', 'Symbol']"
   ]
  },
  {
   "cell_type": "code",
   "execution_count": 431,
   "id": "a2a6ebaa",
   "metadata": {
    "ExecuteTime": {
     "end_time": "2023-07-03T20:23:13.564964Z",
     "start_time": "2023-07-03T20:23:13.447175Z"
    },
    "collapsed": false,
    "jupyter": {
     "outputs_hidden": false
    }
   },
   "outputs": [],
   "source": [
    "# df2.query('pos_tag == \"Redup\"')\n",
    "df2 = df2[~df2.pos_tag.isin(junk)]"
   ]
  },
  {
   "cell_type": "code",
   "execution_count": 432,
   "id": "62af37e8-216b-40b1-9031-528cff98681b",
   "metadata": {
    "ExecuteTime": {
     "end_time": "2023-07-03T20:23:26.181539Z",
     "start_time": "2023-07-03T20:23:26.150502Z"
    }
   },
   "outputs": [
    {
     "data": {
      "text/plain": [
       "(1366992, 4)"
      ]
     },
     "execution_count": 432,
     "metadata": {},
     "output_type": "execute_result"
    }
   ],
   "source": [
    "df2.shape"
   ]
  },
  {
   "cell_type": "code",
   "execution_count": 433,
   "id": "ec6d21f0",
   "metadata": {
    "ExecuteTime": {
     "end_time": "2023-07-03T20:23:33.728560Z",
     "start_time": "2023-07-03T20:23:33.683095Z"
    },
    "collapsed": false,
    "jupyter": {
     "outputs_hidden": false
    }
   },
   "outputs": [
    {
     "data": {
      "text/html": [
       "<div>\n",
       "<style scoped>\n",
       "    .dataframe tbody tr th:only-of-type {\n",
       "        vertical-align: middle;\n",
       "    }\n",
       "\n",
       "    .dataframe tbody tr th {\n",
       "        vertical-align: top;\n",
       "    }\n",
       "\n",
       "    .dataframe thead th {\n",
       "        text-align: right;\n",
       "    }\n",
       "</style>\n",
       "<table border=\"1\" class=\"dataframe\">\n",
       "  <thead>\n",
       "    <tr style=\"text-align: right;\">\n",
       "      <th></th>\n",
       "      <th>word</th>\n",
       "      <th>lemma</th>\n",
       "      <th>pos_tag</th>\n",
       "      <th>freq</th>\n",
       "    </tr>\n",
       "  </thead>\n",
       "  <tbody>\n",
       "    <tr>\n",
       "      <th>0</th>\n",
       "      <td>ამ</td>\n",
       "      <td>ეს</td>\n",
       "      <td>Pron</td>\n",
       "      <td>1041654</td>\n",
       "    </tr>\n",
       "    <tr>\n",
       "      <th>1</th>\n",
       "      <td>ზამთრის</td>\n",
       "      <td>ზამთარი</td>\n",
       "      <td>N</td>\n",
       "      <td>8035</td>\n",
       "    </tr>\n",
       "    <tr>\n",
       "      <th>2</th>\n",
       "      <td>მიწურულს</td>\n",
       "      <td>მიწურული</td>\n",
       "      <td>Dat</td>\n",
       "      <td>5976</td>\n",
       "    </tr>\n",
       "    <tr>\n",
       "      <th>3</th>\n",
       "      <td>თითქმის</td>\n",
       "      <td>თითქმის</td>\n",
       "      <td>Adv</td>\n",
       "      <td>62608</td>\n",
       "    </tr>\n",
       "    <tr>\n",
       "      <th>4</th>\n",
       "      <td>სასოწარკვეთილი</td>\n",
       "      <td>სასოწარკვეთილი</td>\n",
       "      <td>A</td>\n",
       "      <td>844</td>\n",
       "    </tr>\n",
       "  </tbody>\n",
       "</table>\n",
       "</div>"
      ],
      "text/plain": [
       "             word           lemma pos_tag     freq\n",
       "0              ამ              ეს    Pron  1041654\n",
       "1         ზამთრის         ზამთარი       N     8035\n",
       "2        მიწურულს        მიწურული     Dat     5976\n",
       "3         თითქმის         თითქმის     Adv    62608\n",
       "4  სასოწარკვეთილი  სასოწარკვეთილი       A      844"
      ]
     },
     "execution_count": 433,
     "metadata": {},
     "output_type": "execute_result"
    }
   ],
   "source": [
    "df2.head()"
   ]
  },
  {
   "cell_type": "code",
   "execution_count": 435,
   "id": "b4bd7196",
   "metadata": {
    "ExecuteTime": {
     "end_time": "2023-07-03T20:24:00.536459Z",
     "start_time": "2023-07-03T20:23:56.358731Z"
    },
    "collapsed": false,
    "jupyter": {
     "outputs_hidden": false
    }
   },
   "outputs": [],
   "source": [
    "df2.to_csv('csv/data.csv')"
   ]
  },
  {
   "cell_type": "markdown",
   "id": "a63a8efa-bb5a-41e1-af89-a5bd73f36d62",
   "metadata": {},
   "source": [
    "## ანალიზი"
   ]
  },
  {
   "cell_type": "markdown",
   "id": "350ec608-d097-47d8-87fd-c35d11db116b",
   "metadata": {},
   "source": [
    "### მეტყველების ნაწილები"
   ]
  },
  {
   "cell_type": "code",
   "execution_count": 61,
   "id": "56c162f3-b714-4167-a64c-a50ee4bd7fed",
   "metadata": {
    "ExecuteTime": {
     "end_time": "2023-07-03T17:55:39.498252Z",
     "start_time": "2023-07-03T17:55:39.495705Z"
    }
   },
   "outputs": [],
   "source": []
  },
  {
   "cell_type": "markdown",
   "id": "8cc5bf79-1904-4a85-849b-af8e1e5f16f3",
   "metadata": {},
   "source": [
    "### სიხშირეები"
   ]
  },
  {
   "cell_type": "code",
   "execution_count": 436,
   "id": "65ec1be5-93bd-4275-88ab-6c75eec792a0",
   "metadata": {
    "ExecuteTime": {
     "end_time": "2023-07-03T20:24:06.078946Z",
     "start_time": "2023-07-03T20:24:06.070577Z"
    }
   },
   "outputs": [
    {
     "data": {
      "text/plain": [
       "count     1366992\n",
       "unique         51\n",
       "top             N\n",
       "freq       729021\n",
       "Name: pos_tag, dtype: object"
      ]
     },
     "execution_count": 436,
     "metadata": {},
     "output_type": "execute_result"
    }
   ],
   "source": [
    "df2.pos_tag.describe()"
   ]
  },
  {
   "cell_type": "markdown",
   "id": "18fd541b-a07d-41e4-8c15-038534826bf6",
   "metadata": {},
   "source": [
    "51 სახის აღნიშვნა მოიძებნება სულ"
   ]
  },
  {
   "cell_type": "code",
   "execution_count": 438,
   "id": "493338e3-63c6-4e98-97b0-86cf82af8532",
   "metadata": {
    "ExecuteTime": {
     "end_time": "2023-07-03T20:24:16.226932Z",
     "start_time": "2023-07-03T20:24:16.223576Z"
    }
   },
   "outputs": [
    {
     "data": {
      "text/html": [
       "<div>\n",
       "<style scoped>\n",
       "    .dataframe tbody tr th:only-of-type {\n",
       "        vertical-align: middle;\n",
       "    }\n",
       "\n",
       "    .dataframe tbody tr th {\n",
       "        vertical-align: top;\n",
       "    }\n",
       "\n",
       "    .dataframe thead th {\n",
       "        text-align: right;\n",
       "    }\n",
       "</style>\n",
       "<table border=\"1\" class=\"dataframe\">\n",
       "  <thead>\n",
       "    <tr style=\"text-align: right;\">\n",
       "      <th></th>\n",
       "      <th>perc</th>\n",
       "    </tr>\n",
       "  </thead>\n",
       "  <tbody>\n",
       "    <tr>\n",
       "      <th>count</th>\n",
       "      <td>51.00000000</td>\n",
       "    </tr>\n",
       "    <tr>\n",
       "      <th>mean</th>\n",
       "      <td>0.01960784</td>\n",
       "    </tr>\n",
       "    <tr>\n",
       "      <th>std</th>\n",
       "      <td>0.08653474</td>\n",
       "    </tr>\n",
       "    <tr>\n",
       "      <th>min</th>\n",
       "      <td>0.00000073</td>\n",
       "    </tr>\n",
       "    <tr>\n",
       "      <th>25%</th>\n",
       "      <td>0.00001097</td>\n",
       "    </tr>\n",
       "    <tr>\n",
       "      <th>50%</th>\n",
       "      <td>0.00013899</td>\n",
       "    </tr>\n",
       "    <tr>\n",
       "      <th>75%</th>\n",
       "      <td>0.00070410</td>\n",
       "    </tr>\n",
       "    <tr>\n",
       "      <th>max</th>\n",
       "      <td>0.53330305</td>\n",
       "    </tr>\n",
       "  </tbody>\n",
       "</table>\n",
       "</div>"
      ],
      "text/plain": [
       "             perc\n",
       "count 51.00000000\n",
       "mean   0.01960784\n",
       "std    0.08653474\n",
       "min    0.00000073\n",
       "25%    0.00001097\n",
       "50%    0.00013899\n",
       "75%    0.00070410\n",
       "max    0.53330305"
      ]
     },
     "execution_count": 438,
     "metadata": {},
     "output_type": "execute_result"
    }
   ],
   "source": [
    "pos_tag_by_lemma = pd.value_counts(df2.pos_tag, normalize=True).reset_index()\n",
    "pos_tag_by_lemma.columns = ['pos', 'perc']\n",
    "pos_tag_by_lemma.describe()"
   ]
  },
  {
   "cell_type": "code",
   "execution_count": 452,
   "id": "de890a53-13e0-4e8b-9731-ca89a1066e36",
   "metadata": {
    "ExecuteTime": {
     "end_time": "2023-07-03T20:27:57.646564Z",
     "start_time": "2023-07-03T20:27:57.416379Z"
    }
   },
   "outputs": [
    {
     "data": {
      "text/html": [
       "<div>\n",
       "<style scoped>\n",
       "    .dataframe tbody tr th:only-of-type {\n",
       "        vertical-align: middle;\n",
       "    }\n",
       "\n",
       "    .dataframe tbody tr th {\n",
       "        vertical-align: top;\n",
       "    }\n",
       "\n",
       "    .dataframe thead th {\n",
       "        text-align: right;\n",
       "    }\n",
       "</style>\n",
       "<table border=\"1\" class=\"dataframe\">\n",
       "  <thead>\n",
       "    <tr style=\"text-align: right;\">\n",
       "      <th></th>\n",
       "      <th>freq</th>\n",
       "    </tr>\n",
       "  </thead>\n",
       "  <tbody>\n",
       "    <tr>\n",
       "      <th>count</th>\n",
       "      <td>51.00000000</td>\n",
       "    </tr>\n",
       "    <tr>\n",
       "      <th>mean</th>\n",
       "      <td>0.01960784</td>\n",
       "    </tr>\n",
       "    <tr>\n",
       "      <th>std</th>\n",
       "      <td>0.06191584</td>\n",
       "    </tr>\n",
       "    <tr>\n",
       "      <th>min</th>\n",
       "      <td>0.00000021</td>\n",
       "    </tr>\n",
       "    <tr>\n",
       "      <th>25%</th>\n",
       "      <td>0.00002876</td>\n",
       "    </tr>\n",
       "    <tr>\n",
       "      <th>50%</th>\n",
       "      <td>0.00068303</td>\n",
       "    </tr>\n",
       "    <tr>\n",
       "      <th>75%</th>\n",
       "      <td>0.00396501</td>\n",
       "    </tr>\n",
       "    <tr>\n",
       "      <th>max</th>\n",
       "      <td>0.38894773</td>\n",
       "    </tr>\n",
       "  </tbody>\n",
       "</table>\n",
       "</div>"
      ],
      "text/plain": [
       "             freq\n",
       "count 51.00000000\n",
       "mean   0.01960784\n",
       "std    0.06191584\n",
       "min    0.00000021\n",
       "25%    0.00002876\n",
       "50%    0.00068303\n",
       "75%    0.00396501\n",
       "max    0.38894773"
      ]
     },
     "execution_count": 452,
     "metadata": {},
     "output_type": "execute_result"
    }
   ],
   "source": [
    "pos_tag_by_freq = (df2.groupby('pos_tag').freq.sum() / df2.freq.sum()).reset_index().sort_values(by='freq', ascending=False)\n",
    "pos_tag_by_freq.describe()"
   ]
  },
  {
   "cell_type": "code",
   "execution_count": 453,
   "id": "119fc70e-cd4c-45a3-b976-ebb80455c314",
   "metadata": {
    "ExecuteTime": {
     "end_time": "2023-07-03T20:28:02.872850Z",
     "start_time": "2023-07-03T20:28:02.577560Z"
    }
   },
   "outputs": [
    {
     "data": {
      "text/plain": [
       "<Axes: xlabel='pos', ylabel='perc'>"
      ]
     },
     "execution_count": 453,
     "metadata": {},
     "output_type": "execute_result"
    },
    {
     "name": "stderr",
     "output_type": "stream",
     "text": [
      "findfont: Font family 'Meiryo' not found.\n",
      "findfont: Font family 'Meiryo' not found.\n",
      "findfont: Font family 'Meiryo' not found.\n",
      "findfont: Font family 'Meiryo' not found.\n",
      "findfont: Font family 'Meiryo' not found.\n",
      "findfont: Font family 'Meiryo' not found.\n",
      "findfont: Font family 'Meiryo' not found.\n",
      "findfont: Font family 'Meiryo' not found.\n",
      "findfont: Font family 'Meiryo' not found.\n",
      "findfont: Font family 'Meiryo' not found.\n",
      "findfont: Font family 'Meiryo' not found.\n",
      "findfont: Font family 'Meiryo' not found.\n",
      "findfont: Font family 'Meiryo' not found.\n",
      "findfont: Font family 'Meiryo' not found.\n",
      "findfont: Font family 'Meiryo' not found.\n",
      "findfont: Font family 'Meiryo' not found.\n",
      "findfont: Font family 'Meiryo' not found.\n",
      "findfont: Font family 'Meiryo' not found.\n",
      "findfont: Font family 'Meiryo' not found.\n",
      "findfont: Font family 'Meiryo' not found.\n",
      "findfont: Font family 'Meiryo' not found.\n",
      "findfont: Font family 'Meiryo' not found.\n",
      "findfont: Font family 'Meiryo' not found.\n",
      "findfont: Font family 'Meiryo' not found.\n",
      "findfont: Font family 'Meiryo' not found.\n",
      "findfont: Font family 'Meiryo' not found.\n",
      "findfont: Font family 'Meiryo' not found.\n",
      "findfont: Font family 'Meiryo' not found.\n",
      "findfont: Font family 'Meiryo' not found.\n",
      "findfont: Font family 'Meiryo' not found.\n",
      "findfont: Font family 'Meiryo' not found.\n",
      "findfont: Font family 'Meiryo' not found.\n",
      "findfont: Font family 'Meiryo' not found.\n",
      "findfont: Font family 'Meiryo' not found.\n",
      "findfont: Font family 'Meiryo' not found.\n",
      "findfont: Font family 'Meiryo' not found.\n",
      "findfont: Font family 'Meiryo' not found.\n",
      "findfont: Font family 'Meiryo' not found.\n",
      "findfont: Font family 'Meiryo' not found.\n",
      "findfont: Font family 'Meiryo' not found.\n",
      "findfont: Font family 'Meiryo' not found.\n",
      "findfont: Font family 'Meiryo' not found.\n",
      "findfont: Font family 'Meiryo' not found.\n",
      "findfont: Font family 'Meiryo' not found.\n",
      "findfont: Font family 'Meiryo' not found.\n",
      "findfont: Font family 'Meiryo' not found.\n",
      "findfont: Font family 'Meiryo' not found.\n",
      "findfont: Font family 'Meiryo' not found.\n",
      "findfont: Font family 'Meiryo' not found.\n",
      "findfont: Font family 'Meiryo' not found.\n",
      "findfont: Font family 'Meiryo' not found.\n",
      "findfont: Font family 'Meiryo' not found.\n",
      "findfont: Font family 'Meiryo' not found.\n",
      "findfont: Font family 'Meiryo' not found.\n",
      "findfont: Font family 'Meiryo' not found.\n",
      "findfont: Font family 'Meiryo' not found.\n",
      "findfont: Font family 'Meiryo' not found.\n",
      "findfont: Font family 'Meiryo' not found.\n",
      "findfont: Font family 'Meiryo' not found.\n",
      "findfont: Font family 'Meiryo' not found.\n",
      "findfont: Font family 'Meiryo' not found.\n",
      "findfont: Font family 'Meiryo' not found.\n",
      "findfont: Font family 'Meiryo' not found.\n",
      "findfont: Font family 'Meiryo' not found.\n",
      "findfont: Font family 'Meiryo' not found.\n",
      "findfont: Font family 'Meiryo' not found.\n",
      "findfont: Font family 'Meiryo' not found.\n",
      "findfont: Font family 'Meiryo' not found.\n",
      "findfont: Font family 'Meiryo' not found.\n",
      "findfont: Font family 'Meiryo' not found.\n",
      "findfont: Font family 'Meiryo' not found.\n",
      "findfont: Font family 'Meiryo' not found.\n"
     ]
    },
    {
     "data": {
      "image/png": "[encoded data removed]",
      "text/plain": [
       "<Figure size 1000x600 with 1 Axes>"
      ]
     },
     "metadata": {},
     "output_type": "display_data"
    }
   ],
   "source": [
    "plt.figure(figsize=(10, 6))\n",
    "sns.barplot(data=pos_tag_by_lemma.query('perc > 0.001'), x='pos', y='perc')"
   ]
  },
  {
   "cell_type": "markdown",
   "id": "1282ce6d-4051-44f9-a62f-c8fa2a4d0279",
   "metadata": {},
   "source": [
    "მათ შორის როგორც ვხედავთ ყველაზე ხშირად არსებითი სახელები, ზმნები და ზედსართავი სახელების ტიპის სიტყვები გვხვდება კორპუსში."
   ]
  },
  {
   "cell_type": "code",
   "execution_count": 454,
   "id": "4a7038e0-6d95-42c9-834f-d65026c21204",
   "metadata": {
    "ExecuteTime": {
     "end_time": "2023-07-03T20:28:09.761238Z",
     "start_time": "2023-07-03T20:28:09.730698Z"
    }
   },
   "outputs": [],
   "source": [
    "cumulative_freq = pos_tag_by_freq.copy()\n",
    "cumulative_freq.pos_tag = cumulative_freq.pos_tag.apply(lambda x: x + ' + _' if x != 'N' else x)\n",
    "cumulative_freq.freq = cumulative_freq.freq.cumsum()"
   ]
  },
  {
   "cell_type": "code",
   "execution_count": 455,
   "id": "f4e6bcfa-5cd2-4da6-8f4f-94045af003df",
   "metadata": {
    "ExecuteTime": {
     "end_time": "2023-07-03T20:28:13.223118Z",
     "start_time": "2023-07-03T20:28:12.807352Z"
    }
   },
   "outputs": [
    {
     "data": {
      "text/plain": [
       "<Axes: xlabel='freq', ylabel='pos_tag'>"
      ]
     },
     "execution_count": 455,
     "metadata": {},
     "output_type": "execute_result"
    },
    {
     "name": "stderr",
     "output_type": "stream",
     "text": [
      "findfont: Font family 'Meiryo' not found.\n",
      "findfont: Font family 'Meiryo' not found.\n",
      "findfont: Font family 'Meiryo' not found.\n",
      "findfont: Font family 'Meiryo' not found.\n",
      "findfont: Font family 'Meiryo' not found.\n",
      "findfont: Font family 'Meiryo' not found.\n",
      "findfont: Font family 'Meiryo' not found.\n",
      "findfont: Font family 'Meiryo' not found.\n",
      "findfont: Font family 'Meiryo' not found.\n",
      "findfont: Font family 'Meiryo' not found.\n",
      "findfont: Font family 'Meiryo' not found.\n",
      "findfont: Font family 'Meiryo' not found.\n",
      "findfont: Font family 'Meiryo' not found.\n",
      "findfont: Font family 'Meiryo' not found.\n",
      "findfont: Font family 'Meiryo' not found.\n",
      "findfont: Font family 'Meiryo' not found.\n",
      "findfont: Font family 'Meiryo' not found.\n",
      "findfont: Font family 'Meiryo' not found.\n",
      "findfont: Font family 'Meiryo' not found.\n",
      "findfont: Font family 'Meiryo' not found.\n",
      "findfont: Font family 'Meiryo' not found.\n",
      "findfont: Font family 'Meiryo' not found.\n",
      "findfont: Font family 'Meiryo' not found.\n",
      "findfont: Font family 'Meiryo' not found.\n",
      "findfont: Font family 'Meiryo' not found.\n",
      "findfont: Font family 'Meiryo' not found.\n",
      "findfont: Font family 'Meiryo' not found.\n",
      "findfont: Font family 'Meiryo' not found.\n",
      "findfont: Font family 'Meiryo' not found.\n",
      "findfont: Font family 'Meiryo' not found.\n",
      "findfont: Font family 'Meiryo' not found.\n",
      "findfont: Font family 'Meiryo' not found.\n",
      "findfont: Font family 'Meiryo' not found.\n",
      "findfont: Font family 'Meiryo' not found.\n",
      "findfont: Font family 'Meiryo' not found.\n",
      "findfont: Font family 'Meiryo' not found.\n",
      "findfont: Font family 'Meiryo' not found.\n",
      "findfont: Font family 'Meiryo' not found.\n",
      "findfont: Font family 'Meiryo' not found.\n",
      "findfont: Font family 'Meiryo' not found.\n",
      "findfont: Font family 'Meiryo' not found.\n",
      "findfont: Font family 'Meiryo' not found.\n",
      "findfont: Font family 'Meiryo' not found.\n",
      "findfont: Font family 'Meiryo' not found.\n",
      "findfont: Font family 'Meiryo' not found.\n",
      "findfont: Font family 'Meiryo' not found.\n",
      "findfont: Font family 'Meiryo' not found.\n",
      "findfont: Font family 'Meiryo' not found.\n",
      "findfont: Font family 'Meiryo' not found.\n",
      "findfont: Font family 'Meiryo' not found.\n",
      "findfont: Font family 'Meiryo' not found.\n",
      "findfont: Font family 'Meiryo' not found.\n",
      "findfont: Font family 'Meiryo' not found.\n",
      "findfont: Font family 'Meiryo' not found.\n",
      "findfont: Font family 'Meiryo' not found.\n",
      "findfont: Font family 'Meiryo' not found.\n",
      "findfont: Font family 'Meiryo' not found.\n",
      "findfont: Font family 'Meiryo' not found.\n",
      "findfont: Font family 'Meiryo' not found.\n",
      "findfont: Font family 'Meiryo' not found.\n",
      "findfont: Font family 'Meiryo' not found.\n",
      "findfont: Font family 'Meiryo' not found.\n",
      "findfont: Font family 'Meiryo' not found.\n",
      "findfont: Font family 'Meiryo' not found.\n",
      "findfont: Font family 'Meiryo' not found.\n",
      "findfont: Font family 'Meiryo' not found.\n",
      "findfont: Font family 'Meiryo' not found.\n",
      "findfont: Font family 'Meiryo' not found.\n",
      "findfont: Font family 'Meiryo' not found.\n",
      "findfont: Font family 'Meiryo' not found.\n",
      "findfont: Font family 'Meiryo' not found.\n",
      "findfont: Font family 'Meiryo' not found.\n",
      "findfont: Font family 'Meiryo' not found.\n",
      "findfont: Font family 'Meiryo' not found.\n",
      "findfont: Font family 'Meiryo' not found.\n",
      "findfont: Font family 'Meiryo' not found.\n",
      "findfont: Font family 'Meiryo' not found.\n",
      "findfont: Font family 'Meiryo' not found.\n",
      "findfont: Font family 'Meiryo' not found.\n",
      "findfont: Font family 'Meiryo' not found.\n",
      "findfont: Font family 'Meiryo' not found.\n",
      "findfont: Font family 'Meiryo' not found.\n",
      "findfont: Font family 'Meiryo' not found.\n",
      "findfont: Font family 'Meiryo' not found.\n",
      "findfont: Font family 'Meiryo' not found.\n",
      "findfont: Font family 'Meiryo' not found.\n",
      "findfont: Font family 'Meiryo' not found.\n",
      "findfont: Font family 'Meiryo' not found.\n",
      "findfont: Font family 'Meiryo' not found.\n",
      "findfont: Font family 'Meiryo' not found.\n",
      "findfont: Font family 'Meiryo' not found.\n",
      "findfont: Font family 'Meiryo' not found.\n",
      "findfont: Font family 'Meiryo' not found.\n",
      "findfont: Font family 'Meiryo' not found.\n",
      "findfont: Font family 'Meiryo' not found.\n",
      "findfont: Font family 'Meiryo' not found.\n",
      "findfont: Font family 'Meiryo' not found.\n",
      "findfont: Font family 'Meiryo' not found.\n",
      "findfont: Font family 'Meiryo' not found.\n",
      "findfont: Font family 'Meiryo' not found.\n",
      "findfont: Font family 'Meiryo' not found.\n",
      "findfont: Font family 'Meiryo' not found.\n",
      "findfont: Font family 'Meiryo' not found.\n",
      "findfont: Font family 'Meiryo' not found.\n",
      "findfont: Font family 'Meiryo' not found.\n",
      "findfont: Font family 'Meiryo' not found.\n",
      "findfont: Font family 'Meiryo' not found.\n",
      "findfont: Font family 'Meiryo' not found.\n"
     ]
    },
    {
     "data": {
      "image/png": "[encoded data removed]",
      "text/plain": [
       "<Figure size 1000x1000 with 1 Axes>"
      ]
     },
     "metadata": {},
     "output_type": "display_data"
    }
   ],
   "source": [
    "plt.figure(figsize=(10, 10))\n",
    "sns.barplot(data=cumulative_freq.query('freq < 0.99'), y='pos_tag', x='freq', fill=True)"
   ]
  },
  {
   "cell_type": "markdown",
   "id": "bf12bce7-c658-4249-a1e9-d59c4457a2ca",
   "metadata": {},
   "source": [
    "სიხშირეებს თუ დავაკვირდებით დავინახავთ, რომ 18 მეტყველების ნაწილის თეგი ასახავს ტექტში შეხვედრილი სიტყვების 99%"
   ]
  },
  {
   "cell_type": "code",
   "execution_count": 456,
   "id": "78eca8da-4151-416e-bec3-922e9b1b89d4",
   "metadata": {
    "ExecuteTime": {
     "end_time": "2023-07-03T20:28:22.451088Z",
     "start_time": "2023-07-03T20:28:21.684367Z"
    }
   },
   "outputs": [
    {
     "data": {
      "text/plain": [
       "<Axes: xlabel='freq', ylabel='pos_tag'>"
      ]
     },
     "execution_count": 456,
     "metadata": {},
     "output_type": "execute_result"
    },
    {
     "name": "stderr",
     "output_type": "stream",
     "text": [
      "findfont: Font family 'Meiryo' not found.\n",
      "findfont: Font family 'Meiryo' not found.\n",
      "findfont: Font family 'Meiryo' not found.\n",
      "findfont: Font family 'Meiryo' not found.\n",
      "findfont: Font family 'Meiryo' not found.\n",
      "findfont: Font family 'Meiryo' not found.\n",
      "findfont: Font family 'Meiryo' not found.\n",
      "findfont: Font family 'Meiryo' not found.\n",
      "findfont: Font family 'Meiryo' not found.\n",
      "findfont: Font family 'Meiryo' not found.\n",
      "findfont: Font family 'Meiryo' not found.\n",
      "findfont: Font family 'Meiryo' not found.\n",
      "findfont: Font family 'Meiryo' not found.\n",
      "findfont: Font family 'Meiryo' not found.\n",
      "findfont: Font family 'Meiryo' not found.\n",
      "findfont: Font family 'Meiryo' not found.\n",
      "findfont: Font family 'Meiryo' not found.\n",
      "findfont: Font family 'Meiryo' not found.\n",
      "findfont: Font family 'Meiryo' not found.\n",
      "findfont: Font family 'Meiryo' not found.\n",
      "findfont: Font family 'Meiryo' not found.\n",
      "findfont: Font family 'Meiryo' not found.\n",
      "findfont: Font family 'Meiryo' not found.\n",
      "findfont: Font family 'Meiryo' not found.\n",
      "findfont: Font family 'Meiryo' not found.\n",
      "findfont: Font family 'Meiryo' not found.\n",
      "findfont: Font family 'Meiryo' not found.\n",
      "findfont: Font family 'Meiryo' not found.\n",
      "findfont: Font family 'Meiryo' not found.\n",
      "findfont: Font family 'Meiryo' not found.\n",
      "findfont: Font family 'Meiryo' not found.\n",
      "findfont: Font family 'Meiryo' not found.\n",
      "findfont: Font family 'Meiryo' not found.\n",
      "findfont: Font family 'Meiryo' not found.\n",
      "findfont: Font family 'Meiryo' not found.\n",
      "findfont: Font family 'Meiryo' not found.\n",
      "findfont: Font family 'Meiryo' not found.\n",
      "findfont: Font family 'Meiryo' not found.\n",
      "findfont: Font family 'Meiryo' not found.\n",
      "findfont: Font family 'Meiryo' not found.\n",
      "findfont: Font family 'Meiryo' not found.\n",
      "findfont: Font family 'Meiryo' not found.\n",
      "findfont: Font family 'Meiryo' not found.\n",
      "findfont: Font family 'Meiryo' not found.\n",
      "findfont: Font family 'Meiryo' not found.\n",
      "findfont: Font family 'Meiryo' not found.\n",
      "findfont: Font family 'Meiryo' not found.\n",
      "findfont: Font family 'Meiryo' not found.\n",
      "findfont: Font family 'Meiryo' not found.\n",
      "findfont: Font family 'Meiryo' not found.\n",
      "findfont: Font family 'Meiryo' not found.\n",
      "findfont: Font family 'Meiryo' not found.\n",
      "findfont: Font family 'Meiryo' not found.\n",
      "findfont: Font family 'Meiryo' not found.\n",
      "findfont: Font family 'Meiryo' not found.\n",
      "findfont: Font family 'Meiryo' not found.\n",
      "findfont: Font family 'Meiryo' not found.\n",
      "findfont: Font family 'Meiryo' not found.\n",
      "findfont: Font family 'Meiryo' not found.\n",
      "findfont: Font family 'Meiryo' not found.\n",
      "findfont: Font family 'Meiryo' not found.\n",
      "findfont: Font family 'Meiryo' not found.\n",
      "findfont: Font family 'Meiryo' not found.\n",
      "findfont: Font family 'Meiryo' not found.\n",
      "findfont: Font family 'Meiryo' not found.\n",
      "findfont: Font family 'Meiryo' not found.\n",
      "findfont: Font family 'Meiryo' not found.\n",
      "findfont: Font family 'Meiryo' not found.\n"
     ]
    },
    {
     "data": {
      "image/png": "[encoded data removed]",
      "text/plain": [
       "<Figure size 1000x600 with 1 Axes>"
      ]
     },
     "metadata": {},
     "output_type": "display_data"
    }
   ],
   "source": [
    "plt.figure(figsize=(10, 6))\n",
    "sns.barplot(data=cumulative_freq.query('freq < 0.90'), y='pos_tag', x='freq', fill=True)"
   ]
  },
  {
   "cell_type": "code",
   "execution_count": 458,
   "id": "b3dca0fc-2f9a-4ad0-8782-28cb2d7618dd",
   "metadata": {
    "ExecuteTime": {
     "end_time": "2023-07-03T20:28:36.669218Z",
     "start_time": "2023-07-03T20:28:36.218188Z"
    }
   },
   "outputs": [
    {
     "data": {
      "text/plain": [
       "<Axes: xlabel='pos_tag', ylabel='freq'>"
      ]
     },
     "execution_count": 458,
     "metadata": {},
     "output_type": "execute_result"
    },
    {
     "name": "stderr",
     "output_type": "stream",
     "text": [
      "findfont: Font family 'Meiryo' not found.\n",
      "findfont: Font family 'Meiryo' not found.\n",
      "findfont: Font family 'Meiryo' not found.\n",
      "findfont: Font family 'Meiryo' not found.\n",
      "findfont: Font family 'Meiryo' not found.\n",
      "findfont: Font family 'Meiryo' not found.\n",
      "findfont: Font family 'Meiryo' not found.\n",
      "findfont: Font family 'Meiryo' not found.\n",
      "findfont: Font family 'Meiryo' not found.\n",
      "findfont: Font family 'Meiryo' not found.\n",
      "findfont: Font family 'Meiryo' not found.\n",
      "findfont: Font family 'Meiryo' not found.\n",
      "findfont: Font family 'Meiryo' not found.\n",
      "findfont: Font family 'Meiryo' not found.\n",
      "findfont: Font family 'Meiryo' not found.\n",
      "findfont: Font family 'Meiryo' not found.\n",
      "findfont: Font family 'Meiryo' not found.\n",
      "findfont: Font family 'Meiryo' not found.\n",
      "findfont: Font family 'Meiryo' not found.\n",
      "findfont: Font family 'Meiryo' not found.\n",
      "findfont: Font family 'Meiryo' not found.\n",
      "findfont: Font family 'Meiryo' not found.\n",
      "findfont: Font family 'Meiryo' not found.\n",
      "findfont: Font family 'Meiryo' not found.\n",
      "findfont: Font family 'Meiryo' not found.\n",
      "findfont: Font family 'Meiryo' not found.\n",
      "findfont: Font family 'Meiryo' not found.\n",
      "findfont: Font family 'Meiryo' not found.\n",
      "findfont: Font family 'Meiryo' not found.\n",
      "findfont: Font family 'Meiryo' not found.\n",
      "findfont: Font family 'Meiryo' not found.\n",
      "findfont: Font family 'Meiryo' not found.\n",
      "findfont: Font family 'Meiryo' not found.\n",
      "findfont: Font family 'Meiryo' not found.\n",
      "findfont: Font family 'Meiryo' not found.\n",
      "findfont: Font family 'Meiryo' not found.\n",
      "findfont: Font family 'Meiryo' not found.\n",
      "findfont: Font family 'Meiryo' not found.\n",
      "findfont: Font family 'Meiryo' not found.\n",
      "findfont: Font family 'Meiryo' not found.\n",
      "findfont: Font family 'Meiryo' not found.\n",
      "findfont: Font family 'Meiryo' not found.\n",
      "findfont: Font family 'Meiryo' not found.\n",
      "findfont: Font family 'Meiryo' not found.\n",
      "findfont: Font family 'Meiryo' not found.\n",
      "findfont: Font family 'Meiryo' not found.\n",
      "findfont: Font family 'Meiryo' not found.\n",
      "findfont: Font family 'Meiryo' not found.\n",
      "findfont: Font family 'Meiryo' not found.\n",
      "findfont: Font family 'Meiryo' not found.\n",
      "findfont: Font family 'Meiryo' not found.\n",
      "findfont: Font family 'Meiryo' not found.\n",
      "findfont: Font family 'Meiryo' not found.\n",
      "findfont: Font family 'Meiryo' not found.\n",
      "findfont: Font family 'Meiryo' not found.\n",
      "findfont: Font family 'Meiryo' not found.\n",
      "findfont: Font family 'Meiryo' not found.\n",
      "findfont: Font family 'Meiryo' not found.\n",
      "findfont: Font family 'Meiryo' not found.\n",
      "findfont: Font family 'Meiryo' not found.\n",
      "findfont: Font family 'Meiryo' not found.\n",
      "findfont: Font family 'Meiryo' not found.\n",
      "findfont: Font family 'Meiryo' not found.\n",
      "findfont: Font family 'Meiryo' not found.\n",
      "findfont: Font family 'Meiryo' not found.\n",
      "findfont: Font family 'Meiryo' not found.\n",
      "findfont: Font family 'Meiryo' not found.\n",
      "findfont: Font family 'Meiryo' not found.\n",
      "findfont: Font family 'Meiryo' not found.\n",
      "findfont: Font family 'Meiryo' not found.\n",
      "findfont: Font family 'Meiryo' not found.\n",
      "findfont: Font family 'Meiryo' not found.\n",
      "findfont: Font family 'Meiryo' not found.\n",
      "findfont: Font family 'Meiryo' not found.\n",
      "findfont: Font family 'Meiryo' not found.\n",
      "findfont: Font family 'Meiryo' not found.\n",
      "findfont: Font family 'Meiryo' not found.\n",
      "findfont: Font family 'Meiryo' not found.\n",
      "findfont: Font family 'Meiryo' not found.\n",
      "findfont: Font family 'Meiryo' not found.\n",
      "findfont: Font family 'Meiryo' not found.\n",
      "findfont: Font family 'Meiryo' not found.\n",
      "findfont: Font family 'Meiryo' not found.\n",
      "findfont: Font family 'Meiryo' not found.\n"
     ]
    },
    {
     "data": {
      "image/png": "[encoded data removed]",
      "text/plain": [
       "<Figure size 1000x600 with 1 Axes>"
      ]
     },
     "metadata": {},
     "output_type": "display_data"
    }
   ],
   "source": [
    "plt.figure(figsize=(10, 6))\n",
    "sns.barplot(data=pos_tag_by_freq.query('freq > 0.01'), x='pos_tag', y='freq')"
   ]
  },
  {
   "cell_type": "code",
   "execution_count": 459,
   "id": "407d434c-1bc4-489d-b758-6ac5eae63cfb",
   "metadata": {
    "ExecuteTime": {
     "end_time": "2023-07-03T20:28:42.552078Z",
     "start_time": "2023-07-03T20:28:42.198653Z"
    }
   },
   "outputs": [
    {
     "data": {
      "text/plain": [
       "<Axes: xlabel='perc', ylabel='pos'>"
      ]
     },
     "execution_count": 459,
     "metadata": {},
     "output_type": "execute_result"
    },
    {
     "name": "stderr",
     "output_type": "stream",
     "text": [
      "findfont: Font family 'Meiryo' not found.\n",
      "findfont: Font family 'Meiryo' not found.\n",
      "findfont: Font family 'Meiryo' not found.\n",
      "findfont: Font family 'Meiryo' not found.\n",
      "findfont: Font family 'Meiryo' not found.\n",
      "findfont: Font family 'Meiryo' not found.\n",
      "findfont: Font family 'Meiryo' not found.\n",
      "findfont: Font family 'Meiryo' not found.\n",
      "findfont: Font family 'Meiryo' not found.\n",
      "findfont: Font family 'Meiryo' not found.\n",
      "findfont: Font family 'Meiryo' not found.\n",
      "findfont: Font family 'Meiryo' not found.\n",
      "findfont: Font family 'Meiryo' not found.\n",
      "findfont: Font family 'Meiryo' not found.\n",
      "findfont: Font family 'Meiryo' not found.\n",
      "findfont: Font family 'Meiryo' not found.\n",
      "findfont: Font family 'Meiryo' not found.\n",
      "findfont: Font family 'Meiryo' not found.\n",
      "findfont: Font family 'Meiryo' not found.\n",
      "findfont: Font family 'Meiryo' not found.\n",
      "findfont: Font family 'Meiryo' not found.\n",
      "findfont: Font family 'Meiryo' not found.\n",
      "findfont: Font family 'Meiryo' not found.\n",
      "findfont: Font family 'Meiryo' not found.\n",
      "findfont: Font family 'Meiryo' not found.\n",
      "findfont: Font family 'Meiryo' not found.\n",
      "findfont: Font family 'Meiryo' not found.\n",
      "findfont: Font family 'Meiryo' not found.\n",
      "findfont: Font family 'Meiryo' not found.\n",
      "findfont: Font family 'Meiryo' not found.\n",
      "findfont: Font family 'Meiryo' not found.\n",
      "findfont: Font family 'Meiryo' not found.\n",
      "findfont: Font family 'Meiryo' not found.\n",
      "findfont: Font family 'Meiryo' not found.\n",
      "findfont: Font family 'Meiryo' not found.\n",
      "findfont: Font family 'Meiryo' not found.\n",
      "findfont: Font family 'Meiryo' not found.\n",
      "findfont: Font family 'Meiryo' not found.\n",
      "findfont: Font family 'Meiryo' not found.\n",
      "findfont: Font family 'Meiryo' not found.\n",
      "findfont: Font family 'Meiryo' not found.\n",
      "findfont: Font family 'Meiryo' not found.\n",
      "findfont: Font family 'Meiryo' not found.\n",
      "findfont: Font family 'Meiryo' not found.\n",
      "findfont: Font family 'Meiryo' not found.\n",
      "findfont: Font family 'Meiryo' not found.\n",
      "findfont: Font family 'Meiryo' not found.\n",
      "findfont: Font family 'Meiryo' not found.\n",
      "findfont: Font family 'Meiryo' not found.\n",
      "findfont: Font family 'Meiryo' not found.\n",
      "findfont: Font family 'Meiryo' not found.\n",
      "findfont: Font family 'Meiryo' not found.\n",
      "findfont: Font family 'Meiryo' not found.\n",
      "findfont: Font family 'Meiryo' not found.\n",
      "findfont: Font family 'Meiryo' not found.\n",
      "findfont: Font family 'Meiryo' not found.\n",
      "findfont: Font family 'Meiryo' not found.\n",
      "findfont: Font family 'Meiryo' not found.\n",
      "findfont: Font family 'Meiryo' not found.\n",
      "findfont: Font family 'Meiryo' not found.\n",
      "findfont: Font family 'Meiryo' not found.\n",
      "findfont: Font family 'Meiryo' not found.\n",
      "findfont: Font family 'Meiryo' not found.\n",
      "findfont: Font family 'Meiryo' not found.\n",
      "findfont: Font family 'Meiryo' not found.\n",
      "findfont: Font family 'Meiryo' not found.\n",
      "findfont: Font family 'Meiryo' not found.\n",
      "findfont: Font family 'Meiryo' not found.\n",
      "findfont: Font family 'Meiryo' not found.\n",
      "findfont: Font family 'Meiryo' not found.\n",
      "findfont: Font family 'Meiryo' not found.\n",
      "findfont: Font family 'Meiryo' not found.\n",
      "findfont: Font family 'Meiryo' not found.\n",
      "findfont: Font family 'Meiryo' not found.\n",
      "findfont: Font family 'Meiryo' not found.\n",
      "findfont: Font family 'Meiryo' not found.\n",
      "findfont: Font family 'Meiryo' not found.\n",
      "findfont: Font family 'Meiryo' not found.\n",
      "findfont: Font family 'Meiryo' not found.\n",
      "findfont: Font family 'Meiryo' not found.\n"
     ]
    },
    {
     "data": {
      "image/png": "[encoded data removed]",
      "text/plain": [
       "<Figure size 1000x800 with 1 Axes>"
      ]
     },
     "metadata": {},
     "output_type": "display_data"
    }
   ],
   "source": [
    "plt.figure(figsize=(10, 8))\n",
    "plt.ticklabel_format(style='plain', axis='x')\n",
    "sns.barplot(data=pos_tag_by_lemma.query('perc < 0.00001'), y='pos', x='perc')"
   ]
  },
  {
   "cell_type": "code",
   "execution_count": 460,
   "id": "6caf449d-3445-4850-aeb3-e55e5a4deebc",
   "metadata": {
    "ExecuteTime": {
     "end_time": "2023-07-03T20:28:46.983591Z",
     "start_time": "2023-07-03T20:28:46.111578Z"
    }
   },
   "outputs": [
    {
     "data": {
      "text/plain": [
       "<Axes: xlabel='pos_tag', ylabel='count'>"
      ]
     },
     "execution_count": 460,
     "metadata": {},
     "output_type": "execute_result"
    },
    {
     "name": "stderr",
     "output_type": "stream",
     "text": [
      "findfont: Font family 'Meiryo' not found.\n",
      "findfont: Font family 'Meiryo' not found.\n",
      "findfont: Font family 'Meiryo' not found.\n",
      "findfont: Font family 'Meiryo' not found.\n",
      "findfont: Font family 'Meiryo' not found.\n",
      "findfont: Font family 'Meiryo' not found.\n",
      "findfont: Font family 'Meiryo' not found.\n",
      "findfont: Font family 'Meiryo' not found.\n",
      "findfont: Font family 'Meiryo' not found.\n",
      "findfont: Font family 'Meiryo' not found.\n",
      "findfont: Font family 'Meiryo' not found.\n",
      "findfont: Font family 'Meiryo' not found.\n",
      "findfont: Font family 'Meiryo' not found.\n",
      "findfont: Font family 'Meiryo' not found.\n",
      "findfont: Font family 'Meiryo' not found.\n",
      "findfont: Font family 'Meiryo' not found.\n",
      "findfont: Font family 'Meiryo' not found.\n",
      "findfont: Font family 'Meiryo' not found.\n",
      "findfont: Font family 'Meiryo' not found.\n",
      "findfont: Font family 'Meiryo' not found.\n",
      "findfont: Font family 'Meiryo' not found.\n",
      "findfont: Font family 'Meiryo' not found.\n",
      "findfont: Font family 'Meiryo' not found.\n",
      "findfont: Font family 'Meiryo' not found.\n",
      "findfont: Font family 'Meiryo' not found.\n",
      "findfont: Font family 'Meiryo' not found.\n",
      "findfont: Font family 'Meiryo' not found.\n",
      "findfont: Font family 'Meiryo' not found.\n",
      "findfont: Font family 'Meiryo' not found.\n",
      "findfont: Font family 'Meiryo' not found.\n",
      "findfont: Font family 'Meiryo' not found.\n",
      "findfont: Font family 'Meiryo' not found.\n",
      "findfont: Font family 'Meiryo' not found.\n",
      "findfont: Font family 'Meiryo' not found.\n",
      "findfont: Font family 'Meiryo' not found.\n",
      "findfont: Font family 'Meiryo' not found.\n",
      "findfont: Font family 'Meiryo' not found.\n",
      "findfont: Font family 'Meiryo' not found.\n",
      "findfont: Font family 'Meiryo' not found.\n",
      "findfont: Font family 'Meiryo' not found.\n",
      "findfont: Font family 'Meiryo' not found.\n",
      "findfont: Font family 'Meiryo' not found.\n",
      "findfont: Font family 'Meiryo' not found.\n",
      "findfont: Font family 'Meiryo' not found.\n",
      "findfont: Font family 'Meiryo' not found.\n",
      "findfont: Font family 'Meiryo' not found.\n",
      "findfont: Font family 'Meiryo' not found.\n",
      "findfont: Font family 'Meiryo' not found.\n",
      "findfont: Font family 'Meiryo' not found.\n",
      "findfont: Font family 'Meiryo' not found.\n",
      "findfont: Font family 'Meiryo' not found.\n",
      "findfont: Font family 'Meiryo' not found.\n",
      "findfont: Font family 'Meiryo' not found.\n",
      "findfont: Font family 'Meiryo' not found.\n",
      "findfont: Font family 'Meiryo' not found.\n",
      "findfont: Font family 'Meiryo' not found.\n",
      "findfont: Font family 'Meiryo' not found.\n",
      "findfont: Font family 'Meiryo' not found.\n",
      "findfont: Font family 'Meiryo' not found.\n",
      "findfont: Font family 'Meiryo' not found.\n",
      "findfont: Font family 'Meiryo' not found.\n",
      "findfont: Font family 'Meiryo' not found.\n",
      "findfont: Font family 'Meiryo' not found.\n",
      "findfont: Font family 'Meiryo' not found.\n",
      "findfont: Font family 'Meiryo' not found.\n",
      "findfont: Font family 'Meiryo' not found.\n",
      "findfont: Font family 'Meiryo' not found.\n",
      "findfont: Font family 'Meiryo' not found.\n",
      "findfont: Font family 'Meiryo' not found.\n",
      "findfont: Font family 'Meiryo' not found.\n",
      "findfont: Font family 'Meiryo' not found.\n",
      "findfont: Font family 'Meiryo' not found.\n",
      "findfont: Font family 'Meiryo' not found.\n",
      "findfont: Font family 'Meiryo' not found.\n",
      "findfont: Font family 'Meiryo' not found.\n",
      "findfont: Font family 'Meiryo' not found.\n",
      "findfont: Font family 'Meiryo' not found.\n",
      "findfont: Font family 'Meiryo' not found.\n",
      "findfont: Font family 'Meiryo' not found.\n",
      "findfont: Font family 'Meiryo' not found.\n",
      "findfont: Font family 'Meiryo' not found.\n",
      "findfont: Font family 'Meiryo' not found.\n",
      "findfont: Font family 'Meiryo' not found.\n",
      "findfont: Font family 'Meiryo' not found.\n",
      "findfont: Font family 'Meiryo' not found.\n",
      "findfont: Font family 'Meiryo' not found.\n",
      "findfont: Font family 'Meiryo' not found.\n",
      "findfont: Font family 'Meiryo' not found.\n",
      "findfont: Font family 'Meiryo' not found.\n",
      "findfont: Font family 'Meiryo' not found.\n",
      "findfont: Font family 'Meiryo' not found.\n",
      "findfont: Font family 'Meiryo' not found.\n",
      "findfont: Font family 'Meiryo' not found.\n",
      "findfont: Font family 'Meiryo' not found.\n",
      "findfont: Font family 'Meiryo' not found.\n",
      "findfont: Font family 'Meiryo' not found.\n",
      "findfont: Font family 'Meiryo' not found.\n",
      "findfont: Font family 'Meiryo' not found.\n",
      "findfont: Font family 'Meiryo' not found.\n",
      "findfont: Font family 'Meiryo' not found.\n",
      "findfont: Font family 'Meiryo' not found.\n",
      "findfont: Font family 'Meiryo' not found.\n",
      "findfont: Font family 'Meiryo' not found.\n",
      "findfont: Font family 'Meiryo' not found.\n",
      "findfont: Font family 'Meiryo' not found.\n",
      "findfont: Font family 'Meiryo' not found.\n",
      "findfont: Font family 'Meiryo' not found.\n",
      "findfont: Font family 'Meiryo' not found.\n",
      "findfont: Font family 'Meiryo' not found.\n",
      "findfont: Font family 'Meiryo' not found.\n",
      "findfont: Font family 'Meiryo' not found.\n",
      "findfont: Font family 'Meiryo' not found.\n",
      "findfont: Font family 'Meiryo' not found.\n",
      "findfont: Font family 'Meiryo' not found.\n",
      "findfont: Font family 'Meiryo' not found.\n",
      "findfont: Font family 'Meiryo' not found.\n"
     ]
    },
    {
     "data": {
      "image/png": "[encoded data removed]",
      "text/plain": [
       "<Figure size 2000x600 with 1 Axes>"
      ]
     },
     "metadata": {},
     "output_type": "display_data"
    }
   ],
   "source": [
    "plt.figure(figsize=(20, 6))\n",
    "sns.countplot(data=df2,order=pd.value_counts(df2.pos_tag).loc[lambda x: x < 50].index, x='pos_tag')"
   ]
  },
  {
   "cell_type": "code",
   "execution_count": 461,
   "id": "9312f90b-3597-4c56-b58e-95875e69db0d",
   "metadata": {
    "ExecuteTime": {
     "end_time": "2023-07-03T20:28:48.129260Z",
     "start_time": "2023-07-03T20:28:47.104924Z"
    }
   },
   "outputs": [],
   "source": [
    "lexem_group_sizes = df2.groupby('lemma').word.count()\n",
    "lexem_group_sizes = lexem_group_sizes.reset_index()"
   ]
  },
  {
   "cell_type": "code",
   "execution_count": 462,
   "id": "894f5622-8b18-4a01-b9af-a5347e2a20d8",
   "metadata": {
    "ExecuteTime": {
     "end_time": "2023-07-03T20:28:50.932351Z",
     "start_time": "2023-07-03T20:28:50.904889Z"
    }
   },
   "outputs": [],
   "source": [
    "lexem_group_sizes.columns = ['lemma', 'count']\n",
    "freq_group = lexem_group_sizes.sort_values(by='count', ascending=False)[:10]"
   ]
  },
  {
   "cell_type": "code",
   "execution_count": 463,
   "id": "b5166f18-bd87-4782-ba2f-0956bcf7d603",
   "metadata": {
    "ExecuteTime": {
     "end_time": "2023-07-03T20:28:54.335480Z",
     "start_time": "2023-07-03T20:28:53.974301Z"
    }
   },
   "outputs": [
    {
     "data": {
      "text/plain": [
       "<Axes: xlabel='lemma', ylabel='count'>"
      ]
     },
     "execution_count": 463,
     "metadata": {},
     "output_type": "execute_result"
    },
    {
     "name": "stderr",
     "output_type": "stream",
     "text": [
      "findfont: Font family 'Meiryo' not found.\n",
      "findfont: Font family 'Meiryo' not found.\n",
      "findfont: Font family 'Meiryo' not found.\n",
      "findfont: Font family 'Meiryo' not found.\n",
      "findfont: Font family 'Meiryo' not found.\n",
      "findfont: Font family 'Meiryo' not found.\n",
      "findfont: Font family 'Meiryo' not found.\n",
      "findfont: Font family 'Meiryo' not found.\n",
      "findfont: Font family 'Meiryo' not found.\n",
      "findfont: Font family 'Meiryo' not found.\n",
      "findfont: Font family 'Meiryo' not found.\n",
      "findfont: Font family 'Meiryo' not found.\n",
      "findfont: Font family 'Meiryo' not found.\n",
      "findfont: Font family 'Meiryo' not found.\n",
      "findfont: Font family 'Meiryo' not found.\n",
      "findfont: Font family 'Meiryo' not found.\n",
      "findfont: Font family 'Meiryo' not found.\n",
      "findfont: Font family 'Meiryo' not found.\n",
      "findfont: Font family 'Meiryo' not found.\n",
      "findfont: Font family 'Meiryo' not found.\n",
      "findfont: Font family 'Meiryo' not found.\n",
      "findfont: Font family 'Meiryo' not found.\n",
      "findfont: Font family 'Meiryo' not found.\n",
      "findfont: Font family 'Meiryo' not found.\n",
      "findfont: Font family 'Meiryo' not found.\n",
      "findfont: Font family 'Meiryo' not found.\n",
      "findfont: Font family 'Meiryo' not found.\n",
      "findfont: Font family 'Meiryo' not found.\n",
      "findfont: Font family 'Meiryo' not found.\n",
      "findfont: Font family 'Meiryo' not found.\n",
      "findfont: Font family 'Meiryo' not found.\n",
      "findfont: Font family 'Meiryo' not found.\n",
      "findfont: Font family 'Meiryo' not found.\n",
      "findfont: Font family 'Meiryo' not found.\n",
      "findfont: Font family 'Meiryo' not found.\n",
      "findfont: Font family 'Meiryo' not found.\n",
      "findfont: Font family 'Meiryo' not found.\n",
      "findfont: Font family 'Meiryo' not found.\n",
      "findfont: Font family 'Meiryo' not found.\n",
      "findfont: Font family 'Meiryo' not found.\n",
      "findfont: Font family 'Meiryo' not found.\n",
      "findfont: Font family 'Meiryo' not found.\n",
      "findfont: Font family 'Meiryo' not found.\n",
      "findfont: Font family 'Meiryo' not found.\n",
      "findfont: Font family 'Meiryo' not found.\n",
      "findfont: Font family 'Meiryo' not found.\n",
      "findfont: Font family 'Meiryo' not found.\n",
      "findfont: Font family 'Meiryo' not found.\n",
      "findfont: Font family 'Meiryo' not found.\n",
      "findfont: Font family 'Meiryo' not found.\n",
      "findfont: Font family 'Meiryo' not found.\n",
      "findfont: Font family 'Meiryo' not found.\n",
      "findfont: Font family 'Meiryo' not found.\n",
      "findfont: Font family 'Meiryo' not found.\n",
      "findfont: Font family 'Meiryo' not found.\n",
      "findfont: Font family 'Meiryo' not found.\n",
      "findfont: Font family 'Meiryo' not found.\n",
      "findfont: Font family 'Meiryo' not found.\n",
      "findfont: Font family 'Meiryo' not found.\n",
      "findfont: Font family 'Meiryo' not found.\n",
      "findfont: Font family 'Meiryo' not found.\n",
      "findfont: Font family 'Meiryo' not found.\n",
      "findfont: Font family 'Meiryo' not found.\n",
      "findfont: Font family 'Meiryo' not found.\n",
      "findfont: Font family 'Meiryo' not found.\n",
      "findfont: Font family 'Meiryo' not found.\n",
      "findfont: Font family 'Meiryo' not found.\n",
      "findfont: Font family 'Meiryo' not found.\n",
      "findfont: Font family 'Meiryo' not found.\n",
      "findfont: Font family 'Meiryo' not found.\n",
      "findfont: Font family 'Meiryo' not found.\n",
      "findfont: Font family 'Meiryo' not found.\n",
      "findfont: Font family 'Meiryo' not found.\n",
      "findfont: Font family 'Meiryo' not found.\n",
      "findfont: Font family 'Meiryo' not found.\n",
      "findfont: Font family 'Meiryo' not found.\n",
      "findfont: Font family 'Meiryo' not found.\n",
      "findfont: Font family 'Meiryo' not found.\n",
      "findfont: Font family 'Meiryo' not found.\n",
      "findfont: Font family 'Meiryo' not found.\n",
      "findfont: Font family 'Meiryo' not found.\n",
      "findfont: Font family 'Meiryo' not found.\n",
      "findfont: Font family 'Meiryo' not found.\n",
      "findfont: Font family 'Meiryo' not found.\n",
      "findfont: Font family 'Meiryo' not found.\n",
      "findfont: Font family 'Meiryo' not found.\n",
      "findfont: Font family 'Meiryo' not found.\n",
      "findfont: Font family 'Meiryo' not found.\n"
     ]
    },
    {
     "data": {
      "image/png": "[encoded data removed]",
      "text/plain": [
       "<Figure size 1000x600 with 1 Axes>"
      ]
     },
     "metadata": {},
     "output_type": "display_data"
    }
   ],
   "source": [
    "plt.figure(figsize=(10, 6))\n",
    "sns.barplot(data=freq_group, x='lemma', y='count')"
   ]
  },
  {
   "cell_type": "code",
   "execution_count": 464,
   "id": "4f005c88-7178-4830-aa20-0ea73a62167d",
   "metadata": {
    "ExecuteTime": {
     "end_time": "2023-07-03T20:28:54.560704Z",
     "start_time": "2023-07-03T20:28:54.390173Z"
    }
   },
   "outputs": [
    {
     "data": {
      "text/plain": [
       "130084"
      ]
     },
     "execution_count": 464,
     "metadata": {},
     "output_type": "execute_result"
    }
   ],
   "source": [
    "len(df2.lemma.unique())"
   ]
  },
  {
   "cell_type": "code",
   "execution_count": 465,
   "id": "1b06e350-bb30-4e37-b690-b00559e1307b",
   "metadata": {
    "ExecuteTime": {
     "end_time": "2023-07-03T20:28:54.565243Z",
     "start_time": "2023-07-03T20:28:54.562345Z"
    }
   },
   "outputs": [],
   "source": [
    "def get_lexem_freq_by_pos(tag: str, num=10):\n",
    "    common_lexem_group_sizes = (df2[df2['pos_tag'] == tag]\n",
    "    .groupby('lemma')\n",
    "    .freq.sum()\n",
    "    .reset_index())\n",
    "    common_lexem_group_sizes.columns = ['lemma', 'count']\n",
    "    return common_lexem_group_sizes.sort_values(by='count', ascending=False)[:num]"
   ]
  },
  {
   "cell_type": "code",
   "execution_count": 466,
   "id": "a4b63fe8-89fc-494c-8e4c-6d19cdc9ced4",
   "metadata": {
    "ExecuteTime": {
     "end_time": "2023-07-03T20:28:57.635468Z",
     "start_time": "2023-07-03T20:28:57.213775Z"
    }
   },
   "outputs": [
    {
     "data": {
      "text/html": [
       "<div>\n",
       "<style scoped>\n",
       "    .dataframe tbody tr th:only-of-type {\n",
       "        vertical-align: middle;\n",
       "    }\n",
       "\n",
       "    .dataframe tbody tr th {\n",
       "        vertical-align: top;\n",
       "    }\n",
       "\n",
       "    .dataframe thead th {\n",
       "        text-align: right;\n",
       "    }\n",
       "</style>\n",
       "<table border=\"1\" class=\"dataframe\">\n",
       "  <thead>\n",
       "    <tr style=\"text-align: right;\">\n",
       "      <th></th>\n",
       "      <th>lemma</th>\n",
       "      <th>count</th>\n",
       "    </tr>\n",
       "  </thead>\n",
       "  <tbody>\n",
       "    <tr>\n",
       "      <th>47005</th>\n",
       "      <td>საქართველო</td>\n",
       "      <td>1014944</td>\n",
       "    </tr>\n",
       "    <tr>\n",
       "      <th>64129</th>\n",
       "      <td>წელი</td>\n",
       "      <td>787061</td>\n",
       "    </tr>\n",
       "    <tr>\n",
       "      <th>55700</th>\n",
       "      <td>ქვეყანა</td>\n",
       "      <td>438910</td>\n",
       "    </tr>\n",
       "    <tr>\n",
       "      <th>44932</th>\n",
       "      <td>რუსეთი</td>\n",
       "      <td>403303</td>\n",
       "    </tr>\n",
       "    <tr>\n",
       "      <th>66448</th>\n",
       "      <td>ხელისუფლება</td>\n",
       "      <td>343562</td>\n",
       "    </tr>\n",
       "    <tr>\n",
       "      <th>392</th>\n",
       "      <td>ადამიანი</td>\n",
       "      <td>319716</td>\n",
       "    </tr>\n",
       "    <tr>\n",
       "      <th>43024</th>\n",
       "      <td>პრეზიდენტი</td>\n",
       "      <td>319139</td>\n",
       "    </tr>\n",
       "    <tr>\n",
       "      <th>47032</th>\n",
       "      <td>საქმე</td>\n",
       "      <td>296345</td>\n",
       "    </tr>\n",
       "    <tr>\n",
       "      <th>18293</th>\n",
       "      <td>დრო</td>\n",
       "      <td>279542</td>\n",
       "    </tr>\n",
       "    <tr>\n",
       "      <th>22849</th>\n",
       "      <td>თბილისი</td>\n",
       "      <td>245522</td>\n",
       "    </tr>\n",
       "  </tbody>\n",
       "</table>\n",
       "</div>"
      ],
      "text/plain": [
       "             lemma    count\n",
       "47005   საქართველო  1014944\n",
       "64129         წელი   787061\n",
       "55700      ქვეყანა   438910\n",
       "44932       რუსეთი   403303\n",
       "66448  ხელისუფლება   343562\n",
       "392       ადამიანი   319716\n",
       "43024   პრეზიდენტი   319139\n",
       "47032        საქმე   296345\n",
       "18293          დრო   279542\n",
       "22849      თბილისი   245522"
      ]
     },
     "execution_count": 466,
     "metadata": {},
     "output_type": "execute_result"
    }
   ],
   "source": [
    "get_lexem_freq_by_pos('N')"
   ]
  },
  {
   "cell_type": "code",
   "execution_count": 467,
   "id": "9a73c685-c15f-40d6-9bed-3e0cfa0138fd",
   "metadata": {
    "ExecuteTime": {
     "end_time": "2023-07-03T20:28:58.422509Z",
     "start_time": "2023-07-03T20:28:57.691854Z"
    }
   },
   "outputs": [
    {
     "data": {
      "text/plain": [
       "<Axes: xlabel='lemma', ylabel='count'>"
      ]
     },
     "execution_count": 467,
     "metadata": {},
     "output_type": "execute_result"
    },
    {
     "name": "stderr",
     "output_type": "stream",
     "text": [
      "findfont: Font family 'Meiryo' not found.\n",
      "findfont: Font family 'Meiryo' not found.\n",
      "findfont: Font family 'Meiryo' not found.\n",
      "findfont: Font family 'Meiryo' not found.\n",
      "findfont: Font family 'Meiryo' not found.\n",
      "findfont: Font family 'Meiryo' not found.\n",
      "findfont: Font family 'Meiryo' not found.\n",
      "findfont: Font family 'Meiryo' not found.\n",
      "findfont: Font family 'Meiryo' not found.\n",
      "findfont: Font family 'Meiryo' not found.\n",
      "findfont: Font family 'Meiryo' not found.\n",
      "findfont: Font family 'Meiryo' not found.\n",
      "findfont: Font family 'Meiryo' not found.\n",
      "findfont: Font family 'Meiryo' not found.\n",
      "findfont: Font family 'Meiryo' not found.\n",
      "findfont: Font family 'Meiryo' not found.\n",
      "findfont: Font family 'Meiryo' not found.\n",
      "findfont: Font family 'Meiryo' not found.\n",
      "findfont: Font family 'Meiryo' not found.\n",
      "findfont: Font family 'Meiryo' not found.\n",
      "findfont: Font family 'Meiryo' not found.\n",
      "findfont: Font family 'Meiryo' not found.\n",
      "findfont: Font family 'Meiryo' not found.\n",
      "findfont: Font family 'Meiryo' not found.\n",
      "findfont: Font family 'Meiryo' not found.\n",
      "findfont: Font family 'Meiryo' not found.\n",
      "findfont: Font family 'Meiryo' not found.\n",
      "findfont: Font family 'Meiryo' not found.\n",
      "findfont: Font family 'Meiryo' not found.\n",
      "findfont: Font family 'Meiryo' not found.\n",
      "findfont: Font family 'Meiryo' not found.\n",
      "findfont: Font family 'Meiryo' not found.\n",
      "findfont: Font family 'Meiryo' not found.\n",
      "findfont: Font family 'Meiryo' not found.\n",
      "findfont: Font family 'Meiryo' not found.\n",
      "findfont: Font family 'Meiryo' not found.\n",
      "findfont: Font family 'Meiryo' not found.\n",
      "findfont: Font family 'Meiryo' not found.\n",
      "findfont: Font family 'Meiryo' not found.\n",
      "findfont: Font family 'Meiryo' not found.\n",
      "findfont: Font family 'Meiryo' not found.\n",
      "findfont: Font family 'Meiryo' not found.\n",
      "findfont: Font family 'Meiryo' not found.\n",
      "findfont: Font family 'Meiryo' not found.\n",
      "findfont: Font family 'Meiryo' not found.\n",
      "findfont: Font family 'Meiryo' not found.\n",
      "findfont: Font family 'Meiryo' not found.\n",
      "findfont: Font family 'Meiryo' not found.\n",
      "findfont: Font family 'Meiryo' not found.\n",
      "findfont: Font family 'Meiryo' not found.\n",
      "findfont: Font family 'Meiryo' not found.\n",
      "findfont: Font family 'Meiryo' not found.\n",
      "findfont: Font family 'Meiryo' not found.\n",
      "findfont: Font family 'Meiryo' not found.\n",
      "findfont: Font family 'Meiryo' not found.\n",
      "findfont: Font family 'Meiryo' not found.\n",
      "findfont: Font family 'Meiryo' not found.\n",
      "findfont: Font family 'Meiryo' not found.\n",
      "findfont: Font family 'Meiryo' not found.\n",
      "findfont: Font family 'Meiryo' not found.\n",
      "findfont: Font family 'Meiryo' not found.\n",
      "findfont: Font family 'Meiryo' not found.\n",
      "findfont: Font family 'Meiryo' not found.\n",
      "findfont: Font family 'Meiryo' not found.\n",
      "findfont: Font family 'Meiryo' not found.\n",
      "findfont: Font family 'Meiryo' not found.\n",
      "findfont: Font family 'Meiryo' not found.\n",
      "findfont: Font family 'Meiryo' not found.\n",
      "findfont: Font family 'Meiryo' not found.\n",
      "findfont: Font family 'Meiryo' not found.\n",
      "findfont: Font family 'Meiryo' not found.\n",
      "findfont: Font family 'Meiryo' not found.\n",
      "findfont: Font family 'Meiryo' not found.\n",
      "findfont: Font family 'Meiryo' not found.\n",
      "findfont: Font family 'Meiryo' not found.\n",
      "findfont: Font family 'Meiryo' not found.\n",
      "findfont: Font family 'Meiryo' not found.\n",
      "findfont: Font family 'Meiryo' not found.\n",
      "findfont: Font family 'Meiryo' not found.\n",
      "findfont: Font family 'Meiryo' not found.\n"
     ]
    },
    {
     "data": {
      "image/png": "[encoded data removed]",
      "text/plain": [
       "<Figure size 1000x600 with 1 Axes>"
      ]
     },
     "metadata": {},
     "output_type": "display_data"
    }
   ],
   "source": [
    "plt.figure(figsize=(10, 6))\n",
    "sns.barplot(data=get_lexem_freq_by_pos('N'), x='lemma', y='count')"
   ]
  },
  {
   "cell_type": "code",
   "execution_count": 468,
   "id": "bb91e38a-7162-4442-b143-5bedc6a81971",
   "metadata": {
    "ExecuteTime": {
     "end_time": "2023-07-03T20:28:59.525244Z",
     "start_time": "2023-07-03T20:28:58.502235Z"
    }
   },
   "outputs": [
    {
     "data": {
      "text/plain": [
       "<Axes: xlabel='lemma', ylabel='count'>"
      ]
     },
     "execution_count": 468,
     "metadata": {},
     "output_type": "execute_result"
    },
    {
     "name": "stderr",
     "output_type": "stream",
     "text": [
      "findfont: Font family 'Meiryo' not found.\n",
      "findfont: Font family 'Meiryo' not found.\n",
      "findfont: Font family 'Meiryo' not found.\n",
      "findfont: Font family 'Meiryo' not found.\n",
      "findfont: Font family 'Meiryo' not found.\n",
      "findfont: Font family 'Meiryo' not found.\n",
      "findfont: Font family 'Meiryo' not found.\n",
      "findfont: Font family 'Meiryo' not found.\n",
      "findfont: Font family 'Meiryo' not found.\n",
      "findfont: Font family 'Meiryo' not found.\n",
      "findfont: Font family 'Meiryo' not found.\n",
      "findfont: Font family 'Meiryo' not found.\n",
      "findfont: Font family 'Meiryo' not found.\n",
      "findfont: Font family 'Meiryo' not found.\n",
      "findfont: Font family 'Meiryo' not found.\n",
      "findfont: Font family 'Meiryo' not found.\n",
      "findfont: Font family 'Meiryo' not found.\n",
      "findfont: Font family 'Meiryo' not found.\n",
      "findfont: Font family 'Meiryo' not found.\n",
      "findfont: Font family 'Meiryo' not found.\n",
      "findfont: Font family 'Meiryo' not found.\n",
      "findfont: Font family 'Meiryo' not found.\n",
      "findfont: Font family 'Meiryo' not found.\n",
      "findfont: Font family 'Meiryo' not found.\n",
      "findfont: Font family 'Meiryo' not found.\n",
      "findfont: Font family 'Meiryo' not found.\n",
      "findfont: Font family 'Meiryo' not found.\n",
      "findfont: Font family 'Meiryo' not found.\n",
      "findfont: Font family 'Meiryo' not found.\n",
      "findfont: Font family 'Meiryo' not found.\n",
      "findfont: Font family 'Meiryo' not found.\n",
      "findfont: Font family 'Meiryo' not found.\n",
      "findfont: Font family 'Meiryo' not found.\n",
      "findfont: Font family 'Meiryo' not found.\n",
      "findfont: Font family 'Meiryo' not found.\n",
      "findfont: Font family 'Meiryo' not found.\n",
      "findfont: Font family 'Meiryo' not found.\n",
      "findfont: Font family 'Meiryo' not found.\n",
      "findfont: Font family 'Meiryo' not found.\n",
      "findfont: Font family 'Meiryo' not found.\n",
      "findfont: Font family 'Meiryo' not found.\n",
      "findfont: Font family 'Meiryo' not found.\n",
      "findfont: Font family 'Meiryo' not found.\n",
      "findfont: Font family 'Meiryo' not found.\n",
      "findfont: Font family 'Meiryo' not found.\n",
      "findfont: Font family 'Meiryo' not found.\n",
      "findfont: Font family 'Meiryo' not found.\n",
      "findfont: Font family 'Meiryo' not found.\n",
      "findfont: Font family 'Meiryo' not found.\n",
      "findfont: Font family 'Meiryo' not found.\n",
      "findfont: Font family 'Meiryo' not found.\n",
      "findfont: Font family 'Meiryo' not found.\n",
      "findfont: Font family 'Meiryo' not found.\n",
      "findfont: Font family 'Meiryo' not found.\n",
      "findfont: Font family 'Meiryo' not found.\n",
      "findfont: Font family 'Meiryo' not found.\n",
      "findfont: Font family 'Meiryo' not found.\n",
      "findfont: Font family 'Meiryo' not found.\n",
      "findfont: Font family 'Meiryo' not found.\n",
      "findfont: Font family 'Meiryo' not found.\n",
      "findfont: Font family 'Meiryo' not found.\n",
      "findfont: Font family 'Meiryo' not found.\n",
      "findfont: Font family 'Meiryo' not found.\n",
      "findfont: Font family 'Meiryo' not found.\n",
      "findfont: Font family 'Meiryo' not found.\n",
      "findfont: Font family 'Meiryo' not found.\n",
      "findfont: Font family 'Meiryo' not found.\n",
      "findfont: Font family 'Meiryo' not found.\n",
      "findfont: Font family 'Meiryo' not found.\n",
      "findfont: Font family 'Meiryo' not found.\n",
      "findfont: Font family 'Meiryo' not found.\n",
      "findfont: Font family 'Meiryo' not found.\n",
      "findfont: Font family 'Meiryo' not found.\n",
      "findfont: Font family 'Meiryo' not found.\n",
      "findfont: Font family 'Meiryo' not found.\n",
      "findfont: Font family 'Meiryo' not found.\n"
     ]
    },
    {
     "data": {
      "image/png": "[encoded data removed]",
      "text/plain": [
       "<Figure size 1000x600 with 1 Axes>"
      ]
     },
     "metadata": {},
     "output_type": "display_data"
    }
   ],
   "source": [
    "plt.figure(figsize=(10, 6))\n",
    "sns.barplot(data=get_lexem_freq_by_pos('V'), x='lemma', y='count')"
   ]
  },
  {
   "cell_type": "code",
   "execution_count": 469,
   "id": "a25b7ecd-6f5c-43bc-b503-a44f4acb39cb",
   "metadata": {
    "ExecuteTime": {
     "end_time": "2023-07-03T20:29:00.403293Z",
     "start_time": "2023-07-03T20:28:59.639806Z"
    }
   },
   "outputs": [
    {
     "data": {
      "text/plain": [
       "<Axes: xlabel='lemma', ylabel='count'>"
      ]
     },
     "execution_count": 469,
     "metadata": {},
     "output_type": "execute_result"
    },
    {
     "name": "stderr",
     "output_type": "stream",
     "text": [
      "findfont: Font family 'Meiryo' not found.\n",
      "findfont: Font family 'Meiryo' not found.\n",
      "findfont: Font family 'Meiryo' not found.\n",
      "findfont: Font family 'Meiryo' not found.\n",
      "findfont: Font family 'Meiryo' not found.\n",
      "findfont: Font family 'Meiryo' not found.\n",
      "findfont: Font family 'Meiryo' not found.\n",
      "findfont: Font family 'Meiryo' not found.\n",
      "findfont: Font family 'Meiryo' not found.\n",
      "findfont: Font family 'Meiryo' not found.\n",
      "findfont: Font family 'Meiryo' not found.\n",
      "findfont: Font family 'Meiryo' not found.\n",
      "findfont: Font family 'Meiryo' not found.\n",
      "findfont: Font family 'Meiryo' not found.\n",
      "findfont: Font family 'Meiryo' not found.\n",
      "findfont: Font family 'Meiryo' not found.\n",
      "findfont: Font family 'Meiryo' not found.\n",
      "findfont: Font family 'Meiryo' not found.\n",
      "findfont: Font family 'Meiryo' not found.\n",
      "findfont: Font family 'Meiryo' not found.\n",
      "findfont: Font family 'Meiryo' not found.\n",
      "findfont: Font family 'Meiryo' not found.\n",
      "findfont: Font family 'Meiryo' not found.\n",
      "findfont: Font family 'Meiryo' not found.\n",
      "findfont: Font family 'Meiryo' not found.\n",
      "findfont: Font family 'Meiryo' not found.\n",
      "findfont: Font family 'Meiryo' not found.\n",
      "findfont: Font family 'Meiryo' not found.\n",
      "findfont: Font family 'Meiryo' not found.\n",
      "findfont: Font family 'Meiryo' not found.\n",
      "findfont: Font family 'Meiryo' not found.\n",
      "findfont: Font family 'Meiryo' not found.\n",
      "findfont: Font family 'Meiryo' not found.\n",
      "findfont: Font family 'Meiryo' not found.\n",
      "findfont: Font family 'Meiryo' not found.\n",
      "findfont: Font family 'Meiryo' not found.\n",
      "findfont: Font family 'Meiryo' not found.\n",
      "findfont: Font family 'Meiryo' not found.\n",
      "findfont: Font family 'Meiryo' not found.\n",
      "findfont: Font family 'Meiryo' not found.\n",
      "findfont: Font family 'Meiryo' not found.\n",
      "findfont: Font family 'Meiryo' not found.\n",
      "findfont: Font family 'Meiryo' not found.\n",
      "findfont: Font family 'Meiryo' not found.\n",
      "findfont: Font family 'Meiryo' not found.\n",
      "findfont: Font family 'Meiryo' not found.\n",
      "findfont: Font family 'Meiryo' not found.\n",
      "findfont: Font family 'Meiryo' not found.\n",
      "findfont: Font family 'Meiryo' not found.\n",
      "findfont: Font family 'Meiryo' not found.\n",
      "findfont: Font family 'Meiryo' not found.\n",
      "findfont: Font family 'Meiryo' not found.\n",
      "findfont: Font family 'Meiryo' not found.\n",
      "findfont: Font family 'Meiryo' not found.\n",
      "findfont: Font family 'Meiryo' not found.\n",
      "findfont: Font family 'Meiryo' not found.\n",
      "findfont: Font family 'Meiryo' not found.\n",
      "findfont: Font family 'Meiryo' not found.\n",
      "findfont: Font family 'Meiryo' not found.\n",
      "findfont: Font family 'Meiryo' not found.\n",
      "findfont: Font family 'Meiryo' not found.\n",
      "findfont: Font family 'Meiryo' not found.\n",
      "findfont: Font family 'Meiryo' not found.\n",
      "findfont: Font family 'Meiryo' not found.\n",
      "findfont: Font family 'Meiryo' not found.\n",
      "findfont: Font family 'Meiryo' not found.\n",
      "findfont: Font family 'Meiryo' not found.\n",
      "findfont: Font family 'Meiryo' not found.\n",
      "findfont: Font family 'Meiryo' not found.\n",
      "findfont: Font family 'Meiryo' not found.\n",
      "findfont: Font family 'Meiryo' not found.\n",
      "findfont: Font family 'Meiryo' not found.\n",
      "findfont: Font family 'Meiryo' not found.\n",
      "findfont: Font family 'Meiryo' not found.\n",
      "findfont: Font family 'Meiryo' not found.\n",
      "findfont: Font family 'Meiryo' not found.\n"
     ]
    },
    {
     "data": {
      "image/png": "[encoded data removed]",
      "text/plain": [
       "<Figure size 1000x600 with 1 Axes>"
      ]
     },
     "metadata": {},
     "output_type": "display_data"
    }
   ],
   "source": [
    "plt.figure(figsize=(10, 6))\n",
    "sns.barplot(data=get_lexem_freq_by_pos('A'), x='lemma', y='count')"
   ]
  },
  {
   "cell_type": "code",
   "execution_count": 470,
   "id": "611baea4-e78d-42f6-97d8-f2f4b393ebc6",
   "metadata": {
    "ExecuteTime": {
     "end_time": "2023-07-03T20:29:01.277250Z",
     "start_time": "2023-07-03T20:29:00.430179Z"
    }
   },
   "outputs": [],
   "source": [
    "freq_lemma_df = df2.groupby('lemma').freq.sum().reset_index()\n",
    "freq_lemma_df = freq_lemma_df.sort_values(by='freq', ascending=False)[:20]"
   ]
  },
  {
   "cell_type": "code",
   "execution_count": 471,
   "id": "705a03e9-c2a6-4e62-a4bb-1464f2d32299",
   "metadata": {
    "ExecuteTime": {
     "end_time": "2023-07-03T20:29:02.029297Z",
     "start_time": "2023-07-03T20:29:01.307159Z"
    }
   },
   "outputs": [
    {
     "data": {
      "text/plain": [
       "<Axes: xlabel='lemma', ylabel='freq'>"
      ]
     },
     "execution_count": 471,
     "metadata": {},
     "output_type": "execute_result"
    },
    {
     "name": "stderr",
     "output_type": "stream",
     "text": [
      "findfont: Font family 'Meiryo' not found.\n",
      "findfont: Font family 'Meiryo' not found.\n",
      "findfont: Font family 'Meiryo' not found.\n",
      "findfont: Font family 'Meiryo' not found.\n",
      "findfont: Font family 'Meiryo' not found.\n",
      "findfont: Font family 'Meiryo' not found.\n",
      "findfont: Font family 'Meiryo' not found.\n",
      "findfont: Font family 'Meiryo' not found.\n",
      "findfont: Font family 'Meiryo' not found.\n",
      "findfont: Font family 'Meiryo' not found.\n",
      "findfont: Font family 'Meiryo' not found.\n",
      "findfont: Font family 'Meiryo' not found.\n",
      "findfont: Font family 'Meiryo' not found.\n",
      "findfont: Font family 'Meiryo' not found.\n",
      "findfont: Font family 'Meiryo' not found.\n",
      "findfont: Font family 'Meiryo' not found.\n",
      "findfont: Font family 'Meiryo' not found.\n",
      "findfont: Font family 'Meiryo' not found.\n",
      "findfont: Font family 'Meiryo' not found.\n",
      "findfont: Font family 'Meiryo' not found.\n",
      "findfont: Font family 'Meiryo' not found.\n",
      "findfont: Font family 'Meiryo' not found.\n",
      "findfont: Font family 'Meiryo' not found.\n",
      "findfont: Font family 'Meiryo' not found.\n",
      "findfont: Font family 'Meiryo' not found.\n",
      "findfont: Font family 'Meiryo' not found.\n",
      "findfont: Font family 'Meiryo' not found.\n",
      "findfont: Font family 'Meiryo' not found.\n",
      "findfont: Font family 'Meiryo' not found.\n",
      "findfont: Font family 'Meiryo' not found.\n",
      "findfont: Font family 'Meiryo' not found.\n",
      "findfont: Font family 'Meiryo' not found.\n",
      "findfont: Font family 'Meiryo' not found.\n",
      "findfont: Font family 'Meiryo' not found.\n",
      "findfont: Font family 'Meiryo' not found.\n",
      "findfont: Font family 'Meiryo' not found.\n",
      "findfont: Font family 'Meiryo' not found.\n",
      "findfont: Font family 'Meiryo' not found.\n",
      "findfont: Font family 'Meiryo' not found.\n",
      "findfont: Font family 'Meiryo' not found.\n",
      "findfont: Font family 'Meiryo' not found.\n",
      "findfont: Font family 'Meiryo' not found.\n",
      "findfont: Font family 'Meiryo' not found.\n",
      "findfont: Font family 'Meiryo' not found.\n",
      "findfont: Font family 'Meiryo' not found.\n",
      "findfont: Font family 'Meiryo' not found.\n",
      "findfont: Font family 'Meiryo' not found.\n",
      "findfont: Font family 'Meiryo' not found.\n",
      "findfont: Font family 'Meiryo' not found.\n",
      "findfont: Font family 'Meiryo' not found.\n",
      "findfont: Font family 'Meiryo' not found.\n",
      "findfont: Font family 'Meiryo' not found.\n",
      "findfont: Font family 'Meiryo' not found.\n",
      "findfont: Font family 'Meiryo' not found.\n",
      "findfont: Font family 'Meiryo' not found.\n",
      "findfont: Font family 'Meiryo' not found.\n",
      "findfont: Font family 'Meiryo' not found.\n",
      "findfont: Font family 'Meiryo' not found.\n",
      "findfont: Font family 'Meiryo' not found.\n",
      "findfont: Font family 'Meiryo' not found.\n",
      "findfont: Font family 'Meiryo' not found.\n",
      "findfont: Font family 'Meiryo' not found.\n",
      "findfont: Font family 'Meiryo' not found.\n",
      "findfont: Font family 'Meiryo' not found.\n",
      "findfont: Font family 'Meiryo' not found.\n",
      "findfont: Font family 'Meiryo' not found.\n",
      "findfont: Font family 'Meiryo' not found.\n",
      "findfont: Font family 'Meiryo' not found.\n",
      "findfont: Font family 'Meiryo' not found.\n",
      "findfont: Font family 'Meiryo' not found.\n",
      "findfont: Font family 'Meiryo' not found.\n",
      "findfont: Font family 'Meiryo' not found.\n",
      "findfont: Font family 'Meiryo' not found.\n",
      "findfont: Font family 'Meiryo' not found.\n",
      "findfont: Font family 'Meiryo' not found.\n",
      "findfont: Font family 'Meiryo' not found.\n",
      "findfont: Font family 'Meiryo' not found.\n",
      "findfont: Font family 'Meiryo' not found.\n",
      "findfont: Font family 'Meiryo' not found.\n",
      "findfont: Font family 'Meiryo' not found.\n",
      "findfont: Font family 'Meiryo' not found.\n",
      "findfont: Font family 'Meiryo' not found.\n",
      "findfont: Font family 'Meiryo' not found.\n",
      "findfont: Font family 'Meiryo' not found.\n",
      "findfont: Font family 'Meiryo' not found.\n",
      "findfont: Font family 'Meiryo' not found.\n",
      "findfont: Font family 'Meiryo' not found.\n",
      "findfont: Font family 'Meiryo' not found.\n",
      "findfont: Font family 'Meiryo' not found.\n",
      "findfont: Font family 'Meiryo' not found.\n",
      "findfont: Font family 'Meiryo' not found.\n",
      "findfont: Font family 'Meiryo' not found.\n",
      "findfont: Font family 'Meiryo' not found.\n",
      "findfont: Font family 'Meiryo' not found.\n",
      "findfont: Font family 'Meiryo' not found.\n",
      "findfont: Font family 'Meiryo' not found.\n",
      "findfont: Font family 'Meiryo' not found.\n",
      "findfont: Font family 'Meiryo' not found.\n",
      "findfont: Font family 'Meiryo' not found.\n",
      "findfont: Font family 'Meiryo' not found.\n",
      "findfont: Font family 'Meiryo' not found.\n",
      "findfont: Font family 'Meiryo' not found.\n",
      "findfont: Font family 'Meiryo' not found.\n",
      "findfont: Font family 'Meiryo' not found.\n",
      "findfont: Font family 'Meiryo' not found.\n",
      "findfont: Font family 'Meiryo' not found.\n",
      "findfont: Font family 'Meiryo' not found.\n",
      "findfont: Font family 'Meiryo' not found.\n",
      "findfont: Font family 'Meiryo' not found.\n",
      "findfont: Font family 'Meiryo' not found.\n",
      "findfont: Font family 'Meiryo' not found.\n",
      "findfont: Font family 'Meiryo' not found.\n",
      "findfont: Font family 'Meiryo' not found.\n",
      "findfont: Font family 'Meiryo' not found.\n",
      "findfont: Font family 'Meiryo' not found.\n",
      "findfont: Font family 'Meiryo' not found.\n",
      "findfont: Font family 'Meiryo' not found.\n",
      "findfont: Font family 'Meiryo' not found.\n",
      "findfont: Font family 'Meiryo' not found.\n",
      "findfont: Font family 'Meiryo' not found.\n"
     ]
    },
    {
     "data": {
      "image/png": "[encoded data removed]",
      "text/plain": [
       "<Figure size 2000x600 with 1 Axes>"
      ]
     },
     "metadata": {},
     "output_type": "display_data"
    }
   ],
   "source": [
    "plt.figure(figsize=(20, 6))\n",
    "sns.barplot(data=freq_lemma_df, x='lemma', y='freq')"
   ]
  },
  {
   "cell_type": "code",
   "execution_count": 472,
   "id": "85fd09f9-625c-4d1c-b190-4119158046d6",
   "metadata": {
    "ExecuteTime": {
     "end_time": "2023-07-03T20:29:02.638561Z",
     "start_time": "2023-07-03T20:29:02.021922Z"
    }
   },
   "outputs": [],
   "source": [
    "freq_lemma_df = df2.groupby(['lemma', 'pos_tag']).freq.sum().reset_index()\n",
    "freq_lemma_df = freq_lemma_df.sort_values(by='freq', ascending=False)"
   ]
  },
  {
   "cell_type": "code",
   "execution_count": 473,
   "id": "551c276d-76cf-487a-ba1b-a047613083c4",
   "metadata": {
    "ExecuteTime": {
     "end_time": "2023-07-03T20:29:03.212568Z",
     "start_time": "2023-07-03T20:29:02.651682Z"
    }
   },
   "outputs": [
    {
     "data": {
      "text/plain": [
       "<Axes: xlabel='lemma', ylabel='freq'>"
      ]
     },
     "execution_count": 473,
     "metadata": {},
     "output_type": "execute_result"
    },
    {
     "name": "stderr",
     "output_type": "stream",
     "text": [
      "findfont: Font family 'Meiryo' not found.\n",
      "findfont: Font family 'Meiryo' not found.\n",
      "findfont: Font family 'Meiryo' not found.\n",
      "findfont: Font family 'Meiryo' not found.\n",
      "findfont: Font family 'Meiryo' not found.\n",
      "findfont: Font family 'Meiryo' not found.\n",
      "findfont: Font family 'Meiryo' not found.\n",
      "findfont: Font family 'Meiryo' not found.\n",
      "findfont: Font family 'Meiryo' not found.\n",
      "findfont: Font family 'Meiryo' not found.\n",
      "findfont: Font family 'Meiryo' not found.\n",
      "findfont: Font family 'Meiryo' not found.\n",
      "findfont: Font family 'Meiryo' not found.\n",
      "findfont: Font family 'Meiryo' not found.\n",
      "findfont: Font family 'Meiryo' not found.\n",
      "findfont: Font family 'Meiryo' not found.\n",
      "findfont: Font family 'Meiryo' not found.\n",
      "findfont: Font family 'Meiryo' not found.\n",
      "findfont: Font family 'Meiryo' not found.\n",
      "findfont: Font family 'Meiryo' not found.\n",
      "findfont: Font family 'Meiryo' not found.\n",
      "findfont: Font family 'Meiryo' not found.\n",
      "findfont: Font family 'Meiryo' not found.\n",
      "findfont: Font family 'Meiryo' not found.\n",
      "findfont: Font family 'Meiryo' not found.\n",
      "findfont: Font family 'Meiryo' not found.\n",
      "findfont: Font family 'Meiryo' not found.\n",
      "findfont: Font family 'Meiryo' not found.\n",
      "findfont: Font family 'Meiryo' not found.\n",
      "findfont: Font family 'Meiryo' not found.\n",
      "findfont: Font family 'Meiryo' not found.\n",
      "findfont: Font family 'Meiryo' not found.\n",
      "findfont: Font family 'Meiryo' not found.\n",
      "findfont: Font family 'Meiryo' not found.\n",
      "findfont: Font family 'Meiryo' not found.\n",
      "findfont: Font family 'Meiryo' not found.\n",
      "findfont: Font family 'Meiryo' not found.\n",
      "findfont: Font family 'Meiryo' not found.\n",
      "findfont: Font family 'Meiryo' not found.\n",
      "findfont: Font family 'Meiryo' not found.\n",
      "findfont: Font family 'Meiryo' not found.\n",
      "findfont: Font family 'Meiryo' not found.\n",
      "findfont: Font family 'Meiryo' not found.\n",
      "findfont: Font family 'Meiryo' not found.\n",
      "findfont: Font family 'Meiryo' not found.\n",
      "findfont: Font family 'Meiryo' not found.\n",
      "findfont: Font family 'Meiryo' not found.\n",
      "findfont: Font family 'Meiryo' not found.\n",
      "findfont: Font family 'Meiryo' not found.\n",
      "findfont: Font family 'Meiryo' not found.\n",
      "findfont: Font family 'Meiryo' not found.\n",
      "findfont: Font family 'Meiryo' not found.\n",
      "findfont: Font family 'Meiryo' not found.\n",
      "findfont: Font family 'Meiryo' not found.\n",
      "findfont: Font family 'Meiryo' not found.\n",
      "findfont: Font family 'Meiryo' not found.\n",
      "findfont: Font family 'Meiryo' not found.\n",
      "findfont: Font family 'Meiryo' not found.\n",
      "findfont: Font family 'Meiryo' not found.\n",
      "findfont: Font family 'Meiryo' not found.\n",
      "findfont: Font family 'Meiryo' not found.\n",
      "findfont: Font family 'Meiryo' not found.\n",
      "findfont: Font family 'Meiryo' not found.\n",
      "findfont: Font family 'Meiryo' not found.\n",
      "findfont: Font family 'Meiryo' not found.\n",
      "findfont: Font family 'Meiryo' not found.\n",
      "findfont: Font family 'Meiryo' not found.\n",
      "findfont: Font family 'Meiryo' not found.\n",
      "findfont: Font family 'Meiryo' not found.\n",
      "findfont: Font family 'Meiryo' not found.\n",
      "findfont: Font family 'Meiryo' not found.\n",
      "findfont: Font family 'Meiryo' not found.\n",
      "findfont: Font family 'Meiryo' not found.\n",
      "findfont: Font family 'Meiryo' not found.\n",
      "findfont: Font family 'Meiryo' not found.\n",
      "findfont: Font family 'Meiryo' not found.\n",
      "findfont: Font family 'Meiryo' not found.\n",
      "findfont: Font family 'Meiryo' not found.\n",
      "findfont: Font family 'Meiryo' not found.\n",
      "findfont: Font family 'Meiryo' not found.\n",
      "findfont: Font family 'Meiryo' not found.\n",
      "findfont: Font family 'Meiryo' not found.\n",
      "findfont: Font family 'Meiryo' not found.\n",
      "findfont: Font family 'Meiryo' not found.\n",
      "findfont: Font family 'Meiryo' not found.\n",
      "findfont: Font family 'Meiryo' not found.\n",
      "findfont: Font family 'Meiryo' not found.\n",
      "findfont: Font family 'Meiryo' not found.\n",
      "findfont: Font family 'Meiryo' not found.\n",
      "findfont: Font family 'Meiryo' not found.\n",
      "findfont: Font family 'Meiryo' not found.\n",
      "findfont: Font family 'Meiryo' not found.\n",
      "findfont: Font family 'Meiryo' not found.\n",
      "findfont: Font family 'Meiryo' not found.\n",
      "findfont: Font family 'Meiryo' not found.\n",
      "findfont: Font family 'Meiryo' not found.\n",
      "findfont: Font family 'Meiryo' not found.\n",
      "findfont: Font family 'Meiryo' not found.\n",
      "findfont: Font family 'Meiryo' not found.\n",
      "findfont: Font family 'Meiryo' not found.\n",
      "findfont: Font family 'Meiryo' not found.\n",
      "findfont: Font family 'Meiryo' not found.\n",
      "findfont: Font family 'Meiryo' not found.\n",
      "findfont: Font family 'Meiryo' not found.\n",
      "findfont: Font family 'Meiryo' not found.\n",
      "findfont: Font family 'Meiryo' not found.\n",
      "findfont: Font family 'Meiryo' not found.\n",
      "findfont: Font family 'Meiryo' not found.\n",
      "findfont: Font family 'Meiryo' not found.\n",
      "findfont: Font family 'Meiryo' not found.\n",
      "findfont: Font family 'Meiryo' not found.\n",
      "findfont: Font family 'Meiryo' not found.\n",
      "findfont: Font family 'Meiryo' not found.\n",
      "findfont: Font family 'Meiryo' not found.\n",
      "findfont: Font family 'Meiryo' not found.\n",
      "findfont: Font family 'Meiryo' not found.\n",
      "findfont: Font family 'Meiryo' not found.\n",
      "findfont: Font family 'Meiryo' not found.\n",
      "findfont: Font family 'Meiryo' not found.\n",
      "findfont: Font family 'Meiryo' not found.\n"
     ]
    },
    {
     "data": {
      "image/png": "[encoded data removed]",
      "text/plain": [
       "<Figure size 2000x600 with 1 Axes>"
      ]
     },
     "metadata": {},
     "output_type": "display_data"
    }
   ],
   "source": [
    "plt.figure(figsize=(20, 6))\n",
    "sns.barplot(data=freq_lemma_df[freq_lemma_df['pos_tag'] == 'N'][:20], y='freq', x='lemma')"
   ]
  },
  {
   "cell_type": "code",
   "execution_count": 474,
   "id": "c21270ec-486e-466f-aba3-a6ee2a9395b2",
   "metadata": {
    "ExecuteTime": {
     "end_time": "2023-07-03T20:29:29.190795Z",
     "start_time": "2023-07-03T20:29:28.643948Z"
    }
   },
   "outputs": [
    {
     "data": {
      "text/plain": [
       "<Axes: xlabel='lemma', ylabel='freq'>"
      ]
     },
     "execution_count": 474,
     "metadata": {},
     "output_type": "execute_result"
    },
    {
     "name": "stderr",
     "output_type": "stream",
     "text": [
      "findfont: Font family 'Meiryo' not found.\n",
      "findfont: Font family 'Meiryo' not found.\n",
      "findfont: Font family 'Meiryo' not found.\n",
      "findfont: Font family 'Meiryo' not found.\n",
      "findfont: Font family 'Meiryo' not found.\n",
      "findfont: Font family 'Meiryo' not found.\n",
      "findfont: Font family 'Meiryo' not found.\n",
      "findfont: Font family 'Meiryo' not found.\n",
      "findfont: Font family 'Meiryo' not found.\n",
      "findfont: Font family 'Meiryo' not found.\n",
      "findfont: Font family 'Meiryo' not found.\n",
      "findfont: Font family 'Meiryo' not found.\n",
      "findfont: Font family 'Meiryo' not found.\n",
      "findfont: Font family 'Meiryo' not found.\n",
      "findfont: Font family 'Meiryo' not found.\n",
      "findfont: Font family 'Meiryo' not found.\n",
      "findfont: Font family 'Meiryo' not found.\n",
      "findfont: Font family 'Meiryo' not found.\n",
      "findfont: Font family 'Meiryo' not found.\n",
      "findfont: Font family 'Meiryo' not found.\n",
      "findfont: Font family 'Meiryo' not found.\n",
      "findfont: Font family 'Meiryo' not found.\n",
      "findfont: Font family 'Meiryo' not found.\n",
      "findfont: Font family 'Meiryo' not found.\n",
      "findfont: Font family 'Meiryo' not found.\n",
      "findfont: Font family 'Meiryo' not found.\n",
      "findfont: Font family 'Meiryo' not found.\n",
      "findfont: Font family 'Meiryo' not found.\n",
      "findfont: Font family 'Meiryo' not found.\n",
      "findfont: Font family 'Meiryo' not found.\n",
      "findfont: Font family 'Meiryo' not found.\n",
      "findfont: Font family 'Meiryo' not found.\n",
      "findfont: Font family 'Meiryo' not found.\n",
      "findfont: Font family 'Meiryo' not found.\n",
      "findfont: Font family 'Meiryo' not found.\n",
      "findfont: Font family 'Meiryo' not found.\n",
      "findfont: Font family 'Meiryo' not found.\n",
      "findfont: Font family 'Meiryo' not found.\n",
      "findfont: Font family 'Meiryo' not found.\n",
      "findfont: Font family 'Meiryo' not found.\n",
      "findfont: Font family 'Meiryo' not found.\n",
      "findfont: Font family 'Meiryo' not found.\n",
      "findfont: Font family 'Meiryo' not found.\n",
      "findfont: Font family 'Meiryo' not found.\n",
      "findfont: Font family 'Meiryo' not found.\n",
      "findfont: Font family 'Meiryo' not found.\n",
      "findfont: Font family 'Meiryo' not found.\n",
      "findfont: Font family 'Meiryo' not found.\n",
      "findfont: Font family 'Meiryo' not found.\n",
      "findfont: Font family 'Meiryo' not found.\n",
      "findfont: Font family 'Meiryo' not found.\n",
      "findfont: Font family 'Meiryo' not found.\n",
      "findfont: Font family 'Meiryo' not found.\n",
      "findfont: Font family 'Meiryo' not found.\n",
      "findfont: Font family 'Meiryo' not found.\n",
      "findfont: Font family 'Meiryo' not found.\n",
      "findfont: Font family 'Meiryo' not found.\n",
      "findfont: Font family 'Meiryo' not found.\n",
      "findfont: Font family 'Meiryo' not found.\n",
      "findfont: Font family 'Meiryo' not found.\n",
      "findfont: Font family 'Meiryo' not found.\n",
      "findfont: Font family 'Meiryo' not found.\n",
      "findfont: Font family 'Meiryo' not found.\n",
      "findfont: Font family 'Meiryo' not found.\n",
      "findfont: Font family 'Meiryo' not found.\n",
      "findfont: Font family 'Meiryo' not found.\n",
      "findfont: Font family 'Meiryo' not found.\n",
      "findfont: Font family 'Meiryo' not found.\n",
      "findfont: Font family 'Meiryo' not found.\n",
      "findfont: Font family 'Meiryo' not found.\n",
      "findfont: Font family 'Meiryo' not found.\n",
      "findfont: Font family 'Meiryo' not found.\n",
      "findfont: Font family 'Meiryo' not found.\n",
      "findfont: Font family 'Meiryo' not found.\n",
      "findfont: Font family 'Meiryo' not found.\n",
      "findfont: Font family 'Meiryo' not found.\n",
      "findfont: Font family 'Meiryo' not found.\n",
      "findfont: Font family 'Meiryo' not found.\n",
      "findfont: Font family 'Meiryo' not found.\n",
      "findfont: Font family 'Meiryo' not found.\n",
      "findfont: Font family 'Meiryo' not found.\n",
      "findfont: Font family 'Meiryo' not found.\n",
      "findfont: Font family 'Meiryo' not found.\n",
      "findfont: Font family 'Meiryo' not found.\n",
      "findfont: Font family 'Meiryo' not found.\n",
      "findfont: Font family 'Meiryo' not found.\n",
      "findfont: Font family 'Meiryo' not found.\n",
      "findfont: Font family 'Meiryo' not found.\n",
      "findfont: Font family 'Meiryo' not found.\n",
      "findfont: Font family 'Meiryo' not found.\n",
      "findfont: Font family 'Meiryo' not found.\n",
      "findfont: Font family 'Meiryo' not found.\n",
      "findfont: Font family 'Meiryo' not found.\n",
      "findfont: Font family 'Meiryo' not found.\n",
      "findfont: Font family 'Meiryo' not found.\n",
      "findfont: Font family 'Meiryo' not found.\n",
      "findfont: Font family 'Meiryo' not found.\n",
      "findfont: Font family 'Meiryo' not found.\n",
      "findfont: Font family 'Meiryo' not found.\n",
      "findfont: Font family 'Meiryo' not found.\n",
      "findfont: Font family 'Meiryo' not found.\n",
      "findfont: Font family 'Meiryo' not found.\n",
      "findfont: Font family 'Meiryo' not found.\n",
      "findfont: Font family 'Meiryo' not found.\n",
      "findfont: Font family 'Meiryo' not found.\n",
      "findfont: Font family 'Meiryo' not found.\n",
      "findfont: Font family 'Meiryo' not found.\n",
      "findfont: Font family 'Meiryo' not found.\n",
      "findfont: Font family 'Meiryo' not found.\n",
      "findfont: Font family 'Meiryo' not found.\n",
      "findfont: Font family 'Meiryo' not found.\n",
      "findfont: Font family 'Meiryo' not found.\n",
      "findfont: Font family 'Meiryo' not found.\n",
      "findfont: Font family 'Meiryo' not found.\n",
      "findfont: Font family 'Meiryo' not found.\n",
      "findfont: Font family 'Meiryo' not found.\n"
     ]
    },
    {
     "data": {
      "image/png": "[encoded data removed]",
      "text/plain": [
       "<Figure size 2000x600 with 1 Axes>"
      ]
     },
     "metadata": {},
     "output_type": "display_data"
    }
   ],
   "source": [
    "plt.figure(figsize=(20, 6))\n",
    "sns.barplot(data=freq_lemma_df[freq_lemma_df['pos_tag'] == 'V'][:20], y='freq', x='lemma')"
   ]
  },
  {
   "cell_type": "code",
   "execution_count": 475,
   "id": "9ed21fe1-f00c-4bb5-9f4e-4dd7644227c9",
   "metadata": {
    "ExecuteTime": {
     "end_time": "2023-07-03T20:29:32.677600Z",
     "start_time": "2023-07-03T20:29:31.876776Z"
    }
   },
   "outputs": [
    {
     "data": {
      "text/plain": [
       "<Axes: xlabel='lemma', ylabel='freq'>"
      ]
     },
     "execution_count": 475,
     "metadata": {},
     "output_type": "execute_result"
    },
    {
     "name": "stderr",
     "output_type": "stream",
     "text": [
      "findfont: Font family 'Meiryo' not found.\n",
      "findfont: Font family 'Meiryo' not found.\n",
      "findfont: Font family 'Meiryo' not found.\n",
      "findfont: Font family 'Meiryo' not found.\n",
      "findfont: Font family 'Meiryo' not found.\n",
      "findfont: Font family 'Meiryo' not found.\n",
      "findfont: Font family 'Meiryo' not found.\n",
      "findfont: Font family 'Meiryo' not found.\n",
      "findfont: Font family 'Meiryo' not found.\n",
      "findfont: Font family 'Meiryo' not found.\n",
      "findfont: Font family 'Meiryo' not found.\n",
      "findfont: Font family 'Meiryo' not found.\n",
      "findfont: Font family 'Meiryo' not found.\n",
      "findfont: Font family 'Meiryo' not found.\n",
      "findfont: Font family 'Meiryo' not found.\n",
      "findfont: Font family 'Meiryo' not found.\n",
      "findfont: Font family 'Meiryo' not found.\n",
      "findfont: Font family 'Meiryo' not found.\n",
      "findfont: Font family 'Meiryo' not found.\n",
      "findfont: Font family 'Meiryo' not found.\n",
      "findfont: Font family 'Meiryo' not found.\n",
      "findfont: Font family 'Meiryo' not found.\n",
      "findfont: Font family 'Meiryo' not found.\n",
      "findfont: Font family 'Meiryo' not found.\n",
      "findfont: Font family 'Meiryo' not found.\n",
      "findfont: Font family 'Meiryo' not found.\n",
      "findfont: Font family 'Meiryo' not found.\n",
      "findfont: Font family 'Meiryo' not found.\n",
      "findfont: Font family 'Meiryo' not found.\n",
      "findfont: Font family 'Meiryo' not found.\n",
      "findfont: Font family 'Meiryo' not found.\n",
      "findfont: Font family 'Meiryo' not found.\n",
      "findfont: Font family 'Meiryo' not found.\n",
      "findfont: Font family 'Meiryo' not found.\n",
      "findfont: Font family 'Meiryo' not found.\n",
      "findfont: Font family 'Meiryo' not found.\n",
      "findfont: Font family 'Meiryo' not found.\n",
      "findfont: Font family 'Meiryo' not found.\n",
      "findfont: Font family 'Meiryo' not found.\n",
      "findfont: Font family 'Meiryo' not found.\n",
      "findfont: Font family 'Meiryo' not found.\n",
      "findfont: Font family 'Meiryo' not found.\n",
      "findfont: Font family 'Meiryo' not found.\n",
      "findfont: Font family 'Meiryo' not found.\n",
      "findfont: Font family 'Meiryo' not found.\n",
      "findfont: Font family 'Meiryo' not found.\n",
      "findfont: Font family 'Meiryo' not found.\n",
      "findfont: Font family 'Meiryo' not found.\n",
      "findfont: Font family 'Meiryo' not found.\n",
      "findfont: Font family 'Meiryo' not found.\n",
      "findfont: Font family 'Meiryo' not found.\n",
      "findfont: Font family 'Meiryo' not found.\n",
      "findfont: Font family 'Meiryo' not found.\n",
      "findfont: Font family 'Meiryo' not found.\n",
      "findfont: Font family 'Meiryo' not found.\n",
      "findfont: Font family 'Meiryo' not found.\n",
      "findfont: Font family 'Meiryo' not found.\n",
      "findfont: Font family 'Meiryo' not found.\n",
      "findfont: Font family 'Meiryo' not found.\n",
      "findfont: Font family 'Meiryo' not found.\n",
      "findfont: Font family 'Meiryo' not found.\n",
      "findfont: Font family 'Meiryo' not found.\n",
      "findfont: Font family 'Meiryo' not found.\n",
      "findfont: Font family 'Meiryo' not found.\n",
      "findfont: Font family 'Meiryo' not found.\n",
      "findfont: Font family 'Meiryo' not found.\n",
      "findfont: Font family 'Meiryo' not found.\n",
      "findfont: Font family 'Meiryo' not found.\n",
      "findfont: Font family 'Meiryo' not found.\n",
      "findfont: Font family 'Meiryo' not found.\n",
      "findfont: Font family 'Meiryo' not found.\n",
      "findfont: Font family 'Meiryo' not found.\n",
      "findfont: Font family 'Meiryo' not found.\n",
      "findfont: Font family 'Meiryo' not found.\n",
      "findfont: Font family 'Meiryo' not found.\n",
      "findfont: Font family 'Meiryo' not found.\n",
      "findfont: Font family 'Meiryo' not found.\n",
      "findfont: Font family 'Meiryo' not found.\n",
      "findfont: Font family 'Meiryo' not found.\n",
      "findfont: Font family 'Meiryo' not found.\n",
      "findfont: Font family 'Meiryo' not found.\n",
      "findfont: Font family 'Meiryo' not found.\n",
      "findfont: Font family 'Meiryo' not found.\n",
      "findfont: Font family 'Meiryo' not found.\n",
      "findfont: Font family 'Meiryo' not found.\n",
      "findfont: Font family 'Meiryo' not found.\n",
      "findfont: Font family 'Meiryo' not found.\n",
      "findfont: Font family 'Meiryo' not found.\n",
      "findfont: Font family 'Meiryo' not found.\n",
      "findfont: Font family 'Meiryo' not found.\n",
      "findfont: Font family 'Meiryo' not found.\n",
      "findfont: Font family 'Meiryo' not found.\n",
      "findfont: Font family 'Meiryo' not found.\n",
      "findfont: Font family 'Meiryo' not found.\n",
      "findfont: Font family 'Meiryo' not found.\n",
      "findfont: Font family 'Meiryo' not found.\n",
      "findfont: Font family 'Meiryo' not found.\n",
      "findfont: Font family 'Meiryo' not found.\n",
      "findfont: Font family 'Meiryo' not found.\n",
      "findfont: Font family 'Meiryo' not found.\n",
      "findfont: Font family 'Meiryo' not found.\n",
      "findfont: Font family 'Meiryo' not found.\n",
      "findfont: Font family 'Meiryo' not found.\n",
      "findfont: Font family 'Meiryo' not found.\n",
      "findfont: Font family 'Meiryo' not found.\n",
      "findfont: Font family 'Meiryo' not found.\n",
      "findfont: Font family 'Meiryo' not found.\n",
      "findfont: Font family 'Meiryo' not found.\n",
      "findfont: Font family 'Meiryo' not found.\n",
      "findfont: Font family 'Meiryo' not found.\n",
      "findfont: Font family 'Meiryo' not found.\n",
      "findfont: Font family 'Meiryo' not found.\n",
      "findfont: Font family 'Meiryo' not found.\n",
      "findfont: Font family 'Meiryo' not found.\n",
      "findfont: Font family 'Meiryo' not found.\n",
      "findfont: Font family 'Meiryo' not found.\n"
     ]
    },
    {
     "data": {
      "image/png": "[encoded data removed]",
      "text/plain": [
       "<Figure size 2000x600 with 1 Axes>"
      ]
     },
     "metadata": {},
     "output_type": "display_data"
    }
   ],
   "source": [
    "plt.figure(figsize=(20, 6))\n",
    "sns.barplot(data=freq_lemma_df[freq_lemma_df['pos_tag'] == 'A'][:20], y='freq', x='lemma')"
   ]
  }
 ],
 "metadata": {
  "environment": {
   "kernel": "python3",
   "name": "pytorch-gpu.2-0.m110",
   "type": "gcloud",
   "uri": "gcr.io/deeplearning-platform-release/pytorch-gpu.2-0:m110"
  },
  "kernelspec": {
   "display_name": "Python 3",
   "language": "python",
   "name": "python3"
  },
  "language_info": {
   "codemirror_mode": {
    "name": "ipython",
    "version": 3
   },
   "file_extension": ".py",
   "mimetype": "text/x-python",
   "name": "python",
   "nbconvert_exporter": "python",
   "pygments_lexer": "ipython3",
   "version": "3.10.12"
  },
  "toc-autonumbering": true
 },
 "nbformat": 4,
 "nbformat_minor": 5
}
