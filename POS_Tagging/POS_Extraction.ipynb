{
 "cells": [
  {
   "cell_type": "code",
   "execution_count": null,
   "id": "8f552e79-a534-4628-b907-ace5156141d7",
   "metadata": {},
   "outputs": [],
   "source": [
    "from dataclasses import dataclass, field\n",
    "from typing import List, Any, Dict, Set, TextIO\n",
    "from collections import Counter\n",
    "from abc import ABC\n",
    "import pprint\n",
    "import re\n",
    "import os\n",
    "pp = pprint.PrettyPrinter(indent=4)    "
   ]
  },
  {
   "cell_type": "code",
   "execution_count": null,
   "id": "0e4e6ded-90cb-475e-9b86-d660a77a971f",
   "metadata": {},
   "outputs": [],
   "source": [
    "@dataclass\n",
    "class Word:\n",
    "    word_init: str\n",
    "    word_mod: str\n",
    "    pos_tags: str\n",
    "    \n",
    "    def __str__(self) -> None:\n",
    "        return f'{self.word_init}@{self.pos_tags}\\n'\n",
    "    \n",
    "    def save(self, dest:TextIO) -> None:\n",
    "        dest.write(self.__str__())\n",
    "        "
   ]
  },
  {
   "cell_type": "code",
   "execution_count": null,
   "id": "2692e9bd-cb17-4a96-bb43-8e274480c3f9",
   "metadata": {},
   "outputs": [],
   "source": [
    "DOC_TAG = 'document'\n",
    "TEXT_TAG = 'text'\n",
    "DIV_TAG = 'div'\n",
    "PARAGRAPH_TAG = 'p'\n",
    "\n",
    "\n",
    "WORD_PATTERN = re.compile(r'(?P<word_forms>.+?)¦(?P<lemma1>.*?)¦?'\n",
    "                               r'.*?¦(?P<lemma2>.*?)¦.*?¦(?P<pos_tags>.+?)¦\\s*(?P<title>.+)', re.DOTALL)\n",
    "START_TAG_PATTERN = re.compile(r'<(?P<tag>\\w+)(?P<attributes>(\\s*?\\w+?=.+?)*)>\\s+(?P<title>.+)', \tre.DOTALL)\n",
    "END_TAG_PATTERN = re.compile(r'<(/?(?P<tag>\\w+)/?)>\\s+(?P<title>.+)', \tre.DOTALL)\n",
    "\n",
    "@dataclass\n",
    "class CorpusParser:\n",
    "    dest: TextIO\n",
    "    tag_stack: List[str] = field(default_factory=list)\n",
    "    \n",
    "    def handle_starttag(self, match: re.Match) -> None:\n",
    "        tag = match.groupdict()['tag']\n",
    "        self.tag_stack.append(tag)  # add tag on top of the stack, marking start of the tag\n",
    "        if tag == PARAGRAPH_TAG or tag == DIV_TAG:\n",
    "            self.dest.write('<START>\\n')\n",
    "                \n",
    "    def handle_endtag(self, match: re.Match) -> None:\n",
    "        tag = match.groupdict()['tag']\n",
    "        try:\n",
    "            tag = self.tag_stack.pop()  ## remove tag from the top of the stack, marking end of the tag\n",
    "            if tag == PARAGRAPH_TAG or tag == DIV_TAG:\n",
    "                self.dest.write('<END>\\n')\n",
    "        except IndexError:\n",
    "            print(tag, match.group())\n",
    "            \n",
    "    def handle_parts(self, parts: List[str]) -> Word:\n",
    "        # title = \"\".join(parts[-1].strip().split())\n",
    "        word_forms = parts[0]\n",
    "        word_forms = word_forms.split()\n",
    "        init_form = \" \".join(word_forms[:len(word_forms) // 2 ])\n",
    "        ext_form = \" \".join(word_forms[len(word_forms) // 2: ])\n",
    "        pos_tags = parts[-2].split()[0]\n",
    "        # lemma_basic = Counter([parts[1]])\n",
    "        # lemma_adv = Counter(parts[3].split())\n",
    "        word = Word(init_form, ext_form, pos_tags)\n",
    "        return word\n",
    "\n",
    "    def handle_word(self, line: str) -> None:\n",
    "        curr_tag = self.tag_stack[-1]\n",
    "        if curr_tag == PARAGRAPH_TAG or curr_tag == DIV_TAG:\n",
    "            parts = line.split('¦')\n",
    "            word = self.handle_parts(parts)\n",
    "            word.save(self.dest)\n",
    "            \n",
    "            \n",
    "    def feed(self, line: str) -> None:\n",
    "        open_tag_match = START_TAG_PATTERN.match(line)\n",
    "        closed_tag_match = END_TAG_PATTERN.match(line)\n",
    "        if open_tag_match is not None:\n",
    "            self.handle_starttag(open_tag_match)\n",
    "        elif closed_tag_match is not None:\n",
    "            self.handle_endtag(closed_tag_match)\n",
    "        else:\n",
    "            self.handle_word(line)\n",
    "            "
   ]
  },
  {
   "cell_type": "code",
   "execution_count": null,
   "id": "ae1ebebf-93d5-48a2-9f44-cacb35b5585b",
   "metadata": {},
   "outputs": [],
   "source": [
    "CORPUS_FILES_PATH = r'corpus/'\n",
    "DEST_FILE_PATH = r'pos/'\n",
    "\n",
    "source = os.path.join(CORPUS_FILES_PATH, f\"grc-cwb\")\n",
    "dest = os.path.join(DEST_FILE_PATH, f\"texts.txt\")\n",
    "print(source)\n",
    "with open(source, \"r\") as f:\n",
    "    with open(dest, 'w') as f2:\n",
    "        parser = CorpusParser(f2)\n",
    "        for number, line in enumerate(f):\n",
    "            parser.feed(line)\n",
    "    \n"
   ]
  },
  {
   "cell_type": "code",
   "execution_count": null,
   "id": "7c1c3b17-e032-4f83-b033-d10aa15531ad",
   "metadata": {},
   "outputs": [],
   "source": []
  },
  {
   "cell_type": "code",
   "execution_count": null,
   "id": "627e139b-9695-4305-8ba0-09e6df63f6d6",
   "metadata": {},
   "outputs": [],
   "source": []
  }
 ],
 "metadata": {
  "environment": {
   "kernel": "python3",
   "name": "pytorch-gpu.2-0.m110",
   "type": "gcloud",
   "uri": "gcr.io/deeplearning-platform-release/pytorch-gpu.2-0:m110"
  },
  "kernelspec": {
   "display_name": "Python 3",
   "language": "python",
   "name": "python3"
  },
  "language_info": {
   "codemirror_mode": {
    "name": "ipython",
    "version": 3
   },
   "file_extension": ".py",
   "mimetype": "text/x-python",
   "name": "python",
   "nbconvert_exporter": "python",
   "pygments_lexer": "ipython3",
   "version": "3.10.12"
  }
 },
 "nbformat": 4,
 "nbformat_minor": 5
}
